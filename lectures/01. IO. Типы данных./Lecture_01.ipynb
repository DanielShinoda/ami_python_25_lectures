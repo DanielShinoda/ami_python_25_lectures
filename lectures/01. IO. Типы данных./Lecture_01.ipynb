{
  "cells": [
    {
      "cell_type": "markdown",
      "metadata": {
        "id": "xbKgms5k_a6H"
      },
      "source": [
        "# Python-1, Лекция 1.\n",
        "\n",
        "Лекторы: Хайбулин Даниэль, Фролов Андрей"
      ]
    },
    {
      "cell_type": "markdown",
      "metadata": {
        "id": "KbL-8UO6_gg3"
      },
      "source": [
        "## Пара вводных слов"
      ]
    },
    {
      "cell_type": "markdown",
      "metadata": {
        "id": "Mu5OOb_R_iSO"
      },
      "source": [
        "### Что вообще такое Python?"
      ]
    },
    {
      "cell_type": "markdown",
      "metadata": {
        "id": "qdBO7y6l_lDW"
      },
      "source": [
        "Если вы попробуете поискать запрос жанра \"Топ-10 самых популярных языков программирования\", то вы неизбежно наткнетесь на Python [Пруф](https://www.tiobe.com/tiobe-index/). А если говорить про, например, Data Science, то этот язык будет топ-1 и далеко впереди. В чем же секрет и что это такое?\n",
        "\n",
        "Python - это язык программирования (ЯП), который можно использовать почти для всего угодно (поэтому он называется языком \"общего назначения\"): исследовать данные, сделать веб-страничку, обучить ML модель и так далее. Имея в багаже Python вы можете сделать практически что угодно (если не углубляться в детали, конечно же)\n",
        "\n",
        "Главный плюс Python - это его простота и читабельность (на самом деле это одна из первых причин, почему вообще этот язык создавали, это можно увидеть в самом Дзене Python):"
      ]
    },
    {
      "cell_type": "code",
      "execution_count": null,
      "metadata": {
        "colab": {
          "base_uri": "https://localhost:8080/"
        },
        "id": "Yy7LQTdz_X1l",
        "outputId": "2e6ecc9b-d0e7-4944-c86d-8674e8384185"
      },
      "outputs": [],
      "source": [
        "import this"
      ]
    },
    {
      "cell_type": "markdown",
      "metadata": {
        "id": "4lySffD3Ck7R"
      },
      "source": [
        "А как вообще писать? На это есть [ответ](https://peps.python.org/pep-0008/), который мы еще раз внимательно посмотрим\n"
      ]
    },
    {
      "cell_type": "markdown",
      "metadata": {
        "id": "qHZbQUmCC-N1"
      },
      "source": [
        "### Пара организационных моментов про курс"
      ]
    },
    {
      "cell_type": "markdown",
      "metadata": {
        "id": "fVbqAjOWDEDQ"
      },
      "source": [
        "$$О_{итог} = 0,2 * О_{семинары} + 0,5 * О_{контесты}+ 0,3 * O_{экзамен}$$\n",
        "\n",
        "Округление оценки - округляется **только** итог. Округление арифметическое, блокирующих оценок нет.\n",
        "\n",
        "Домашние задания - это контест. Всего контестов будет 9. Каждый контест имеет 1 дедлайн: жесткий. Задания выдаются на 10 дней. После жесткого дедлайна задачи не оцениваются.\n",
        "\n",
        "Правила оценивания семинаров выбираются самими семинаристами и проставляются ими же.\n",
        "\n",
        "Экзамен проводится на сессии. В качестве экзамена у нас будет коллоквиум - про это будет подробная отдельная информация ближе к делу."
      ]
    },
    {
      "cell_type": "markdown",
      "metadata": {
        "id": "1Pudv049E5zL"
      },
      "source": [
        "## Ввод-вывод данных"
      ]
    },
    {
      "cell_type": "markdown",
      "metadata": {
        "id": "GFGMfqhvFAPA"
      },
      "source": [
        "Первый вопрос, который встает в любом ЯП - как вводить и выводить данные?\n",
        "\n",
        "Есть традиционно 2 способа ввести данные:\n",
        "\n",
        "* Ввести ручками самостоятельно\n",
        "\n",
        "* Подать какой-нибудь файл, в котором лежат эти данные\n",
        "\n",
        "Есть традиционно 2 способа вывести данные:\n",
        "\n",
        "* В консоли (ручной вывод)\n",
        "\n",
        "* В файл (куда-нибудь что-нибудь записать и получить файл на выходе)\n",
        "\n",
        "Давайте разбираться:\n"
      ]
    },
    {
      "cell_type": "markdown",
      "metadata": {
        "id": "Ws7jmlf_Fyh7"
      },
      "source": [
        "#### Ручной ввод-вывод данных"
      ]
    },
    {
      "cell_type": "markdown",
      "metadata": {
        "id": "GRhBaoHHF1a4"
      },
      "source": [
        "Ручной ввод и вывод данных осуществляется с помощью функций **input()** и **print()**:"
      ]
    },
    {
      "cell_type": "code",
      "execution_count": null,
      "metadata": {
        "colab": {
          "base_uri": "https://localhost:8080/"
        },
        "id": "7r1k6wp-F1sf",
        "outputId": "1471159a-1621-4e38-a0ba-62d92c8ae101"
      },
      "outputs": [],
      "source": [
        "a = input()\n",
        "print(a)"
      ]
    },
    {
      "cell_type": "markdown",
      "metadata": {
        "id": "vjHZMjR5GEHi"
      },
      "source": [
        "Давайте поймем, что происходит при вызове данных функций:\n",
        "\n",
        "* input() - берется вся строка, считывается и записывается как есть\n",
        "\n",
        "* print() - печатает все, что находится в переменной\n",
        "\n",
        "А что это за скобочки? По существу это **аргументы** функции. Про аргументы мы поговорим позже, когда будем обсуждать функции в Python, а пока что, для нашего понимания:\n",
        "\n",
        "* input(text) - выдает перед вводом text (зачем надо - чтобы сказать пользователю, а что ему вводить)\n",
        "\n",
        "* print(smth) - выведи то, что я указал"
      ]
    },
    {
      "cell_type": "code",
      "execution_count": null,
      "metadata": {
        "colab": {
          "base_uri": "https://localhost:8080/"
        },
        "id": "gXg1SzSEHWHt",
        "outputId": "6ff2c0ef-6426-424d-def3-cde2739e8367"
      },
      "outputs": [],
      "source": [
        "a = input(\"Insert your age, please: \")\n",
        "print(a)"
      ]
    },
    {
      "cell_type": "markdown",
      "metadata": {
        "id": "QUpgO_PQIBYl"
      },
      "source": [
        "А допустим, что я хочу ввести сразу не 1 значение, а сразу 2, что же тогда делать?"
      ]
    },
    {
      "cell_type": "code",
      "execution_count": null,
      "metadata": {
        "colab": {
          "base_uri": "https://localhost:8080/",
          "height": 180
        },
        "id": "0Z-HgEVLIHB0",
        "outputId": "93d840ce-dd4b-4b20-c5af-6940574d6078"
      },
      "outputs": [],
      "source": [
        "a, b = input()\n",
        "print(a, b)"
      ]
    },
    {
      "cell_type": "markdown",
      "metadata": {
        "id": "eeA-jx6_2j1d"
      },
      "source": [
        "Посмотрим немного на то почему люди особенно любят питон: огромное множество библиотек практически для всего.\n",
        "К примеру, изменённые input() и print()."
      ]
    },
    {
      "cell_type": "code",
      "execution_count": null,
      "metadata": {
        "colab": {
          "base_uri": "https://localhost:8080/"
        },
        "id": "UnmjWwma2cfb",
        "outputId": "550f070f-00db-4230-d106-0199e87ab35d"
      },
      "outputs": [],
      "source": [
        "from getpass import getpass\n",
        "\n",
        "password = getpass(\"Enter password: \")"
      ]
    },
    {
      "cell_type": "markdown",
      "metadata": {
        "id": "d7EfzcLE3Dm8"
      },
      "source": [
        "Вы часто будете сталкиваться с ошибкой следующего вида:"
      ]
    },
    {
      "cell_type": "code",
      "execution_count": null,
      "metadata": {
        "colab": {
          "base_uri": "https://localhost:8080/",
          "height": 375
        },
        "id": "IcUefifD3Nmf",
        "outputId": "bba5ef47-ae85-46c2-8383-bacc1f904367"
      },
      "outputs": [],
      "source": [
        "from colorama import Fore\n",
        "\n",
        "print(Fore.RED + \"Error message: 0/100 Tests passed!\" + Fore.RESET)\n",
        "print(Fore.YELLOW + \"Warning: 42/100 Tests passed!\" + Fore.RESET)\n",
        "print(Fore.GREEN + \"OK: 100/100 Tests passed!\" + Fore.RESET)"
      ]
    },
    {
      "cell_type": "markdown",
      "metadata": {
        "id": "YdRzehlC3tYw"
      },
      "source": [
        "Мы видим ошибку **ModuleNotFoundError** (о модулях мы еще поговорим в рамках этого курса): она означает, что не найдена какой-либо модуль (библиотека), необходимая для выполнения кода.\n",
        "\n",
        "Чтобы исправить эту ошибку достаточно написать в терминале (не пугайтесь, в .ipynb файлах терминал = ячейка кода, но начинаем команду со знака \"!\") следующее:"
      ]
    },
    {
      "cell_type": "code",
      "execution_count": null,
      "metadata": {
        "colab": {
          "base_uri": "https://localhost:8080/"
        },
        "id": "UIU4XXaN2zXx",
        "outputId": "5cd22978-968c-4bef-8049-8f2059f10cab"
      },
      "outputs": [],
      "source": [
        "%pip install colorama"
      ]
    },
    {
      "cell_type": "code",
      "execution_count": null,
      "metadata": {
        "colab": {
          "base_uri": "https://localhost:8080/"
        },
        "id": "1kfK41yz2yQw",
        "outputId": "de3fa35b-45c5-4cdc-9caf-810f5d6980d9"
      },
      "outputs": [],
      "source": [
        "from colorama import Fore\n",
        "\n",
        "print(Fore.RED + \"Error message: 0/100 Tests passed!\" + Fore.RESET)\n",
        "print(Fore.YELLOW + \"Warning: 42/100 Tests passed!\" + Fore.RESET)\n",
        "print(Fore.GREEN + \"OK: 100/100 Tests passed!\" + Fore.RESET)"
      ]
    },
    {
      "cell_type": "markdown",
      "metadata": {
        "id": "on4ZTMZUILKI"
      },
      "source": [
        "Просто попросить ввести два значения не получится, к сожалению. Но эту оказию мы обойдем через некоторое время\n",
        "\n",
        "Recap:\n",
        "\n",
        "* input() - вводим данные как есть\n",
        "\n",
        "* print() - печатаем переданные данные"
      ]
    },
    {
      "cell_type": "markdown",
      "metadata": {
        "id": "gFigTVESxYM0"
      },
      "source": [
        "Что еще важно знать про эти функции?\n",
        "\n",
        "* input(prompt) - принимает в себя некоторый prompt, который выводится пользователю для подсказки\n",
        "\n",
        "* print(s, end='\\n', sep=' ') - можно задать, как будет оканчиваться строка (по дефолту мы переводим на следующую строку), а также задать, как разные выводы будут соединяться друг с другом"
      ]
    },
    {
      "cell_type": "code",
      "execution_count": null,
      "metadata": {
        "colab": {
          "base_uri": "https://localhost:8080/"
        },
        "id": "NKaZeujgxX5u",
        "outputId": "34ee052c-00bd-48d8-d50d-07cbd0aa2dc3"
      },
      "outputs": [],
      "source": [
        "a = input(\"Enter string:\")\n",
        "b = input(\"Enter smth:\")\n",
        "\n",
        "print(a, b)\n",
        "print(a, b, sep=\"\")\n",
        "print(a, b, sep=\"\", end=\" \")\n",
        "print(a, b)"
      ]
    },
    {
      "cell_type": "markdown",
      "metadata": {
        "id": "GPdgxoPCIaG5"
      },
      "source": [
        "#### Ввод-вывод из файлов"
      ]
    },
    {
      "cell_type": "markdown",
      "metadata": {
        "id": "lb8PpfpLJBfT"
      },
      "source": [
        "Как прочитать данные из файла:\n",
        "\n",
        "1. Открыть файл\n",
        "\n",
        "2. Считать данные\n",
        "\n",
        "3. Закрыть файл\n"
      ]
    },
    {
      "cell_type": "markdown",
      "metadata": {
        "id": "_Q4j-hTkJOFd"
      },
      "source": [
        "Шаг 1. Открываем файл\n",
        "\n",
        "В этом нам поможет функция open(file, mode, encoding) (на самом деле здесь есть еще несколько переменных, но мы остановимся пока только на этих)\n",
        "\n",
        "Что здесь есть?\n",
        "\n",
        "* file - путь до файла (что брать)\n",
        "\n",
        "* mode - что мы хотим с ним делать (есть 4 важных буквы: r (read), w (write), r+ (read+write), a (add))\n",
        "\n",
        "* encoding - кодировка (почему это важно - очень часто файлы с русскими буквами могут считываться как какая-то фигня. В данном случае, скорее всего, там кодировка не utf-8, как обычно, а cp-1252, привет, Винда)"
      ]
    },
    {
      "cell_type": "code",
      "execution_count": null,
      "metadata": {
        "colab": {
          "base_uri": "https://localhost:8080/"
        },
        "id": "XIoaBaKCWCXG",
        "outputId": "bddeed58-1b95-4bd2-a6ec-b291da9065f0"
      },
      "outputs": [],
      "source": [
        "f = open(\"file.txt\", \"r\")  # открываем файл file.txt, хотим его читать\n",
        "f"
      ]
    },
    {
      "cell_type": "markdown",
      "metadata": {
        "id": "esZ2V7eAWWys"
      },
      "source": [
        "Что мы получили по итогу? Если очень просто, то мы установили **файловый поток** (по сути это некоторая связь между нашей программой и файлом), с помощью которого мы можем обращаться к тому, что находится внутри файла."
      ]
    },
    {
      "cell_type": "markdown",
      "metadata": {
        "id": "pSoq3aTvW74x"
      },
      "source": [
        "Шаг 2. Считываем данные\n",
        "\n",
        "Сейчас мы рассмотрим 3 самых простых метода для чтения, про более изощренные вещи мы поговорим на следующей паре. Что умеем?\n",
        "\n",
        "* readline() - прочти линию (до перевода строки)\n",
        "\n",
        "* readlines() - прочти все линии\n",
        "\n",
        "* read(size) - прочитай ровно size элементов (если не указывать, то прочтем все, что есть)\n",
        "\n",
        "В чем разница между readline() и readlines()? А вот в чем:"
      ]
    },
    {
      "cell_type": "code",
      "execution_count": null,
      "metadata": {
        "colab": {
          "base_uri": "https://localhost:8080/"
        },
        "id": "F8RMaE9OWME5",
        "outputId": "729eed57-3492-4b78-cd85-f228d9a8da61"
      },
      "outputs": [],
      "source": [
        "a = f.read()\n",
        "print(a)\n",
        "f.close()\n",
        "f = open(\"file.txt\", \"r\")\n",
        "b = f.readlines()\n",
        "print(b)\n",
        "f.close()"
      ]
    },
    {
      "cell_type": "code",
      "execution_count": null,
      "metadata": {
        "colab": {
          "base_uri": "https://localhost:8080/"
        },
        "id": "eiIivagDZGBT",
        "outputId": "ecfc7874-4917-4f7a-f0d8-7c895f01c992"
      },
      "outputs": [],
      "source": [
        "f = open(\"file.txt\", \"r\")\n",
        "c = f.readline()\n",
        "print(c)\n",
        "d = f.readline()\n",
        "print(d)"
      ]
    },
    {
      "cell_type": "code",
      "execution_count": null,
      "metadata": {
        "id": "p8IC0M4WZMLX"
      },
      "outputs": [],
      "source": [
        "f.close()"
      ]
    },
    {
      "cell_type": "markdown",
      "metadata": {
        "id": "1GPuf3u9W_Zx"
      },
      "source": [
        "Шаг 3. Закрываем файл\n",
        "\n",
        "Помните, что мы установили поток (или связь) между программой и файлом. Это жрет ресурсы (потому что это надо хранить и поддерживать). Поэтому в тот момент, когда мы закончили работать с файлом (считали или записали все, что нам надо), необходимо связь **закрыть** (иначе будет протекать, представьте себе, что будет, если оставить холодильник открытым)\n",
        "\n",
        "По логике вещей, если открываем с помощью функции open(), то закрываем с помощью метода close(), здесь все просто, ничего другого передавать не надо"
      ]
    },
    {
      "cell_type": "code",
      "execution_count": null,
      "metadata": {
        "id": "-Q4WOOdlXsdU"
      },
      "outputs": [],
      "source": [
        "f.close()  # закрыли, живем и радуемся"
      ]
    },
    {
      "cell_type": "markdown",
      "metadata": {
        "id": "nuBtUmjuXyaC"
      },
      "source": [
        "Recap:\n",
        "\n",
        "* open() - считать\n",
        "\n",
        "* read(), readline(), readlines() - считать данные\n",
        "\n",
        "* close() - закрыть"
      ]
    },
    {
      "cell_type": "markdown",
      "metadata": {
        "id": "wIQuzy4mZQGS"
      },
      "source": [
        "## Типы данных"
      ]
    },
    {
      "cell_type": "markdown",
      "metadata": {
        "id": "bWn-pBAaZWFh"
      },
      "source": [
        "Ну супер, мы умеем что-то считывать и умеем что-то выводить. Но как будто что-то теряется...\n",
        "\n",
        "А обрабатывать как? А что вообще делать? Мы получили какие-то строчки и на этом все. Теперь стоит поговорить про типы данных, которые у нас есть и как они друг с другом работают\n",
        "\n",
        "Если вы учили, например, C++ или Pascal ранее, то могли увидеть большую разницу между тем, как здесь происходит инициализация переменных и как она происходит там: **мы не указываем тип переменной**\n",
        "\n",
        "А почему? А потому что Python - это язык с *динамической типизацией* (соответственно, C++ имеет *статическую типизацию*). Что это значит? Это значит, что тип данных определяется во время присваивания значения. Поэтому возможно сделать вот так:"
      ]
    },
    {
      "cell_type": "code",
      "execution_count": null,
      "metadata": {
        "colab": {
          "base_uri": "https://localhost:8080/"
        },
        "id": "GwQW_FnKaNqu",
        "outputId": "e844c578-dde4-4a6c-8f63-54f72bcbeca2"
      },
      "outputs": [],
      "source": [
        "a = 5  # здесь лежит число\n",
        "print(a)\n",
        "a = \"hello\"  # здесь лежит строка\n",
        "print(a)"
      ]
    },
    {
      "cell_type": "markdown",
      "metadata": {
        "id": "qSYuE2CtbXNx"
      },
      "source": [
        "Ну хорошо, он там чет наколдовал, а как мне понять, какой тип лежит? Очень просто - есть функция type()!"
      ]
    },
    {
      "cell_type": "code",
      "execution_count": null,
      "metadata": {
        "colab": {
          "base_uri": "https://localhost:8080/"
        },
        "id": "nBuc9jK_bfZ4",
        "outputId": "123631d3-de18-4bb1-ddc5-9a352e32750a"
      },
      "outputs": [],
      "source": [
        "a = 5  # здесь лежит число\n",
        "print(a, type(a))\n",
        "a = \"hello\"  # здесь лежит строка\n",
        "print(a, type(a))"
      ]
    },
    {
      "cell_type": "markdown",
      "metadata": {
        "id": "Kv9m13i-gtNO"
      },
      "source": [
        "#### Логический тип (Bool)"
      ]
    },
    {
      "cell_type": "markdown",
      "metadata": {
        "id": "PoLKtSfo7G_6"
      },
      "source": [
        "Самый простой тип, который принимает значения True и False. С точки зрения чисел 0 - это False, все остальное - это True (про приведение типов чуть позже поговорим)"
      ]
    },
    {
      "cell_type": "code",
      "execution_count": null,
      "metadata": {
        "colab": {
          "base_uri": "https://localhost:8080/"
        },
        "id": "Z_AB6IO07MIm",
        "outputId": "aabd7e76-f013-4ecf-93f7-b907b7828a70"
      },
      "outputs": [],
      "source": [
        "a = True\n",
        "print(a)\n",
        "a = False\n",
        "print(a)"
      ]
    },
    {
      "cell_type": "markdown",
      "metadata": {
        "id": "oVX882ERbpBA"
      },
      "source": [
        "#### Числовые типы"
      ]
    },
    {
      "cell_type": "markdown",
      "metadata": {
        "id": "AZTyrBVPbzN3"
      },
      "source": [
        "Числа (целое или с плавающей точкой). В чем разница? В том, как хранится (можно посмотреть [вот тут](https://ru.wikipedia.org/wiki/Число_с_плавающей_запятой)). Давайте разбираться по частям:"
      ]
    },
    {
      "cell_type": "code",
      "execution_count": null,
      "metadata": {
        "colab": {
          "base_uri": "https://localhost:8080/"
        },
        "id": "Yx9QhmxMbw3h",
        "outputId": "0c5c1257-937f-457d-a193-abaa9a50133d"
      },
      "outputs": [],
      "source": [
        "a = 5\n",
        "b = 1.12\n",
        "print(type(a), type(b))"
      ]
    },
    {
      "cell_type": "markdown",
      "metadata": {
        "id": "X4Qzjv9LBJE3"
      },
      "source": [
        "Еще есть комплексные числа:"
      ]
    },
    {
      "cell_type": "code",
      "execution_count": null,
      "metadata": {
        "colab": {
          "base_uri": "https://localhost:8080/"
        },
        "id": "oKRL-d_pBN3q",
        "outputId": "16367292-3e45-423f-b07c-e68516258016"
      },
      "outputs": [],
      "source": [
        "c = 3 + 4j\n",
        "print(c.imag, c.real, type(c))"
      ]
    },
    {
      "cell_type": "markdown",
      "metadata": {
        "id": "QKR4NNuZcQFg"
      },
      "source": [
        "Что можно делать с целым числом? Арифметические вычисления и взятие модуля!"
      ]
    },
    {
      "cell_type": "code",
      "execution_count": null,
      "metadata": {
        "colab": {
          "base_uri": "https://localhost:8080/"
        },
        "id": "bNZ3Lx0qcXhp",
        "outputId": "484ac511-e9e5-477a-a9af-497701c21967"
      },
      "outputs": [],
      "source": [
        "a = 5\n",
        "b = 10\n",
        "\n",
        "print(a + b)  # сложение\n",
        "print(a - b)  # вычитание\n",
        "print(a * b)  # умножение\n",
        "print(abs(-a))"
      ]
    },
    {
      "cell_type": "markdown",
      "metadata": {
        "id": "eMEq2HjWch4X"
      },
      "source": [
        "Особо надо посмотреть на деление:"
      ]
    },
    {
      "cell_type": "code",
      "execution_count": null,
      "metadata": {
        "colab": {
          "base_uri": "https://localhost:8080/"
        },
        "id": "gpmKrRuVcmjd",
        "outputId": "6a70587e-f533-45c6-d7c3-9aa1d237a043"
      },
      "outputs": [],
      "source": [
        "print(b / a, type(b / a))  # реальное деление (получается float)\n",
        "print(b // a, type(b // a))  # целочисленное деление (получается int)\n",
        "print(a % b, type(a % b))  # остаток от деления (получается int)"
      ]
    },
    {
      "cell_type": "markdown",
      "metadata": {
        "id": "cvDbD2lydAil"
      },
      "source": [
        "Можно ли делать целочисленное деление на float? Шок, но можно!"
      ]
    },
    {
      "cell_type": "code",
      "execution_count": null,
      "metadata": {
        "colab": {
          "base_uri": "https://localhost:8080/"
        },
        "id": "F6Hsr8DNdFvq",
        "outputId": "b173b797-9b51-417b-f283-feca3e923175"
      },
      "outputs": [],
      "source": [
        "a = 5\n",
        "b = 1.12\n",
        "print(a // b)\n",
        "print(a % b)"
      ]
    },
    {
      "cell_type": "markdown",
      "metadata": {
        "id": "sbyylRr8dZYk"
      },
      "source": [
        "Как понимать остаток при делении и целочисленное деление? (Это поможет на курсе дискретной математики)\n",
        "\n",
        "Смотрите, вспоминаем школьную программу. Можно делить как есть (условно, 7 / 3 = 2,(3)). А моооожно делить с остатком:\n",
        "\n",
        "$$7 / 3 = 2 \\text{ (остаток 1)} $$\n",
        "\n",
        "И по существу будет, что:"
      ]
    },
    {
      "cell_type": "code",
      "execution_count": null,
      "metadata": {
        "colab": {
          "base_uri": "https://localhost:8080/"
        },
        "id": "icw_pIlld9P6",
        "outputId": "eb529cc0-8d4a-4f73-f41e-215a064dffd9"
      },
      "outputs": [],
      "source": [
        "print(7 // 3, 7 % 3)  ## о, ура, прям как в формуле"
      ]
    },
    {
      "cell_type": "markdown",
      "metadata": {
        "id": "A2CsekAmeJAU"
      },
      "source": [
        "Если пока сложновато воспринимать, то попробуйте дома посчитать результаты следующих делений с остатком:\n",
        "\n",
        "1. $15 / 5$\n",
        "\n",
        "2. $15 / 6$\n",
        "\n",
        "3. $-15 / 6$ (hint: остаток - это всегда неотрицательное число)"
      ]
    },
    {
      "cell_type": "markdown",
      "metadata": {
        "id": "spnlVYNIe3PT"
      },
      "source": [
        "Возведение в степень (как оно реализовано - [Тык](https://stackoverflow.com/questions/5246856/how-did-python-implement-the-built-in-function-pow)\n",
        "):"
      ]
    },
    {
      "cell_type": "code",
      "execution_count": null,
      "metadata": {
        "colab": {
          "base_uri": "https://localhost:8080/"
        },
        "id": "27XOSsTLe292",
        "outputId": "782d5274-81c0-4c2c-fbb3-66cc2e1c3a3e"
      },
      "outputs": [],
      "source": [
        "a = 5\n",
        "b = 2.2\n",
        "print(a**b)  ## с float тоже работает"
      ]
    },
    {
      "cell_type": "markdown",
      "metadata": {
        "id": "97Fv4LGyfJQx"
      },
      "source": [
        "Отдельный бонус - всегда можно изменять уже текущую переменную, для этого достаточно сделать следующее:"
      ]
    },
    {
      "cell_type": "code",
      "execution_count": null,
      "metadata": {
        "colab": {
          "base_uri": "https://localhost:8080/"
        },
        "id": "BwlkZRMwfQHx",
        "outputId": "d86a3095-6e6f-4e65-cc0e-721a0519d881"
      },
      "outputs": [],
      "source": [
        "a = 5\n",
        "b = 2\n",
        "a += b\n",
        "print(a)\n",
        "a -= b\n",
        "print(a)\n",
        "a *= b\n",
        "print(a)\n",
        "a //= b\n",
        "print(a)\n",
        "a **= b\n",
        "print(a)"
      ]
    },
    {
      "cell_type": "markdown",
      "metadata": {
        "id": "zl8zLUoIgf0b"
      },
      "source": [
        "### Последовательности"
      ]
    },
    {
      "cell_type": "markdown",
      "metadata": {
        "id": "yvQ2uXzgB9JQ"
      },
      "source": [
        "#### Списки"
      ]
    },
    {
      "cell_type": "markdown",
      "metadata": {
        "id": "SL_Z053dsVw9"
      },
      "source": [
        "Что такое список? Это некоторая упорядоченная последовательность элементов, каждый из которых имеет свой порядковый номер (или **индекс**). Скорее всего, в других ЯП вы также их могли видеть (например vector в C++)\n",
        "\n",
        "Списки инициализируются с помощью квадратных скобок, какиз-то ограничений на то, что все элементы должны быть одного типа, нет. Давайте на примере:"
      ]
    },
    {
      "cell_type": "code",
      "execution_count": null,
      "metadata": {
        "colab": {
          "base_uri": "https://localhost:8080/"
        },
        "id": "vBDzp7qYs_7c",
        "outputId": "286e6a8b-896d-4cac-d9cb-2f0abb64d39b"
      },
      "outputs": [],
      "source": [
        "a = [1, 2, 3, 3.1415]\n",
        "print(a)"
      ]
    },
    {
      "cell_type": "code",
      "execution_count": null,
      "metadata": {
        "colab": {
          "base_uri": "https://localhost:8080/"
        },
        "id": "pYrZP038tD7h",
        "outputId": "a717613c-5afe-432c-fa83-18f09fc7de49"
      },
      "outputs": [],
      "source": [
        "## Нумерация идет с нуля! Также поддерживаются отрицательные индексы (считаем будто с конца)\n",
        "\n",
        "print(a[0], type(a[0]))\n",
        "print(a[-1], type(a[-1]))"
      ]
    },
    {
      "cell_type": "markdown",
      "metadata": {
        "id": "Ulf-KHJ8tPJT"
      },
      "source": [
        "Супер! Мы умеем итерироваться по списку (проходить по нему) более изощренными способами. Допустим, что мы хотим вывести только четные элементы, как же это сделать?"
      ]
    },
    {
      "cell_type": "code",
      "execution_count": null,
      "metadata": {
        "colab": {
          "base_uri": "https://localhost:8080/"
        },
        "id": "ufbZZ6EvyqSv",
        "outputId": "52fa950b-47af-4625-8f58-2014cccf21a7"
      },
      "outputs": [],
      "source": [
        "a = [1, 2, 3, 3.1415]\n",
        "a[::2]"
      ]
    },
    {
      "cell_type": "markdown",
      "metadata": {
        "id": "-mrASeG8yycQ"
      },
      "source": [
        "Общая структура индексации:\n",
        "\n",
        "$$a[i:j::k]$$\n",
        "\n",
        "Переводим на русский:\n",
        "\n",
        "Возьми элементы с i-го (включительно) по j-ый (невключительно) с шагом k\n",
        "\n",
        "Попробуйте придумать как вытащить только нечетные элементы"
      ]
    },
    {
      "cell_type": "markdown",
      "metadata": {
        "id": "pe-EPu3lzfPt"
      },
      "source": [
        "Помним о том, что список - это по сути контейнер, где в каждом ящичке хранится свое собственное значение, а значит, его можно изменять! (опять-таки с помощью индексации)"
      ]
    },
    {
      "cell_type": "code",
      "execution_count": null,
      "metadata": {
        "colab": {
          "base_uri": "https://localhost:8080/"
        },
        "id": "ylS7V4AszqOD",
        "outputId": "7e4fa545-e3c0-4e71-f272-53b482a3d6a3"
      },
      "outputs": [],
      "source": [
        "a[0] = 15\n",
        "print(a)"
      ]
    },
    {
      "cell_type": "markdown",
      "metadata": {
        "id": "msf66yajzyCj"
      },
      "source": [
        "А допустим, что мы хотим не изменить, а что-то добавить. Как это сделать? С помощью метода append():"
      ]
    },
    {
      "cell_type": "code",
      "execution_count": null,
      "metadata": {
        "colab": {
          "base_uri": "https://localhost:8080/"
        },
        "id": "IXFfCwEiz3TT",
        "outputId": "5acdb154-d1d0-4731-f39e-0af79c5bc48b"
      },
      "outputs": [],
      "source": [
        "a = [1, 2, 3, 3.1415]\n",
        "a.append(4)  # если хотим добавить только 1 элемент\n",
        "print(a)\n",
        "a.extend([1, 2, 3])  # если хотим добавить сразу несколько элементов\n",
        "print(a)\n",
        "print(a + [1, 2, 3])  # а еще можно вот так"
      ]
    },
    {
      "cell_type": "markdown",
      "metadata": {
        "id": "oF_Ry2D33TK3"
      },
      "source": [
        "А еще можно продублировать с помощью умножения! (на самом деле опасное действие, но позже обсудим почему)"
      ]
    },
    {
      "cell_type": "code",
      "execution_count": null,
      "metadata": {
        "colab": {
          "base_uri": "https://localhost:8080/"
        },
        "id": "3XwvJqSC3WGO",
        "outputId": "8db86abd-5158-45b5-d023-55d9a8e00298"
      },
      "outputs": [],
      "source": [
        "a * 3"
      ]
    },
    {
      "cell_type": "markdown",
      "metadata": {
        "id": "B7b0iOwe0m-4"
      },
      "source": [
        "А теперь представим, что мы хотим добавить не в конец, а допустим, в середину. Так тоже умеем, но для этого нужен insert(num, elem) - добавь на позицию num элемент elem"
      ]
    },
    {
      "cell_type": "code",
      "execution_count": null,
      "metadata": {
        "colab": {
          "base_uri": "https://localhost:8080/"
        },
        "id": "EUt-QY5V0yVJ",
        "outputId": "de88f95e-9608-440b-b8c0-db833dbfb51b"
      },
      "outputs": [],
      "source": [
        "a.insert(1, -15)\n",
        "print(a)"
      ]
    },
    {
      "cell_type": "markdown",
      "metadata": {
        "id": "sY8kYa3V01aw"
      },
      "source": [
        "Ну окей, мы чет много всего добавили, настало время удалять. Удалять можно несколькими способами:\n",
        "\n",
        "* pop(num) - удали элемент и верни его (num - с какой позиции забрать, если не указываем, то будет последний)\n",
        "\n",
        "* remove(elem) - удаляем по элементу. Берет первое вхождение и удаляет его\n",
        "\n",
        "* clear() - очистить весь список"
      ]
    },
    {
      "cell_type": "code",
      "execution_count": null,
      "metadata": {
        "colab": {
          "base_uri": "https://localhost:8080/"
        },
        "id": "3_KOZ5Ry00XR",
        "outputId": "5df44c2e-2dc1-442c-b28d-ca3d62616914"
      },
      "outputs": [],
      "source": [
        "print(a)\n",
        "print(a.pop())\n",
        "print(a)"
      ]
    },
    {
      "cell_type": "code",
      "execution_count": null,
      "metadata": {
        "colab": {
          "base_uri": "https://localhost:8080/",
          "height": 216
        },
        "id": "0rWuoQIg1frm",
        "outputId": "5b814f41-67c4-4fa8-a385-133e010ddcee"
      },
      "outputs": [],
      "source": [
        "a.remove(1)\n",
        "print(a)\n",
        "a.remove(1000)  # если элемента нет, то выведет ошибку\n",
        "print(a)"
      ]
    },
    {
      "cell_type": "code",
      "execution_count": null,
      "metadata": {
        "colab": {
          "base_uri": "https://localhost:8080/"
        },
        "id": "KqLHyLaw1pDI",
        "outputId": "887dc882-c2e7-411a-d462-da7c7dccbd52"
      },
      "outputs": [],
      "source": [
        "a.clear()\n",
        "print(a)"
      ]
    },
    {
      "cell_type": "markdown",
      "metadata": {
        "id": "ulKM1FGH1xVR"
      },
      "source": [
        "Что еще умеем делать со списками?\n",
        "\n",
        "* len(l) - вывести размер списка (сколько элементов содержит)\n",
        "\n",
        "* count(elem) - посчитай, сколько раз элемент входит в список\n",
        "\n",
        "* index(elem) - выведи индекс первого вхождения элемента (если элемента нет, то выведет ошибку)\n",
        "\n",
        "* reverse() - переверни список\n",
        "\n",
        "* sort(reverse=False) - отсортируй список (по возрастанию, если поставить reverse=True, то будет по убыванию).\n",
        "\n",
        "* max/min(a) - найти максимум/минимум в списке"
      ]
    },
    {
      "cell_type": "code",
      "execution_count": null,
      "metadata": {
        "colab": {
          "base_uri": "https://localhost:8080/"
        },
        "id": "SrBPAnq-1_Rd",
        "outputId": "613daaaf-6f0b-4377-b513-4df24a6dc3a4"
      },
      "outputs": [],
      "source": [
        "a = [1, 2, 3, 3.1415, 1, 2, 3]\n",
        "print(len(a))\n",
        "print(a.count(2))\n",
        "a.reverse()\n",
        "print(a)\n",
        "a.sort()"
      ]
    },
    {
      "cell_type": "markdown",
      "metadata": {
        "id": "VNbcFFsCCBGZ"
      },
      "source": [
        "#### Кортежи"
      ]
    },
    {
      "cell_type": "markdown",
      "metadata": {
        "id": "Jdn8QC7FCEwy"
      },
      "source": [
        "Такой же фрукт, что и список, но под другим соусом. В чем разница: кортеж - **неизменяемый тип данных** (в отличие от списка). Зачем это нужно? Поговорим, когда будем обсуждать словари и множества\n",
        "\n",
        "Что значит неизменяемый? Давайте пробовать:"
      ]
    },
    {
      "cell_type": "code",
      "execution_count": null,
      "metadata": {
        "colab": {
          "base_uri": "https://localhost:8080/"
        },
        "id": "gR09dM_xCJ6K",
        "outputId": "1dec3da0-5d1c-4381-9ef8-ae7621c8ea2d"
      },
      "outputs": [],
      "source": [
        "a = (1, 2, 3)  # создается с помощью круглых скобок или же tuple()\n",
        "print(a[-1])"
      ]
    },
    {
      "cell_type": "markdown",
      "metadata": {
        "id": "YUKNzJLvCNvu"
      },
      "source": [
        "Синтаксис такой же, но давайте попробуем изменить значение элемента:"
      ]
    },
    {
      "cell_type": "code",
      "execution_count": null,
      "metadata": {
        "colab": {
          "base_uri": "https://localhost:8080/",
          "height": 144
        },
        "id": "pSUysFjLCVqk",
        "outputId": "f537e4ef-a7e4-4b92-ebfd-7a05a4451d8d"
      },
      "outputs": [],
      "source": [
        "a[1] = a[2]"
      ]
    },
    {
      "cell_type": "code",
      "execution_count": null,
      "metadata": {
        "colab": {
          "base_uri": "https://localhost:8080/"
        },
        "id": "695fLRWwCfoZ",
        "outputId": "a0aa460e-dd02-4150-9dae-4dca781763e2"
      },
      "outputs": [],
      "source": [
        "a = (1, 2, 3)\n",
        "b = (4, 5, 6)\n",
        "c = a + b  # изменить сам tuple нельзя, он создает просто новый tuple\n",
        "print(c)\n",
        "\n",
        "print(id(a), id(b), id(c))"
      ]
    },
    {
      "cell_type": "markdown",
      "metadata": {
        "id": "oQ1BULtBEkOU"
      },
      "source": [
        "Одно из отличных применений кортежей - сравнение нескольких элементов сразу."
      ]
    },
    {
      "cell_type": "code",
      "execution_count": null,
      "metadata": {
        "colab": {
          "base_uri": "https://localhost:8080/"
        },
        "id": "PSI4cBheEbKQ",
        "outputId": "6b423216-b169-4ee3-bb62-4cd7293ffbf5"
      },
      "outputs": [],
      "source": [
        "(\"a\", \"b\") > (\"a\", \"c\")"
      ]
    },
    {
      "cell_type": "markdown",
      "metadata": {
        "id": "ojikQBhUilxh"
      },
      "source": [
        "#### Range"
      ]
    },
    {
      "cell_type": "markdown",
      "metadata": {
        "id": "pNIx2HE8incH"
      },
      "source": [
        "Последний подтип - это range. Его вы часто будете встречать в циклах и прочих способах перебрать числа."
      ]
    },
    {
      "cell_type": "code",
      "execution_count": null,
      "metadata": {
        "colab": {
          "base_uri": "https://localhost:8080/"
        },
        "id": "CGJw69flim62",
        "outputId": "6dce561e-5b11-4a79-91be-d2023c1f61ad"
      },
      "outputs": [],
      "source": [
        "a = range(5)\n",
        "a"
      ]
    },
    {
      "cell_type": "markdown",
      "metadata": {
        "id": "LKo9G3grfr4n"
      },
      "source": [
        "### Строки"
      ]
    },
    {
      "cell_type": "markdown",
      "metadata": {
        "id": "IqhrncS7f1vn"
      },
      "source": [
        "Любой ввод, который мы сделаем, является строкой (`string` - это по сути последовательность символов). Если мы хотим самостоятельно ввести строку, то она должна быть в одинарных или двойных кавычках (для Python это одно и то же, главное, чтобы начало и конец совпадали)"
      ]
    },
    {
      "cell_type": "code",
      "execution_count": null,
      "metadata": {
        "colab": {
          "base_uri": "https://localhost:8080/"
        },
        "id": "qRm9Z2vZfvP0",
        "outputId": "6069a494-40fc-48a5-a2d6-bae4c15b17f4"
      },
      "outputs": [],
      "source": [
        "s = \"4594520\"\n",
        "print(type(s))"
      ]
    },
    {
      "cell_type": "markdown",
      "metadata": {
        "id": "gEvmNW6q3LsK"
      },
      "source": [
        "Если говорить по-простому, то строка - это список из символов. А это значит, что операции индексации, сложения и умножения, о которых мы говорили, работают!"
      ]
    },
    {
      "cell_type": "code",
      "execution_count": null,
      "metadata": {
        "colab": {
          "base_uri": "https://localhost:8080/"
        },
        "id": "g5F_6WW93ZnB",
        "outputId": "c3b2a09f-64e3-48ee-ad84-b58e616b378d"
      },
      "outputs": [],
      "source": [
        "print(s[::2])\n",
        "print(s + \"123\")\n",
        "print(s * 2)"
      ]
    },
    {
      "cell_type": "markdown",
      "metadata": {
        "id": "rTZ-1gUF3swo"
      },
      "source": [
        "А вот с методами сложнее (это же все-таки другой тип данных). Что умеем?\n",
        "\n",
        "Методов и функций у string достаточно много (можно все найти [вот тут](https://docs.python.org/3/library/stdtypes.html#string-methods)), перечислим только самые важные из них:\n",
        "\n",
        "* `len(s)` - выведи длину строки\n",
        "\n",
        "* `s.count(ss)` - посчитать число подстрок внутри строки (считаем максимально по-простому, без пересечений)\n",
        "\n",
        "* `s.find(ss), s.rfind(ss)` - найти первое вхождение подстроки в строке (выводит индекс первого вхождения, если нет, то выводит -1)\n",
        "\n",
        "* `s.isdigit()` - проверка, являются ли все элементы в строке числами (можно использовать для проверки конвертации строки в число)\n",
        "\n",
        "* `s.islower()`, `s.isupper()` - проверка, являются ли все буквы заглавными или строчными\n",
        "\n",
        "* `join()` - соединить список строк в одну строку\n",
        "\n",
        "* `s.strip(ss)` - удалить все символы из строки `ss` в `s`\n",
        "\n",
        "* `s.replace(s_a, s_b)` - заменить подстроку `s_a` на `s_b`\n",
        "\n",
        "* `s.split(ss)` - разбить по подстроке `ss` строку `s` (если ничего не указано, то разобьет просто по пробелам)"
      ]
    },
    {
      "cell_type": "markdown",
      "metadata": {
        "id": "pY9_Y21pi992"
      },
      "source": [
        "Пробуем:"
      ]
    },
    {
      "cell_type": "code",
      "execution_count": null,
      "metadata": {
        "colab": {
          "base_uri": "https://localhost:8080/"
        },
        "id": "2_joodmkjAfr",
        "outputId": "8d777bb4-9961-4577-c1b1-0dda06a1a6e0"
      },
      "outputs": [],
      "source": [
        "s = \"I love python (maybe)\"\n",
        "s_1 = \"1234\"\n",
        "\n",
        "print(len(s))\n",
        "print(len(s_1))"
      ]
    },
    {
      "cell_type": "code",
      "execution_count": null,
      "metadata": {
        "colab": {
          "base_uri": "https://localhost:8080/"
        },
        "id": "FCEtSAQCjKYx",
        "outputId": "6b404b67-006a-44fd-c6af-b16e5353f9d1"
      },
      "outputs": [],
      "source": [
        "print(s.count(\"o\"))\n",
        "print(s.find(\"love\"))\n",
        "print(s.rfind(\"o\"))\n",
        "print(s.find(\"-\"))\n",
        "print(s.isdigit(), s_1.isdigit())\n",
        "print(s.islower(), s.isupper())\n",
        "full_s = \" \".join([s, s_1])\n",
        "print(full_s)\n",
        "print(full_s.split())"
      ]
    },
    {
      "cell_type": "markdown",
      "metadata": {
        "id": "IcCE8crXGuHK"
      },
      "source": [
        "### Байтовые типы"
      ]
    },
    {
      "cell_type": "markdown",
      "metadata": {
        "id": "dJI2cf_UG_0z"
      },
      "source": [
        "Существуют байтовые типы данных, не то чтобы приходится часто с ними сталкиваться, но знать точно не будет лишним. Постоянно применяются в кодировках-декодировках или когда что-то нужно шифровать."
      ]
    },
    {
      "cell_type": "markdown",
      "metadata": {
        "id": "1BKv3QFuG0to"
      },
      "source": [
        "#### bytes"
      ]
    },
    {
      "cell_type": "markdown",
      "metadata": {
        "id": "sLDqSBwRHbpJ"
      },
      "source": [
        "Неизменяемый последовательность байт."
      ]
    },
    {
      "cell_type": "code",
      "execution_count": null,
      "metadata": {
        "colab": {
          "base_uri": "https://localhost:8080/"
        },
        "id": "oq8yb71FG3--",
        "outputId": "e21f842f-4ac2-4c2c-b314-ee55a08b153e"
      },
      "outputs": [],
      "source": [
        "data = b\"hello\"\n",
        "type(data)"
      ]
    },
    {
      "cell_type": "markdown",
      "metadata": {
        "id": "X4qpq_U1HhXw"
      },
      "source": [
        "Можем попробовать кодировать строку в байты и декодировать ее обратно:"
      ]
    },
    {
      "cell_type": "code",
      "execution_count": null,
      "metadata": {
        "colab": {
          "base_uri": "https://localhost:8080/"
        },
        "id": "g13nTAKnHkGc",
        "outputId": "3c6bc559-cf6a-419b-df39-1bbc411be2da"
      },
      "outputs": [],
      "source": [
        "s = \"café\"\n",
        "b = s.encode()\n",
        "print(b, type(b), len(b))"
      ]
    },
    {
      "cell_type": "code",
      "execution_count": null,
      "metadata": {
        "colab": {
          "base_uri": "https://localhost:8080/"
        },
        "id": "oRYiUvA4Hpia",
        "outputId": "88c41959-d244-49ac-8c12-28bf56ec5cc1"
      },
      "outputs": [],
      "source": [
        "s = b.decode()\n",
        "print(s, type(s), len(s))"
      ]
    },
    {
      "cell_type": "markdown",
      "metadata": {
        "id": "fIhq-klxH7cz"
      },
      "source": [
        "Мы можем заметить, что в байтах эта строка занимает на один символ больше.\n",
        "\n",
        "Почему так происходит? Потому что для кодирования символа `é` необходимо два байта."
      ]
    },
    {
      "cell_type": "code",
      "execution_count": null,
      "metadata": {
        "colab": {
          "base_uri": "https://localhost:8080/",
          "height": 35
        },
        "id": "HKjgTl1qH0QZ",
        "outputId": "81bbb7e3-b1c7-4f91-c628-998e215b7221"
      },
      "outputs": [],
      "source": [
        "b.decode(\"utf8\")"
      ]
    },
    {
      "cell_type": "markdown",
      "metadata": {
        "id": "x4UTkoMMIaTe"
      },
      "source": [
        "#### bytearray"
      ]
    },
    {
      "cell_type": "markdown",
      "metadata": {
        "id": "vuEYPf7vIfnw"
      },
      "source": [
        "Посмотрим на следующий тип, который у нас есть - это bytearray.\n",
        "\n",
        "В чем его главное отличие от bytes? По сути это тот же bytes, но изменяемый."
      ]
    },
    {
      "cell_type": "code",
      "execution_count": null,
      "metadata": {
        "colab": {
          "base_uri": "https://localhost:8080/"
        },
        "id": "H6m5JFbgIwPz",
        "outputId": "c20ef8ef-1333-423d-8bf7-a522ffabd10d"
      },
      "outputs": [],
      "source": [
        "mutable_data = bytearray(b\"abc\")\n",
        "print(mutable_data)\n",
        "mutable_data[0] += 1\n",
        "mutable_data"
      ]
    },
    {
      "cell_type": "markdown",
      "metadata": {
        "id": "kPX15SB5h24Z"
      },
      "source": [
        "#### memoryview"
      ]
    },
    {
      "cell_type": "markdown",
      "metadata": {
        "id": "B-018enviLiA"
      },
      "source": [
        "Продвинутый тип - memoryview, про память и прочее связанное с ней мы поговорим на четвертой лекции, но познакомиться можем сейчас. Это тип, работающий как указатель над массивом данных, позволяющий избежать лишнего копирования."
      ]
    },
    {
      "cell_type": "markdown",
      "metadata": {
        "id": "0lbHGYx_jPWl"
      },
      "source": [
        "### Множества"
      ]
    },
    {
      "cell_type": "markdown",
      "metadata": {
        "id": "Ix3sXq9vjQfg"
      },
      "source": [
        "Множества в основном помогают нам поддержать хранение каких-либо уникальных объектов, потому что в множествах хранится только один экземпляр равных объектов. Множество неупорядоченно, хранит уникальные элементы и изменяемо."
      ]
    },
    {
      "cell_type": "code",
      "execution_count": null,
      "metadata": {
        "colab": {
          "base_uri": "https://localhost:8080/"
        },
        "id": "xhTC6Ho5jZwt",
        "outputId": "d07a1262-2e68-443d-bef0-2ee83597aea0"
      },
      "outputs": [],
      "source": [
        "a = {1, 2, \"3\", 5.1}\n",
        "a, type(a)"
      ]
    },
    {
      "cell_type": "markdown",
      "metadata": {
        "id": "TYWEwhUXjm-K"
      },
      "source": [
        "Также важный тип - замороженное множество, оно отличается неизменяемостью. Для чего мы можем его использовать мы обсудим на следующих лекциях :)"
      ]
    },
    {
      "cell_type": "code",
      "execution_count": null,
      "metadata": {
        "colab": {
          "base_uri": "https://localhost:8080/"
        },
        "id": "oKG01HH1jvWD",
        "outputId": "5a31d53f-76a6-4b39-f8c3-5e39470f6f2b"
      },
      "outputs": [],
      "source": [
        "constants = frozenset((3.14, 2.718))\n",
        "constants, type(constants)"
      ]
    },
    {
      "cell_type": "markdown",
      "metadata": {
        "id": "2y3DeSKDlIqC"
      },
      "source": [
        "### Словари"
      ]
    },
    {
      "cell_type": "markdown",
      "metadata": {
        "id": "lnJ4p1ZSlJ9r"
      },
      "source": [
        "Словари имеют обширное применение, на них мы выделим много времени на отдельной лекции, а на семинаре сможете немного посмотреть что это такое под капотом, а пока:"
      ]
    },
    {
      "cell_type": "code",
      "execution_count": null,
      "metadata": {
        "colab": {
          "base_uri": "https://localhost:8080/"
        },
        "id": "yQE5k7jNlVbI",
        "outputId": "eab6b252-f524-448b-e260-b9d3b592d494"
      },
      "outputs": [],
      "source": [
        "d = {\"name\": \"Daniel\"}\n",
        "d, type(d)"
      ]
    },
    {
      "cell_type": "markdown",
      "metadata": {
        "id": "6jI0C3Ev5sA7"
      },
      "source": [
        "### NoneType"
      ]
    },
    {
      "cell_type": "markdown",
      "metadata": {
        "id": "f4XMZheblidO"
      },
      "source": [
        "Отдельный тип для ничего."
      ]
    },
    {
      "cell_type": "code",
      "execution_count": null,
      "metadata": {
        "colab": {
          "base_uri": "https://localhost:8080/"
        },
        "id": "VzdU0HQJ5tKw",
        "outputId": "385c1705-94e1-4f27-e8ef-56722af9ab95"
      },
      "outputs": [],
      "source": [
        "a = None\n",
        "a, type(a)"
      ]
    },
    {
      "cell_type": "code",
      "execution_count": null,
      "metadata": {
        "colab": {
          "base_uri": "https://localhost:8080/"
        },
        "id": "oWZNurCplmz-",
        "outputId": "72d29991-51c4-45cd-f23d-a8d9032ee20d"
      },
      "outputs": [],
      "source": [
        "d = {None: 1}\n",
        "d, type(d)"
      ]
    },
    {
      "cell_type": "markdown",
      "metadata": {
        "id": "qarkDDHT5dM2"
      },
      "source": [
        "### Приведение типов"
      ]
    },
    {
      "cell_type": "markdown",
      "metadata": {
        "id": "oV1NutBn5lwA"
      },
      "source": [
        "Итак, у нас есть разные типы данных, и хотелось бы, чтобы один можно было приводить к другому.\n",
        "\n",
        "По сути можно привести к нужному типу данных с помощью вызова следующих функций:\n",
        "\n",
        "* `int()` - приведи к целому числу\n",
        "\n",
        "* `float()` - приведи к вещественному числу\n",
        "\n",
        "* `string()` - приведи к строке\n",
        "\n",
        "* `list()` - приведи к списку\n",
        "\n",
        "* `tuple()` - приведи к кортежу\n",
        "\n",
        "* `bool()` - приведи к логической переменной\n",
        "\n",
        "Если нельзя привести - то естественно, выведет ошибку."
      ]
    },
    {
      "cell_type": "code",
      "execution_count": null,
      "metadata": {
        "colab": {
          "base_uri": "https://localhost:8080/"
        },
        "id": "vvIiKi1z6H75",
        "outputId": "59049dd9-a342-45ae-f37a-74b5d3c54212"
      },
      "outputs": [],
      "source": [
        "a = \"52\"\n",
        "int(a), float(a), list(a), tuple(a), bool(a)"
      ]
    },
    {
      "cell_type": "markdown",
      "metadata": {
        "id": "7ViQXj196bcA"
      },
      "source": [
        "Что к чему нельзя привести?\n",
        "\n",
        "* string -> int, float (если это не число)\n",
        "\n",
        "Остальное в целом можно, но некоторые кейсы - на свой страх и риск)"
      ]
    },
    {
      "cell_type": "code",
      "execution_count": null,
      "metadata": {
        "colab": {
          "base_uri": "https://localhost:8080/",
          "height": 204
        },
        "id": "LELuY8gA6wIJ",
        "outputId": "dd1b260b-21fe-4c63-d585-232fff9457bd"
      },
      "outputs": [],
      "source": [
        "a = \"5,6\"\n",
        "float(a)"
      ]
    },
    {
      "cell_type": "markdown",
      "metadata": {
        "id": "BHL6Hb8lmsgK"
      },
      "source": [
        "При конвертации чисел с плавающей точкой в целочисленный тип полностью отрезается мантисса числа."
      ]
    },
    {
      "cell_type": "code",
      "execution_count": null,
      "metadata": {
        "colab": {
          "base_uri": "https://localhost:8080/"
        },
        "id": "UIK4hSFmmqox",
        "outputId": "c95a26cf-edba-4a6f-f172-e2f361999c73"
      },
      "outputs": [],
      "source": [
        "int(3.99)"
      ]
    },
    {
      "cell_type": "markdown",
      "metadata": {
        "id": "17QXhVtJm5DJ"
      },
      "source": [
        "Можно конвертировать из шестнадцатиричной системы счисления в десятиричную следующим образом:"
      ]
    },
    {
      "cell_type": "code",
      "execution_count": null,
      "metadata": {
        "colab": {
          "base_uri": "https://localhost:8080/"
        },
        "id": "vyK_ECLzm0OC",
        "outputId": "c5617e2a-5d01-4b45-fcd3-1c2c53a4ba97"
      },
      "outputs": [],
      "source": [
        "int(\"FF\", 16)"
      ]
    },
    {
      "cell_type": "markdown",
      "metadata": {
        "id": "YJIJ9Kn_nByp"
      },
      "source": [
        "Интересно конвертируется в булевый тип: очень часто такая конвертация применяется на практике, но это не всегда корректно. Вот, например, что мы можем сконвертировать в bool:"
      ]
    },
    {
      "cell_type": "code",
      "execution_count": null,
      "metadata": {
        "colab": {
          "base_uri": "https://localhost:8080/"
        },
        "id": "mmgrMbaUnLtw",
        "outputId": "2336f840-5e99-4f31-b3f6-ae340bd34373"
      },
      "outputs": [],
      "source": [
        "print(bool(0))\n",
        "print(bool(0.0))\n",
        "print(bool(\"\"))\n",
        "print(bool([]))\n",
        "print(bool(None))"
      ]
    },
    {
      "cell_type": "markdown",
      "metadata": {
        "id": "85PZVSgOoNi-"
      },
      "source": [
        "Пример практической конвертации: хотим ввести возраст и чтобы это сразу было числом, а не строкой:"
      ]
    },
    {
      "cell_type": "code",
      "execution_count": null,
      "metadata": {
        "colab": {
          "base_uri": "https://localhost:8080/"
        },
        "id": "8NnTL22WoR1R",
        "outputId": "de614f43-7a2a-4b51-fe03-58c3d7e2adf4"
      },
      "outputs": [],
      "source": [
        "age = int(input(\"Введите ваш возраст: \"))\n",
        "\"Через 50 лет вам будет\", age + 50"
      ]
    },
    {
      "cell_type": "markdown",
      "metadata": {
        "id": "O7OiFziPgydH"
      },
      "source": [
        "### Логические операторы"
      ]
    },
    {
      "cell_type": "markdown",
      "metadata": {
        "id": "MTP635FpOyWT"
      },
      "source": [
        "Теперь у нас есть типы данных, с которыми можно проделывать различные операции. Следующий вопрос, который, скорее всего, возникает: а как их сравнивать?"
      ]
    },
    {
      "cell_type": "markdown",
      "metadata": {
        "id": "nF-0KkPKPTpw"
      },
      "source": [
        "На самом деле сравнивать можно все типы данных внутри себя. Если попробовать сравнить друг с другом разные типы, то вам честно выдаст ошибку.\n",
        "\n",
        "Как происходит сравнение?\n",
        "\n",
        "* Числа - тут все понятно, условное понятие больше-меньше берется в первую очередь из чисел.\n",
        "* Строки сравниваются с помощью лексикографического порядка (то есть берется по символам, если один символ больше другого, то здесь все заканчивается и одна строка больше другой. В противном случае все продолжается до последнего символа).\n",
        "* Списки сравниваются поэлементно (логика как в строках).\n",
        "\n",
        "Давайте рассмотрим на примерах:"
      ]
    },
    {
      "cell_type": "code",
      "execution_count": null,
      "metadata": {
        "id": "FUaYjfRBPJxC"
      },
      "outputs": [],
      "source": [
        "a = 1\n",
        "b = 2\n",
        "c = 1\n",
        "\n",
        "print(a > b)  # больше\n",
        "print(a >= c)  # больше или равно\n",
        "print(a < b)  # меньше\n",
        "print(a <= c)  # меньше или равно\n",
        "print(a == c)  # равенство (обратите внимание - два знака равно)\n",
        "print(a != b)  # неравенство"
      ]
    },
    {
      "cell_type": "markdown",
      "metadata": {
        "id": "C7wW4fDjRYKg"
      },
      "source": [
        "Окей, у нас есть одно логическое выражение (сравнили). А можно ли несколько? Конечно можно! Для этого есть слова:\n",
        "\n",
        "* and - логическое И\n",
        "* or - логическое ИЛИ\n",
        "* not - логическое НЕ"
      ]
    },
    {
      "cell_type": "code",
      "execution_count": null,
      "metadata": {
        "colab": {
          "base_uri": "https://localhost:8080/"
        },
        "id": "fy28v_P0RknG",
        "outputId": "b64c96a7-8ccb-4130-daf7-c6a8e5247dfd"
      },
      "outputs": [],
      "source": [
        "print(a == c and 0 == 0)\n",
        "print(a != c or a != b)\n",
        "print(not a)"
      ]
    },
    {
      "cell_type": "markdown",
      "metadata": {},
      "source": [
        "### Ellipsis"
      ]
    },
    {
      "cell_type": "markdown",
      "metadata": {},
      "source": [
        "Есть интересный тип в питоне - эллипсис a.k.a **...**."
      ]
    },
    {
      "cell_type": "code",
      "execution_count": null,
      "metadata": {},
      "outputs": [],
      "source": [
        "print(...)\n",
        "print(Ellipsis)\n",
        "print(type(...))"
      ]
    },
    {
      "cell_type": "markdown",
      "metadata": {},
      "source": [
        "Какое же применение у данной истории?\n",
        "\n",
        "- Используется в numpy (не рассматриваем в курсе).\n",
        "- Плейсхолдер в вашем коде.\n",
        "- В объявлении типов (рассмотрим в дальнейшем на лекциях)."
      ]
    },
    {
      "cell_type": "markdown",
      "metadata": {
        "id": "lTPVCHAFSmBr"
      },
      "source": [
        "## Заключение"
      ]
    },
    {
      "cell_type": "markdown",
      "metadata": {
        "id": "3cnXx97_S2CC"
      },
      "source": [
        "А теперь давайте решим один из вопросов, который возник в процессе: а как все-таким считывать одновременно несколько чисел? К сожалению, мы пока что не знаем что такое функция и как ими пользоваться, но без этого примера сложно будет с контестами:"
      ]
    },
    {
      "cell_type": "code",
      "execution_count": null,
      "metadata": {},
      "outputs": [],
      "source": [
        "a, b = map(\n",
        "    int,  # конвертируем строки к целым числам\n",
        "    input().split(),  # разбиваем ввод\n",
        ")\n",
        "a, b, type(a), type(b)"
      ]
    },
    {
      "cell_type": "code",
      "execution_count": null,
      "metadata": {},
      "outputs": [],
      "source": [
        "h = list(map(int, input().split()))\n",
        "h, type(h)"
      ]
    },
    {
      "cell_type": "markdown",
      "metadata": {
        "id": "knxnqmkiUAkK"
      },
      "source": [
        "Давайте разберем по частям:\n",
        "\n",
        "* `map(callable, iterable)` - функция, которая применяет к каждому элементу из `iterable` функцию `callable`.\n",
        "\n",
        "* `input() -> str, str.split()` - считываем строку и делим на отдельные элементы с помощью `split()`.\n",
        "\n",
        "* `list()` - приводим к списку."
      ]
    }
  ],
  "metadata": {
    "colab": {
      "provenance": []
    },
    "kernelspec": {
      "display_name": ".venv",
      "language": "python",
      "name": "python3"
    },
    "language_info": {
      "codemirror_mode": {
        "name": "ipython",
        "version": 3
      },
      "file_extension": ".py",
      "mimetype": "text/x-python",
      "name": "python",
      "nbconvert_exporter": "python",
      "pygments_lexer": "ipython3",
      "version": "3.13.3"
    }
  },
  "nbformat": 4,
  "nbformat_minor": 0
}
