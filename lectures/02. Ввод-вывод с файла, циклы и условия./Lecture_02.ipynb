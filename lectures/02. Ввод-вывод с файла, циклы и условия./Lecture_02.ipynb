{
  "cells": [
    {
      "cell_type": "markdown",
      "metadata": {
        "id": "MvjKDalaISGI"
      },
      "source": [
        "# Python-1, Лекция 2\n",
        "\n",
        "Лектор: Хайбулин Даниэль\n",
        "\n",
        "Подготовил материал: Хайбулин Даниэль"
      ]
    },
    {
      "cell_type": "markdown",
      "metadata": {
        "id": "TLiKHi_0IYCm"
      },
      "source": [
        "Итак, сегодня мы поговорим про циклы, условия, а также про ввод-вывод из файла."
      ]
    },
    {
      "cell_type": "markdown",
      "metadata": {
        "id": "x_wsFhcdI1GU"
      },
      "source": [
        "## Условные операторы"
      ]
    },
    {
      "cell_type": "markdown",
      "metadata": {
        "id": "13pzrwMKI3pk"
      },
      "source": [
        "Скорее всего в других ЯП вы сталкивались с классическими циклами и условиями:\n",
        "\n",
        "* if-else: если верно условие, то сделай одно, иначе сделай другое\n",
        "\n",
        "* while: пока верно условие, делай вот это\n",
        "\n",
        "* for: для каждого значения совершай действия\n",
        "\n",
        "В целом синтаксис Python не особо отличается от других ЯП в этом плане, но давайте глянем"
      ]
    },
    {
      "cell_type": "markdown",
      "metadata": {
        "id": "5TL3Z4SwJfFt"
      },
      "source": [
        "### If-else"
      ]
    },
    {
      "cell_type": "markdown",
      "metadata": {
        "id": "8ttX7CPpF8Wr"
      },
      "source": [
        "Синтаксис следующий:\n",
        "\n",
        "```\n",
        "if <condition>:\n",
        "    <actions>\n",
        "else:\n",
        "    <actions>\n",
        "```"
      ]
    },
    {
      "cell_type": "code",
      "execution_count": null,
      "metadata": {},
      "outputs": [],
      "source": [
        "x = int(input())\n",
        "\n",
        "if x % 2 == 0:\n",
        "    print(f\"Число {x} четное!\")\n",
        "else:\n",
        "    print(f\"Число {x} нечетное!\")"
      ]
    },
    {
      "cell_type": "markdown",
      "metadata": {
        "id": "nmRP6sgoK3wl"
      },
      "source": [
        "\n",
        "\n",
        "Помимо else и if есть elif (else + if) - позволяет сделать несколько условий. Как это работает:\n",
        "\n",
        "```\n",
        "if condition_1: #если выполняется первое условие\n",
        "    <actions_1> #сделай вот это, если будет condition_1\n",
        "elif condition_2: #если первое не выполняется, то проверяем на второе\n",
        "    <actions_2> #сделай вот это, если будет condition_2\n",
        "else: # если оба условия неверны\n",
        "    <actions_3> # делай вот это\n",
        "```"
      ]
    },
    {
      "cell_type": "code",
      "execution_count": null,
      "metadata": {},
      "outputs": [],
      "source": [
        "x = 4\n",
        "\n",
        "if x % 10 == 0:\n",
        "    print(f\"{x} делится на 10\")\n",
        "elif x % 5 == 0:\n",
        "    print(f\"{x} делится на 5\")\n",
        "else:\n",
        "    print(f\"{x} не делится на 5\")"
      ]
    },
    {
      "cell_type": "markdown",
      "metadata": {
        "id": "PlmWtVUcL1JR"
      },
      "source": [
        "А теперь давайте попробуем вот такой пример:\n",
        "\n",
        "По введенной стране вывести ее столицу.\n",
        "\n",
        "Решим задачу с помощью if-else:"
      ]
    },
    {
      "cell_type": "code",
      "execution_count": null,
      "metadata": {
        "colab": {
          "base_uri": "https://localhost:8080/"
        },
        "id": "Ekn_tNtyRm0l",
        "outputId": "159ad64d-eed6-4e1e-80c7-522380050806"
      },
      "outputs": [],
      "source": [
        "c = input(\"Enter any country:\")\n",
        "if c == \"Russia\":\n",
        "    print(\"Moscow\")\n",
        "elif c == \"UK\":\n",
        "    print(\"London is the capital of Great Britain\")\n",
        "elif c == \"USA\":\n",
        "    print(\"My pronouns are U-S-A! 🦅\")\n",
        "    print(\"Washington\")\n",
        "else:\n",
        "    print(\"No lo se...\")"
      ]
    },
    {
      "cell_type": "markdown",
      "metadata": {
        "id": "ZAawSfKcT341"
      },
      "source": [
        "### Тернарный оператор"
      ]
    },
    {
      "cell_type": "code",
      "execution_count": null,
      "metadata": {
        "colab": {
          "base_uri": "https://localhost:8080/",
          "height": 35
        },
        "id": "IgNI5U7pT5Ok",
        "outputId": "8c19172f-8a93-40e6-cc76-7d46c4caf69e"
      },
      "outputs": [],
      "source": [
        "x = 100\n",
        "\n",
        "answer = \"Четное\" if x % 2 == 0 else \"Нечетное\"\n",
        "answer"
      ]
    },
    {
      "cell_type": "code",
      "execution_count": null,
      "metadata": {
        "colab": {
          "base_uri": "https://localhost:8080/",
          "height": 35
        },
        "id": "Zu9pqZJlT9bd",
        "outputId": "586db1a9-c0fb-46ac-e7ef-d5f5ba8625d7"
      },
      "outputs": [],
      "source": [
        "x = -1\n",
        "\n",
        "answer = x % 2 if x > 0 else \"Значение отрицательное!\"\n",
        "answer"
      ]
    },
    {
      "cell_type": "markdown",
      "metadata": {
        "id": "J5yGS2jrUCgC"
      },
      "source": [
        "Антипаттерны:\n",
        "\n",
        "* использовать тернарный оператор для длинных выражений\n",
        "* возвращать разные типы в зависимости от условия"
      ]
    },
    {
      "cell_type": "markdown",
      "metadata": {
        "id": "U03YrJ_BOHaI"
      },
      "source": [
        "### Match"
      ]
    },
    {
      "cell_type": "code",
      "execution_count": null,
      "metadata": {
        "colab": {
          "base_uri": "https://localhost:8080/"
        },
        "id": "qSxIBmk9TzFB",
        "outputId": "5255ea26-832b-459f-a5c8-d24c599d4b2c"
      },
      "outputs": [],
      "source": [
        "language = \"russian\"\n",
        "\n",
        "match language:\n",
        "    case \"russian\":\n",
        "        print(\"Привет\")\n",
        "    case \"english\":\n",
        "        print(\"Hello\")\n",
        "    case \"german\":\n",
        "        print(\"Hallo\")\n",
        "    case _:\n",
        "        print(\"Unknown language\")"
      ]
    },
    {
      "cell_type": "code",
      "execution_count": null,
      "metadata": {
        "colab": {
          "base_uri": "https://localhost:8080/"
        },
        "id": "h_GSyzQ8OGmR",
        "outputId": "a09e7d56-0ea7-4f94-a774-13cad7facd79"
      },
      "outputs": [],
      "source": [
        "lists = [[\"🐸\", \"🐸\", \"🐸\"], [\"🐸\", \"🦋\"], [\"🐸\", \"🦋\", \"🌼\"], [\"🦋\"], None]\n",
        "\n",
        "for lst in lists:\n",
        "    match lst:\n",
        "        case [\"🐸\", *_, \"🦋\", \"🌼\"]:\n",
        "            print(lst, \"Начинается с лягушки, оканчивается бабочкой и цветком\")\n",
        "        case [\"🐸\", *_, \"🦋\"]:\n",
        "            print(lst, \"Начинается с лягушки и оканчивается бабочкой\")\n",
        "        case [*_, \"🦋\"]:\n",
        "            print(lst, \"Оканчивается бабочкой\")\n",
        "        case [\"🐸\", *_, \"🌼\"]:\n",
        "            print(lst, \"Начинается с лягушки и оканчивается цветком\")\n",
        "        case [\"🐸\", *_]:\n",
        "            print(lst, \"Начинается с лягушки\")\n",
        "        case []:\n",
        "            print(lst, \"Пустая последовательность\")\n",
        "        case [*_]:\n",
        "            print(lst, \"Последовательность чего-либо\")\n",
        "        case _:\n",
        "            print(lst, \"Не последовательность\")"
      ]
    },
    {
      "cell_type": "code",
      "execution_count": null,
      "metadata": {
        "colab": {
          "base_uri": "https://localhost:8080/"
        },
        "id": "S-GGxZgkSa4E",
        "outputId": "9139b697-1198-4e2a-8919-7db7aa9e48ec"
      },
      "outputs": [],
      "source": [
        "lists = [[\"🐸\", \"🐸\", \"🐸\"], [\"🐸\", \"🐸\", \"🌼\"], None]\n",
        "\n",
        "for lst in lists:\n",
        "    match lst:\n",
        "        case [\"🐸\", *a]:\n",
        "            print(f\"Начинается с лягушки, заканчивается {a}\")\n",
        "        case _:\n",
        "            print(\"Не уверен\")"
      ]
    },
    {
      "cell_type": "code",
      "execution_count": null,
      "metadata": {
        "colab": {
          "base_uri": "https://localhost:8080/"
        },
        "id": "gsFniQPJSpS4",
        "outputId": "7eed6b89-ff9a-4a21-ad66-f1dc12e025eb"
      },
      "outputs": [],
      "source": [
        "lists = [[\"🐸\", \"🌸\"], [\"🐸\", \"🌸\", \"🌹\"], None]\n",
        "\n",
        "for lst in lists:\n",
        "    match lst:\n",
        "        case [\"🐸\", (\"🌹\" | \"🌸\" | \"🌺\" | \"🌻\" | \"🌼\")]:\n",
        "            print(\"Лягушка и цветок\")\n",
        "        case _:\n",
        "            print(\"Не уверен\")"
      ]
    },
    {
      "cell_type": "markdown",
      "metadata": {},
      "source": [
        "## Циклы"
      ]
    },
    {
      "cell_type": "markdown",
      "metadata": {
        "id": "hqKOOk1dF3wg"
      },
      "source": [
        "### While"
      ]
    },
    {
      "cell_type": "markdown",
      "metadata": {
        "id": "WWJTqPFmF6xb"
      },
      "source": [
        "While - это уже цикл (то есть может выполняться несколько раз). В данном случае мы выполняем до тех пор, пока условие, которые мы задали, не станет ложным\n",
        "\n",
        "Синтаксис:\n",
        "\n",
        "```\n",
        "while <condition>:\n",
        "    <actions>\n",
        "```\n",
        "\n",
        "То есть делай, пока можно. Когда нельзя - перестань. Давайте на примере:"
      ]
    },
    {
      "cell_type": "markdown",
      "metadata": {
        "id": "am5kZ2FIGaD2"
      },
      "source": [
        "Умному Пете понравился наш код, но он захотел сделать добавление к своей игре: он хочет, чтобы действия выполнялись до тех пор, пока число не будет делиться на 13 или пока мы не перестанем его менять. Помогите Пете усовершенствовать алгоритм"
      ]
    },
    {
      "cell_type": "markdown",
      "metadata": {
        "id": "BfjRvkfiGyIl"
      },
      "source": [
        "Итак, то есть нам необходимо менять число до тех пор, пока либо оно не будет не делиться на все вышеуказанные делители (то есть 3,5 и 7) или пока оно не станет делиться на 13. Давайте пробовать вначале с делением:"
      ]
    },
    {
      "cell_type": "code",
      "execution_count": null,
      "metadata": {
        "colab": {
          "base_uri": "https://localhost:8080/"
        },
        "id": "VdqVrMm0HFjd",
        "outputId": "c7230840-be86-4cdc-ef26-435f4eb3f9af"
      },
      "outputs": [],
      "source": [
        "a = int(input(\"Введите число:\"))\n",
        "\n",
        "while a % 13 != 0:\n",
        "    if a % 3 == 0:\n",
        "        a *= 2\n",
        "        a += 1\n",
        "    elif a % 5 == 0:\n",
        "        a -= 2\n",
        "    elif a % 7 == 0:\n",
        "        a %= 15\n",
        "        a += 1\n",
        "\n",
        "print(a)"
      ]
    },
    {
      "cell_type": "markdown",
      "metadata": {
        "id": "50xlA5I1HjhS"
      },
      "source": [
        "Вроде бы все хорошо, но у нас нет условия, что ничего не изменилось... Как же его добавить?\n",
        "\n",
        "Для этого есть такие замечательные слова как continue или break. Как они работают?\n",
        "\n",
        "![](https://i.pinimg.com/736x/ef/48/cf/ef48cf48ec8fa615235c64a5e23ee731.jpg)"
      ]
    },
    {
      "cell_type": "code",
      "execution_count": null,
      "metadata": {
        "colab": {
          "base_uri": "https://localhost:8080/"
        },
        "id": "ZJzDM5CcH5_i",
        "outputId": "030ec560-f0d5-42b9-d4e1-03dccd03b053"
      },
      "outputs": [],
      "source": [
        "a = int(input(\"Введите число:\"))\n",
        "\n",
        "while a % 13 != 0:\n",
        "    if a % 3 == 0:\n",
        "        a *= 2\n",
        "        a += 1\n",
        "    elif a % 5 == 0:\n",
        "        a -= 2\n",
        "    elif a % 7 == 0:\n",
        "        a %= 15\n",
        "        a += 1\n",
        "    else:\n",
        "        break\n",
        "\n",
        "print(a)"
      ]
    },
    {
      "cell_type": "markdown",
      "metadata": {
        "id": "QSmFKIOlIJQr"
      },
      "source": [
        "### For"
      ]
    },
    {
      "cell_type": "markdown",
      "metadata": {},
      "source": [
        "Перед нами стоит задача: напечатать все числа от 0 до 5. Мы можем ее решить вот так:"
      ]
    },
    {
      "cell_type": "code",
      "execution_count": null,
      "metadata": {},
      "outputs": [],
      "source": [
        "print(1)\n",
        "print(2)\n",
        "print(3)\n",
        "print(4)\n",
        "print(5)"
      ]
    },
    {
      "cell_type": "markdown",
      "metadata": {},
      "source": [
        "Мы можем написать этот код лаконичнее и удобнее:"
      ]
    },
    {
      "cell_type": "code",
      "execution_count": null,
      "metadata": {},
      "outputs": [],
      "source": [
        "for i in range(1, 6):\n",
        "    print(i)"
      ]
    },
    {
      "cell_type": "markdown",
      "metadata": {
        "id": "hDV_zHtOIMVh"
      },
      "source": [
        "Синтаксис:\n",
        "\n",
        "```\n",
        "for i in range(0, 10):\n",
        "    <actions>\n",
        "```\n",
        "\n",
        "Что обозначает: \"для каждого i от 0 до 9 сделай что-то\". Если обобщить, то это будет как:\n",
        "\n",
        "\"Для каждого элемента сделай вот это\" (такая формулировка нам еще пригодится)\n",
        "\n",
        "Что вообще в таком случае происходит?\n",
        "\n",
        "Есть переменная **i**, в которой будет храниться значение. В каждом шаге цикла у нас **i** меняется от самого первого значения (0) до самого последнего значения (9):"
      ]
    },
    {
      "cell_type": "markdown",
      "metadata": {
        "id": "vZyRd_xCWZvJ"
      },
      "source": [
        "Обратите внимание, что само i мы можем менять:"
      ]
    },
    {
      "cell_type": "code",
      "execution_count": null,
      "metadata": {
        "colab": {
          "base_uri": "https://localhost:8080/"
        },
        "id": "EW9JTGPaWhmI",
        "outputId": "19e8a5b4-79e4-43b2-99c4-9fba1e956851"
      },
      "outputs": [],
      "source": [
        "for i in range(0, 10):\n",
        "    i += 1\n",
        "    print(i)"
      ]
    },
    {
      "cell_type": "markdown",
      "metadata": {},
      "source": [
        "<div style=\"\n",
        "    background-color: #8B0000;\n",
        "    padding: 15px;\n",
        "    border: 2px dashed #ba0606;\n",
        "    border-radius: 5px;\n",
        "    text-align: center;\n",
        "    display: flex;\n",
        "    justify-content: center;\n",
        "    align-items: center;\n",
        "    min-height: 20px;\n",
        "\">\n",
        "<span style=\"color: white; font-weight: bold;\">\n",
        "        Не стоит менять итератор цикла внутри него.\n",
        "    </span>\n",
        "</div>"
      ]
    },
    {
      "cell_type": "markdown",
      "metadata": {
        "id": "lgUYF2oMXCBZ"
      },
      "source": [
        "Давайте чуть-чуть посмотрим на range. Строго говоря это итератор (об этом мы поговорим на следующих лекциях). Он генерирует последовательность из чисел (можно соотнести с индексированием в списках и строках!)\n",
        "\n",
        "```\n",
        "range(beg, end, step) - выведи числа от числа beg до end (невключительно) с шагом step\n",
        "```"
      ]
    },
    {
      "cell_type": "code",
      "execution_count": null,
      "metadata": {
        "colab": {
          "base_uri": "https://localhost:8080/"
        },
        "id": "O9QFWOhEXbbk",
        "outputId": "3ce13ccf-cee1-4395-b5f1-a139ecb404ea"
      },
      "outputs": [],
      "source": [
        "print(list(range(0, 50, 2)))"
      ]
    },
    {
      "cell_type": "markdown",
      "metadata": {
        "id": "bwYIFbvfXgN_"
      },
      "source": [
        "А можно ли ходить не только по числам, но и как-нибудь еще? Конечно можно:"
      ]
    },
    {
      "cell_type": "code",
      "execution_count": null,
      "metadata": {
        "colab": {
          "base_uri": "https://localhost:8080/"
        },
        "id": "eus_pEeDXq0l",
        "outputId": "6536d3a5-c6cc-46f4-9e9f-b3ad079386c0"
      },
      "outputs": [],
      "source": [
        "for i in \"abcds\":\n",
        "    print(i)\n",
        "\n",
        "words = [\"Hello\", \"World\"]\n",
        "\n",
        "for i in words:\n",
        "    print(i)\n",
        "\n",
        "for i in range(len(words)):\n",
        "    print(i)"
      ]
    },
    {
      "cell_type": "markdown",
      "metadata": {},
      "source": [
        "<div style=\"\n",
        "    background-color: #44944A;\n",
        "    padding: 15px;\n",
        "    border-radius: 10px;\n",
        "    border: 1px solid #fbfbfbff;\n",
        "    text-align: center;\n",
        "    display: flex;\n",
        "    justify-content: center;\n",
        "    align-items: center;\n",
        "    min-height: 15px;\n",
        "\">\n",
        "    <span style=\"color: white; font-weight: bold;\">\n",
        "        Пройтись циклом можно по любому <strong>итерируемому</strong> объекту.\n",
        "    </span>\n",
        "</div>"
      ]
    },
    {
      "cell_type": "markdown",
      "metadata": {},
      "source": [
        "Можно пройтись циклом и по вложенным объектам:"
      ]
    },
    {
      "cell_type": "code",
      "execution_count": null,
      "metadata": {},
      "outputs": [],
      "source": [
        "for word in words:\n",
        "    for symbol in word:\n",
        "        print(symbol, end=\",\")\n",
        "    print()\n",
        "\n",
        "# Такой вариант мне не кажется особо читаемым, но так тоже можно:\n",
        "for i in range(len(words)):\n",
        "    for j in range(len(words[i])):\n",
        "        print(words[i][j], end=\",\")\n",
        "    print()"
      ]
    },
    {
      "cell_type": "markdown",
      "metadata": {},
      "source": [
        "Есть замечательные инструменты - **enumirate** и **zip**:"
      ]
    },
    {
      "cell_type": "code",
      "execution_count": null,
      "metadata": {},
      "outputs": [],
      "source": [
        "fruits = [\"apple\", \"banana\", \"cherry\"]\n",
        "for index, fruit in enumerate(fruits, start=1):\n",
        "    print(f\"Position {index}: {fruit}\")"
      ]
    },
    {
      "cell_type": "code",
      "execution_count": null,
      "metadata": {},
      "outputs": [],
      "source": [
        "names = [\"Alice\", \"Bob\", \"Charlie\"]\n",
        "ages = [25, 30, 35]\n",
        "\n",
        "for name, age in zip(names, ages):\n",
        "    print(f\"{name} is {age} years old\")\n",
        "\n",
        "print(\"-\" * 30)\n",
        "\n",
        "names = [\"Alice\", \"Bob\", \"Charlie\"]\n",
        "ages = [25]\n",
        "\n",
        "for name, age in zip(names, ages):\n",
        "    print(f\"{name} is {age} years old\")"
      ]
    },
    {
      "cell_type": "markdown",
      "metadata": {},
      "source": [
        "<div style=\"\n",
        "    background-color: #8B0000;\n",
        "    padding: 15px;\n",
        "    border: 2px dashed #ba0606;\n",
        "    border-radius: 5px;\n",
        "    text-align: center;\n",
        "    display: flex;\n",
        "    justify-content: center;\n",
        "    align-items: center;\n",
        "    min-height: 20px;\n",
        "\">\n",
        "<span style=\"color: white; font-weight: bold;\">\n",
        "        Не изменяейте объект внутри итерации, по которому происходит итерация.\n",
        "    </span>\n",
        "</div>"
      ]
    },
    {
      "cell_type": "markdown",
      "metadata": {},
      "source": [
        "### continue, break, else"
      ]
    },
    {
      "cell_type": "markdown",
      "metadata": {},
      "source": [
        "В циклах можно использовать ключевые слова:\n",
        "\n",
        "- **continue** - перейти на следующую итерацию цикла;\n",
        "- **break** - завершить цикл;\n",
        "- **else** - если цикл не прервался на break, то выполняется блок else."
      ]
    },
    {
      "cell_type": "code",
      "execution_count": null,
      "metadata": {},
      "outputs": [],
      "source": [
        "for i in range(10):\n",
        "    if i == 5:\n",
        "        break\n",
        "    print(i)"
      ]
    },
    {
      "cell_type": "code",
      "execution_count": null,
      "metadata": {},
      "outputs": [],
      "source": [
        "bad = [13, 5, 10]\n",
        "errors = 0\n",
        "\n",
        "n = 17\n",
        "while n > 1:\n",
        "    print(n, end=\", \")\n",
        "    n = n // 2 if n % 2 == 0 else n * 3 + 1\n",
        "\n",
        "    if n in bad:\n",
        "        print(\"ERROR\", end=\"! \")\n",
        "        errors += 1\n",
        "        if errors == len(bad):\n",
        "            print(\"FATAL ERROR - BREAK\")\n",
        "            break"
      ]
    },
    {
      "cell_type": "code",
      "execution_count": null,
      "metadata": {},
      "outputs": [],
      "source": [
        "for i in range(10):\n",
        "    if i % 2 == 0:\n",
        "        continue\n",
        "    print(i)"
      ]
    },
    {
      "cell_type": "code",
      "execution_count": null,
      "metadata": {},
      "outputs": [],
      "source": [
        "data = [1, 2, 3, 4, 5, 6, 7]\n",
        "\n",
        "while data:\n",
        "    value = data.pop()\n",
        "    if 2 <= len(data) <= 4:\n",
        "        continue\n",
        "    print(value, end=\", \")"
      ]
    },
    {
      "cell_type": "code",
      "execution_count": null,
      "metadata": {},
      "outputs": [],
      "source": [
        "for i in range(5):\n",
        "    print(i)\n",
        "else:\n",
        "    print(\"Цикл завершен без прерывания\")\n",
        "\n",
        "numbers = [1, 2, 3]\n",
        "for num in numbers:\n",
        "    if num == 6:\n",
        "        print(\"Найдено\")\n",
        "        break\n",
        "else:\n",
        "    print(\"Не найдено\")"
      ]
    },
    {
      "cell_type": "code",
      "execution_count": null,
      "metadata": {},
      "outputs": [],
      "source": [
        "vault = 257\n",
        "while vault > 1:\n",
        "    vault = vault // 2 if vault % 2 == 0 else vault * 3 + 1\n",
        "    if vault == 13:\n",
        "        break\n",
        "else:\n",
        "    print(\"Vault 13 not found!\")"
      ]
    },
    {
      "cell_type": "markdown",
      "metadata": {},
      "source": [
        "### Фишки в работе с циклами"
      ]
    },
    {
      "cell_type": "markdown",
      "metadata": {},
      "source": [
        "Например, вам нужно вводить что-либо до тех пор пока что-то не произойдет:"
      ]
    },
    {
      "cell_type": "code",
      "execution_count": null,
      "metadata": {},
      "outputs": [],
      "source": [
        "while True:\n",
        "    response = input(\"Введите 'quit' для выхода: \")\n",
        "    if response == \"quit\":\n",
        "        break\n",
        "    print(f\"Вы ввели: {response}\")"
      ]
    },
    {
      "cell_type": "markdown",
      "metadata": {},
      "source": [
        "Списковые вложения (list comprehensions):"
      ]
    },
    {
      "cell_type": "code",
      "execution_count": null,
      "metadata": {},
      "outputs": [],
      "source": [
        "squares = [x**2 for x in range(10)]\n",
        "squares"
      ]
    },
    {
      "cell_type": "code",
      "execution_count": null,
      "metadata": {},
      "outputs": [],
      "source": [
        "even_squares = [x**2 for x in range(10) if x % 2 == 0]\n",
        "even_squares"
      ]
    },
    {
      "cell_type": "code",
      "execution_count": null,
      "metadata": {},
      "outputs": [],
      "source": [
        "pairs = [(x, y) for x in range(3) for y in range(3)]\n",
        "pairs"
      ]
    },
    {
      "cell_type": "markdown",
      "metadata": {
        "id": "TQ69xxImpg6l"
      },
      "source": [
        "## Работа с файлами"
      ]
    },
    {
      "cell_type": "markdown",
      "metadata": {},
      "source": [
        "А теперь давайте поработаем с файлами."
      ]
    },
    {
      "cell_type": "markdown",
      "metadata": {
        "id": "J3MTrCaYpsnt"
      },
      "source": [
        "Иногда нам необходимо работать с файлами, потому что мы не всегда все вводим с помощью input (в целом вещь понятная - данные нам могут прийти в виде какого-нибудь текстового файлика, экселя, и так далее)"
      ]
    },
    {
      "cell_type": "code",
      "execution_count": null,
      "metadata": {
        "id": "3WnZqhDQoH87"
      },
      "outputs": [],
      "source": [
        "f = open(\"example.txt\", \"w\")\n",
        "# функция open состоит из двух аргументов:\n",
        "# 1 - сам файл (используем относительный путь файла)\n",
        "# 2 - mode (или же на что открываем файл)"
      ]
    },
    {
      "cell_type": "code",
      "execution_count": null,
      "metadata": {},
      "outputs": [],
      "source": [
        "f, type(f)"
      ]
    },
    {
      "cell_type": "markdown",
      "metadata": {
        "id": "zacHBDR4rnPl"
      },
      "source": [
        "Какие есть моды?\n",
        "\n",
        "* r - читаем файл (если файла нет, выдаст ошибку)\n",
        "\n",
        "* w - записываем файл (если файла нет, то создаст, но если файл был и мы что-то запишем, то прошлое сотрется)\n",
        "\n",
        "* r+ - читаем и запимываем одновременно\n",
        "\n",
        "* a - записываем файл, добавляем в конец (не трогая предыдущее)"
      ]
    },
    {
      "cell_type": "code",
      "execution_count": null,
      "metadata": {},
      "outputs": [],
      "source": [
        "f.close()  # Всегда закрываем файл"
      ]
    },
    {
      "cell_type": "markdown",
      "metadata": {},
      "source": [
        "<div style=\"\n",
        "    background-color: #44944A;\n",
        "    padding: 15px;\n",
        "    border-radius: 10px;\n",
        "    border: 1px solid #fbfbfbff;\n",
        "    text-align: center;\n",
        "    display: flex;\n",
        "    justify-content: center;\n",
        "    align-items: center;\n",
        "    min-height: 15px;\n",
        "\">\n",
        "    <span style=\"color: white; font-weight: bold;\">\n",
        "        Вы можете писать терминальные команды в ячейках тетрадки, используя символ %\n",
        "    </span>\n",
        "</div>"
      ]
    },
    {
      "cell_type": "code",
      "execution_count": null,
      "metadata": {},
      "outputs": [],
      "source": [
        "%rm example.txt # удаляем файл"
      ]
    },
    {
      "cell_type": "markdown",
      "metadata": {
        "id": "ZPNZ51DBx19i"
      },
      "source": [
        "### Запись"
      ]
    },
    {
      "cell_type": "code",
      "execution_count": null,
      "metadata": {},
      "outputs": [],
      "source": [
        "help(f.write)"
      ]
    },
    {
      "cell_type": "code",
      "execution_count": null,
      "metadata": {},
      "outputs": [],
      "source": [
        "file = open(\"example.txt\", \"w\", encoding=\"utf-8\")\n",
        "file.write(\"Привет, мир!\\n\")\n",
        "file.write(\"Это пример работы с файлами в Python.\\n\")\n",
        "file.write(\"Строка 3\\nСтрока 4\\nСтрока 5\")\n",
        "file.close()"
      ]
    },
    {
      "cell_type": "markdown",
      "metadata": {},
      "source": [
        "Ниже пример скрипта (это не к питону, а конкретно к работе с операционной системой), который можно запустить в терминале или в ячейке .ipynb. **man** - утилита документации, чтобы вы могли подробно почитать про остальные утилиты."
      ]
    },
    {
      "cell_type": "code",
      "execution_count": null,
      "metadata": {},
      "outputs": [],
      "source": [
        "%man cat"
      ]
    },
    {
      "cell_type": "code",
      "execution_count": null,
      "metadata": {},
      "outputs": [],
      "source": [
        "%cat example.txt "
      ]
    },
    {
      "cell_type": "markdown",
      "metadata": {
        "id": "rJ_hsiaVxzpe"
      },
      "source": [
        "### Чтение"
      ]
    },
    {
      "cell_type": "markdown",
      "metadata": {},
      "source": [
        "Читаем при помощи метода **read** у объекта файла."
      ]
    },
    {
      "cell_type": "code",
      "execution_count": null,
      "metadata": {},
      "outputs": [],
      "source": [
        "help(f.read)"
      ]
    },
    {
      "cell_type": "markdown",
      "metadata": {},
      "source": [
        "Давайте теперь прочитаем созданный файл:"
      ]
    },
    {
      "cell_type": "code",
      "execution_count": null,
      "metadata": {
        "colab": {
          "base_uri": "https://localhost:8080/",
          "height": 71
        },
        "id": "ztiF8fEDtHuU",
        "outputId": "d719825a-7ae4-409e-ce05-b847cb519c60"
      },
      "outputs": [],
      "source": [
        "file = open(\"example.txt\", \"r\", encoding=\"utf-8\")\n",
        "content = file.read()\n",
        "file.close()\n",
        "print(content)"
      ]
    },
    {
      "cell_type": "markdown",
      "metadata": {},
      "source": [
        "Файлы бывают очень большого размера и не всегда помещаются в память целиком, поэтому важно уметь читать и обрабатывать файлы построчно:"
      ]
    },
    {
      "cell_type": "code",
      "execution_count": null,
      "metadata": {},
      "outputs": [],
      "source": [
        "file = open(\"example.txt\", \"r\", encoding=\"utf-8\")\n",
        "\n",
        "for i, line in enumerate(file, 1):\n",
        "    print(f\"Строка {i}: {line.strip()}\")\n",
        "\n",
        "file.close()"
      ]
    },
    {
      "cell_type": "code",
      "execution_count": null,
      "metadata": {},
      "outputs": [],
      "source": [
        "file = open(\"example.txt\", \"r\", encoding=\"utf-8\")\n",
        "lines = file.readlines()\n",
        "file.close()\n",
        "\n",
        "print(lines)\n",
        "\n",
        "print(\"\\nОбработанные строки:\")\n",
        "for line in lines:\n",
        "    print(f\"→ {line.strip()}\")"
      ]
    },
    {
      "cell_type": "markdown",
      "metadata": {},
      "source": [
        "Попробуем изменить Python на Python 3 в файле:"
      ]
    },
    {
      "cell_type": "code",
      "execution_count": null,
      "metadata": {},
      "outputs": [],
      "source": [
        "file = open(\"example.txt\", \"r\", encoding=\"utf-8\")\n",
        "content = file.read()\n",
        "file.close()\n",
        "\n",
        "new_content = content.replace(\"Python\", \"Python 3\")\n",
        "\n",
        "file = open(\"example.txt\", \"w\", encoding=\"utf-8\")\n",
        "file.write(new_content)\n",
        "file.close()\n",
        "\n",
        "file = open(\"example.txt\", \"r\", encoding=\"utf-8\")\n",
        "print(file.read())\n",
        "file.close()"
      ]
    },
    {
      "cell_type": "markdown",
      "metadata": {
        "id": "zchshKIu80iD"
      },
      "source": [
        "### Почему нам нужно закрывать файлы после того как что-то написали?"
      ]
    },
    {
      "cell_type": "markdown",
      "metadata": {
        "id": "Yw3DFnxj0MYZ"
      },
      "source": [
        "Рассмотрим такой пример где мы пытаемся прочитать из файла до его закрытия:"
      ]
    },
    {
      "cell_type": "code",
      "execution_count": null,
      "metadata": {
        "colab": {
          "base_uri": "https://localhost:8080/"
        },
        "id": "fRGX_zsZ86AM",
        "outputId": "eb56cc1b-03d4-4312-bec3-c2ea092c0dce"
      },
      "outputs": [],
      "source": [
        "f = open(\"file.txt\", \"w\")\n",
        "f.write(\"This is line 1\\n\")\n",
        "f.write(\"This is line 2\\n\")\n",
        "\n",
        "with open(\"file.txt\", \"r\") as read_file:\n",
        "    print(\"File content:\")\n",
        "    print(read_file.read())\n",
        "\n",
        "f.close()"
      ]
    },
    {
      "cell_type": "markdown",
      "metadata": {
        "id": "fOApV16N0P65"
      },
      "source": [
        "Этот пример хорошо показывает почему все-таки необходимо закрывать файл после того как записали в него, ну или вызывать **flush()**, чтобы пролить наши изменения в файл. Посмотрим на исправленный вариант:"
      ]
    },
    {
      "cell_type": "code",
      "execution_count": null,
      "metadata": {
        "colab": {
          "base_uri": "https://localhost:8080/"
        },
        "id": "YwK6tKsz0bHc",
        "outputId": "9991c130-9c24-4fcc-f9df-8800a15eb23d"
      },
      "outputs": [],
      "source": [
        "f = open(\"file.txt\", \"w\")\n",
        "f.write(\"This is line 1\\n\")\n",
        "f.write(\"This is line 2\\n\")\n",
        "f.flush()\n",
        "\n",
        "with open(\"file.txt\", \"r\") as read_file:\n",
        "    print(\"File content:\")\n",
        "    print(read_file.read())\n",
        "\n",
        "f.close()"
      ]
    },
    {
      "cell_type": "markdown",
      "metadata": {
        "id": "J3WZkyu4zfk3"
      },
      "source": [
        "#### Заключение"
      ]
    },
    {
      "cell_type": "markdown",
      "metadata": {
        "id": "X447WveXzhGw"
      },
      "source": [
        "Умеем читать из файла, умеем записывать в файл, умеем читать и писать! В целом достаточно"
      ]
    },
    {
      "cell_type": "markdown",
      "metadata": {
        "id": "U3mxtVtx-1hz"
      },
      "source": [
        "## Чуть-чуть про вывод данных"
      ]
    },
    {
      "cell_type": "markdown",
      "metadata": {
        "id": "-Z_J6gyP-4fP"
      },
      "source": [
        "Давайте чуть-чуть поговорим про вывод (потому что он не настолько прост, как кажется)\n",
        "\n",
        "Самый базовый вывод:"
      ]
    },
    {
      "cell_type": "code",
      "execution_count": null,
      "metadata": {
        "colab": {
          "base_uri": "https://localhost:8080/"
        },
        "id": "KYdZnmUB_G5v",
        "outputId": "dd577c56-2316-4259-dd66-81391c587fdc"
      },
      "outputs": [],
      "source": [
        "a = 5\n",
        "print(\"your number is:\", a, \", great\")"
      ]
    },
    {
      "cell_type": "markdown",
      "metadata": {
        "id": "v6tO00TP_Vyf"
      },
      "source": [
        "Отлично, давайте попробуем вот так:"
      ]
    },
    {
      "cell_type": "code",
      "execution_count": null,
      "metadata": {
        "colab": {
          "base_uri": "https://localhost:8080/"
        },
        "id": "8eqm3TWG_ZYU",
        "outputId": "d604db83-5fca-4fd4-bf0f-35f98ff60a12"
      },
      "outputs": [],
      "source": [
        "a = 5\n",
        "print(\"your number is:\", a, \", \\\\ngreat\")"
      ]
    },
    {
      "cell_type": "markdown",
      "metadata": {
        "id": "WWoz76HD_cTq"
      },
      "source": [
        "Что не так? Формально все так, перенос строки отработал, класс. А допустим, что нам нужно было вывести прям в таком формате (с переносом строки, хотим куда-нибудь это потом запихнуть), что делать?\n",
        "\n",
        "Для этого есть 4 представления строк:\n",
        "\n",
        "* r - raw строка (воспринимает строку буквально как есть)\n",
        "\n",
        "* f - format строка (форматирование строки, отдельно)\n",
        "\n",
        "* u - представление unicode (deprecated по сути, необходим для совместимости с Python 2, на данный момент не имеет смысла)\n",
        "\n",
        "* b - представление в байтах (в ситуации, если мы пытаемся прочесть данные в виде байтов, чаще всего картинки/звуки)\n",
        "\n",
        "А еще их можно сочетать"
      ]
    },
    {
      "cell_type": "code",
      "execution_count": null,
      "metadata": {
        "colab": {
          "base_uri": "https://localhost:8080/"
        },
        "id": "BCnt80GDAkCm",
        "outputId": "b2cf210d-1a6b-4a65-9611-125535b3c65b"
      },
      "outputs": [],
      "source": [
        "a = 5\n",
        "print(r\"your number is:\", a, r\", \\ngreat\")  # выводит строку буквально, как она есть"
      ]
    },
    {
      "cell_type": "markdown",
      "metadata": {
        "id": "64Ji94Q-Bz4X"
      },
      "source": [
        "Самое интересное здесь - это конечно f-строки, или же форматированные строки. Что они позволяют?\n",
        "\n",
        "В первую очередь, не писать несколько аргументов, а запихнуть их в один:"
      ]
    },
    {
      "cell_type": "code",
      "execution_count": null,
      "metadata": {
        "colab": {
          "base_uri": "https://localhost:8080/"
        },
        "id": "CbGgYoyIB82s",
        "outputId": "cda8eb04-b512-4eed-c784-24c9ab5dad7b"
      },
      "outputs": [],
      "source": [
        "print(\n",
        "    f\"your number is: {a}, great\"\n",
        ")  # в фигурных скобках указываются необходимые переменные, все достаточно просто!"
      ]
    },
    {
      "cell_type": "markdown",
      "metadata": {
        "id": "xUJroDWqCMph"
      },
      "source": [
        "На самом деле f-строки в целом способны вызывать даже кусок кода, попробуем сделать что-нибудь такое:"
      ]
    },
    {
      "cell_type": "code",
      "execution_count": null,
      "metadata": {
        "colab": {
          "base_uri": "https://localhost:8080/"
        },
        "id": "S3zO_P4ECobE",
        "outputId": "e7e5910e-709a-410b-d886-d89448ace663"
      },
      "outputs": [],
      "source": [
        "def new_value(a):\n",
        "    if a == 1:\n",
        "        return 2\n",
        "    else:\n",
        "        return 3\n",
        "\n",
        "\n",
        "print(f\"your number is: {new_value(a)}, great\")"
      ]
    },
    {
      "cell_type": "markdown",
      "metadata": {
        "id": "-KL6BBeME1Q-"
      },
      "source": [
        "Помимо этого, хорошо, что мы умеем форматировать значения:\n",
        "\n",
        "![](https://miro.medium.com/v2/resize:fit:1400/1*V4j4AFNf7PdPbB76Vbo_Yg.png)"
      ]
    },
    {
      "cell_type": "code",
      "execution_count": null,
      "metadata": {
        "colab": {
          "base_uri": "https://localhost:8080/"
        },
        "id": "AYUrNQbEE8-2",
        "outputId": "c57ad137-d8e2-4f28-9896-6bbc8ca82041"
      },
      "outputs": [],
      "source": [
        "a = 15.000005\n",
        "print(f\"your number is: {a:.4f}, great\")"
      ]
    },
    {
      "cell_type": "code",
      "execution_count": null,
      "metadata": {
        "colab": {
          "base_uri": "https://localhost:8080/"
        },
        "id": "OzLftCYwFF65",
        "outputId": "1826707e-da18-4b6b-9107-1d171ff74150"
      },
      "outputs": [],
      "source": [
        "s = \"Python\"\n",
        "print(rf\"your number is: {s:.2s}, \\ngreat\")"
      ]
    },
    {
      "cell_type": "markdown",
      "metadata": {
        "id": "XovdLNmHUTCm"
      },
      "source": [
        "Дополнительно про f-строки: [Тык](https://fstring.help/)\n",
        "\n",
        "И дополнительно, почему их стоит использовать: они быстрые!"
      ]
    },
    {
      "cell_type": "code",
      "execution_count": null,
      "metadata": {
        "colab": {
          "base_uri": "https://localhost:8080/"
        },
        "id": "EVr7FE1HDqXw",
        "outputId": "93213fbf-21ac-4352-d1c8-f609ca349ac5"
      },
      "outputs": [],
      "source": [
        "import timeit\n",
        "\n",
        "setup = \"\"\"\n",
        "integer = 42\n",
        "string = 'FORTY_TWO'\n",
        "\"\"\".strip()\n",
        "\n",
        "percent_stmt = \"'Number %s or simply %d' % (string, integer)\"\n",
        "call_stmt = \"'Number {} or simply {}'.format(string, integer)\"\n",
        "fstr_stmt = \"\"\"f'Number {string} or simply {integer}'\"\"\"\n",
        "\n",
        "\n",
        "def time(stmt):\n",
        "    return f\"{timeit.timeit(stmt, setup, number=int(1e7)):.3f}\"\n",
        "\n",
        "\n",
        "print(f\"Timing percent formating:    |  {time(percent_stmt)}\")\n",
        "print(f\"Timing call formating:       |  {time(call_stmt)}\")\n",
        "print(f\"Timing f-string formating:   |  {time(fstr_stmt)}\")"
      ]
    }
  ],
  "metadata": {
    "colab": {
      "collapsed_sections": [
        "U03YrJ_BOHaI"
      ],
      "provenance": []
    },
    "kernelspec": {
      "display_name": ".venv",
      "language": "python",
      "name": "python3"
    },
    "language_info": {
      "codemirror_mode": {
        "name": "ipython",
        "version": 3
      },
      "file_extension": ".py",
      "mimetype": "text/x-python",
      "name": "python",
      "nbconvert_exporter": "python",
      "pygments_lexer": "ipython3",
      "version": "3.13.3"
    }
  },
  "nbformat": 4,
  "nbformat_minor": 0
}
