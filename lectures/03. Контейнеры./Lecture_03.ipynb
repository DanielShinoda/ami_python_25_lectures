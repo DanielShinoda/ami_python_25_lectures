{
  "cells": [
    {
      "cell_type": "markdown",
      "metadata": {
        "id": "8y5Q2vP2l0X7"
      },
      "source": [
        "# Python-1, Лекция 3\n",
        "\n",
        "Лектор: Хайбулин Даниэль\n",
        "\n",
        "Подготовил материал: Хайбулин Даниэль"
      ]
    },
    {
      "cell_type": "markdown",
      "metadata": {
        "id": "dxa__Uzkl6D9"
      },
      "source": [
        "## Множества"
      ]
    },
    {
      "cell_type": "markdown",
      "metadata": {
        "id": "FjWXX3hfmUE-"
      },
      "source": [
        "Скорее всего вы знаете, что такое множества, исходя из математики. Множество - это набор уникальных элементов.\n",
        "\n",
        "Ну и что же в этом уникального, спросите вы? Можно же просто просто хранить список. А вот нет, тогда мы будем сильно проигрывать по времени. Давайте попробуем что-нибудь:"
      ]
    },
    {
      "cell_type": "code",
      "execution_count": null,
      "metadata": {
        "id": "rjDejp-nlvX7"
      },
      "outputs": [],
      "source": [
        "a = [i for i in range(100000)]\n",
        "b = set(a)"
      ]
    },
    {
      "cell_type": "code",
      "execution_count": null,
      "metadata": {
        "id": "crOsAtctoc_P"
      },
      "outputs": [],
      "source": [
        "%%time\n",
        "\n",
        "c = 10000\n",
        "if c not in a:\n",
        "    a.append(c)"
      ]
    },
    {
      "cell_type": "code",
      "execution_count": null,
      "metadata": {
        "id": "5wUdkU3popLs"
      },
      "outputs": [],
      "source": [
        "%%time\n",
        "\n",
        "c = 10000\n",
        "if c not in b:\n",
        "    b.add(c)"
      ]
    },
    {
      "cell_type": "markdown",
      "metadata": {
        "id": "eljiFoRyIVpr"
      },
      "source": [
        "### Операции"
      ]
    },
    {
      "cell_type": "markdown",
      "metadata": {
        "id": "MSK31w6uo_au"
      },
      "source": [
        "Опа и пожалуйста, экономия времени! Как это получается? На самом деле ответ кроется в том, как хранит элементы множество и список (список хранит просто в раличных ячейках памяти элементы, множество же занимается хешированием)\n",
        "\n",
        "А наша задача, в первую очередь, это вообще понять, как с ними работать. Итак, поехали:"
      ]
    },
    {
      "cell_type": "markdown",
      "metadata": {
        "id": "Rey23DlopqgS"
      },
      "source": [
        "* s.add(elem) - добавить элемент во множество (если элемент уже есть, то ничего не изменится)\n",
        "\n",
        "* clear() - очистить множество\n",
        "\n",
        "* copy() - скопировать множество\n",
        "\n",
        "* s.discard(elem) / s.remove(elem) / s.pop() - разные методы удаления (первое - не ругнется, если попробовать убрать элемент не из множества, второй - ругнется, третий - просто вытаскивает рандомный элемент и возвращает его)\n",
        "\n",
        "* difference / difference_update() / - - разность\n",
        "\n",
        "* union() / | - объединение множеств\n",
        "\n",
        "* intersection() / & - пересечение множеств\n",
        "\n",
        "* issubset() / isdisjoint() / issuperset() - проверка на подмножество, наличие пересечений и проверка на супермножество (один находится в другом)\n",
        "\n",
        "* symmetric_difference / ^ - симметричная разность\n",
        "\n",
        "* len(s) - узнать число элементов во множестве\n",
        "\n",
        "* ==, <=, >= - проверки на равенство (поэлементно), является ли одно множество под(над)множеством другого\n",
        "\n",
        "Как можно заметить, можно использовать и операторы)"
      ]
    },
    {
      "cell_type": "markdown",
      "metadata": {
        "id": "Vy29pQMB-gCw"
      },
      "source": [
        "![](https://i.pinimg.com/originals/d3/59/3a/d3593ae3a7dbdccf9513d3aa5b608230.png)"
      ]
    },
    {
      "cell_type": "code",
      "execution_count": null,
      "metadata": {
        "id": "5j_PPmBLsyRM"
      },
      "outputs": [],
      "source": [
        "a = {1, 2, 3, 5}\n",
        "b = {4, 5, 6}\n",
        "\n",
        "print(a.union(b), a | b)\n",
        "print(a.intersection(b), a & b)\n",
        "print(a.difference(b), a - b)\n",
        "print(a.symmetric_difference(b), a ^ b)"
      ]
    },
    {
      "cell_type": "markdown",
      "metadata": {
        "id": "cnnmDYxPtEiI"
      },
      "source": [
        "Есть такая штука, как difference_update. Как думаете, в чем разница?"
      ]
    },
    {
      "cell_type": "code",
      "execution_count": null,
      "metadata": {
        "id": "cAd-BBm2tKPj"
      },
      "outputs": [],
      "source": [
        "print(a.difference(b), a)\n",
        "print(a.difference_update(b), a)"
      ]
    },
    {
      "cell_type": "markdown",
      "metadata": {
        "id": "WNNvg73AINLG"
      },
      "source": [
        "Сравнение множеств:"
      ]
    },
    {
      "cell_type": "code",
      "execution_count": null,
      "metadata": {
        "id": "yaF1b-L0IM07"
      },
      "outputs": [],
      "source": [
        "a = {1, 2}\n",
        "b = {1, 2, 3}\n",
        "\n",
        "# Подмножество\n",
        "a.issubset(b)  # True\n",
        "assert a <= b  # True\n",
        "\n",
        "# Собственное подмножество\n",
        "assert a < b  # True (a является подмножеством, но не равно b)\n",
        "\n",
        "# Надмножество\n",
        "b.issuperset(a)  # True\n",
        "assert b >= a  # True\n",
        "\n",
        "# Собственное надмножество\n",
        "assert b > a  # True"
      ]
    },
    {
      "cell_type": "markdown",
      "metadata": {
        "id": "G5wQ-6eNtULD"
      },
      "source": [
        "Поиграемся с удалениями элементов:"
      ]
    },
    {
      "cell_type": "code",
      "execution_count": null,
      "metadata": {
        "id": "upsQVq4ltTuw"
      },
      "outputs": [],
      "source": [
        "a.discard(5)\n",
        "a.discard(5)\n",
        "a.remove(3)\n",
        "a.remove(3)"
      ]
    },
    {
      "cell_type": "markdown",
      "metadata": {
        "id": "OZtZ_uSDH3df"
      },
      "source": [
        "Поиск внутри множества:"
      ]
    },
    {
      "cell_type": "code",
      "execution_count": null,
      "metadata": {
        "id": "oyEhbs0FH5IE"
      },
      "outputs": [],
      "source": [
        "print(b)\n",
        "4 in b"
      ]
    },
    {
      "cell_type": "code",
      "execution_count": null,
      "metadata": {
        "id": "0ion_mKAtfuk"
      },
      "outputs": [],
      "source": [
        "while a:\n",
        "    print(a.pop())"
      ]
    },
    {
      "cell_type": "markdown",
      "metadata": {
        "id": "qn8hMPYSIYKI"
      },
      "source": [
        "### Применение"
      ]
    },
    {
      "cell_type": "code",
      "execution_count": null,
      "metadata": {
        "id": "WfVu044wI0XI"
      },
      "outputs": [],
      "source": [
        "# Самый эффективный способ удаления дубликатов\n",
        "items = [1, 2, 3, 2, 1, 4, 5]\n",
        "unique = list(set(items))\n",
        "assert unique == [1, 2, 3, 4, 5]"
      ]
    },
    {
      "cell_type": "code",
      "execution_count": null,
      "metadata": {
        "id": "sVP8EBHVI4Di"
      },
      "outputs": [],
      "source": [
        "# Быстрая фильтрация с использованием множеств\n",
        "all_items = [1, 2, 3, 4, 5, 6, 7, 8, 9]\n",
        "valid_items = {2, 4, 6, 8}\n",
        "\n",
        "filtered = [item for item in all_items if item in valid_items]\n",
        "assert filtered == [2, 4, 6, 8]"
      ]
    },
    {
      "cell_type": "code",
      "execution_count": null,
      "metadata": {
        "id": "qMd3x7iSI_ex"
      },
      "outputs": [],
      "source": [
        "# Эффективный поиск общих элементов в нескольких коллекциях\n",
        "list1 = [1, 2, 3, 4, 5]\n",
        "list2 = [4, 5, 6, 7, 8]\n",
        "list3 = [5, 6, 7, 8, 9]\n",
        "\n",
        "common = set(list1) & set(list2) & set(list3)\n",
        "assert common == {5}"
      ]
    },
    {
      "cell_type": "code",
      "execution_count": null,
      "metadata": {
        "id": "VpiTMWQMJJha"
      },
      "outputs": [],
      "source": [
        "import random\n",
        "\n",
        "# Создаем список со множеством дубликатов\n",
        "data = [random.randint(0, 100) for _ in range(1000)]\n",
        "\n",
        "# Сравниваем подходы\n",
        "%timeit list(set(data))              # Самый быстрый\n",
        "%timeit list(dict.fromkeys(data))    # Сохраняет порядок, но медленнее\n",
        "%timeit sorted(set(data), key=data.index)  # Сохраняет порядок, очень медленно"
      ]
    },
    {
      "cell_type": "code",
      "execution_count": null,
      "metadata": {
        "id": "Ws4GpG_gJfkp"
      },
      "outputs": [],
      "source": [
        "# Пустое множество ложно в булевом контексте\n",
        "s = set()\n",
        "if not s:\n",
        "    print(\"Множество пустое\")\n",
        "\n",
        "# Непустое множество истинно\n",
        "s = {1, 2, 3}\n",
        "if s:\n",
        "    print(\"Множество не пустое\")"
      ]
    },
    {
      "cell_type": "code",
      "execution_count": null,
      "metadata": {
        "id": "CRizF39TMrXm"
      },
      "outputs": [],
      "source": [
        "# Аналогично списковым включениям\n",
        "squares = {x**2 for x in range(10)}\n",
        "assert squares == {0, 1, 4, 9, 16, 25, 36, 49, 64, 81}\n",
        "\n",
        "# С условием\n",
        "even_squares = {x**2 for x in range(10) if x % 2 == 0}\n",
        "assert even_squares == {0, 4, 16, 36, 64}"
      ]
    },
    {
      "cell_type": "markdown",
      "metadata": {
        "id": "7A3c4JOa0ozK"
      },
      "source": [
        "### Set Comprehensions"
      ]
    },
    {
      "cell_type": "markdown",
      "metadata": {
        "id": "kWs3paBR13BF"
      },
      "source": [
        "Например, хотим положить в множество все символы, в названии которых присутствует SIGN. Можно сделать это не очень красивым способом:"
      ]
    },
    {
      "cell_type": "code",
      "execution_count": null,
      "metadata": {
        "id": "HCmbr1aa1i16"
      },
      "outputs": [],
      "source": [
        "from unicodedata import name\n",
        "\n",
        "s = set()\n",
        "\n",
        "for i in range(32, 256):\n",
        "    if \"SIGN\" in name(chr(i), \"\"):\n",
        "        s.add(chr(i))\n",
        "s"
      ]
    },
    {
      "cell_type": "markdown",
      "metadata": {
        "id": "60TOJBUS2A9h"
      },
      "source": [
        "Однако, в питоне принято конструировать объекты с использованием comprehensions:"
      ]
    },
    {
      "cell_type": "code",
      "execution_count": null,
      "metadata": {
        "id": "YvrY8HhS1TVR"
      },
      "outputs": [],
      "source": [
        "from unicodedata import name\n",
        "\n",
        "sd = {chr(i) for i in range(32, 256) if \"SIGN\" in name(chr(i), \"\")}\n",
        "sd"
      ]
    },
    {
      "cell_type": "markdown",
      "metadata": {
        "id": "q_Qjwr5O2IY2"
      },
      "source": [
        "Конечно, поначалу такой способ может показаться сложнее и неудобочитаемым, но со временем раскрывается его красота и удобство. Рекомендую сразу стараться писать таким образом."
      ]
    },
    {
      "cell_type": "markdown",
      "metadata": {
        "id": "YzvAkN7_0vfs"
      },
      "source": [
        "### Хешируемость"
      ]
    },
    {
      "cell_type": "code",
      "execution_count": null,
      "metadata": {
        "id": "0uI-W9YqtjnX"
      },
      "outputs": [],
      "source": [
        "a.add([15, 20])"
      ]
    },
    {
      "cell_type": "markdown",
      "metadata": {
        "id": "0gZegHentq-y"
      },
      "source": [
        "Тут мы сталкиваемся с той проблемой, что есть хешируемые и нехешируемые объекты. Что же такое хешируемый объект? Это объект, от которого можно взять хеш - тут можно сказать, что объект должен быть неизменяемым, чтобы хеш-функция всегда выдавала одно значение. Кроме этого объект обязательно должен быть сравнимым - этот аспект подробнее рассмотрите на курсе алгоритмов и структур данных когда будете разбирать внутреннее устройство хеш-таблицы.\n",
        "\n",
        "Ну хорошо, как же тогда быть? Использовать хешируемые объекты, например: кортеж, frozenset."
      ]
    },
    {
      "cell_type": "markdown",
      "metadata": {
        "id": "vXw8nuWQsMTS"
      },
      "source": [
        "От кортежа можно получить хеш, соответственно он может быть ключом в множестве:"
      ]
    },
    {
      "cell_type": "code",
      "execution_count": null,
      "metadata": {
        "id": "Jbi1kzQZsGQn"
      },
      "outputs": [],
      "source": [
        "t = (1, 2, (3, 4))\n",
        "hash(t)"
      ]
    },
    {
      "cell_type": "markdown",
      "metadata": {
        "id": "4si_MSk_s3cN"
      },
      "source": [
        "Но тут нужно быть внимательными, например:"
      ]
    },
    {
      "cell_type": "code",
      "execution_count": null,
      "metadata": {
        "id": "fLrtNU0cs6SN"
      },
      "outputs": [],
      "source": [
        "t = (1, 2, [3, 4])\n",
        "hash(t)"
      ]
    },
    {
      "cell_type": "markdown",
      "metadata": {
        "id": "B-hu9HYws_og"
      },
      "source": [
        "Почему так? Потому что список - изменяемый объект внутри кортежа.\n",
        "\n",
        "Важно понимать, что хеш-функция - некоторое сочетание хешей вложенных объектов. То есть, чтобы получить хеш от кортежа нужно получить хеш от всего, что в него вложено. Тут то и возникает проблема с тем, что мы не можем получить хеш у списка, так как это изменяемый объект, или, корректнее говоря, у списка отсутствует метод __hash__."
      ]
    },
    {
      "cell_type": "code",
      "execution_count": null,
      "metadata": {
        "id": "CpLkx6M2uQjB"
      },
      "outputs": [],
      "source": [
        "a.add((15, 20))\n",
        "a"
      ]
    },
    {
      "cell_type": "code",
      "execution_count": null,
      "metadata": {
        "id": "tzUwCA6Qr-Oo"
      },
      "outputs": [],
      "source": [
        "a.add(frozenset({15, 20}))\n",
        "a"
      ]
    },
    {
      "cell_type": "markdown",
      "metadata": {
        "id": "7QPRi5H5tiBG"
      },
      "source": [
        "А вот если положить список в замороженное множество, то можем спокойно брать хеш."
      ]
    },
    {
      "cell_type": "code",
      "execution_count": null,
      "metadata": {
        "id": "gJcuCuu4td_S"
      },
      "outputs": [],
      "source": [
        "t = (1, 2, frozenset([3, 4]))\n",
        "hash(t)"
      ]
    },
    {
      "cell_type": "markdown",
      "metadata": {
        "id": "okB-mLro0zIj"
      },
      "source": [
        "### Оптимизации"
      ]
    },
    {
      "cell_type": "markdown",
      "metadata": {
        "id": "kf7fzfs6M8AF"
      },
      "source": [
        "Давайте еще посмотрим на то в чем разница между различными способами инициализации множества:"
      ]
    },
    {
      "cell_type": "code",
      "execution_count": null,
      "metadata": {
        "id": "rmhMA8mANAyJ"
      },
      "outputs": [],
      "source": [
        "from dis import dis\n",
        "\n",
        "dis(\"{1}\")"
      ]
    },
    {
      "cell_type": "code",
      "execution_count": null,
      "metadata": {
        "id": "JHecbcJUNEwT"
      },
      "outputs": [],
      "source": [
        "from dis import dis\n",
        "\n",
        "dis(\"set({1})\")"
      ]
    },
    {
      "cell_type": "markdown",
      "metadata": {
        "id": "JJw5ldgTNG74"
      },
      "source": [
        "Отсюда видно, что лучше всегда создавать множество без приписки set(), чтобы не тратить время на лишние четыре действия."
      ]
    },
    {
      "cell_type": "markdown",
      "metadata": {
        "id": "8Om1iSgAl76q"
      },
      "source": [
        "## Словари"
      ]
    },
    {
      "cell_type": "markdown",
      "metadata": {
        "id": "dmZ2fzklC_-V"
      },
      "source": [
        "### Создание"
      ]
    },
    {
      "cell_type": "markdown",
      "metadata": {
        "id": "j0qa_qhjl9Mb"
      },
      "source": [
        "Ну хорошо, у нас есть множества, давайте пойдем чуть дальше. Допустим, что мы хотим иметь не просто множество, а еще уметь и считать, сколько раз тот или иной элемент встретился!\n",
        "\n",
        "Можно ответить про Counter, конечно, но про это мы позже поговорим тоже, а сейчас давайте про уже встроенные методы. То есть что бы нам хотелось? Хранить некоторую пару \"key\" - \"value\" (в нашем случае сколько раз встретилось)\n",
        "\n",
        "Вот для этого и подходят словари! (почему словарь - аналогия с переводом)\n",
        "Давайте создавать!"
      ]
    },
    {
      "cell_type": "code",
      "execution_count": null,
      "metadata": {
        "id": "DnI9IM0eDNZS"
      },
      "outputs": [],
      "source": [
        "a = dict(one=1, two=2, three=3)\n",
        "b = {\"one\": 1, \"two\": 2, \"three\": 3}\n",
        "c = dict(zip([\"one\", \"two\", \"three\"], [1, 2, 3]))\n",
        "d = dict([(\"two\", 2), (\"one\", 1), (\"three\", 3)])\n",
        "e = dict({\"three\": 3, \"one\": 1, \"two\": 2})\n",
        "print(c)\n",
        "a == b == c == d == e"
      ]
    },
    {
      "cell_type": "markdown",
      "metadata": {
        "id": "SzI0QZJBwNN9"
      },
      "source": [
        "Рассмотрим подробнее создание с использованием функции zip:"
      ]
    },
    {
      "cell_type": "code",
      "execution_count": null,
      "metadata": {
        "id": "99RF6Ss_wQlV"
      },
      "outputs": [],
      "source": [
        "c = dict(zip([\"one\", \"two\", \"three\"], [1, 2, 3]))\n",
        "c"
      ]
    },
    {
      "cell_type": "markdown",
      "metadata": {
        "id": "D47hNyS0wTQM"
      },
      "source": [
        "zip попарно соединяет два итерируемых объекта (про это будем говорить на другой лекции)."
      ]
    },
    {
      "cell_type": "code",
      "execution_count": null,
      "metadata": {
        "id": "IUfjby1-woqT"
      },
      "outputs": [],
      "source": [
        "type(zip([\"one\", \"two\", \"three\"], [1, 2, 3]))"
      ]
    },
    {
      "cell_type": "code",
      "execution_count": null,
      "metadata": {
        "id": "DZwlcJ92wcJW"
      },
      "outputs": [],
      "source": [
        "list(zip([\"one\", \"two\", \"three\"], [1, 2, 3])) == [(\"one\", 1), (\"two\", 2), (\"three\", 3)]"
      ]
    },
    {
      "cell_type": "markdown",
      "metadata": {
        "id": "C1rF5MKuDB-W"
      },
      "source": [
        "### Хешируемые ключи"
      ]
    },
    {
      "cell_type": "markdown",
      "metadata": {
        "id": "UM-Wl330Cvn4"
      },
      "source": [
        "Еще раз про хешируемость, но теперь в словарях:"
      ]
    },
    {
      "cell_type": "code",
      "execution_count": null,
      "metadata": {
        "collapsed": true,
        "id": "s4paPybcCxi0"
      },
      "outputs": [],
      "source": [
        "# Хешируемые ключи\n",
        "d = {\n",
        "    1: \"int\",\n",
        "    \"a\": \"str\",\n",
        "    (1, 2): \"tuple\",  # Только если элементы кортежа хешируемы\n",
        "    frozenset([1, 2]): \"frozenset\",\n",
        "    None: None,\n",
        "}"
      ]
    },
    {
      "cell_type": "code",
      "execution_count": null,
      "metadata": {},
      "outputs": [],
      "source": [
        "# Нехешируемые ключи (вызовут TypeError)\n",
        "d = {\n",
        "    [1, 2]: \"list\",  # Ошибка!\n",
        "    {1, 2}: \"set\",  # Ошибка!\n",
        "    {\"a\": 1}: \"dict\",  # Ошибка!\n",
        "}"
      ]
    },
    {
      "cell_type": "markdown",
      "metadata": {
        "id": "qvN7K1LuDGAN"
      },
      "source": [
        "### Итерация по словарю"
      ]
    },
    {
      "cell_type": "markdown",
      "metadata": {
        "id": "T1v9kuA0DeJx"
      },
      "source": [
        "Все, что находится слева (до двоеточия) - это ключи (или же keys), все, что после - это значения (или же values)"
      ]
    },
    {
      "cell_type": "code",
      "execution_count": null,
      "metadata": {
        "id": "GveiZeqgDmbk"
      },
      "outputs": [],
      "source": [
        "print(e.keys(), e.values(), e.items())"
      ]
    },
    {
      "cell_type": "markdown",
      "metadata": {
        "id": "vC63QN_XCh2-"
      },
      "source": [
        "Итерация по словарю:"
      ]
    },
    {
      "cell_type": "code",
      "execution_count": null,
      "metadata": {
        "id": "y3cLnkEPCi9b"
      },
      "outputs": [],
      "source": [
        "# По умолчанию итерация идет по ключам\n",
        "for key in d:\n",
        "    print(key, d[key])\n",
        "\n",
        "# Явное указание\n",
        "for key in d.keys():\n",
        "    print(key)\n",
        "\n",
        "for value in d.values():\n",
        "    print(value)\n",
        "\n",
        "for key, value in d.items():  # Самый эффективный способ\n",
        "    print(key, value)"
      ]
    },
    {
      "cell_type": "markdown",
      "metadata": {
        "id": "OMavET8qDKR8"
      },
      "source": [
        "### Функциональность"
      ]
    },
    {
      "cell_type": "markdown",
      "metadata": {
        "id": "qXD2B436LE38"
      },
      "source": [
        "Как обращаться по ключу? Абсолютно точно также, как и в списке (можно считать, будто это индексы):"
      ]
    },
    {
      "cell_type": "code",
      "execution_count": null,
      "metadata": {
        "id": "cFTSDgjwLMZ3"
      },
      "outputs": [],
      "source": [
        "e[\"one\"]"
      ]
    },
    {
      "cell_type": "markdown",
      "metadata": {
        "id": "hEShj_o2LP0b"
      },
      "source": [
        "Но потом мы попробовали вот так:"
      ]
    },
    {
      "cell_type": "code",
      "execution_count": null,
      "metadata": {
        "id": "k1W5X1fCLRw8"
      },
      "outputs": [],
      "source": [
        "e[\"four\"]"
      ]
    },
    {
      "cell_type": "markdown",
      "metadata": {
        "id": "BwawQG1nLTIw"
      },
      "source": [
        "И получили ошибку, что же делать? Для этого есть более \"безопасный\" вариант: get()"
      ]
    },
    {
      "cell_type": "code",
      "execution_count": null,
      "metadata": {
        "id": "jYNw4kt5LZWu"
      },
      "outputs": [],
      "source": [
        "print(e.get(\"four\"))\n",
        "print(e.get(\"four\", 5))"
      ]
    },
    {
      "cell_type": "markdown",
      "metadata": {
        "id": "H4jgBDeoLsAT"
      },
      "source": [
        "Что может быть в качестве значения? На самом деле что угодно!\n",
        "\n",
        "Что может быть в качестве ключей? Только хешируемые объекты."
      ]
    },
    {
      "cell_type": "code",
      "execution_count": null,
      "metadata": {
        "id": "eNUFhYv1LxxI"
      },
      "outputs": [],
      "source": [
        "a = {\"abc\": set([1, 2, 3])}\n",
        "a"
      ]
    },
    {
      "cell_type": "markdown",
      "metadata": {
        "id": "NHUllYNKL54z"
      },
      "source": [
        "Ну хорошо, создавать от руки мы умеем. А как теперь добавлять/удалять и так далее, что мы вообще можем делать со словарем?\n",
        "\n"
      ]
    },
    {
      "cell_type": "code",
      "execution_count": null,
      "metadata": {
        "id": "YcxE52x5MRQX"
      },
      "outputs": [],
      "source": [
        "e[\"four\"] = 100\n",
        "e[\"one\"] += 1\n",
        "print(e)"
      ]
    },
    {
      "cell_type": "markdown",
      "metadata": {
        "id": "0WLRBamyRCI6"
      },
      "source": [
        "* e.pop(elem) - удалить ключ и вернуть по нему значение\n",
        "\n",
        "* e.popitem() - удали рандомный элемент и верни ключ-значение удаленного\n",
        "\n",
        "* e.clear() - очистить словарь\n",
        "\n",
        "* len(e) - число элементов\n",
        "\n",
        "* e.setdefault(key, value) - поставь значение по ключу, если его нет, то поставь value"
      ]
    },
    {
      "cell_type": "code",
      "execution_count": null,
      "metadata": {
        "id": "UsVyTCb7RgaE"
      },
      "outputs": [],
      "source": [
        "e.pop(\"four\")\n",
        "print(e.popitem())\n",
        "print(len(e))\n",
        "print(e.setdefault(\"four\", 10000))\n",
        "print(e)"
      ]
    },
    {
      "cell_type": "markdown",
      "metadata": {
        "id": "N2lQHlQrA6_Y"
      },
      "source": [
        "Словарь можно обновлять через **update**:"
      ]
    },
    {
      "cell_type": "code",
      "execution_count": null,
      "metadata": {
        "id": "-P1ZuMNTA-ME"
      },
      "outputs": [],
      "source": [
        "e.update({\"c\": 3, \"d\": 4})  # Может принимать другой словарь\n",
        "e.update([(\"e\", 5), (\"f\", 6)])  # Или список кортежей\n",
        "\n",
        "print(e)"
      ]
    },
    {
      "cell_type": "markdown",
      "metadata": {
        "id": "ao2ckx9Nw1Np"
      },
      "source": [
        "Конечно основное применение словаря - это поиск внутри него. Для этого в питоне есть ключевое слово **in**:"
      ]
    },
    {
      "cell_type": "code",
      "execution_count": null,
      "metadata": {
        "id": "Tkq3XWVlw9B9"
      },
      "outputs": [],
      "source": [
        "\"five\" not in e"
      ]
    },
    {
      "cell_type": "code",
      "execution_count": null,
      "metadata": {
        "id": "urqoZCudxDYl"
      },
      "outputs": [],
      "source": [
        "\"one\" in e"
      ]
    },
    {
      "cell_type": "code",
      "execution_count": null,
      "metadata": {
        "id": "Di3vId6_R7vq"
      },
      "outputs": [],
      "source": [
        "e.clear()\n",
        "e"
      ]
    },
    {
      "cell_type": "markdown",
      "metadata": {
        "id": "418u9FEMDNxj"
      },
      "source": [
        "Также можно сливать словари воедино:"
      ]
    },
    {
      "cell_type": "code",
      "execution_count": null,
      "metadata": {
        "id": "Q9ioBYaODP6D"
      },
      "outputs": [],
      "source": [
        "d1 = {\"a\": 1, \"b\": 2}\n",
        "d2 = {\"b\": 3, \"c\": 4}\n",
        "\n",
        "# Новый словарь (приоритет у последнего)\n",
        "assert {**d1, **d2} == {\"a\": 1, \"b\": 3, \"c\": 4}\n",
        "\n",
        "# С дополнительными значениями\n",
        "assert {**d1, \"d\": 5, **d2} == {\"a\": 1, \"b\": 3, \"d\": 5, \"c\": 4}"
      ]
    },
    {
      "cell_type": "markdown",
      "metadata": {
        "id": "dNOPQtj_xblN"
      },
      "source": [
        "### Dict Comprehensions"
      ]
    },
    {
      "cell_type": "markdown",
      "metadata": {
        "id": "MtzBF9Nfxe0b"
      },
      "source": [
        "Вообще, в питоне есть очень удобные способы создавать объекты. Посмотрим быстренько на dict comprehensions:"
      ]
    },
    {
      "cell_type": "code",
      "execution_count": null,
      "metadata": {
        "id": "b5wNZ_9-xogZ"
      },
      "outputs": [],
      "source": [
        "capitals = [\n",
        "    (\"Russia\", \"Moscow\"),\n",
        "    (\"USA\", \"Washington\"),\n",
        "    (\"China\", \"Beijing\"),\n",
        "]\n",
        "\n",
        "d = {\n",
        "    country: capital.upper() for country, capital in capitals\n",
        "}  # это dict comprehensions\n",
        "d"
      ]
    },
    {
      "cell_type": "markdown",
      "metadata": {
        "id": "dcbO1LlKyHH3"
      },
      "source": [
        "Способ менее изящный и нерекомендуемый:"
      ]
    },
    {
      "cell_type": "code",
      "execution_count": null,
      "metadata": {
        "id": "za2E8U35yGom"
      },
      "outputs": [],
      "source": [
        "d = {}\n",
        "for country, capital in capitals:\n",
        "    d[country] = capital.upper()\n",
        "d"
      ]
    },
    {
      "cell_type": "markdown",
      "metadata": {
        "id": "co8-3vRzybFJ"
      },
      "source": [
        "Можно удобно фильтровать внутри структуры создания словаря:"
      ]
    },
    {
      "cell_type": "code",
      "execution_count": null,
      "metadata": {
        "id": "8pG3GPpByeRE"
      },
      "outputs": [],
      "source": [
        "d = {\n",
        "    country: capital.upper() for country, capital in capitals if len(capital) < 8\n",
        "}  # это dict comprehensions\n",
        "d"
      ]
    },
    {
      "cell_type": "markdown",
      "metadata": {
        "id": "EoUuNnWB5z4l"
      },
      "source": [
        "### Порядок ключей"
      ]
    },
    {
      "cell_type": "code",
      "execution_count": null,
      "metadata": {
        "id": "y--GBxSi51i_"
      },
      "outputs": [],
      "source": [
        "DIAL_CODES = [\n",
        "    (86, \"China\"),\n",
        "    (91, \"India\"),\n",
        "    (1, \"United States\"),\n",
        "    (62, \"Indonesia\"),\n",
        "    (55, \"Brazil\"),\n",
        "    (92, \"Pakistan\"),\n",
        "    (880, \"Bangladesh\"),\n",
        "    (234, \"Nigeria\"),\n",
        "    (7, \"Russia\"),\n",
        "    (81, \"Japan\"),\n",
        "]"
      ]
    },
    {
      "cell_type": "markdown",
      "metadata": {
        "id": "-C0Sfw2V6Gb_"
      },
      "source": [
        "Сперва сложим в словарь все как есть:"
      ]
    },
    {
      "cell_type": "code",
      "execution_count": null,
      "metadata": {
        "id": "f2fwE6rs57je"
      },
      "outputs": [],
      "source": [
        "d1 = dict(DIAL_CODES)\n",
        "print(\"d1:\", d1.keys())"
      ]
    },
    {
      "cell_type": "markdown",
      "metadata": {
        "id": "9T5WJeOz6Ihg"
      },
      "source": [
        "Теперь попробуем посортировать по коду:"
      ]
    },
    {
      "cell_type": "code",
      "execution_count": null,
      "metadata": {
        "id": "gNRvUmCA6FM1"
      },
      "outputs": [],
      "source": [
        "d2 = dict(sorted(DIAL_CODES))\n",
        "print(f\"d2: {d2.keys()}\")"
      ]
    },
    {
      "cell_type": "markdown",
      "metadata": {
        "id": "ZsNGPsNT6pa-"
      },
      "source": [
        "Теперь попробуем посортировать по названию страны:"
      ]
    },
    {
      "cell_type": "code",
      "execution_count": null,
      "metadata": {
        "id": "bmAtkfhj6mLK"
      },
      "outputs": [],
      "source": [
        "d3 = dict(sorted(DIAL_CODES, key=lambda x: x[1]))\n",
        "print(\"d3:\", d3.keys())"
      ]
    },
    {
      "cell_type": "code",
      "execution_count": null,
      "metadata": {
        "id": "RrO_QKC_6wU4"
      },
      "outputs": [],
      "source": [
        "assert d1 == d2 == d3"
      ]
    },
    {
      "cell_type": "markdown",
      "metadata": {
        "id": "A2emHrvm64am"
      },
      "source": [
        "При этом все эти словари считаются равными, но ключи в них лежат в различном порядке:"
      ]
    },
    {
      "cell_type": "code",
      "execution_count": null,
      "metadata": {
        "id": "LBypL0Fq65Ce"
      },
      "outputs": [],
      "source": [
        "print(\"Без упорядочивания:\")\n",
        "for k, v in d1.items():\n",
        "    print(f\"({k}, {v})\", end=\" \")\n",
        "\n",
        "print(\"\\nС сортировкой по кодам:\")\n",
        "for k, v in d2.items():\n",
        "    print(f\"({k}, {v})\", end=\" \")\n",
        "\n",
        "print(\"\\nС сортировкой по названиям стран:\")\n",
        "for k, v in d3.items():\n",
        "    print(f\"({k}, {v})\", end=\" \")"
      ]
    },
    {
      "cell_type": "markdown",
      "metadata": {
        "id": "HiC3bf-K7UMm"
      },
      "source": [
        "Какой вывод из этого можно сделать? Не стоит завязывать какую-либо логику на порядок ключей в словаре."
      ]
    }
  ],
  "metadata": {
    "colab": {
      "provenance": []
    },
    "kernelspec": {
      "display_name": ".venv",
      "language": "python",
      "name": "python3"
    },
    "language_info": {
      "codemirror_mode": {
        "name": "ipython",
        "version": 3
      },
      "file_extension": ".py",
      "mimetype": "text/x-python",
      "name": "python",
      "nbconvert_exporter": "python",
      "pygments_lexer": "ipython3",
      "version": "3.13.3"
    }
  },
  "nbformat": 4,
  "nbformat_minor": 0
}
