{
  "cells": [
    {
      "cell_type": "markdown",
      "metadata": {
        "id": "8y5Q2vP2l0X7"
      },
      "source": [
        "# Python-1, Лекция 3\n",
        "\n",
        "Лектор: Хайбулин Даниэль\n",
        "\n",
        "Подготовил материал: Хайбулин Даниэль"
      ]
    },
    {
      "cell_type": "markdown",
      "metadata": {
        "id": "dxa__Uzkl6D9"
      },
      "source": [
        "## Множества"
      ]
    },
    {
      "cell_type": "markdown",
      "metadata": {
        "id": "FjWXX3hfmUE-"
      },
      "source": [
        "Скорее всего вы знаете, что такое множества, исходя из математики. Множество - это набор уникальных элементов.\n",
        "\n",
        "Ну и что же в этом уникального, спросите вы? Можно же просто просто хранить список. А вот нет, тогда мы будем сильно проигрывать по времени. Давайте попробуем что-нибудь:"
      ]
    },
    {
      "cell_type": "code",
      "execution_count": null,
      "metadata": {
        "id": "rjDejp-nlvX7"
      },
      "outputs": [],
      "source": [
        "a = [i for i in range(100000)]\n",
        "b = set(a)"
      ]
    },
    {
      "cell_type": "code",
      "execution_count": null,
      "metadata": {
        "id": "crOsAtctoc_P"
      },
      "outputs": [],
      "source": [
        "%%time\n",
        "\n",
        "c = 1000000\n",
        "if c not in a:\n",
        "    a.append(c)"
      ]
    },
    {
      "cell_type": "code",
      "execution_count": null,
      "metadata": {
        "id": "5wUdkU3popLs"
      },
      "outputs": [],
      "source": [
        "%%time\n",
        "\n",
        "c = 1000000\n",
        "if c not in b:\n",
        "    b.add(c)"
      ]
    },
    {
      "cell_type": "markdown",
      "metadata": {},
      "source": [
        "Видим, что поиск в множестве намного быстрее чем в списке. Как это работает? На самом деле множество - хеш-таблица. Саму хеш-таблицу вы разберете на курсе алгоритмов и структур данных, а вот что такое хеш и хешируемость мы обсудим на нашем курсе."
      ]
    },
    {
      "cell_type": "markdown",
      "metadata": {
        "id": "eljiFoRyIVpr"
      },
      "source": [
        "### Операции"
      ]
    },
    {
      "cell_type": "markdown",
      "metadata": {
        "id": "MSK31w6uo_au"
      },
      "source": [
        "Методы множеств:"
      ]
    },
    {
      "cell_type": "markdown",
      "metadata": {
        "id": "Rey23DlopqgS"
      },
      "source": [
        "* `s.add(elem)` - добавить элемент во множество (если элемент уже есть, то ничего не изменится)\n",
        "\n",
        "* `clear()` - очистить множество\n",
        "\n",
        "* `copy()` - скопировать множество\n",
        "\n",
        "* `s.discard(elem)` / `s.remove(elem)` / `s.pop()` - разные методы удаления (первое - не ругнется, если попробовать убрать элемент не из множества, второй - ругнется, третий - просто вытаскивает рандомный элемент и возвращает его)\n",
        "\n",
        "* `difference` / `difference_update()` / `-` - разность\n",
        "\n",
        "* `union()` / `|` - объединение множеств\n",
        "\n",
        "* `intersection()` / `&` - пересечение множеств\n",
        "\n",
        "* `issubset()` / `isdisjoint()` / `issuperset()` - проверка на подмножество, наличие пересечений и проверка на супермножество (один находится в другом)\n",
        "\n",
        "* `symmetric_difference` / `^` - симметричная разность\n",
        "\n",
        "* `len(s)` - узнать число элементов во множестве\n",
        "\n",
        "* `==`, `<=`, `>=` - проверки на равенство (поэлементно), является ли одно множество под(над)множеством другого"
      ]
    },
    {
      "cell_type": "markdown",
      "metadata": {
        "id": "Vy29pQMB-gCw"
      },
      "source": [
        "![](https://i.pinimg.com/originals/d3/59/3a/d3593ae3a7dbdccf9513d3aa5b608230.png)"
      ]
    },
    {
      "cell_type": "code",
      "execution_count": null,
      "metadata": {
        "id": "5j_PPmBLsyRM"
      },
      "outputs": [],
      "source": [
        "a = {1, 2, 3, 5}\n",
        "b = {4, 5, 6}"
      ]
    },
    {
      "cell_type": "code",
      "execution_count": null,
      "metadata": {},
      "outputs": [],
      "source": [
        "a.union(b), a | b"
      ]
    },
    {
      "cell_type": "code",
      "execution_count": null,
      "metadata": {},
      "outputs": [],
      "source": [
        "a.intersection(b), a & b"
      ]
    },
    {
      "cell_type": "code",
      "execution_count": null,
      "metadata": {},
      "outputs": [],
      "source": [
        "a.difference(b), a - b"
      ]
    },
    {
      "cell_type": "code",
      "execution_count": null,
      "metadata": {},
      "outputs": [],
      "source": [
        "a.symmetric_difference(b), a ^ b"
      ]
    },
    {
      "cell_type": "markdown",
      "metadata": {
        "id": "cnnmDYxPtEiI"
      },
      "source": [
        "Есть такая штука, как difference_update. Как думаете, в чем разница?"
      ]
    },
    {
      "cell_type": "code",
      "execution_count": null,
      "metadata": {
        "id": "cAd-BBm2tKPj"
      },
      "outputs": [],
      "source": [
        "print(a.difference(b), a)\n",
        "print(a.difference_update(b), a)"
      ]
    },
    {
      "cell_type": "markdown",
      "metadata": {},
      "source": [
        "Дальше я часто будем использовать `assert`. Что это такое? Это проверка какого-либо условия, если условие не выполняется, то выбрасывается исключение (о них мы поговорим позже)."
      ]
    },
    {
      "cell_type": "code",
      "execution_count": null,
      "metadata": {},
      "outputs": [],
      "source": [
        "assert not []"
      ]
    },
    {
      "cell_type": "code",
      "execution_count": null,
      "metadata": {},
      "outputs": [],
      "source": [
        "assert [], \"список пуст\""
      ]
    },
    {
      "cell_type": "markdown",
      "metadata": {
        "id": "WNNvg73AINLG"
      },
      "source": [
        "Сравнение множеств:"
      ]
    },
    {
      "cell_type": "code",
      "execution_count": null,
      "metadata": {
        "id": "yaF1b-L0IM07"
      },
      "outputs": [],
      "source": [
        "a = {1, 2}\n",
        "b = {1, 2, 3}\n",
        "\n",
        "# Подмножество\n",
        "a.issubset(b)\n",
        "assert a <= b\n",
        "\n",
        "# Собственное подмножество\n",
        "assert a < b\n",
        "\n",
        "# Надмножество\n",
        "b.issuperset(a)\n",
        "assert b >= a\n",
        "\n",
        "# Собственное надмножество\n",
        "assert b > a"
      ]
    },
    {
      "cell_type": "code",
      "execution_count": null,
      "metadata": {},
      "outputs": [],
      "source": [
        "b = {1, 2}\n",
        "3 in b  # Поиск внутри множества"
      ]
    },
    {
      "cell_type": "markdown",
      "metadata": {
        "id": "G5wQ-6eNtULD"
      },
      "source": [
        "Поиграемся с удалениями элементов:"
      ]
    },
    {
      "cell_type": "code",
      "execution_count": null,
      "metadata": {
        "id": "upsQVq4ltTuw"
      },
      "outputs": [],
      "source": [
        "a = {1, 2, 3, 5}\n",
        "a.discard(5)\n",
        "assert 5 not in a\n",
        "a.discard(5)  # Не пробрасывает исключение, если элемент не найден в множестве\n",
        "a"
      ]
    },
    {
      "cell_type": "code",
      "execution_count": null,
      "metadata": {},
      "outputs": [],
      "source": [
        "a.remove(5)  # Пробрасывает исключение, если элемент не найден в множестве"
      ]
    },
    {
      "cell_type": "code",
      "execution_count": null,
      "metadata": {
        "id": "0ion_mKAtfuk"
      },
      "outputs": [],
      "source": [
        "while a:\n",
        "    print(a.pop())"
      ]
    },
    {
      "cell_type": "markdown",
      "metadata": {
        "id": "qn8hMPYSIYKI"
      },
      "source": [
        "### Применение"
      ]
    },
    {
      "cell_type": "code",
      "execution_count": null,
      "metadata": {
        "id": "WfVu044wI0XI"
      },
      "outputs": [],
      "source": [
        "# Эффективный способ удаления дубликатов\n",
        "items = [1, 2, 3, 2, 1, 4, 5]\n",
        "unique = list(set(items))\n",
        "assert unique == [1, 2, 3, 4, 5]"
      ]
    },
    {
      "cell_type": "code",
      "execution_count": null,
      "metadata": {
        "id": "sVP8EBHVI4Di"
      },
      "outputs": [],
      "source": [
        "# Быстрая фильтрация с использованием множеств\n",
        "all_items = [1, 2, 3, 4, 5, 6, 7, 8, 9]\n",
        "valid_items = {2, 4, 6, 8}\n",
        "\n",
        "filtered = [item for item in all_items if item in valid_items]\n",
        "assert filtered == [2, 4, 6, 8]"
      ]
    },
    {
      "cell_type": "code",
      "execution_count": null,
      "metadata": {
        "id": "qMd3x7iSI_ex"
      },
      "outputs": [],
      "source": [
        "# Эффективный поиск общих элементов в нескольких коллекциях\n",
        "list1 = [1, 2, 3, 4, 5]\n",
        "list2 = [4, 5, 6, 7, 8]\n",
        "list3 = [5, 6, 7, 8, 9]\n",
        "\n",
        "common = set(list1) & set(list2) & set(list3)\n",
        "assert common == {5}"
      ]
    },
    {
      "cell_type": "code",
      "execution_count": null,
      "metadata": {
        "id": "Ws4GpG_gJfkp"
      },
      "outputs": [],
      "source": [
        "# Пустое множество ложно в булевом контексте\n",
        "s = set()\n",
        "if not s:\n",
        "    print(\"Множество пустое\")\n",
        "\n",
        "# Непустое множество истинно\n",
        "s = {1, 2, 3}\n",
        "if s:\n",
        "    print(\"Множество не пустое\")"
      ]
    },
    {
      "cell_type": "markdown",
      "metadata": {
        "id": "7A3c4JOa0ozK"
      },
      "source": [
        "### Set Comprehensions"
      ]
    },
    {
      "cell_type": "markdown",
      "metadata": {
        "id": "kWs3paBR13BF"
      },
      "source": [
        "Например, хотим положить в множество все символы, в названии которых присутствует SIGN. Можно сделать это не очень красивым способом:"
      ]
    },
    {
      "cell_type": "code",
      "execution_count": null,
      "metadata": {
        "id": "HCmbr1aa1i16"
      },
      "outputs": [],
      "source": [
        "from unicodedata import name\n",
        "\n",
        "s = set()\n",
        "\n",
        "for i in range(32, 256):\n",
        "    if \"SIGN\" in name(chr(i), \"\"):\n",
        "        s.add(chr(i))\n",
        "print(*s)"
      ]
    },
    {
      "cell_type": "markdown",
      "metadata": {
        "id": "60TOJBUS2A9h"
      },
      "source": [
        "Однако, в питоне принято конструировать объекты с использованием comprehensions:"
      ]
    },
    {
      "cell_type": "code",
      "execution_count": null,
      "metadata": {
        "id": "YvrY8HhS1TVR"
      },
      "outputs": [],
      "source": [
        "from unicodedata import name\n",
        "\n",
        "sd = {chr(i) for i in range(32, 256) if \"SIGN\" in name(chr(i), \"\")}\n",
        "print(*sd)"
      ]
    },
    {
      "cell_type": "code",
      "execution_count": null,
      "metadata": {},
      "outputs": [],
      "source": [
        "squares = {x**2 for x in range(10)}\n",
        "assert squares == {0, 1, 4, 9, 16, 25, 36, 49, 64, 81}\n",
        "\n",
        "even_squares = {x**2 for x in range(10) if x % 2 == 0}\n",
        "assert even_squares == {0, 4, 16, 36, 64}"
      ]
    },
    {
      "cell_type": "markdown",
      "metadata": {
        "id": "q_Qjwr5O2IY2"
      },
      "source": [
        "Конечно, поначалу такой способ может показаться сложнее и неудобочитаемым, но со временем раскрывается его красота и удобство. Рекомендую сразу стараться писать таким образом."
      ]
    },
    {
      "cell_type": "markdown",
      "metadata": {
        "id": "YzvAkN7_0vfs"
      },
      "source": [
        "### Хешируемость"
      ]
    },
    {
      "cell_type": "code",
      "execution_count": null,
      "metadata": {
        "id": "0uI-W9YqtjnX"
      },
      "outputs": [],
      "source": [
        "a = {1}\n",
        "a.add([15, 20])"
      ]
    },
    {
      "cell_type": "markdown",
      "metadata": {},
      "source": [
        "Тут мы сталкиваемся с той проблемой, что есть **хешируемые** и **нехешируемые** объекты."
      ]
    },
    {
      "cell_type": "markdown",
      "metadata": {},
      "source": [
        "Для начала давайте поймем что такое хеш-функция.\n",
        "\n",
        "Пусть у нас есть $U$ — универсум всех возможных входных данных (ключей), $S = \\{0, 1, 2, \\ldots, m-1\\}$ — множество целочисленных хеш-значений размера $m$.\n",
        "\n",
        "Хеш-функция $h$ определяется как отображение:\n",
        "\n",
        "$h: U \\rightarrow S$"
      ]
    },
    {
      "cell_type": "markdown",
      "metadata": {
        "id": "0gZegHentq-y"
      },
      "source": [
        "Хешируемый объект - это:\n",
        "- Объект может быть передан аргументом в функцию $h$ (имеет магический метод `__hash__`), то есть можно получить **хеш** от объекта.\n",
        "- Сравним с другими объектами: имеет магический метод `__eq__` (об этом мы еще отдельно поговорим).\n",
        "- $\\forall x \\in U, h(x) = \\text{const}$\n",
        "- $\\forall x, y \\in U, x = y \\Rightarrow h(x) = h(y)$"
      ]
    },
    {
      "cell_type": "code",
      "execution_count": null,
      "metadata": {},
      "outputs": [],
      "source": [
        "hash(1), hash(2), hash(10)"
      ]
    },
    {
      "cell_type": "markdown",
      "metadata": {},
      "source": [
        "Вопрос: что будет выведено в данном случае?"
      ]
    },
    {
      "cell_type": "code",
      "execution_count": null,
      "metadata": {},
      "outputs": [],
      "source": [
        "hash(-1), hash(-2)"
      ]
    },
    {
      "cell_type": "code",
      "execution_count": null,
      "metadata": {},
      "outputs": [],
      "source": [
        "{-1, -2}"
      ]
    },
    {
      "cell_type": "code",
      "execution_count": null,
      "metadata": {},
      "outputs": [],
      "source": [
        "items = [\"apple\", 42, (1, 2), frozenset([3, 4])]\n",
        "for item in items:\n",
        "    print(f\"{item!r}: hash = {hash(item)}\")"
      ]
    },
    {
      "cell_type": "markdown",
      "metadata": {
        "id": "vXw8nuWQsMTS"
      },
      "source": [
        "От кортежа можно получить хеш, соответственно он может быть ключом в множестве:"
      ]
    },
    {
      "cell_type": "code",
      "execution_count": null,
      "metadata": {
        "id": "Jbi1kzQZsGQn"
      },
      "outputs": [],
      "source": [
        "t = (1, 2, (3, 4))\n",
        "hash(t)"
      ]
    },
    {
      "cell_type": "markdown",
      "metadata": {
        "id": "4si_MSk_s3cN"
      },
      "source": [
        "Вопрос: что произойдет в данном примере?"
      ]
    },
    {
      "cell_type": "code",
      "execution_count": null,
      "metadata": {
        "id": "fLrtNU0cs6SN"
      },
      "outputs": [],
      "source": [
        "t = (1, 2, [3, 4])\n",
        "hash(t)"
      ]
    },
    {
      "cell_type": "markdown",
      "metadata": {
        "id": "B-hu9HYws_og"
      },
      "source": [
        "Почему так? Потому что список - изменяемый объект внутри кортежа.\n",
        "\n",
        "Важно понимать, что хеш-функция объекта с вложением - некоторое сочетание результатов хеш-функции вложенных объектов. То есть, чтобы получить хеш от кортежа нужно получить хеш от всего, что в него вложено. Тут то и возникает проблема с тем, что мы не можем получить хеш у списка, так как это изменяемый объект, или, корректнее говоря, у списка отсутствует метод `__hash__`."
      ]
    },
    {
      "cell_type": "markdown",
      "metadata": {},
      "source": [
        "Честно говоря я не раздобыл какая действительно функция лежит под капотом, но пример функции ниже выглядит вполне приемлемым:\n",
        "\n",
        "Для кортежа $T = (x_1, x_2, \\ldots, x_n)$:\n",
        "$$\n",
        "h_{\\text{tuple}}(T) = \\left( c_{\\text{tuple}} + \\sum_{i=1}^{n} h(x_i) \\cdot p_i^{n-i} \\right) \\mod m\n",
        "$$\n",
        "где $c_{\\text{tuple}}$ — константа для типа \"кортеж\", $p_i$ — простые числа, $m$ - размер словаря."
      ]
    },
    {
      "cell_type": "code",
      "execution_count": null,
      "metadata": {
        "id": "CpLkx6M2uQjB"
      },
      "outputs": [],
      "source": [
        "a.add((15, 20))\n",
        "a"
      ]
    },
    {
      "cell_type": "code",
      "execution_count": null,
      "metadata": {
        "id": "tzUwCA6Qr-Oo"
      },
      "outputs": [],
      "source": [
        "a.add(frozenset({15, 20}))\n",
        "a"
      ]
    },
    {
      "cell_type": "markdown",
      "metadata": {
        "id": "7QPRi5H5tiBG"
      },
      "source": [
        "А вот если положить список в замороженное множество, то можем спокойно брать хеш."
      ]
    },
    {
      "cell_type": "code",
      "execution_count": null,
      "metadata": {
        "id": "gJcuCuu4td_S"
      },
      "outputs": [],
      "source": [
        "t = (1, 2, frozenset([3, 4]))\n",
        "hash(t)"
      ]
    },
    {
      "cell_type": "markdown",
      "metadata": {
        "id": "okB-mLro0zIj"
      },
      "source": [
        "### Оптимизации"
      ]
    },
    {
      "cell_type": "markdown",
      "metadata": {
        "id": "kf7fzfs6M8AF"
      },
      "source": [
        "Давайте еще посмотрим на то в чем разница между различными способами инициализации множества. Ниже будет представлено то, как работает питон \"под капотом\":"
      ]
    },
    {
      "cell_type": "code",
      "execution_count": null,
      "metadata": {
        "id": "rmhMA8mANAyJ"
      },
      "outputs": [],
      "source": [
        "from dis import dis\n",
        "\n",
        "dis(\"{}\")"
      ]
    },
    {
      "cell_type": "code",
      "execution_count": null,
      "metadata": {
        "id": "JHecbcJUNEwT"
      },
      "outputs": [],
      "source": [
        "from dis import dis\n",
        "\n",
        "dis(\"set({})\")"
      ]
    },
    {
      "cell_type": "markdown",
      "metadata": {
        "id": "JJw5ldgTNG74"
      },
      "source": [
        "Отсюда видно, что лучше всегда создавать множество без приписки set(), чтобы не тратить время на лишние четыре действия."
      ]
    },
    {
      "cell_type": "markdown",
      "metadata": {
        "id": "8Om1iSgAl76q"
      },
      "source": [
        "## Словари"
      ]
    },
    {
      "cell_type": "markdown",
      "metadata": {
        "id": "dmZ2fzklC_-V"
      },
      "source": [
        "### Создание"
      ]
    },
    {
      "cell_type": "markdown",
      "metadata": {
        "id": "j0qa_qhjl9Mb"
      },
      "source": [
        "Словарь (`dict`) в Python — встроенная структура данных, которая хранит коллекцию элементов в виде пар ключ-значение (key-value). \n",
        "\n",
        "Ключи выступают уникальными идентификаторами для доступа к соответствующим значениям. \n",
        "\n",
        "Словари реализованы с использованием хэш-таблиц, что обеспечивает эффективность операций добавления, удаления и поиска элементов."
      ]
    },
    {
      "cell_type": "code",
      "execution_count": null,
      "metadata": {
        "id": "DnI9IM0eDNZS"
      },
      "outputs": [],
      "source": [
        "a = dict(one=1, two=2, three=3)\n",
        "b = {\"one\": 1, \"two\": 2, \"three\": 3}\n",
        "c = dict(zip([\"one\", \"two\", \"three\"], [1, 2, 3]))\n",
        "d = dict([(\"two\", 2), (\"one\", 1), (\"three\", 3)])\n",
        "e = dict({\"three\": 3, \"one\": 1, \"two\": 2})\n",
        "a == b == c == d == e"
      ]
    },
    {
      "cell_type": "markdown",
      "metadata": {
        "id": "SzI0QZJBwNN9"
      },
      "source": [
        "Рассмотрим подробнее создание с использованием функции zip:"
      ]
    },
    {
      "cell_type": "code",
      "execution_count": null,
      "metadata": {
        "id": "99RF6Ss_wQlV"
      },
      "outputs": [],
      "source": [
        "c = dict(zip([\"one\", \"two\", \"three\"], [1, 2, 3]))\n",
        "c"
      ]
    },
    {
      "cell_type": "markdown",
      "metadata": {
        "id": "D47hNyS0wTQM"
      },
      "source": [
        "zip попарно соединяет два итерируемых объекта (про это будем говорить на другой лекции)."
      ]
    },
    {
      "cell_type": "code",
      "execution_count": null,
      "metadata": {
        "id": "IUfjby1-woqT"
      },
      "outputs": [],
      "source": [
        "type(zip([\"one\", \"two\", \"three\"], [1, 2, 3]))"
      ]
    },
    {
      "cell_type": "code",
      "execution_count": null,
      "metadata": {
        "id": "DZwlcJ92wcJW"
      },
      "outputs": [],
      "source": [
        "list(zip([\"one\", \"two\", \"three\"], [1, 2, 3])) == [(\"one\", 1), (\"two\", 2), (\"three\", 3)]"
      ]
    },
    {
      "cell_type": "markdown",
      "metadata": {
        "id": "C1rF5MKuDB-W"
      },
      "source": [
        "### Хешируемые ключи"
      ]
    },
    {
      "cell_type": "markdown",
      "metadata": {
        "id": "UM-Wl330Cvn4"
      },
      "source": [
        "Еще раз про хешируемость, но теперь в словарях:"
      ]
    },
    {
      "cell_type": "code",
      "execution_count": null,
      "metadata": {
        "collapsed": true,
        "id": "s4paPybcCxi0"
      },
      "outputs": [],
      "source": [
        "# Хешируемые ключи\n",
        "d = {\n",
        "    1: \"int\",\n",
        "    \"a\": \"str\",\n",
        "    (1, 2): \"tuple\",  # Только если элементы кортежа хешируемы\n",
        "    frozenset([1, 2]): \"frozenset\",\n",
        "    None: None,\n",
        "}"
      ]
    },
    {
      "cell_type": "markdown",
      "metadata": {},
      "source": [
        "Попытка вставить нехешируемый ключ вызывает ошибку `TypeError`."
      ]
    },
    {
      "cell_type": "code",
      "execution_count": null,
      "metadata": {},
      "outputs": [],
      "source": [
        "d = {\n",
        "    [1, 2]: \"list\",\n",
        "    {1, 2}: \"set\",\n",
        "    {\"a\": 1}: \"dict\",\n",
        "}"
      ]
    },
    {
      "cell_type": "markdown",
      "metadata": {},
      "source": [
        "<div style=\"\n",
        "    background-color: #44944A;\n",
        "    padding: 15px;\n",
        "    border-radius: 10px;\n",
        "    border: 1px solid #fbfbfbff;\n",
        "    text-align: center;\n",
        "    display: flex;\n",
        "    justify-content: center;\n",
        "    align-items: center;\n",
        "    min-height: 15px;\n",
        "\">\n",
        "    <span style=\"color: white; font-weight: bold;\">\n",
        "        Самый простой и надежный способ узнать что объект хешируемый - вызывать hash от него!\n",
        "    </span>\n",
        "</div>"
      ]
    },
    {
      "cell_type": "markdown",
      "metadata": {},
      "source": [
        "Вопрос: что будет внутри словаря?"
      ]
    },
    {
      "cell_type": "code",
      "execution_count": null,
      "metadata": {},
      "outputs": [],
      "source": [
        "{1: 1, 1.0: 1.0, True: True}"
      ]
    },
    {
      "cell_type": "markdown",
      "metadata": {
        "id": "qvN7K1LuDGAN"
      },
      "source": [
        "### Итерация по словарю"
      ]
    },
    {
      "cell_type": "markdown",
      "metadata": {
        "id": "T1v9kuA0DeJx"
      },
      "source": [
        "Все, что находится слева (до двоеточия) - это ключи (или же keys), все, что после - это значения (или же values)"
      ]
    },
    {
      "cell_type": "code",
      "execution_count": null,
      "metadata": {
        "id": "GveiZeqgDmbk"
      },
      "outputs": [],
      "source": [
        "e.keys(), e.values(), e.items()"
      ]
    },
    {
      "cell_type": "markdown",
      "metadata": {
        "id": "vC63QN_XCh2-"
      },
      "source": [
        "Итерация по словарю:"
      ]
    },
    {
      "cell_type": "code",
      "execution_count": null,
      "metadata": {},
      "outputs": [],
      "source": [
        "d"
      ]
    },
    {
      "cell_type": "code",
      "execution_count": null,
      "metadata": {},
      "outputs": [],
      "source": [
        "for key in d:\n",
        "    print(f\"{key=}, value={d[key]}\")"
      ]
    },
    {
      "cell_type": "code",
      "execution_count": null,
      "metadata": {},
      "outputs": [],
      "source": [
        "for key in d.keys():\n",
        "    print(key)"
      ]
    },
    {
      "cell_type": "code",
      "execution_count": null,
      "metadata": {},
      "outputs": [],
      "source": [
        "for value in d.values():\n",
        "    print(value)"
      ]
    },
    {
      "cell_type": "code",
      "execution_count": null,
      "metadata": {},
      "outputs": [],
      "source": [
        "for key, value in d.items():\n",
        "    print(f\"{key=}, {value=}\")"
      ]
    },
    {
      "cell_type": "markdown",
      "metadata": {
        "id": "OMavET8qDKR8"
      },
      "source": [
        "### Функциональность"
      ]
    },
    {
      "cell_type": "markdown",
      "metadata": {
        "id": "qXD2B436LE38"
      },
      "source": [
        "Так можно достать значение по ключу в словаре:"
      ]
    },
    {
      "cell_type": "code",
      "execution_count": null,
      "metadata": {
        "id": "cFTSDgjwLMZ3"
      },
      "outputs": [],
      "source": [
        "e[\"one\"]"
      ]
    },
    {
      "cell_type": "markdown",
      "metadata": {
        "id": "hEShj_o2LP0b"
      },
      "source": [
        "При этом если обратиться по ключу, который отсутствует в словаре, то мы получим ошибку `KeyError`."
      ]
    },
    {
      "cell_type": "code",
      "execution_count": null,
      "metadata": {
        "id": "k1W5X1fCLRw8"
      },
      "outputs": [],
      "source": [
        "e[\"four\"]"
      ]
    },
    {
      "cell_type": "markdown",
      "metadata": {
        "id": "BwawQG1nLTIw"
      },
      "source": [
        "И получили ошибку, что же делать? Для этого есть более безопасный вариант: `get(key, default)` - ищет значение по ключу `get`, если такого ключа нет, то возвращает `default`."
      ]
    },
    {
      "cell_type": "code",
      "execution_count": null,
      "metadata": {
        "id": "jYNw4kt5LZWu"
      },
      "outputs": [],
      "source": [
        "print(e.get(\"four\"))\n",
        "print(e.get(\"four\", 5))"
      ]
    },
    {
      "cell_type": "markdown",
      "metadata": {
        "id": "H4jgBDeoLsAT"
      },
      "source": [
        "Что может быть в качестве значения? На самом деле что угодно!\n",
        "\n",
        "Что может быть в качестве ключей? Только хешируемые объекты."
      ]
    },
    {
      "cell_type": "code",
      "execution_count": null,
      "metadata": {
        "id": "eNUFhYv1LxxI"
      },
      "outputs": [],
      "source": [
        "a = {\"abc\": set([1, 2, 3])}\n",
        "a"
      ]
    },
    {
      "cell_type": "markdown",
      "metadata": {
        "id": "NHUllYNKL54z"
      },
      "source": [
        "Ну хорошо, создавать от руки мы умеем. А как теперь добавлять/удалять и так далее, что мы вообще можем делать со словарем?\n",
        "\n"
      ]
    },
    {
      "cell_type": "code",
      "execution_count": null,
      "metadata": {
        "id": "YcxE52x5MRQX"
      },
      "outputs": [],
      "source": [
        "e[\"four\"] = 100\n",
        "e[\"one\"] += 1\n",
        "print(e)"
      ]
    },
    {
      "cell_type": "markdown",
      "metadata": {
        "id": "0WLRBamyRCI6"
      },
      "source": [
        "* `e.pop(elem)` - удалить ключ и вернуть по нему значение\n",
        "\n",
        "* `e.popitem()` - удали рандомный элемент и верни ключ-значение удаленного\n",
        "\n",
        "* `e.clear()` - очистить словарь\n",
        "\n",
        "* `len(e)` - число элементов\n",
        "\n",
        "* `e.setdefault(key, value)` - поставь значение по ключу, если его нет, то поставь `value`"
      ]
    },
    {
      "cell_type": "code",
      "execution_count": null,
      "metadata": {
        "id": "UsVyTCb7RgaE"
      },
      "outputs": [],
      "source": [
        "e.pop(\"four\")\n",
        "print(e.popitem())\n",
        "print(len(e))\n",
        "print(e.setdefault(\"four\", 10000))\n",
        "print(e)"
      ]
    },
    {
      "cell_type": "markdown",
      "metadata": {
        "id": "N2lQHlQrA6_Y"
      },
      "source": [
        "Словарь можно обновлять через **update**:"
      ]
    },
    {
      "cell_type": "code",
      "execution_count": null,
      "metadata": {
        "id": "-P1ZuMNTA-ME"
      },
      "outputs": [],
      "source": [
        "e.update({\"c\": 3, \"d\": 4})  # Может принимать другой словарь\n",
        "e.update([(\"e\", 5), (\"f\", 6)])  # Или список кортежей\n",
        "\n",
        "print(e)"
      ]
    },
    {
      "cell_type": "markdown",
      "metadata": {
        "id": "ao2ckx9Nw1Np"
      },
      "source": [
        "Поиск внутри словаря - очень важная часть применения этой структуры. Для этого в питоне есть ключевое слово `in`:"
      ]
    },
    {
      "cell_type": "code",
      "execution_count": null,
      "metadata": {
        "id": "Tkq3XWVlw9B9"
      },
      "outputs": [],
      "source": [
        "\"five\" not in e"
      ]
    },
    {
      "cell_type": "code",
      "execution_count": null,
      "metadata": {
        "id": "urqoZCudxDYl"
      },
      "outputs": [],
      "source": [
        "\"one\" in e"
      ]
    },
    {
      "cell_type": "code",
      "execution_count": null,
      "metadata": {
        "id": "Di3vId6_R7vq"
      },
      "outputs": [],
      "source": [
        "e.clear()\n",
        "e"
      ]
    },
    {
      "cell_type": "markdown",
      "metadata": {},
      "source": [
        "Распаковка словарей:"
      ]
    },
    {
      "cell_type": "code",
      "execution_count": null,
      "metadata": {},
      "outputs": [],
      "source": [
        "{\"a\": 0, **{\"x\": 1}, \"y\": 2, **{\"z\": 3, \"x\": 4}}"
      ]
    },
    {
      "cell_type": "markdown",
      "metadata": {
        "id": "418u9FEMDNxj"
      },
      "source": [
        "Также можно сливать словари воедино:"
      ]
    },
    {
      "cell_type": "code",
      "execution_count": null,
      "metadata": {
        "id": "Q9ioBYaODP6D"
      },
      "outputs": [],
      "source": [
        "d1 = {\"a\": 1, \"b\": 2}\n",
        "d2 = {\"b\": 3, \"c\": 4}\n",
        "\n",
        "# Новый словарь (приоритет у последнего)\n",
        "assert {**d1, **d2} == {\"a\": 1, \"b\": 3, \"c\": 4}\n",
        "\n",
        "# С дополнительными значениями\n",
        "assert {**d1, \"d\": 5, **d2} == {\"a\": 1, \"b\": 3, \"d\": 5, \"c\": 4}"
      ]
    },
    {
      "cell_type": "code",
      "execution_count": null,
      "metadata": {},
      "outputs": [],
      "source": [
        "d1 = {\"a\": 1, \"b\": 3}\n",
        "d2 = {\"a\": 2, \"b\": 4, \"c\": 6}\n",
        "\n",
        "d1 | d2"
      ]
    },
    {
      "cell_type": "code",
      "execution_count": null,
      "metadata": {},
      "outputs": [],
      "source": [
        "d1 |= d2\n",
        "d1"
      ]
    },
    {
      "cell_type": "markdown",
      "metadata": {
        "id": "dNOPQtj_xblN"
      },
      "source": [
        "### Dict Comprehensions"
      ]
    },
    {
      "cell_type": "markdown",
      "metadata": {
        "id": "MtzBF9Nfxe0b"
      },
      "source": [
        "Вообще, в питоне есть очень удобные способы создавать объекты. Посмотрим быстренько на dict comprehensions:"
      ]
    },
    {
      "cell_type": "code",
      "execution_count": null,
      "metadata": {
        "id": "b5wNZ_9-xogZ"
      },
      "outputs": [],
      "source": [
        "capitals = [\n",
        "    (\"Russia\", \"Moscow\"),\n",
        "    (\"USA\", \"Washington\"),\n",
        "    (\"China\", \"Beijing\"),\n",
        "]\n",
        "\n",
        "d = {\n",
        "    country: capital.upper() for country, capital in capitals\n",
        "}  # это dict comprehensions\n",
        "d"
      ]
    },
    {
      "cell_type": "markdown",
      "metadata": {
        "id": "dcbO1LlKyHH3"
      },
      "source": [
        "Способ менее изящный и нерекомендуемый:"
      ]
    },
    {
      "cell_type": "code",
      "execution_count": null,
      "metadata": {
        "id": "za2E8U35yGom"
      },
      "outputs": [],
      "source": [
        "d = {}\n",
        "for country, capital in capitals:\n",
        "    d[country] = capital.upper()\n",
        "d"
      ]
    },
    {
      "cell_type": "markdown",
      "metadata": {
        "id": "co8-3vRzybFJ"
      },
      "source": [
        "Можно удобно фильтровать внутри структуры создания словаря:"
      ]
    },
    {
      "cell_type": "code",
      "execution_count": null,
      "metadata": {
        "id": "8pG3GPpByeRE"
      },
      "outputs": [],
      "source": [
        "d = {\n",
        "    country: capital.upper() for country, capital in capitals if len(capital) < 8\n",
        "}  # это dict comprehensions\n",
        "d"
      ]
    },
    {
      "cell_type": "markdown",
      "metadata": {},
      "source": [
        "Паттерн матчинг со словарями:"
      ]
    },
    {
      "cell_type": "code",
      "execution_count": null,
      "metadata": {},
      "outputs": [],
      "source": [
        "food = {\"категория\": \"мороженое\", \"вкус\": \"ванильное\", \"цена\": \"110р\"}\n",
        "\n",
        "match food:\n",
        "    case {\"категория\": \"мороженое\", **details}:\n",
        "        print(f\"Характеристики мороженого: {details}\")"
      ]
    },
    {
      "cell_type": "markdown",
      "metadata": {},
      "source": [
        "Помните, мы говорили про `memoryview` на первой лекции? Вот у словарей тоже есть `view`:"
      ]
    },
    {
      "cell_type": "code",
      "execution_count": null,
      "metadata": {},
      "outputs": [],
      "source": [
        "d = dict(a=1, b=2, c=3)"
      ]
    },
    {
      "cell_type": "code",
      "execution_count": null,
      "metadata": {},
      "outputs": [],
      "source": [
        "values = d.values()\n",
        "values, type(values)"
      ]
    },
    {
      "cell_type": "markdown",
      "metadata": {},
      "source": [
        "Имеем тип `dict_values` - это и есть view на значения в словаре. Что мы можем с этим делать? Выше мы уже использовали это как способ перебрать содержимое словаря циклом. Давайте посмотрим еще."
      ]
    },
    {
      "cell_type": "code",
      "execution_count": null,
      "metadata": {},
      "outputs": [],
      "source": [
        "len(values), list(values)"
      ]
    },
    {
      "cell_type": "markdown",
      "metadata": {},
      "source": [
        "Однако, мы не можем индексироваться по значениям в словаре:"
      ]
    },
    {
      "cell_type": "code",
      "execution_count": null,
      "metadata": {},
      "outputs": [],
      "source": [
        "values[0]"
      ]
    },
    {
      "cell_type": "markdown",
      "metadata": {},
      "source": [
        "А что произойдет с этим объектом, если мы изменим сам словарь?"
      ]
    },
    {
      "cell_type": "code",
      "execution_count": null,
      "metadata": {},
      "outputs": [],
      "source": [
        "d[\"d\"] = 4\n",
        "values"
      ]
    },
    {
      "cell_type": "markdown",
      "metadata": {},
      "source": [
        "Зачем нам вообще этот тип нужен? На самом деле, эти объекты (`dict_values`, `dict_keys` и `dict_items`) поддерживают работу с операциями над множествами."
      ]
    },
    {
      "cell_type": "code",
      "execution_count": null,
      "metadata": {},
      "outputs": [],
      "source": [
        "d1 = dict(a=1, b=2, c=3, d=4)\n",
        "d2 = dict(b=20, d=40, e=50)\n",
        "\n",
        "d1.keys() & d2.keys()\n"
      ]
    },
    {
      "cell_type": "code",
      "execution_count": null,
      "metadata": {},
      "outputs": [],
      "source": [
        "s = {\"a\", \"e\", \"i\"}\n",
        "\n",
        "d1.keys() & s, d1.keys() | s"
      ]
    },
    {
      "cell_type": "markdown",
      "metadata": {},
      "source": [
        "Выше показан очень удобный встроенный способ обрабатывать словари. Он эффективен, так как реализован на С, а не кастомная реализация какого-то кода на питоне."
      ]
    },
    {
      "cell_type": "markdown",
      "metadata": {
        "id": "EoUuNnWB5z4l"
      },
      "source": [
        "### Порядок ключей"
      ]
    },
    {
      "cell_type": "code",
      "execution_count": null,
      "metadata": {
        "id": "y--GBxSi51i_"
      },
      "outputs": [],
      "source": [
        "DIAL_CODES = [\n",
        "    (86, \"China\"),\n",
        "    (91, \"India\"),\n",
        "    (1, \"United States\"),\n",
        "    (62, \"Indonesia\"),\n",
        "    (55, \"Brazil\"),\n",
        "    (92, \"Pakistan\"),\n",
        "    (880, \"Bangladesh\"),\n",
        "    (234, \"Nigeria\"),\n",
        "    (7, \"Russia\"),\n",
        "    (81, \"Japan\"),\n",
        "]"
      ]
    },
    {
      "cell_type": "markdown",
      "metadata": {
        "id": "-C0Sfw2V6Gb_"
      },
      "source": [
        "Сперва сложим в словарь все как есть:"
      ]
    },
    {
      "cell_type": "code",
      "execution_count": null,
      "metadata": {
        "id": "f2fwE6rs57je"
      },
      "outputs": [],
      "source": [
        "d1 = dict(DIAL_CODES)\n",
        "print(\"d1:\", d1.keys())"
      ]
    },
    {
      "cell_type": "markdown",
      "metadata": {
        "id": "9T5WJeOz6Ihg"
      },
      "source": [
        "Теперь попробуем посортировать по коду:"
      ]
    },
    {
      "cell_type": "code",
      "execution_count": null,
      "metadata": {
        "id": "gNRvUmCA6FM1"
      },
      "outputs": [],
      "source": [
        "d2 = dict(sorted(DIAL_CODES))\n",
        "print(f\"d2: {d2.keys()}\")"
      ]
    },
    {
      "cell_type": "markdown",
      "metadata": {
        "id": "ZsNGPsNT6pa-"
      },
      "source": [
        "Теперь попробуем посортировать по названию страны:"
      ]
    },
    {
      "cell_type": "code",
      "execution_count": null,
      "metadata": {
        "id": "bmAtkfhj6mLK"
      },
      "outputs": [],
      "source": [
        "d3 = dict(sorted(DIAL_CODES, key=lambda x: x[1]))\n",
        "print(\"d3:\", d3.keys())"
      ]
    },
    {
      "cell_type": "code",
      "execution_count": null,
      "metadata": {
        "id": "RrO_QKC_6wU4"
      },
      "outputs": [],
      "source": [
        "assert d1 == d2 == d3"
      ]
    },
    {
      "cell_type": "markdown",
      "metadata": {
        "id": "A2emHrvm64am"
      },
      "source": [
        "При этом все эти словари считаются равными, но ключи в них лежат в различном порядке:"
      ]
    },
    {
      "cell_type": "code",
      "execution_count": null,
      "metadata": {
        "id": "LBypL0Fq65Ce"
      },
      "outputs": [],
      "source": [
        "print(\"Без упорядочивания:\")\n",
        "for k, v in d1.items():\n",
        "    print(f\"({k}, {v})\", end=\" \")\n",
        "\n",
        "print(\"\\nС сортировкой по кодам:\")\n",
        "for k, v in d2.items():\n",
        "    print(f\"({k}, {v})\", end=\" \")\n",
        "\n",
        "print(\"\\nС сортировкой по названиям стран:\")\n",
        "for k, v in d3.items():\n",
        "    print(f\"({k}, {v})\", end=\" \")"
      ]
    },
    {
      "cell_type": "markdown",
      "metadata": {
        "id": "HiC3bf-K7UMm"
      },
      "source": [
        "Какой вывод из этого можно сделать? Не стоит завязывать какую-либо логику на порядок ключей в словаре - по дефолту ключи в словаря упорядочены в порядке их добавления в словарь (в современных версиях питона)."
      ]
    },
    {
      "cell_type": "markdown",
      "metadata": {},
      "source": [
        "# Еще немного про строки"
      ]
    },
    {
      "cell_type": "markdown",
      "metadata": {},
      "source": [
        "## Стандартные методы"
      ]
    },
    {
      "cell_type": "markdown",
      "metadata": {},
      "source": [
        "Тут бы хотелось подметить некоторые полезные методы для работы со строками."
      ]
    },
    {
      "cell_type": "code",
      "execution_count": null,
      "metadata": {},
      "outputs": [],
      "source": [
        "text = \"  Hello, World!  \""
      ]
    },
    {
      "cell_type": "code",
      "execution_count": null,
      "metadata": {},
      "outputs": [],
      "source": [
        "text.strip()"
      ]
    },
    {
      "cell_type": "code",
      "execution_count": null,
      "metadata": {},
      "outputs": [],
      "source": [
        "text.lstrip()"
      ]
    },
    {
      "cell_type": "code",
      "execution_count": null,
      "metadata": {},
      "outputs": [],
      "source": [
        "text.rstrip()"
      ]
    },
    {
      "cell_type": "code",
      "execution_count": null,
      "metadata": {},
      "outputs": [],
      "source": [
        "\"heLlo\".upper()"
      ]
    },
    {
      "cell_type": "code",
      "execution_count": null,
      "metadata": {},
      "outputs": [],
      "source": [
        "\"HElLo\".lower()"
      ]
    },
    {
      "cell_type": "markdown",
      "metadata": {},
      "source": [
        "Можем сделать каждую первую букву в слове заглавной:"
      ]
    },
    {
      "cell_type": "code",
      "execution_count": null,
      "metadata": {},
      "outputs": [],
      "source": [
        "\"hello world\".title(), \"Hello World\".istitle()"
      ]
    },
    {
      "cell_type": "markdown",
      "metadata": {},
      "source": [
        "Можем сделать первый символ в строке заглавным:"
      ]
    },
    {
      "cell_type": "code",
      "execution_count": null,
      "metadata": {},
      "outputs": [],
      "source": [
        "\"hello world\".capitalize()"
      ]
    },
    {
      "cell_type": "code",
      "execution_count": null,
      "metadata": {},
      "outputs": [],
      "source": [
        "\"HeLlO\".swapcase()"
      ]
    },
    {
      "cell_type": "code",
      "execution_count": null,
      "metadata": {},
      "outputs": [],
      "source": [
        "\"hello world\".replace(\"world\", \"Python\")"
      ]
    },
    {
      "cell_type": "code",
      "execution_count": null,
      "metadata": {},
      "outputs": [],
      "source": [
        "text = \"Python programming is fun\""
      ]
    },
    {
      "cell_type": "code",
      "execution_count": null,
      "metadata": {},
      "outputs": [],
      "source": [
        "text.startswith(\"Python\"), text.endswith(\"fun\")"
      ]
    },
    {
      "cell_type": "code",
      "execution_count": null,
      "metadata": {},
      "outputs": [],
      "source": [
        "text.find(\"program\"), text.rfind(\"o\"), text.index(\"program\"), text.count(\"o\")"
      ]
    },
    {
      "cell_type": "code",
      "execution_count": null,
      "metadata": {},
      "outputs": [],
      "source": [
        "\"123\".isdigit(), \"abc\".isalpha(), \"abc123\".isalnum(), \"   \".isspace()"
      ]
    },
    {
      "cell_type": "code",
      "execution_count": null,
      "metadata": {},
      "outputs": [],
      "source": [
        "csv_data = \"apple,banana,orange\"\n",
        "csv_data.split(\",\")"
      ]
    },
    {
      "cell_type": "code",
      "execution_count": null,
      "metadata": {},
      "outputs": [],
      "source": [
        "text = \"one\\ntwo\\nthree\"\n",
        "text.splitlines()"
      ]
    },
    {
      "cell_type": "code",
      "execution_count": null,
      "metadata": {},
      "outputs": [],
      "source": [
        "words = [\"Python\", \"is\", \"awesome\"]\n",
        "print(\" \".join(words))  # \"Python is awesome\"\n",
        "print(\"-\".join(words))"
      ]
    },
    {
      "cell_type": "code",
      "execution_count": null,
      "metadata": {},
      "outputs": [],
      "source": [
        "data = \"a:b:c:d\"\n",
        "data.split(\":\", 2)"
      ]
    },
    {
      "cell_type": "code",
      "execution_count": null,
      "metadata": {},
      "outputs": [],
      "source": [
        "translation = str.maketrans(\"aeiou\", \"12345\")\n",
        "print(\"hello\".translate(translation))"
      ]
    },
    {
      "cell_type": "code",
      "execution_count": null,
      "metadata": {},
      "outputs": [],
      "source": [
        "text = \"TestString\"\n",
        "text.removeprefix(\"Test\"), text.removesuffix(\"ing\")"
      ]
    },
    {
      "cell_type": "code",
      "execution_count": null,
      "metadata": {},
      "outputs": [],
      "source": [
        "\"but victim or perpetrator\".ljust(40, \"*\")"
      ]
    },
    {
      "cell_type": "code",
      "execution_count": null,
      "metadata": {},
      "outputs": [],
      "source": [
        "\"if your number's up...\".rjust(40, \"*\")"
      ]
    },
    {
      "cell_type": "code",
      "execution_count": null,
      "metadata": {},
      "outputs": [],
      "source": [
        "\"we'll find *you*\".center(40, \"*\")"
      ]
    },
    {
      "cell_type": "markdown",
      "metadata": {},
      "source": [
        "## Модуль string"
      ]
    },
    {
      "cell_type": "code",
      "execution_count": null,
      "metadata": {},
      "outputs": [],
      "source": [
        "import string\n",
        "\n",
        "string.ascii_letters, string.ascii_lowercase, string.ascii_uppercase"
      ]
    },
    {
      "cell_type": "code",
      "execution_count": null,
      "metadata": {},
      "outputs": [],
      "source": [
        "\"a\" in string.ascii_lowercase, \"1\" in string.ascii_lowercase"
      ]
    },
    {
      "cell_type": "code",
      "execution_count": null,
      "metadata": {},
      "outputs": [],
      "source": [
        "string.punctuation"
      ]
    },
    {
      "cell_type": "code",
      "execution_count": null,
      "metadata": {},
      "outputs": [],
      "source": [
        "print(\"name\\tsurname\\n---------------\\nHarold\\tFinch\")"
      ]
    }
  ],
  "metadata": {
    "colab": {
      "provenance": []
    },
    "kernelspec": {
      "display_name": ".venv",
      "language": "python",
      "name": "python3"
    },
    "language_info": {
      "codemirror_mode": {
        "name": "ipython",
        "version": 3
      },
      "file_extension": ".py",
      "mimetype": "text/x-python",
      "name": "python",
      "nbconvert_exporter": "python",
      "pygments_lexer": "ipython3",
      "version": "3.13.3"
    }
  },
  "nbformat": 4,
  "nbformat_minor": 0
}
