{
 "cells": [
  {
   "cell_type": "markdown",
   "id": "87dae56e",
   "metadata": {},
   "source": [
    "# Python-1, Лекция 5\n",
    "\n",
    "Лектор: Хайбулин Даниэль\n",
    "\n",
    "Подготовил материал: Хайбулин Даниэль"
   ]
  },
  {
   "cell_type": "markdown",
   "id": "286d2914",
   "metadata": {},
   "source": [
    "Сегодня мы продолжим говорить о функциях, познакомимся с классами и приправим все это щепоткой типизации."
   ]
  },
  {
   "cell_type": "markdown",
   "id": "a88c3be6",
   "metadata": {},
   "source": [
    "## Функции"
   ]
  },
  {
   "cell_type": "markdown",
   "id": "91d5ffca",
   "metadata": {},
   "source": [
    "### Аргументы"
   ]
  },
  {
   "cell_type": "code",
   "execution_count": null,
   "id": "e45fe28b",
   "metadata": {},
   "outputs": [],
   "source": [
    "def linear_function(\n",
    "    x: float,\n",
    "    /,  # x - только позиционный\n",
    "    slope: float = 1.0,  # slope - keyword с дефолтным значением\n",
    "    intercept: float = 0.0,  # intercept - keyword с дефолтным значением\n",
    ") -> float:\n",
    "    return slope * x + intercept"
   ]
  },
  {
   "cell_type": "code",
   "execution_count": null,
   "id": "0c3bc4c1",
   "metadata": {},
   "outputs": [],
   "source": [
    "linear_function(x=1)"
   ]
  },
  {
   "cell_type": "code",
   "execution_count": null,
   "id": "b98fb68e",
   "metadata": {},
   "outputs": [],
   "source": [
    "linear_function(1), linear_function(1, 10), linear_function(1, slope=10, intercept=3)"
   ]
  },
  {
   "cell_type": "markdown",
   "id": "2be5d77f",
   "metadata": {},
   "source": [
    "Мы здесь сталкиваемся с множеством страшных вещей (поначалу). Давайте разберемся по порядку.\n",
    "\n",
    "Видим импорты типизаций - зачем это?\n",
    "\n",
    "Типизация помогает нам понять какие входные аргументы у функции, какие возвращаемые значения, что с ними можно делать, а что нельзя? Это особенно полезно когда появляются пользовательские классы. \n",
    "\n",
    "Плюс ко всему в ide мы получаем удобные подсказки интерфейса объекта.\n",
    "\n",
    "И еще большой плюс - повышение читаемости кода."
   ]
  },
  {
   "cell_type": "markdown",
   "id": "a9314a99",
   "metadata": {},
   "source": [
    "<div style=\"\n",
    "    background-color: #44944A;\n",
    "    padding: 15px;\n",
    "    border-radius: 10px;\n",
    "    border: 1px solid #fbfbfbff;\n",
    "    text-align: center;\n",
    "    display: flex;\n",
    "    justify-content: center;\n",
    "    align-items: center;\n",
    "    min-height: 15px;\n",
    "\">\n",
    "    <span style=\"color: white; font-weight: bold;\">\n",
    "        Типизация обязательно нужна и важна!\n",
    "    </span>\n",
    "</div>"
   ]
  },
  {
   "cell_type": "markdown",
   "id": "e51c52d3",
   "metadata": {},
   "source": [
    "<div style=\"\n",
    "    background-color: #44944A;\n",
    "    padding: 15px;\n",
    "    border-radius: 10px;\n",
    "    border: 1px solid #fbfbfbff;\n",
    "    text-align: center;\n",
    "    display: flex;\n",
    "    justify-content: center;\n",
    "    align-items: center;\n",
    "    min-height: 15px;\n",
    "\">\n",
    "    <span style=\"color: white; font-weight: bold;\">\n",
    "        Аргументы бывают позиционными аргументами и keyword-аргументами.\n",
    "    </span>\n",
    "</div>"
   ]
  },
  {
   "cell_type": "markdown",
   "id": "e1853a47",
   "metadata": {},
   "source": [
    "Функция со смешанными аргументами:"
   ]
  },
  {
   "cell_type": "code",
   "execution_count": null,
   "id": "b0ef781a",
   "metadata": {},
   "outputs": [],
   "source": [
    "def quadratic_equation(\n",
    "    x: float,\n",
    "    a: float,  # a - позиционный\n",
    "    b: float = 0.0,  # b - позиционный с дефолтным значением\n",
    "    /,  # Разделитель: до черты - только позиционные\n",
    "    *,  # Разделитель: после звездочки - только keywoard\n",
    "    c: float = 0.0,  # c - только keyword\n",
    ") -> float:\n",
    "    return a * x**2 + b * x + c"
   ]
  },
  {
   "cell_type": "code",
   "execution_count": null,
   "id": "5ab92928",
   "metadata": {},
   "outputs": [],
   "source": [
    "quadratic_equation(1, 2, 3, 4)"
   ]
  },
  {
   "cell_type": "code",
   "execution_count": null,
   "id": "fa9e5771",
   "metadata": {},
   "outputs": [],
   "source": [
    "quadratic_equation(2, 1), quadratic_equation(2, 1, c=3)"
   ]
  },
  {
   "cell_type": "markdown",
   "id": "0e9b508f",
   "metadata": {},
   "source": [
    "Функция только с keyword-аргументами:"
   ]
  },
  {
   "cell_type": "code",
   "execution_count": null,
   "id": "cf43c969",
   "metadata": {},
   "outputs": [],
   "source": [
    "def exponential_function(\n",
    "    *, x: float, base: float = 2.71828, coefficient: float = 1.0, constant: float = 0.0\n",
    ") -> float:\n",
    "    return coefficient * (base**x) + constant"
   ]
  },
  {
   "cell_type": "code",
   "execution_count": null,
   "id": "d89dbbde",
   "metadata": {},
   "outputs": [],
   "source": [
    "exponential_function(x=2, coefficient=3, constant=1)"
   ]
  },
  {
   "cell_type": "markdown",
   "id": "06895f51",
   "metadata": {},
   "source": [
    "Функция только с позиционными аргументами:"
   ]
  },
  {
   "cell_type": "code",
   "execution_count": null,
   "id": "f0013acb",
   "metadata": {},
   "outputs": [],
   "source": [
    "import math\n",
    "\n",
    "\n",
    "def euclidean_distance_3d(\n",
    "    x1: float, y1: float, z1: float, x2: float, y2: float, z2: float, /\n",
    ") -> float:\n",
    "    return math.sqrt((x2 - x1) ** 2 + (y2 - y1) ** 2 + (z2 - z1) ** 2)"
   ]
  },
  {
   "cell_type": "code",
   "execution_count": null,
   "id": "b6156170",
   "metadata": {},
   "outputs": [],
   "source": [
    "euclidean_distance_3d(1.0, 2.0, 3.0, 4.0, 5.0, 6.0)"
   ]
  },
  {
   "cell_type": "code",
   "execution_count": null,
   "id": "48b1e5b6",
   "metadata": {},
   "outputs": [],
   "source": [
    "euclidean_distance_3d(x1=1.0, y1=2.0, z1=3.0, x2=4.0, y2=5.0, z2=6.0)"
   ]
  },
  {
   "cell_type": "markdown",
   "id": "1891dc5e",
   "metadata": {},
   "source": [
    "И вот так нужно типизировать функции как аргументы и возвращаемые значения:"
   ]
  },
  {
   "cell_type": "code",
   "execution_count": null,
   "id": "da76acfd",
   "metadata": {},
   "outputs": [],
   "source": [
    "from typing import Callable\n",
    "\n",
    "\n",
    "def create_number_transformer(\n",
    "    transform_func: Callable[[int], int],\n",
    ") -> Callable[[list[int]], dict[str, list[int] | int]]:\n",
    "    def transformer(numbers: list[int]) -> dict[str, list[int] | int]:\n",
    "        transformed = [transform_func(n) for n in numbers]\n",
    "\n",
    "        return {\n",
    "            \"original\": numbers,\n",
    "            \"transformed\": transformed,\n",
    "            \"total\": sum(transformed),\n",
    "            \"transform_type\": transform_func.__name__,\n",
    "        }\n",
    "\n",
    "    return transformer\n",
    "\n",
    "\n",
    "def double(x: int) -> int:\n",
    "    return x * 2"
   ]
  },
  {
   "cell_type": "code",
   "execution_count": null,
   "id": "0931da50",
   "metadata": {},
   "outputs": [],
   "source": [
    "create_number_transformer(double)([1, 2, 3, 4, 5])"
   ]
  },
  {
   "cell_type": "markdown",
   "id": "438a4518",
   "metadata": {},
   "source": [
    "Достаточно сложный пример. Тут мы имеем и функцию внутри функции (а это отдельная тема лекции, будет у нас дальше), и принимаем и возвращаем функцию. Думаю на этом примере уже точно должно быть понятно что функция - это абсолютно такой же объект и как все остальные объекты в плане использования."
   ]
  },
  {
   "cell_type": "markdown",
   "id": "f16d8b7e",
   "metadata": {},
   "source": [
    "Инициализация дефолтных аргументов:"
   ]
  },
  {
   "cell_type": "code",
   "execution_count": null,
   "id": "27c085a2",
   "metadata": {},
   "outputs": [],
   "source": [
    "def function(list_argument: list[str] = []) -> None:\n",
    "    list_argument.append(\"Hi!\")\n",
    "    print(list_argument)"
   ]
  },
  {
   "cell_type": "code",
   "execution_count": null,
   "id": "4f58d6fa",
   "metadata": {},
   "outputs": [],
   "source": [
    "function()"
   ]
  },
  {
   "cell_type": "code",
   "execution_count": null,
   "id": "d852f536",
   "metadata": {},
   "outputs": [],
   "source": [
    "function()"
   ]
  },
  {
   "cell_type": "markdown",
   "id": "1d7e0c95",
   "metadata": {},
   "source": [
    "Почему это произошло?"
   ]
  },
  {
   "cell_type": "markdown",
   "id": "8c7e5694",
   "metadata": {},
   "source": [
    "<div style=\"\n",
    "    background-color: #8B0000;\n",
    "    padding: 15px;\n",
    "    border: 2px dashed #ba0606;\n",
    "    border-radius: 5px;\n",
    "    text-align: center;\n",
    "    display: flex;\n",
    "    justify-content: center;\n",
    "    align-items: center;\n",
    "    min-height: 20px;\n",
    "\">\n",
    "<span style=\"color: white; font-weight: bold;\">\n",
    "        Нельзя использовать изменяемые объекты в качестве дефолтных значений.\n",
    "    </span>\n",
    "</div>"
   ]
  },
  {
   "cell_type": "code",
   "execution_count": null,
   "id": "eadc6a42",
   "metadata": {},
   "outputs": [],
   "source": [
    "def function(list_argument: list[str] | None = None) -> None:\n",
    "    if list_argument is None:\n",
    "        list_argument = []\n",
    "    list_argument.append(\"Hi!\")\n",
    "    print(list_argument)"
   ]
  },
  {
   "cell_type": "code",
   "execution_count": null,
   "id": "fb0eda57",
   "metadata": {},
   "outputs": [],
   "source": [
    "function()"
   ]
  },
  {
   "cell_type": "code",
   "execution_count": null,
   "id": "63b74a9a",
   "metadata": {},
   "outputs": [],
   "source": [
    "function()"
   ]
  },
  {
   "cell_type": "markdown",
   "id": "b2dcc853",
   "metadata": {},
   "source": [
    "<div style=\"\n",
    "    background-color: #44944A;\n",
    "    padding: 15px;\n",
    "    border-radius: 10px;\n",
    "    border: 1px solid #fbfbfbff;\n",
    "    text-align: center;\n",
    "    display: flex;\n",
    "    justify-content: center;\n",
    "    align-items: center;\n",
    "    min-height: 15px;\n",
    "\">\n",
    "    <span style=\"color: white; font-weight: bold;\">\n",
    "        В качестве дефолтного \"пустого\" значения используйте None.\n",
    "    </span>\n",
    "</div>"
   ]
  },
  {
   "cell_type": "markdown",
   "id": "7923efe6",
   "metadata": {},
   "source": [
    "Распаковка аргументов:"
   ]
  },
  {
   "cell_type": "code",
   "execution_count": null,
   "id": "24ab2be7",
   "metadata": {},
   "outputs": [],
   "source": [
    "def function(x, y, /, *, option1=None, option2=None) -> None:\n",
    "    print(x, y, option1, option2)"
   ]
  },
  {
   "cell_type": "code",
   "execution_count": null,
   "id": "917fae84",
   "metadata": {},
   "outputs": [],
   "source": [
    "positional = [4, 8]\n",
    "key_value = {\"option1\": 15, \"option2\": 16}\n",
    "function(*positional, **key_value)"
   ]
  },
  {
   "cell_type": "markdown",
   "id": "21d583fb",
   "metadata": {},
   "source": [
    "И, наконец, смесь всякого интересного:"
   ]
  },
  {
   "cell_type": "code",
   "execution_count": null,
   "id": "5f5916f9",
   "metadata": {},
   "outputs": [],
   "source": [
    "from typing import Literal\n",
    "\n",
    "\n",
    "def create_mythical_creature(\n",
    "    species: Literal[\"dragon\", \"griffin\", \"phoenix\", \"unicorn\"],  # Позиционный аргумент\n",
    "    name: str,  # Позиционный аргумент\n",
    "    /,  # Разделитель для позиционных аргументов\n",
    "    *abilities: str,  # Произвольное количество способностей\n",
    "    rarity: Literal[\"common\", \"rare\", \"epic\", \"legendary\"] = \"common\",  # keyword-only\n",
    "    habitat: str = \"unknown\",  # keyword-only\n",
    "    **physical_traits: int | str,  # Произвольные физические характеристики\n",
    ") -> dict[str, object]:\n",
    "    return {\n",
    "        \"species\": species,\n",
    "        \"name\": name,\n",
    "        \"abilities\": list(abilities),\n",
    "        \"rarity\": rarity,\n",
    "        \"habitat\": habitat,\n",
    "        \"physical_traits\": physical_traits,\n",
    "        \"description\": f\"A {rarity} {species} named {name} with {len(abilities)} abilities\",\n",
    "    }"
   ]
  },
  {
   "cell_type": "code",
   "execution_count": null,
   "id": "3dd73028",
   "metadata": {},
   "outputs": [],
   "source": [
    "dragon = create_mythical_creature(\n",
    "    \"dragon\",\n",
    "    \"Smaug\",\n",
    "    \"fire breath\",\n",
    "    \"flight\",\n",
    "    \"hoarding\",\n",
    "    rarity=\"legendary\",\n",
    "    habitat=\"Lonely Mountain\",\n",
    "    wingspan=20,\n",
    "    scale_color=\"red\",\n",
    "    treasure_capacity=1000,\n",
    ")\n",
    "\n",
    "unicorn = create_mythical_creature(\n",
    "    \"unicorn\",\n",
    "    \"Sparkle\",\n",
    "    \"healing\",\n",
    "    \"purification\",\n",
    "    habitat=\"Enchanted Forest\",\n",
    "    horn_length=30,\n",
    "    coat_color=\"white\",\n",
    "    magic_power=85,\n",
    ")\n",
    "\n",
    "dragon, unicorn"
   ]
  },
  {
   "cell_type": "markdown",
   "id": "687e92fa",
   "metadata": {},
   "source": [
    "На этом с функциями и их аргументами пока что закончим!"
   ]
  },
  {
   "cell_type": "markdown",
   "id": "fa2f245f",
   "metadata": {},
   "source": [
    "### Scope"
   ]
  },
  {
   "cell_type": "markdown",
   "id": "62537b7a",
   "metadata": {},
   "source": [
    "Тут еще важно отметить области видимости, на этой лекции разберем локальные и глобальные переменны. Позже, когда будем говорить о декораторах, разберем closures/non-local область видимости."
   ]
  },
  {
   "cell_type": "markdown",
   "id": "e83bfc74",
   "metadata": {},
   "source": [
    "Всего у нас 4 области видимости, или namespaces (пространства имен):"
   ]
  },
  {
   "cell_type": "markdown",
   "id": "bf7b9d10",
   "metadata": {},
   "source": [
    "<div style=\"\n",
    "    background-color: #44944A;\n",
    "    padding: 15px;\n",
    "    border-radius: 10px;\n",
    "    border: 1px solid #fbfbfbff;\n",
    "    text-align: center;\n",
    "    display: flex;\n",
    "    justify-content: center;\n",
    "    align-items: center;\n",
    "    min-height: 15px;\n",
    "\">\n",
    "    <span style=\"color: white; font-weight: bold;\">\n",
    "        local, global, non-local, builtins\n",
    "    </span>\n",
    "</div>"
   ]
  },
  {
   "cell_type": "code",
   "execution_count": null,
   "id": "dfc7198b",
   "metadata": {},
   "outputs": [],
   "source": [
    "def extend(a: int, b: int, lst: list) -> None:\n",
    "    lst += [a, b]\n",
    "\n",
    "\n",
    "c, d = (1, 2)\n",
    "lst1 = [3, 4]\n",
    "extend(c, d, lst1)\n",
    "lst1"
   ]
  },
  {
   "cell_type": "markdown",
   "id": "e53cfdd9",
   "metadata": {},
   "source": [
    "Тут заметим сразу, что у нас есть локальная переменная lst в качестве аргумента функции, однако, lst1 изменилось. Почему так? \n",
    "\n",
    "Суть в том, что в функцию мы передаем ссылку на объект. \n",
    "\n",
    "- если объект изменяемый, то просто ссылка будет указывать на тот же объект в памяти;\n",
    "- если объект незименяемый, то создастся новый объект."
   ]
  },
  {
   "cell_type": "code",
   "execution_count": null,
   "id": "c46af0ec",
   "metadata": {},
   "outputs": [],
   "source": [
    "def extend(a: int, b: int, lst: list) -> None:\n",
    "    lst += [a, b]\n",
    "    print(id(lst))\n",
    "\n",
    "\n",
    "c, d = (1, 1 << 12)\n",
    "lst1 = [3, 4]\n",
    "extend(c, d, lst1)\n",
    "id(lst1), lst1"
   ]
  },
  {
   "cell_type": "code",
   "execution_count": null,
   "id": "4b4d3726",
   "metadata": {},
   "outputs": [],
   "source": [
    "a += 3"
   ]
  },
  {
   "cell_type": "markdown",
   "id": "44d9800e",
   "metadata": {},
   "source": [
    "Мы видим, что у нас не определена переменная **a**, так как она была в локальной области видимости функции **extend**. Вне функции к ней нельзя обратиться. Однако в функции можно обратиться к глобальной переменной:"
   ]
  },
  {
   "cell_type": "code",
   "execution_count": null,
   "id": "0c3e04ee",
   "metadata": {},
   "outputs": [],
   "source": [
    "def extend(lst: list) -> None:\n",
    "    lst += [c, d]\n",
    "    print(id(lst))\n",
    "\n",
    "\n",
    "c, d = (1, 1 << 12)\n",
    "lst1 = [3, 4]\n",
    "extend(lst1)\n",
    "id(lst1), lst1"
   ]
  },
  {
   "cell_type": "markdown",
   "id": "261a57ab",
   "metadata": {},
   "source": [
    "На семинарах подробнее поговорим про области видимости."
   ]
  },
  {
   "cell_type": "markdown",
   "id": "1d79b9e8",
   "metadata": {},
   "source": [
    "## Классы"
   ]
  },
  {
   "cell_type": "markdown",
   "id": "af58150d",
   "metadata": {},
   "source": [
    "### Введение"
   ]
  },
  {
   "cell_type": "markdown",
   "id": "a7a896e1",
   "metadata": {},
   "source": [
    "* **Тип** - контракт на набор значений и операций над ними.\n",
    "* **Класс** - конкретная реализация типа.\n",
    "* **Объект** - экземпляр (instance) класса.\n",
    "\n",
    "Для понимания:\n",
    "\n",
    "Тип - логический тип, Класс - bool, экземпляр класса - true, false."
   ]
  },
  {
   "cell_type": "code",
   "execution_count": null,
   "id": "e93f614c",
   "metadata": {},
   "outputs": [],
   "source": [
    "\"a\", \"a\".__class__, type(1)"
   ]
  },
  {
   "cell_type": "markdown",
   "id": "e6433cb2",
   "metadata": {},
   "source": [
    "Создадим первый класс:"
   ]
  },
  {
   "cell_type": "code",
   "execution_count": null,
   "id": "72f20b1a",
   "metadata": {},
   "outputs": [],
   "source": [
    "class SampleClass:\n",
    "    pass"
   ]
  },
  {
   "cell_type": "markdown",
   "id": "e7a78398",
   "metadata": {},
   "source": [
    "<div style=\"\n",
    "    background-color: #44944A;\n",
    "    padding: 15px;\n",
    "    border-radius: 10px;\n",
    "    border: 1px solid #fbfbfbff;\n",
    "    text-align: center;\n",
    "    display: flex;\n",
    "    justify-content: center;\n",
    "    align-items: center;\n",
    "    min-height: 15px;\n",
    "\">\n",
    "    <span style=\"color: white; font-weight: bold;\">\n",
    "        <a href=\"https://peps.python.org/pep-0008/#class-names\">В питоне</a> классы принято называть в <strong>CapWords</strong> нотации.\n",
    "    </span>\n",
    "</div>"
   ]
  },
  {
   "cell_type": "markdown",
   "id": "c88755d9",
   "metadata": {},
   "source": [
    "Что мы теперь можем делать с этим объектом?\n",
    "\n",
    "Например, можем заглянуть в словарик самого класса:"
   ]
  },
  {
   "cell_type": "code",
   "execution_count": null,
   "id": "dfccdada",
   "metadata": {},
   "outputs": [],
   "source": [
    "SampleClass.__dict__"
   ]
  },
  {
   "cell_type": "markdown",
   "id": "3644809d",
   "metadata": {},
   "source": [
    "Можем создать инстанс класса:"
   ]
  },
  {
   "cell_type": "code",
   "execution_count": null,
   "id": "c6da88af",
   "metadata": {},
   "outputs": [],
   "source": [
    "a = SampleClass()\n",
    "a, a.__class__, type(a)"
   ]
  },
  {
   "cell_type": "markdown",
   "id": "6cb433c7",
   "metadata": {},
   "source": [
    "`a` - объект/экземпляр/инстанс класса `SampleClass`."
   ]
  },
  {
   "cell_type": "code",
   "execution_count": null,
   "id": "72318e78",
   "metadata": {},
   "outputs": [],
   "source": [
    "a.__dict__"
   ]
  },
  {
   "cell_type": "markdown",
   "id": "de18e84b",
   "metadata": {},
   "source": [
    "Словарь пока что пуст, так как в классе в принципе ничего нет. Давайте что-нибудь добавим:"
   ]
  },
  {
   "cell_type": "code",
   "execution_count": null,
   "id": "49c1975c",
   "metadata": {},
   "outputs": [],
   "source": [
    "from typing import Self\n",
    "\n",
    "\n",
    "class SampleClass:\n",
    "    \"\"\"Sample class\"\"\"\n",
    "\n",
    "    def __init__(\n",
    "        self,\n",
    "    ) -> Self:  # видим, что результат этого метода возвращает инстанс класса\n",
    "        self.name = \"sample class\"\n",
    "        print(\"Я родился!\")"
   ]
  },
  {
   "cell_type": "markdown",
   "id": "bc6e83f3",
   "metadata": {},
   "source": [
    "Можно заметить, что у метода класса есть аргумент `self`.\n",
    "\n",
    "Это сам инстанс класса, с которым происходят какие-то действия в его методах."
   ]
  },
  {
   "cell_type": "code",
   "execution_count": null,
   "id": "63051c09",
   "metadata": {},
   "outputs": [],
   "source": [
    "sample = SampleClass()"
   ]
  },
  {
   "cell_type": "code",
   "execution_count": null,
   "id": "069d395b",
   "metadata": {},
   "outputs": [],
   "source": [
    "sample.__init__()"
   ]
  },
  {
   "cell_type": "code",
   "execution_count": null,
   "id": "50fda0b8",
   "metadata": {},
   "outputs": [],
   "source": [
    "sample.__doc__, SampleClass.__doc__, getattr(sample, \"__doc__\")"
   ]
  },
  {
   "cell_type": "markdown",
   "id": "a79b8143",
   "metadata": {},
   "source": [
    "Мы научили появляться объект класса. Формально это называется инициализация!\n",
    "\n",
    "Однако до инициализации происходит этап конструирования объекта класса - отработка dunder метода `__init__`."
   ]
  },
  {
   "cell_type": "markdown",
   "id": "e36ba3ed",
   "metadata": {},
   "source": [
    "<div style=\"\n",
    "    background-color: #44944A;\n",
    "    padding: 15px;\n",
    "    border-radius: 10px;\n",
    "    border: 1px solid #fbfbfbff;\n",
    "    text-align: center;\n",
    "    display: flex;\n",
    "    justify-content: center;\n",
    "    align-items: center;\n",
    "    min-height: 15px;\n",
    "\">\n",
    "    <span style=\"color: white; font-weight: bold;\">\n",
    "        dunder метод - double underscore '_'. Еще можно встретить называние magic method. Особенные методы класса.\n",
    "    </span>\n",
    "</div>"
   ]
  },
  {
   "cell_type": "code",
   "execution_count": null,
   "id": "b1ca4aaa",
   "metadata": {},
   "outputs": [],
   "source": [
    "sample.__dict__"
   ]
  },
  {
   "cell_type": "markdown",
   "id": "3d9c6664",
   "metadata": {},
   "source": [
    "Теперь в словаре нашего класса появилось **поле** **name**"
   ]
  },
  {
   "cell_type": "code",
   "execution_count": null,
   "id": "11b3c3e7",
   "metadata": {},
   "outputs": [],
   "source": [
    "sample.__dict__[\"name\"]"
   ]
  },
  {
   "cell_type": "markdown",
   "id": "06739b7b",
   "metadata": {},
   "source": [
    "Выше, конечно, сомнительный способ обращаться к полям инстанса, поэтому изобрели попроще:"
   ]
  },
  {
   "cell_type": "code",
   "execution_count": null,
   "id": "18867c1f",
   "metadata": {},
   "outputs": [],
   "source": [
    "sample.name"
   ]
  },
  {
   "cell_type": "code",
   "execution_count": null,
   "id": "426b871f",
   "metadata": {},
   "outputs": [],
   "source": [
    "class SampleClass:\n",
    "    \"\"\"Sample class\"\"\"\n",
    "\n",
    "    def __init__(\n",
    "        self,\n",
    "        x: int,\n",
    "    ) -> Self:\n",
    "        self.name = \"sample class\"\n",
    "        self.x = x\n",
    "        print(f\"Я родился! Мой номер {x}\")"
   ]
  },
  {
   "cell_type": "code",
   "execution_count": null,
   "id": "e3def2a2",
   "metadata": {},
   "outputs": [],
   "source": [
    "a = SampleClass(x=1)\n",
    "b = SampleClass(x=3)\n",
    "\n",
    "a.x, b.x"
   ]
  },
  {
   "cell_type": "markdown",
   "id": "9487e17f",
   "metadata": {},
   "source": [
    "Можем менять значение поля:"
   ]
  },
  {
   "cell_type": "code",
   "execution_count": null,
   "id": "653c5cb4",
   "metadata": {},
   "outputs": [],
   "source": [
    "a.x = b.x\n",
    "assert a.x == b.x"
   ]
  },
  {
   "cell_type": "markdown",
   "id": "a103d9e5",
   "metadata": {},
   "source": [
    "Можно добавить поле самому классу, что также добавит это поле всем его инстансам:"
   ]
  },
  {
   "cell_type": "code",
   "execution_count": null,
   "id": "0d276507",
   "metadata": {},
   "outputs": [],
   "source": [
    "class SampleClass:\n",
    "    \"\"\"Sample class\"\"\"\n",
    "\n",
    "    var = ...\n",
    "\n",
    "    def __init__(\n",
    "        self,\n",
    "    ) -> Self:\n",
    "        pass"
   ]
  },
  {
   "cell_type": "code",
   "execution_count": null,
   "id": "ead45b3e",
   "metadata": {},
   "outputs": [],
   "source": [
    "a = SampleClass()\n",
    "b = SampleClass()\n",
    "a.var, b.var"
   ]
  },
  {
   "cell_type": "markdown",
   "id": "824f361f",
   "metadata": {},
   "source": [
    "Помимо dunder методов в классах можно объявлять пользовательские методы, которые никак не подвязаны на внутреннюю логику питона."
   ]
  },
  {
   "cell_type": "code",
   "execution_count": null,
   "id": "795eb2cb",
   "metadata": {},
   "outputs": [],
   "source": [
    "class SampleClass:\n",
    "    \"\"\"Sample class\"\"\"\n",
    "\n",
    "    var = ...\n",
    "\n",
    "    def __init__(\n",
    "        self,\n",
    "    ) -> Self:\n",
    "        pass\n",
    "\n",
    "    def die(self) -> None:\n",
    "        print(f\"Меня зовут {id(self)} и я умер!\")"
   ]
  },
  {
   "cell_type": "code",
   "execution_count": null,
   "id": "c4258f36",
   "metadata": {},
   "outputs": [],
   "source": [
    "a = SampleClass()\n",
    "a.die()"
   ]
  },
  {
   "cell_type": "markdown",
   "id": "92dbfd67",
   "metadata": {},
   "source": [
    "Тут мы объявили метод `die` - всё же объект умеет родиться и для логичного завершения он должен уметь умереть.\n",
    "\n",
    "Вообще говоря, это называется жизнь объекта. В питоне для смерти объекта есть dunder метод `__del__`, но крайне не рекомендуется его переопределять, так как питон сам хорошо знает как и когда ему убивать объекты. Для этого создан Garbage Collector, о нем мы не будем говорить на данном курсе, но, может быть, кто-то захочет рассказать вам о нем на семинарах.\n"
   ]
  },
  {
   "cell_type": "code",
   "execution_count": null,
   "id": "3ad21d60",
   "metadata": {},
   "outputs": [],
   "source": [
    "SampleClass.__dict__"
   ]
  },
  {
   "cell_type": "markdown",
   "id": "e0ce3ce7",
   "metadata": {},
   "source": [
    "У класса появился ключ в словаре с названием нашего нового метода + сигнатура функции."
   ]
  },
  {
   "cell_type": "markdown",
   "id": "57409735",
   "metadata": {},
   "source": [
    "Для полного понимания что такое self:"
   ]
  },
  {
   "cell_type": "code",
   "execution_count": null,
   "id": "b78c1798",
   "metadata": {},
   "outputs": [],
   "source": [
    "SampleClass.die(a)  # в качестве self передан инстнас a"
   ]
  },
  {
   "cell_type": "markdown",
   "id": "ee1f9c2f",
   "metadata": {},
   "source": [
    "<div style=\"\n",
    "    background-color: #FFBA00;\n",
    "    padding: 15px;\n",
    "    border-left: 5px solid #ffcc00;\n",
    "    text-align: center;\n",
    "    display: flex;\n",
    "    justify-content: center;\n",
    "    align-items: center;\n",
    "    min-height: 15px;\n",
    "\">\n",
    "    <span style=\"color: white; font-weight: bold;\">\n",
    "        Конечно же так никто не вызывает методы\n",
    "    </span>\n",
    "</div>"
   ]
  },
  {
   "cell_type": "markdown",
   "id": "790c2ac2",
   "metadata": {},
   "source": [
    "Вернемся к переменным класса и объекта:"
   ]
  },
  {
   "cell_type": "code",
   "execution_count": null,
   "id": "f220f880",
   "metadata": {},
   "outputs": [],
   "source": [
    "from typing import Any\n",
    "\n",
    "\n",
    "class SampleClass:\n",
    "    \"\"\"Sample class\"\"\"\n",
    "\n",
    "    var = ...\n",
    "\n",
    "    def __init__(\n",
    "        self,\n",
    "        var: Any,\n",
    "    ) -> Self:\n",
    "        self.var = var"
   ]
  },
  {
   "cell_type": "code",
   "execution_count": null,
   "id": "b3436d4a",
   "metadata": {},
   "outputs": [],
   "source": [
    "a = SampleClass(\n",
    "    var=SampleClass(var=1)\n",
    ")  # В качестве аргумента конструктора передаем инстанс класса"
   ]
  },
  {
   "cell_type": "code",
   "execution_count": null,
   "id": "acceaf23",
   "metadata": {},
   "outputs": [],
   "source": [
    "a.var, SampleClass.var"
   ]
  },
  {
   "cell_type": "markdown",
   "id": "87329253",
   "metadata": {},
   "source": [
    "Видим, что произошел конфликт имен: у инстанса в поле `var` лежит другой инстанс `SampleClass`, а у самого класса в поле `var` лежит `Ellipsis`."
   ]
  },
  {
   "cell_type": "code",
   "execution_count": null,
   "id": "7daa65d4",
   "metadata": {},
   "outputs": [],
   "source": [
    "dir(SampleClass)"
   ]
  },
  {
   "cell_type": "markdown",
   "id": "a0a6d0af",
   "metadata": {},
   "source": [
    "Вообще вот как много всего есть у нашего класса, видим множество dunder методов. Их мы будем разбирать на отдельной лекции и часто встречать дальше. "
   ]
  },
  {
   "cell_type": "markdown",
   "id": "41457697",
   "metadata": {},
   "source": [
    "По классике: и класс, и инстанс класса могут быть ключами в словаре."
   ]
  },
  {
   "cell_type": "code",
   "execution_count": null,
   "id": "ece51792",
   "metadata": {},
   "outputs": [],
   "source": [
    "{SampleClass: a}, {a: SampleClass}"
   ]
  },
  {
   "cell_type": "markdown",
   "id": "e01377e6",
   "metadata": {},
   "source": [
    "Можно точно узнать что может быть ключом в словаре: должны быть реализованы dunder методы `__hash__`, `__eq__`. При помощи `dir` мы видим, что оба эти метода есть."
   ]
  },
  {
   "cell_type": "code",
   "execution_count": null,
   "id": "04bd7f65",
   "metadata": {},
   "outputs": [],
   "source": [
    "assert \"__eq__\" in dir(a), \"__hash__\" in dir(a)"
   ]
  },
  {
   "cell_type": "markdown",
   "id": "b0023519",
   "metadata": {},
   "source": [
    "Про протоколы и интерфейсы мы поговорим на отдельной лекции. Выше протокол **хешируемый**."
   ]
  }
 ],
 "metadata": {
  "kernelspec": {
   "display_name": ".venv",
   "language": "python",
   "name": "python3"
  },
  "language_info": {
   "codemirror_mode": {
    "name": "ipython",
    "version": 3
   },
   "file_extension": ".py",
   "mimetype": "text/x-python",
   "name": "python",
   "nbconvert_exporter": "python",
   "pygments_lexer": "ipython3",
   "version": "3.13.3"
  }
 },
 "nbformat": 4,
 "nbformat_minor": 5
}
