{
 "cells": [
  {
   "cell_type": "markdown",
   "id": "64b7f404",
   "metadata": {},
   "source": [
    "# Python-1, Лекция 6\n",
    "\n",
    "Лектор: Хайбулин Даниэль\n",
    "\n",
    "Подготовил материал: Хайбулин Даниэль"
   ]
  },
  {
   "cell_type": "markdown",
   "id": "617b8488",
   "metadata": {},
   "source": [
    "Сегодня мы продолжим говорить о классах."
   ]
  },
  {
   "cell_type": "markdown",
   "id": "271fbfef",
   "metadata": {},
   "source": [
    "## Методы классов"
   ]
  },
  {
   "cell_type": "markdown",
   "id": "eb60f8f9",
   "metadata": {},
   "source": [
    "В классах можно делать \"специальные пометки\" (на самом деле это декораторы, о них поговорим позже) над методом: **статичные методы** и **методы класса**."
   ]
  },
  {
   "cell_type": "markdown",
   "id": "5c38c400",
   "metadata": {},
   "source": [
    "### Static method"
   ]
  },
  {
   "cell_type": "markdown",
   "id": "a1426d6c",
   "metadata": {},
   "source": [
    "<div style=\"\n",
    "    background-color: #44944A;\n",
    "    padding: 15px;\n",
    "    border-radius: 10px;\n",
    "    border: 1px solid #fbfbfbff;\n",
    "    text-align: center;\n",
    "    display: flex;\n",
    "    justify-content: center;\n",
    "    align-items: center;\n",
    "    min-height: 15px;\n",
    "\">\n",
    "    <span style=\"color: white; font-weight: bold;\">\n",
    "        Статичный метод - метод ни к чему не привязанный.\n",
    "    </span>\n",
    "</div>"
   ]
  },
  {
   "cell_type": "code",
   "execution_count": null,
   "id": "3ac08221",
   "metadata": {},
   "outputs": [],
   "source": [
    "class SampleClass:\n",
    "    @staticmethod\n",
    "    def example() -> None:\n",
    "        print(...)"
   ]
  },
  {
   "cell_type": "code",
   "execution_count": null,
   "id": "0c9bfd25",
   "metadata": {},
   "outputs": [],
   "source": [
    "assert \"example\" not in SampleClass().__dict__\n",
    "assert \"example\" in SampleClass.__dict__"
   ]
  },
  {
   "cell_type": "markdown",
   "id": "921190ab",
   "metadata": {},
   "source": [
    "Заметьте, что статичный метод принадлежит классу, но не принадлежит его инстансу. Главное отличие от ранее изученных обычных методов - это отсутствие аргумента `self`, то есть инстанса класса.\n",
    "\n",
    "Зачем вообще нужны такие методы? В основном для реализации специфичных конструкторов, отличающихся от основного конструктора - `__init__`. Это называется **фабрика** и, возможно, кто-то разберет это позже на семинарах 12ой лекции когда мы будем говорить об ООП, а пока знакомимся что такое вот есть."
   ]
  },
  {
   "cell_type": "code",
   "execution_count": null,
   "id": "d8201d0a",
   "metadata": {},
   "outputs": [],
   "source": [
    "from typing import Self\n",
    "\n",
    "\n",
    "class Date:\n",
    "    def __init__(self, day: int, month: int, year: int) -> Self:\n",
    "        self.day = day\n",
    "        self.month = month\n",
    "        self.year = year\n",
    "\n",
    "    def __str__(self) -> str:\n",
    "        return f\"{self.day:02d}.{self.month:02d}.{self.year}\"\n",
    "\n",
    "    @staticmethod\n",
    "    def from_iso_format(iso_string: str) -> Self:\n",
    "        year, month, day = map(int, iso_string.split(\"-\"))\n",
    "        return Date(day, month, year)\n",
    "\n",
    "    @staticmethod\n",
    "    def from_american_format(us_string: str) -> Self:\n",
    "        month, day, year = map(int, us_string.split(\"/\"))\n",
    "        return Date(day, month, year)"
   ]
  },
  {
   "cell_type": "markdown",
   "id": "0c534eb4",
   "metadata": {},
   "source": [
    "Теперь можем конструировать инстансы класса даты тремя разными способами: переопределенным `__init__` и двумя статичными методами. Это добавляет нам гибкости в способах создания инстанса класса."
   ]
  },
  {
   "cell_type": "code",
   "execution_count": null,
   "id": "60e14cef",
   "metadata": {},
   "outputs": [],
   "source": [
    "date1 = Date.from_iso_format(\"2023-12-25\")\n",
    "print(date1)\n",
    "\n",
    "date2 = Date.from_american_format(\"12/25/2023\")\n",
    "print(date2)\n",
    "\n",
    "assert isinstance(date1, Date)\n",
    "assert isinstance(date2, Date)"
   ]
  },
  {
   "cell_type": "markdown",
   "id": "22c6ad7b",
   "metadata": {},
   "source": [
    "### Class method"
   ]
  },
  {
   "cell_type": "markdown",
   "id": "ff5cb36c",
   "metadata": {},
   "source": [
    "<div style=\"\n",
    "    background-color: #44944A;\n",
    "    padding: 15px;\n",
    "    border-radius: 10px;\n",
    "    border: 1px solid #fbfbfbff;\n",
    "    text-align: center;\n",
    "    display: flex;\n",
    "    justify-content: center;\n",
    "    align-items: center;\n",
    "    min-height: 15px;\n",
    "\">\n",
    "    <span style=\"color: white; font-weight: bold;\">\n",
    "        Метод класса - метод привязанный к самому классу.\n",
    "    </span>\n",
    "</div>"
   ]
  },
  {
   "cell_type": "markdown",
   "id": "67453adf",
   "metadata": {},
   "source": [
    "## Наследование"
   ]
  },
  {
   "cell_type": "markdown",
   "id": "ea314911",
   "metadata": {},
   "source": [
    "### object - прародитель"
   ]
  },
  {
   "cell_type": "markdown",
   "id": "0cf3f6b8",
   "metadata": {},
   "source": [
    "<div style=\"\n",
    "    background-color: #44944A;\n",
    "    padding: 15px;\n",
    "    border-radius: 10px;\n",
    "    border: 1px solid #fbfbfbff;\n",
    "    text-align: center;\n",
    "    display: flex;\n",
    "    justify-content: center;\n",
    "    align-items: center;\n",
    "    min-height: 15px;\n",
    "\">\n",
    "    <span style=\"color: white; font-weight: bold;\">\n",
    "        <strong>object</strong> - метакласс, от которого наследуются все остальные объекты в питоне.\n",
    "    </span>\n",
    "</div>"
   ]
  },
  {
   "cell_type": "markdown",
   "id": "2ea7bf3b",
   "metadata": {},
   "source": [
    "**Наследование** - это как в генетике, родительский класс передает свои методы, поля, атрибуты (гены) своим детям. Ребенок может наследоваться от множества родителей, при этом порядок наследования методов определяется при помощи алгоритма Method Resolution Order (mro)."
   ]
  },
  {
   "cell_type": "code",
   "execution_count": null,
   "id": "3717fa51",
   "metadata": {},
   "outputs": [],
   "source": [
    "object, object.mro(), {object: None}"
   ]
  },
  {
   "cell_type": "markdown",
   "id": "4d01e41e",
   "metadata": {},
   "source": [
    "Всякий класс наследуется от объекта, отсюда и наличие по дефолту очень многих методов даже у пустых классов."
   ]
  },
  {
   "cell_type": "code",
   "execution_count": null,
   "id": "c9fdadd3",
   "metadata": {},
   "outputs": [],
   "source": [
    "dir(object)"
   ]
  },
  {
   "cell_type": "code",
   "execution_count": null,
   "id": "652574ba",
   "metadata": {},
   "outputs": [],
   "source": [
    "list.mro(), int.mro(), dict.mro()"
   ]
  },
  {
   "cell_type": "code",
   "execution_count": null,
   "id": "de9cdaf3",
   "metadata": {},
   "outputs": [],
   "source": [
    "class SampleClass: ..."
   ]
  },
  {
   "cell_type": "code",
   "execution_count": null,
   "id": "1dbac630",
   "metadata": {},
   "outputs": [],
   "source": [
    "SampleClass.mro(), dir(SampleClass)"
   ]
  },
  {
   "cell_type": "markdown",
   "id": "705c8de7",
   "metadata": {},
   "source": [
    "### Наследование методов"
   ]
  },
  {
   "cell_type": "markdown",
   "id": "f905fd1b",
   "metadata": {},
   "source": [
    "Выше мы могли заметить, что от родительского класса `object` базовыми типами наследуется множество dunder методов. Давайте рассмотрим что вообще такое наследование методов:"
   ]
  },
  {
   "cell_type": "code",
   "execution_count": null,
   "id": "6c159000",
   "metadata": {},
   "outputs": [],
   "source": [
    "class SampleClass:\n",
    "    def __init__(self, name: str) -> Self:\n",
    "        self.name = name\n",
    "\n",
    "        print(f\"{self.name} родился!\")\n",
    "\n",
    "\n",
    "class SampleClassChild(SampleClass):\n",
    "    pass"
   ]
  },
  {
   "cell_type": "code",
   "execution_count": null,
   "id": "d89e169e",
   "metadata": {},
   "outputs": [],
   "source": [
    "SampleClassChild(name=\"Ребенок\")"
   ]
  },
  {
   "cell_type": "markdown",
   "id": "5bb1b751",
   "metadata": {},
   "source": [
    "У класса `SampleClassChild` не определен dunder метод `__init__`, однако мы получили сообщение, которое определено у класса `SampleClass`. Это и есть наследование - если у текущего класса нет метода, то мы идем искать метод в его родительских классах и вызываем его!"
   ]
  },
  {
   "cell_type": "markdown",
   "id": "75051ee6",
   "metadata": {},
   "source": [
    "### Переопределение методов"
   ]
  },
  {
   "cell_type": "markdown",
   "id": "20dc87f2",
   "metadata": {},
   "source": [
    "Вообще, возникает логичный вопрос: а зачем нам наследование? Действительно, некоторые языки вполне себе обходятся без наследования. Но мы не можем размышлять бинарным подходом - хорошо или плохо. Наследование - это такой же инструмент, как и многие другие инструменты, которые предлагает нам язык программирования. Но стоит хорошенько подумать прежде чем использовать наследование.\n",
    "\n",
    "Чаще всего наследование помогает нам определить некий общий интерфейс, а в наследуемых от него классах предлагать различную реализацию интерфейса. Эта концепция будет встречаться вам часто, так как она действительно имеет смысл. О ней мы отдельно поговорим на другой лекции.\n",
    "\n",
    "А сейчас давайте разберемся как описывать интерфейс в родительском классе и переопределять в наследуемых классах: \n"
   ]
  },
  {
   "cell_type": "code",
   "execution_count": null,
   "id": "85c22a34",
   "metadata": {},
   "outputs": [],
   "source": [
    "class SampleClass:\n",
    "    def __init__(self, name: str) -> Self:\n",
    "        self.name = name\n",
    "\n",
    "        print(f\"{self.name} родился!\")\n",
    "\n",
    "\n",
    "class SampleClassChild(SampleClass):\n",
    "    def __init__(self, name: str) -> Self:\n",
    "        self.name = name\n",
    "\n",
    "        print(f\"{self.name} вылупился!\")"
   ]
  },
  {
   "cell_type": "code",
   "execution_count": null,
   "id": "2ac6100c",
   "metadata": {},
   "outputs": [],
   "source": [
    "SampleClassChild(\"Птенец\")"
   ]
  },
  {
   "cell_type": "markdown",
   "id": "be7dd59c",
   "metadata": {},
   "source": [
    "Итак, мы переопределили dunder метод `__init__` и теперь вызывается метод младшего класса."
   ]
  },
  {
   "cell_type": "markdown",
   "id": "4d7e3c80",
   "metadata": {},
   "source": [
    "Помимо этого, мы можем дополнять метод родительского класса в детских классах:"
   ]
  },
  {
   "cell_type": "code",
   "execution_count": null,
   "id": "cc9e570f",
   "metadata": {},
   "outputs": [],
   "source": [
    "class SampleClass:\n",
    "    def __init__(self, name: str) -> Self:\n",
    "        self.name = name\n",
    "\n",
    "        print(f\"{self.name} родился!\")\n",
    "\n",
    "\n",
    "class SampleClassChild(SampleClass):\n",
    "    def __init__(self, name: str) -> Self:\n",
    "        SampleClass.__init__(self=self, name=name)  # Вызов метода родительского класса\n",
    "\n",
    "        print(f\"{name} родился еще раз!\")"
   ]
  },
  {
   "cell_type": "code",
   "execution_count": null,
   "id": "22fc710a",
   "metadata": {},
   "outputs": [],
   "source": [
    "SampleClassChild(\"Птенец\")"
   ]
  },
  {
   "cell_type": "markdown",
   "id": "b36dbf9d",
   "metadata": {},
   "source": [
    "На семинарах предлагается подробнее посмотреть на diamond problem и mro, чтобы была возможность поиграться с наследованием. Также рекомендуется рассмотреть `super`."
   ]
  },
  {
   "cell_type": "markdown",
   "id": "bd3daf81",
   "metadata": {},
   "source": [
    "### slots"
   ]
  },
  {
   "cell_type": "markdown",
   "id": "991c666b",
   "metadata": {},
   "source": [
    "Есть такой механизм как `__slots__` - это кортеж, который заменяет словарь нашего класса. Кортеж занимает меньше места чем словарь, поэтому это разумная оптимизация когда мы создаем очень много инстансов класса с небольшим количеством полей:"
   ]
  },
  {
   "cell_type": "code",
   "execution_count": null,
   "id": "798a338f",
   "metadata": {},
   "outputs": [],
   "source": [
    "class Point:\n",
    "    __slots__ = (\"x\", \"y\")"
   ]
  },
  {
   "cell_type": "code",
   "execution_count": null,
   "id": "c30921dc",
   "metadata": {},
   "outputs": [],
   "source": [
    "Point().__dict__  # Мы не создаем словарь у инстанса"
   ]
  },
  {
   "cell_type": "code",
   "execution_count": null,
   "id": "96d27906",
   "metadata": {},
   "outputs": [],
   "source": [
    "Point().__slots__  # При этом создаем кортеж слотов"
   ]
  },
  {
   "cell_type": "code",
   "execution_count": null,
   "id": "39eb68a5",
   "metadata": {},
   "outputs": [],
   "source": [
    "%pip install memory_profiler"
   ]
  },
  {
   "cell_type": "markdown",
   "id": "e8f73f62",
   "metadata": {},
   "source": [
    "Ниже приведу доказательство того, что слоты занимают меньше памяти нежели словари:"
   ]
  },
  {
   "cell_type": "code",
   "execution_count": null,
   "id": "ed230935",
   "metadata": {},
   "outputs": [],
   "source": [
    "import sys\n",
    "from memory_profiler import profile\n",
    "\n",
    "\n",
    "class RegularUser:\n",
    "    def __init__(self, user_id, name, email, age):\n",
    "        self.user_id = user_id\n",
    "        self.name = name\n",
    "        self.email = email\n",
    "        self.age = age\n",
    "\n",
    "\n",
    "class SlotsUser:\n",
    "    __slots__ = (\"user_id\", \"name\", \"email\", \"age\")\n",
    "\n",
    "    def __init__(self, user_id, name, email, age):\n",
    "        self.user_id = user_id\n",
    "        self.name = name\n",
    "        self.email = email\n",
    "        self.age = age\n",
    "\n",
    "\n",
    "def measure_memory_usage(user_class, num_instances):\n",
    "    instances = [\n",
    "        user_class(i, f\"User{i}\", f\"user{i}@example.com\", 20 + i % 30)\n",
    "        for i in range(num_instances)\n",
    "    ]\n",
    "\n",
    "    total_size = sum(sys.getsizeof(instance) for instance in instances)\n",
    "\n",
    "    if hasattr(instances[0], \"__dict__\"):\n",
    "        dict_size = sum(sys.getsizeof(instance.__dict__) for instance in instances)\n",
    "        total_size += dict_size\n",
    "\n",
    "    return total_size\n",
    "\n",
    "\n",
    "num_objects = 100000\n",
    "\n",
    "regular_memory = measure_memory_usage(RegularUser, num_objects)\n",
    "\n",
    "slots_memory = measure_memory_usage(SlotsUser, num_objects)\n",
    "\n",
    "print(\n",
    "    f\"Память для {num_objects} обычных объектов: {regular_memory / 1024 / 1024:.2f} MB\"\n",
    ")\n",
    "print(\n",
    "    f\"Память для {num_objects} объектов со slots: {slots_memory / 1024 / 1024:.2f} MB\"\n",
    ")\n",
    "print(f\"Экономия памяти: {(regular_memory - slots_memory) / 1024 / 1024:.2f} MB\")\n",
    "print(f\"Процент экономии: {(1 - slots_memory / regular_memory) * 100:.2f}%\")\n",
    "\n",
    "\n",
    "@profile\n",
    "def create_regular_users():\n",
    "    return [\n",
    "        RegularUser(i, f\"User{i}\", f\"user{i}@example.com\", 20 + i % 30)\n",
    "        for i in range(num_objects)\n",
    "    ]\n",
    "\n",
    "\n",
    "@profile\n",
    "def create_slots_users():\n",
    "    return [\n",
    "        SlotsUser(i, f\"User{i}\", f\"user{i}@example.com\", 20 + i % 30)\n",
    "        for i in range(num_objects)\n",
    "    ]\n",
    "\n",
    "\n",
    "if __name__ == \"__main__\":\n",
    "    print(\"=== Создание обычных объектов ===\")\n",
    "    regular_users = create_regular_users()\n",
    "\n",
    "    print(\"=== Создание объектов со slots ===\")\n",
    "    slots_users = create_slots_users()\n",
    "\n",
    "    print(\n",
    "        f\"\\nРазмер одного обычного объекта: {sys.getsizeof(RegularUser(1, 'Test', 'test@example.com', 25)) + sys.getsizeof(RegularUser(1, 'Test', 'test@example.com', 25).__dict__)} байт\"\n",
    "    )\n",
    "    print(\n",
    "        f\"Размер одного объекта со slots: {sys.getsizeof(SlotsUser(1, 'Test', 'test@example.com', 25))} байт\"\n",
    "    )"
   ]
  },
  {
   "cell_type": "markdown",
   "id": "4bef05ac",
   "metadata": {},
   "source": [
    "## Переопределение dunder методов"
   ]
  },
  {
   "cell_type": "markdown",
   "id": "28a3c84f",
   "metadata": {},
   "source": [
    "Подходим к **магии** питона - определение **dunder** или **магических** методов. Определение таких методов позволяет нам встраивать наш класс в уже существующий функционал языка и пользоваться им на полную."
   ]
  },
  {
   "cell_type": "markdown",
   "id": "d87aeebe",
   "metadata": {},
   "source": [
    "Тут мы просто посмотрим на примере на базовые магические методы, на следующих лекциях будем рассматривать более серьезные магические методы и чего с ними можно добиться."
   ]
  },
  {
   "cell_type": "code",
   "execution_count": null,
   "id": "efd6929d",
   "metadata": {},
   "outputs": [],
   "source": [
    "from typing import Self\n",
    "\n",
    "\n",
    "class A:\n",
    "    def __init__(self, name: str) -> Self:\n",
    "        self.name = name\n",
    "\n",
    "    def __repr__(self) -> str:  #  Этот метод мы используем лишь для дебага\n",
    "        return f\"Object id: {id(self)}, object name: {self.name}\"\n",
    "\n",
    "    def __str__(self) -> str:  #  Этот метод вызывается когда мы делаем print\n",
    "        return f\"Объект класса {self.__class__} по имени {self.name}\"\n"
   ]
  },
  {
   "cell_type": "code",
   "execution_count": null,
   "id": "78da4c2d",
   "metadata": {},
   "outputs": [],
   "source": [
    "A(name=\"abc\")"
   ]
  },
  {
   "cell_type": "code",
   "execution_count": null,
   "id": "bcc96e46",
   "metadata": {},
   "outputs": [],
   "source": [
    "print(A(name=\"abc\"))"
   ]
  },
  {
   "cell_type": "markdown",
   "id": "919a8eda",
   "metadata": {},
   "source": [
    "Теперь переопределим арифметику, чтобы научить пользовательские классы в математику."
   ]
  },
  {
   "cell_type": "code",
   "execution_count": null,
   "id": "1faede5b",
   "metadata": {},
   "outputs": [],
   "source": [
    "from typing import Union, Any\n",
    "\n",
    "\n",
    "class A:\n",
    "    def __init__(self, x: int) -> Self:\n",
    "        self.x = x\n",
    "\n",
    "    def __add__(self, other: Self) -> Self:\n",
    "        return A(self.x + other.x)\n",
    "\n",
    "    def __iadd__(self, other: Self) -> Self:\n",
    "        self.x += other.x\n",
    "        return self\n",
    "\n",
    "    def __mul__(self, other: Union[int, Any]) -> Self:\n",
    "        print(\"A:mul\")\n",
    "        if type(other) is int:\n",
    "            return A(self.x * other)\n",
    "        elif hasattr(other, \"x\"):\n",
    "            return A(self.x * other.x)\n",
    "        else:\n",
    "            print(\"Не могу умножить!\")\n",
    "\n",
    "    def __rmul__(self, other: Union[int, Any]) -> Self:\n",
    "        print(\"A:rmul\")\n",
    "        if type(other) is int:\n",
    "            return A(self.x * other)\n",
    "        elif hasattr(other, \"x\"):\n",
    "            return A(self.x * other.x)\n",
    "        else:\n",
    "            print(\"Не могу умножить!\")\n",
    "\n",
    "    def __str__(self) -> str:\n",
    "        return f\"A({self.x})\"\n",
    "\n",
    "\n",
    "class B:\n",
    "    def __init__(self, x: int) -> Self:\n",
    "        self.x = x\n",
    "\n",
    "    def __str__(self) -> str:\n",
    "        return f\"B({self.x})\"\n"
   ]
  },
  {
   "cell_type": "code",
   "execution_count": null,
   "id": "9cc16326",
   "metadata": {},
   "outputs": [],
   "source": [
    "a = A(6)\n",
    "b = A(4)\n",
    "id_A = id(a)\n",
    "\n",
    "a += b\n",
    "assert id(a) == id_A\n",
    "\n",
    "a = a + b\n",
    "assert id(a) != id_A\n",
    "\n",
    "a.x"
   ]
  },
  {
   "cell_type": "markdown",
   "id": "9e2b2f8d",
   "metadata": {},
   "source": [
    "<div style=\"\n",
    "    background-color: #8B0000;\n",
    "    padding: 15px;\n",
    "    border: 2px dashed #ba0606;\n",
    "    border-radius: 5px;\n",
    "    text-align: center;\n",
    "    display: flex;\n",
    "    justify-content: center;\n",
    "    align-items: center;\n",
    "    min-height: 20px;\n",
    "\">\n",
    "<span style=\"color: white; font-weight: bold;\">\n",
    "        dunder методы с приставкой <strong>i</strong> возвращают self.\n",
    "    </span>\n",
    "</div>"
   ]
  },
  {
   "cell_type": "code",
   "execution_count": null,
   "id": "88a03591",
   "metadata": {},
   "outputs": [],
   "source": [
    "a = A(6)\n",
    "b = B(2)\n",
    "print(f\"a * 3 = {a * 3}\")\n",
    "print(f\"3 * a = {3 * a}\")\n",
    "print(f\"a * a = {a * a}\")\n",
    "print(f\"a * b = {a * b}\")\n",
    "print(f\"b * a = {b * a}\")"
   ]
  },
  {
   "cell_type": "markdown",
   "id": "515a7cc9",
   "metadata": {},
   "source": [
    "Видим, что тут независимо того того правое это умножение (`__rmul__`) или левое (`__mul__`) - так или иначе возвращается всегда объект класса A. Чтобы это исправить нужно переопределить умножение и у класса B."
   ]
  },
  {
   "cell_type": "code",
   "execution_count": null,
   "id": "a6da5ddf",
   "metadata": {},
   "outputs": [],
   "source": [
    "from typing import Union, Any\n",
    "\n",
    "\n",
    "class A:\n",
    "    def __init__(self, x: int) -> Self:\n",
    "        self.x = x\n",
    "\n",
    "    def __mul__(self, other: Union[int, Any]) -> Self:\n",
    "        print(\"A:mul\")\n",
    "        if type(other) is int:\n",
    "            return A(self.x * other)\n",
    "        elif hasattr(other, \"x\"):\n",
    "            return A(self.x * other.x)\n",
    "        else:\n",
    "            print(\"Не могу умножить!\")\n",
    "\n",
    "    def __rmul__(self, other: Union[int, Any]) -> Self:\n",
    "        print(\"A:rmul\")\n",
    "        if type(other) is int:\n",
    "            return A(self.x * other)\n",
    "        elif hasattr(other, \"x\"):\n",
    "            return A(self.x * other.x)\n",
    "        else:\n",
    "            print(\"Не могу умножить!\")\n",
    "\n",
    "    def __str__(self) -> str:\n",
    "        return f\"A({self.x})\"\n",
    "\n",
    "\n",
    "class B:\n",
    "    def __init__(self, x: int) -> Self:\n",
    "        self.x = x\n",
    "\n",
    "    def __mul__(self, other: Union[int, Any]) -> Self:\n",
    "        print(\"B:mul\")\n",
    "        if type(other) is int:\n",
    "            return B(self.x * other)\n",
    "        elif hasattr(other, \"x\"):\n",
    "            return B(self.x * other.x)\n",
    "        else:\n",
    "            print(\"Не могу умножить!\")\n",
    "\n",
    "    def __rmul__(self, other: Union[int, Any]) -> Self:\n",
    "        print(\"B:rmul\")\n",
    "        if type(other) is int:\n",
    "            return B(self.x * other)\n",
    "        elif hasattr(other, \"x\"):\n",
    "            return B(self.x * other.x)\n",
    "        else:\n",
    "            print(\"Не могу умножить!\")\n",
    "\n",
    "    def __str__(self) -> str:\n",
    "        return f\"B({self.x})\"\n"
   ]
  },
  {
   "cell_type": "code",
   "execution_count": null,
   "id": "6bfbfa8a",
   "metadata": {},
   "outputs": [],
   "source": [
    "a = A(6)\n",
    "b = B(2)\n",
    "print(f\"a * 3 = {a * 3}\")\n",
    "print(f\"3 * a = {3 * a}\")\n",
    "print(f\"a * a = {a * a}\")\n",
    "print(f\"a * b = {a * b}\")\n",
    "print(f\"b * a = {b * a}\")"
   ]
  },
  {
   "cell_type": "markdown",
   "id": "dd127370",
   "metadata": {},
   "source": [
    "А вот теперь видим, что в одно из умножений у нас создался новый инстанс класса B."
   ]
  },
  {
   "cell_type": "markdown",
   "id": "7cf892b5",
   "metadata": {},
   "source": [
    "Давайте теперь создадим `Callable` класс: реализуем магический метод `__call__`:"
   ]
  },
  {
   "cell_type": "code",
   "execution_count": null,
   "id": "d41877ec",
   "metadata": {},
   "outputs": [],
   "source": [
    "class Power:\n",
    "    def __init__(self, p: float):\n",
    "        self.p = p\n",
    "\n",
    "    def __call__(self, a: float) -> float:\n",
    "        return a**self.p\n",
    "\n",
    "\n",
    "power = Power(3)\n",
    "power(4)"
   ]
  },
  {
   "cell_type": "markdown",
   "id": "e395343a",
   "metadata": {},
   "source": [
    "На семинаре предлагается рассмотреть `__len__`, магические методы сравнимости класса и побольше поиграться с хешируемостью объекта."
   ]
  },
  {
   "cell_type": "markdown",
   "id": "627bf643",
   "metadata": {},
   "source": [
    "## Property"
   ]
  },
  {
   "cell_type": "code",
   "execution_count": null,
   "id": "a3a491cb",
   "metadata": {},
   "outputs": [],
   "source": [
    "help(property)"
   ]
  },
  {
   "cell_type": "markdown",
   "id": "8aee7a3c",
   "metadata": {},
   "source": [
    "<div style=\"\n",
    "    background-color: #44944A;\n",
    "    padding: 15px;\n",
    "    border-radius: 10px;\n",
    "    border: 1px solid #fbfbfbff;\n",
    "    text-align: center;\n",
    "    display: flex;\n",
    "    justify-content: center;\n",
    "    align-items: center;\n",
    "    min-height: 15px;\n",
    "\">\n",
    "    <span style=\"color: white; font-weight: bold;\">\n",
    "        <strong>property</strong> позволяет нам управлять атрибутом класса.\n",
    "    </span>\n",
    "</div>"
   ]
  },
  {
   "cell_type": "code",
   "execution_count": null,
   "id": "d68375ac",
   "metadata": {},
   "outputs": [],
   "source": [
    "from typing import Self\n",
    "\n",
    "\n",
    "class LineItem:\n",
    "    def __init__(self, description: str, weight: float, price: int) -> Self:\n",
    "        self.description = description\n",
    "        self.weight = weight  # Теперь тут вызовется метод set_weight\n",
    "        self.price = price\n",
    "\n",
    "    def subtotal(self) -> float:\n",
    "        return self.weight * self.price\n",
    "\n",
    "    def get_weight(self) -> float:\n",
    "        print(\"Получаем вес!\")\n",
    "        return self.__weight\n",
    "\n",
    "    def set_weight(self, value) -> None:\n",
    "        print(\"Устанавливаем вес!\")\n",
    "        if value > 0:\n",
    "            self.__weight = value\n",
    "        else:\n",
    "            raise ValueError(\"value must be > 0\")\n",
    "\n",
    "    weight = property(fget=get_weight, fset=set_weight)"
   ]
  },
  {
   "cell_type": "markdown",
   "id": "3c496707",
   "metadata": {},
   "source": [
    "На самом деле чаще property используют как декоратор, но об этом мы поговорим на лекции про декораторы."
   ]
  },
  {
   "cell_type": "code",
   "execution_count": null,
   "id": "a6f30719",
   "metadata": {},
   "outputs": [],
   "source": [
    "item = LineItem(description=\"Чемодан\", weight=3.4, price=300)"
   ]
  },
  {
   "cell_type": "markdown",
   "id": "b060ff7a",
   "metadata": {},
   "source": [
    "## Контроль доступа"
   ]
  },
  {
   "cell_type": "markdown",
   "id": "3628e15a",
   "metadata": {},
   "source": [
    "<div style=\"\n",
    "    background-color: #44944A;\n",
    "    padding: 15px;\n",
    "    border-radius: 10px;\n",
    "    border: 1px solid #fbfbfbff;\n",
    "    text-align: center;\n",
    "    display: flex;\n",
    "    justify-content: center;\n",
    "    align-items: center;\n",
    "    min-height: 15px;\n",
    "\">\n",
    "    <span style=\"color: white; font-weight: bold;\">\n",
    "        По дефолту все атрибуты публичны.\n",
    "    </span>\n",
    "</div>"
   ]
  },
  {
   "cell_type": "markdown",
   "id": "927d7b36",
   "metadata": {},
   "source": [
    "Но вот если я хочу, чтобы никто не мог получить доступ к какому-то атрибуту моего класса, что тогад нужно сделать?\n",
    "\n",
    "Для этого есть **private** и **protected** поля!"
   ]
  },
  {
   "cell_type": "markdown",
   "id": "06f01800",
   "metadata": {},
   "source": [
    "### Private"
   ]
  },
  {
   "cell_type": "markdown",
   "id": "79ebebd9",
   "metadata": {},
   "source": [
    "В питоне нет как таковой приватности у атрибутов, но люди часто используют _ или __, чтобы указать на приватность атрибута. Давайте разберемся что это и зачем."
   ]
  },
  {
   "cell_type": "markdown",
   "id": "8a3f523f",
   "metadata": {},
   "source": [
    "<div style=\"\n",
    "    background-color: #8B0000;\n",
    "    padding: 15px;\n",
    "    border: 2px dashed #ba0606;\n",
    "    border-radius: 5px;\n",
    "    text-align: center;\n",
    "    display: flex;\n",
    "    justify-content: center;\n",
    "    align-items: center;\n",
    "    min-height: 20px;\n",
    "\">\n",
    "<span style=\"color: white; font-weight: bold;\">\n",
    "        __ не обеспечивает приватность атрибута!\n",
    "    </span>\n",
    "</div>"
   ]
  },
  {
   "cell_type": "markdown",
   "id": "1532aafe",
   "metadata": {},
   "source": [
    "Сперва развеем миф о том, что двойное подчеркивание у атрибута обеспечивает его приватность."
   ]
  },
  {
   "cell_type": "code",
   "execution_count": null,
   "id": "05e47831",
   "metadata": {},
   "outputs": [],
   "source": [
    "class SampleClass:\n",
    "    __slots__ = \"__name\"\n",
    "\n",
    "    def __init__(self, name: str) -> Self:\n",
    "        self.__name = name\n",
    "\n",
    "        print(f\"{self.__name} родился!\")"
   ]
  },
  {
   "cell_type": "code",
   "execution_count": null,
   "id": "d0759c4b",
   "metadata": {},
   "outputs": [],
   "source": [
    "SampleClass.__dict__"
   ]
  },
  {
   "cell_type": "code",
   "execution_count": null,
   "id": "caf583a2",
   "metadata": {},
   "outputs": [],
   "source": [
    "SampleClass(name=\"abc\").__name"
   ]
  },
  {
   "cell_type": "code",
   "execution_count": null,
   "id": "fb513919",
   "metadata": {},
   "outputs": [],
   "source": [
    "SampleClass.__name"
   ]
  },
  {
   "cell_type": "markdown",
   "id": "e0b37057",
   "metadata": {},
   "source": [
    "Эх, никак не можем получить доступ. Неужели мы обеспечили приватнось? Конечно же нет:"
   ]
  },
  {
   "cell_type": "code",
   "execution_count": null,
   "id": "5cf94dd5",
   "metadata": {},
   "outputs": [],
   "source": [
    "SampleClass(name=\"abc\")._SampleClass__name"
   ]
  },
  {
   "cell_type": "markdown",
   "id": "9864572e",
   "metadata": {},
   "source": [
    "А вот и достали нашу скрытую переменную. \"Приватные\" переменные можно вытащить из класса или инстанса класса посредством следующего нейминга: _ + `__class__` + private_attribute_name"
   ]
  },
  {
   "cell_type": "markdown",
   "id": "2649548e",
   "metadata": {},
   "source": [
    "<div style=\"\n",
    "    background-color: #8B0000;\n",
    "    padding: 15px;\n",
    "    border: 2px dashed #ba0606;\n",
    "    border-radius: 5px;\n",
    "    text-align: center;\n",
    "    display: flex;\n",
    "    justify-content: center;\n",
    "    align-items: center;\n",
    "    min-height: 20px;\n",
    "\">\n",
    "<span style=\"color: white; font-weight: bold;\">\n",
    "        Никогда не используйте двойное подчеркивание в нейминге атрибутов.\n",
    "    </span>\n",
    "</div>"
   ]
  },
  {
   "cell_type": "markdown",
   "id": "14f579fe",
   "metadata": {},
   "source": [
    "### Protected"
   ]
  },
  {
   "cell_type": "markdown",
   "id": "eb4ed881",
   "metadata": {},
   "source": [
    "Вместо двойного подчеркивание разработчики договорились использовать одно подчеркивание - общая конвенция не трогать атрибуты, имя которых начинается с подчеркивания. Так и обеспечивается якобы приватность атрибутов в питоне."
   ]
  },
  {
   "cell_type": "code",
   "execution_count": null,
   "id": "644d0fc2",
   "metadata": {},
   "outputs": [],
   "source": [
    "class SampleClass:\n",
    "    __slots__ = \"_name\"\n",
    "\n",
    "    def __init__(self, name: str) -> Self:\n",
    "        self._name = name\n",
    "\n",
    "        print(f\"{self._name} родился!\")"
   ]
  },
  {
   "cell_type": "code",
   "execution_count": null,
   "id": "5d51ada7",
   "metadata": {},
   "outputs": [],
   "source": [
    "SampleClass(name=\"abc\")._name"
   ]
  },
  {
   "cell_type": "markdown",
   "id": "60edabb7",
   "metadata": {},
   "source": [
    "## Dataclass"
   ]
  },
  {
   "cell_type": "markdown",
   "id": "afccf8e2",
   "metadata": {},
   "source": [
    "<div style=\"\n",
    "    background-color: #44944A;\n",
    "    padding: 15px;\n",
    "    border-radius: 10px;\n",
    "    border: 1px solid #fbfbfbff;\n",
    "    text-align: center;\n",
    "    display: flex;\n",
    "    justify-content: center;\n",
    "    align-items: center;\n",
    "    min-height: 15px;\n",
    "\">\n",
    "    <span style=\"color: white; font-weight: bold;\">\n",
    "        dataclass - декоратор, модифицирующий поведение класса.\n",
    "    </span>\n",
    "</div>"
   ]
  },
  {
   "cell_type": "markdown",
   "id": "59e79663",
   "metadata": {},
   "source": [
    "Иногда нам нужен класс, который по сути представляет из себя структуру: в некоторых языках программирования есть отдельная сущность структура, которая представляет из себя что-то меньшее нежели класс, чаще всего это некое объединение множества полей в одно логическое имя."
   ]
  },
  {
   "cell_type": "markdown",
   "id": "8a9cf8b6",
   "metadata": {},
   "source": [
    "Например, мы хотим написать класс, который просто хранит информацию о тесте:"
   ]
  },
  {
   "cell_type": "code",
   "execution_count": null,
   "id": "77407f73",
   "metadata": {},
   "outputs": [],
   "source": [
    "from dataclasses import dataclass\n",
    "\n",
    "\n",
    "@dataclass\n",
    "class Case:\n",
    "    name: str\n",
    "    given: int\n",
    "    expected: int\n",
    "\n",
    "\n",
    "class CaseClass:\n",
    "    def __init__(self, name: str, given: int, expected: int) -> Self:\n",
    "        self.name = name\n",
    "        self.given = given\n",
    "        self.expected = expected\n",
    "\n",
    "    def __eq__(self, other: Self) -> bool:\n",
    "        return (self.name, self.given, self.expected) == (\n",
    "            other.name,\n",
    "            other.given,\n",
    "            other.expected,\n",
    "        )\n",
    "\n",
    "    def __repr__(self) -> str:\n",
    "        return f\"Case(name='{self.name}', given='{self.given}', expected='{self.expected}')\"\n",
    "\n",
    "\n",
    "c = Case(\"test_name\", 2, 10)\n",
    "c"
   ]
  },
  {
   "cell_type": "code",
   "execution_count": null,
   "id": "9fcc691a",
   "metadata": {},
   "outputs": [],
   "source": [
    "set(dir(Case)) - set(dir(CaseClass))"
   ]
  },
  {
   "cell_type": "markdown",
   "id": "87ebaad3",
   "metadata": {},
   "source": [
    "Данный декоратор добавил нашему классу некоторые атрибуты."
   ]
  },
  {
   "cell_type": "markdown",
   "id": "2e0f6ade",
   "metadata": {},
   "source": [
    "Можно конфигурировать датаклассы:"
   ]
  },
  {
   "cell_type": "code",
   "execution_count": null,
   "id": "47d94a98",
   "metadata": {},
   "outputs": [],
   "source": [
    "help(dataclass)"
   ]
  },
  {
   "cell_type": "code",
   "execution_count": null,
   "id": "e7d4e591",
   "metadata": {},
   "outputs": [],
   "source": [
    "from dataclasses import dataclass, field\n",
    "\n",
    "\n",
    "@dataclass(init=True, repr=True, eq=True, order=True, unsafe_hash=True, frozen=True)\n",
    "class Case:\n",
    "    name: str\n",
    "    given: int\n",
    "    expected: object\n",
    "    s: int = field(default=10)\n",
    "\n",
    "\n",
    "c = Case(\"test_name\", 2, 1)\n",
    "print(c)"
   ]
  },
  {
   "cell_type": "markdown",
   "id": "d4f9a6eb",
   "metadata": {},
   "source": [
    "Например, из-за флага frozen нельзя изменять инстанс датакласса:"
   ]
  },
  {
   "cell_type": "code",
   "execution_count": null,
   "id": "c055d5b2",
   "metadata": {},
   "outputs": [],
   "source": [
    "c.given = 3"
   ]
  },
  {
   "cell_type": "markdown",
   "id": "4a680168",
   "metadata": {},
   "source": [
    "## Enum"
   ]
  },
  {
   "cell_type": "markdown",
   "id": "af6a134c",
   "metadata": {},
   "source": [
    "Еще один очень полезный тип классов - перечисление (от слова enumerate). Данный тип используется когда мы хотим завести тип с несколькими фиксированными значениями, например, тип операционной системы:"
   ]
  },
  {
   "cell_type": "markdown",
   "id": "5bf0b209",
   "metadata": {},
   "source": [
    "Чтобы сделать класс Enum'ом нужно наследовать его от `Enum`."
   ]
  },
  {
   "cell_type": "code",
   "execution_count": null,
   "id": "b98cb4eb",
   "metadata": {},
   "outputs": [],
   "source": [
    "from enum import Enum\n",
    "\n",
    "\n",
    "class DeviceType(Enum):\n",
    "    ANDROID = \"android\"\n",
    "    WINDOWS = \"windows\"\n",
    "    IOS = \"ios\"\n",
    "    LINUX = \"linux\"\n",
    "    MACOS = \"macos\"\n",
    "    OTHER = \"other\""
   ]
  },
  {
   "cell_type": "code",
   "execution_count": null,
   "id": "7c52d9b2",
   "metadata": {},
   "outputs": [],
   "source": [
    "type(DeviceType.MACOS)"
   ]
  },
  {
   "cell_type": "code",
   "execution_count": null,
   "id": "76280fe8",
   "metadata": {},
   "outputs": [],
   "source": [
    "d1 = DeviceType.MACOS\n",
    "d2 = DeviceType.MACOS\n",
    "d1 == d2, d1 is d2"
   ]
  },
  {
   "cell_type": "markdown",
   "id": "aa0c6562",
   "metadata": {},
   "source": [
    "Заметим, что значения в enum - всегда создаются только один раз."
   ]
  },
  {
   "cell_type": "code",
   "execution_count": null,
   "id": "b2b670a8",
   "metadata": {},
   "outputs": [],
   "source": [
    "DeviceType.MACOS.name, DeviceType.MACOS.value"
   ]
  },
  {
   "cell_type": "code",
   "execution_count": null,
   "id": "d8c0cd15",
   "metadata": {},
   "outputs": [],
   "source": [
    "{DeviceType.MACOS: 1, DeviceType.WINDOWS: 2}"
   ]
  }
 ],
 "metadata": {
  "kernelspec": {
   "display_name": ".venv",
   "language": "python",
   "name": "python3"
  },
  "language_info": {
   "codemirror_mode": {
    "name": "ipython",
    "version": 3
   },
   "file_extension": ".py",
   "mimetype": "text/x-python",
   "name": "python",
   "nbconvert_exporter": "python",
   "pygments_lexer": "ipython3",
   "version": "3.13.3"
  }
 },
 "nbformat": 4,
 "nbformat_minor": 5
}
