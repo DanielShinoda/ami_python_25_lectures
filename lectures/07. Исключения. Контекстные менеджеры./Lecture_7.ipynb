{
 "cells": [
  {
   "cell_type": "markdown",
   "id": "19a0aeac",
   "metadata": {},
   "source": [
    "# Python-1, Лекция 7\n",
    "\n",
    "Лектор: Хайбулин Даниэль\n",
    "\n",
    "Подготовил материал: Лущ Иван"
   ]
  },
  {
   "cell_type": "markdown",
   "id": "6fe64bd5",
   "metadata": {},
   "source": [
    "Итак, сегодня мы поговорим про **исключения** и **контекстные менеджеры**."
   ]
  },
  {
   "cell_type": "markdown",
   "id": "85793c5c",
   "metadata": {},
   "source": [
    "### Исключения"
   ]
  },
  {
   "cell_type": "markdown",
   "id": "a31e619a",
   "metadata": {},
   "source": [
    "Обработка ошибок — одна из наиболее дискуссионных тем в программировании. Можно сказать, что вокруг подходов к организации работы с ошибками во время выполнения программы формируются \"религии\" среди программистов."
   ]
  },
  {
   "cell_type": "markdown",
   "id": "874afd56",
   "metadata": {},
   "source": [
    "Давайте рассмотрим ситуацию, в которой будет ошибка из-за попытки открытия несуществующего файла:"
   ]
  },
  {
   "cell_type": "code",
   "execution_count": null,
   "id": "d3ef12e8",
   "metadata": {},
   "outputs": [],
   "source": [
    "with open(\"non_existent_file.txt\", \"r\") as f:\n",
    "    ..."
   ]
  },
  {
   "cell_type": "markdown",
   "id": "7720cab4",
   "metadata": {},
   "source": [
    "В различных языках программирования и парадигмах вопросы обработки ошибок решаются по-разному. Наиболее распространённые подходы включают:\n",
    "\n",
    "— использование кодов возврата (**return codes**) в языке `C`, когда функция сообщает об ошибке через специальное возвращаемое значение,\n",
    "\n",
    "— введение специального типа (`Result` в `Rust`, `error` в `Go`, `std::expected` в `C++`) и сопутствующих конструкций для его обработки (например, `match` в `Rust`),\n",
    "\n",
    "— применение механизма **исключений** (`exceptions`) в таких языках, как `Python`, `Java`, `C++`,\n",
    "\n",
    "Подход к обработке ошибок оказывает существенное влияние и на стиль программирования (идиомы), и на удобство сопровождения программного кода, и на безопасность исполнения."
   ]
  },
  {
   "cell_type": "markdown",
   "id": "ac38e452",
   "metadata": {},
   "source": [
    "Рассмотрим дополнительные примеры возникновений исключений:"
   ]
  },
  {
   "cell_type": "code",
   "execution_count": null,
   "id": "ff754dac",
   "metadata": {},
   "outputs": [],
   "source": [
    "1 / 0"
   ]
  },
  {
   "cell_type": "code",
   "execution_count": null,
   "id": "02b13a03",
   "metadata": {},
   "outputs": [],
   "source": [
    "int(\"not a number\")"
   ]
  },
  {
   "cell_type": "code",
   "execution_count": null,
   "id": "0b29cf47",
   "metadata": {},
   "outputs": [],
   "source": [
    "print(not_defined_variable)"
   ]
  },
  {
   "cell_type": "code",
   "execution_count": null,
   "id": "f79a43fe",
   "metadata": {},
   "outputs": [],
   "source": [
    "[0] * 1_000_000_000_000_000_000"
   ]
  },
  {
   "cell_type": "markdown",
   "id": "cb3f7758",
   "metadata": {},
   "source": [
    "В `Python` для перехвата исключений используется конструкция `try...except`:"
   ]
  },
  {
   "cell_type": "code",
   "execution_count": null,
   "id": "0dd0bd14",
   "metadata": {},
   "outputs": [],
   "source": [
    "try:\n",
    "    ...  # код, который может вызвать исключение\n",
    "except Exception:\n",
    "    ...  # обработка исключения"
   ]
  },
  {
   "cell_type": "markdown",
   "id": "7613bcc2",
   "metadata": {},
   "source": [
    "Перехват исключений позволяет:\n",
    "\n",
    "- Не прерывать работу программы при возникновении ошибки.\n",
    "- Корректно реагировать на разные типы ошибок.\n",
    "- Выдавать понятные сообщения, делать повторные попытки и т.д.\n",
    "\n",
    "К примеру:"
   ]
  },
  {
   "cell_type": "code",
   "execution_count": null,
   "id": "7b904a88",
   "metadata": {},
   "outputs": [],
   "source": [
    "try:\n",
    "    x = 1 / 0\n",
    "except ZeroDivisionError:\n",
    "    print(\"Нельзя делить на ноль!\")"
   ]
  },
  {
   "cell_type": "markdown",
   "id": "5cc23246",
   "metadata": {},
   "source": [
    "Можно обрабатывать несколько типов исключений:"
   ]
  },
  {
   "cell_type": "code",
   "execution_count": null,
   "id": "e5cb4e40",
   "metadata": {},
   "outputs": [],
   "source": [
    "try:\n",
    "    s = input(\"Введите число: \")\n",
    "    n = int(s)\n",
    "    print(10 / n)\n",
    "except ValueError:\n",
    "    print(\"Это не число!\")\n",
    "except ZeroDivisionError:\n",
    "    print(\"Вы ввели ноль, деление невозможно.\")"
   ]
  },
  {
   "cell_type": "markdown",
   "id": "2b6121cf",
   "metadata": {},
   "source": [
    "Можно перехватывать сразу несколько исключений, указав их в круглых скобках в виде кортежа (`tuple`) в блоке `except`:"
   ]
  },
  {
   "cell_type": "code",
   "execution_count": null,
   "id": "96590ce9",
   "metadata": {},
   "outputs": [],
   "source": [
    "import typing as tp\n",
    "\n",
    "\n",
    "def add_numbers(a: tp.Any, b: tp.Any) -> float:\n",
    "    try:\n",
    "        return float(a) + float(b)\n",
    "    except (ValueError, TypeError) as err:\n",
    "        print(\"Ошибка значения или типа:\", err)\n",
    "        return None\n",
    "\n",
    "\n",
    "print(add_numbers(\"10\", \"5.5\"))\n",
    "print(add_numbers(\"abc\", \"3\"))\n",
    "print(add_numbers([1, 2], \"3\"))"
   ]
  },
  {
   "cell_type": "markdown",
   "id": "f97ec921",
   "metadata": {},
   "source": [
    "Иногда бывает удобно перехватить сразу все «обычные» исключения (унаследованные от `Exception`), чтобы вывести ошибку пользователю (например, в пользовательском интерфейсе или логе), не прерывая всю программу аварийно:"
   ]
  },
  {
   "cell_type": "code",
   "execution_count": null,
   "id": "539b3342",
   "metadata": {},
   "outputs": [],
   "source": [
    "# вспомогательный код для следующей ячейки\n",
    "with open(\"positive.txt\", \"w\") as f:\n",
    "    print(5, file=f)\n",
    "\n",
    "\n",
    "with open(\"zero.txt\", \"w\") as f:\n",
    "    print(0, file=f)\n",
    "\n",
    "\n",
    "with open(\"text.txt\", \"w\") as f:\n",
    "    print(\"text\", file=f)"
   ]
  },
  {
   "cell_type": "code",
   "execution_count": null,
   "id": "a798f4e5",
   "metadata": {},
   "outputs": [],
   "source": [
    "def main() -> None:\n",
    "    # Попробуйте ввести:\n",
    "    # - positive.txt\n",
    "    # - zero.txt\n",
    "    # - text.txt\n",
    "    # - non_existent_file.txt\n",
    "    filename = input(\"Введите имя файла с числом: \")\n",
    "\n",
    "    try:\n",
    "        with open(filename) as f:\n",
    "            num = int(f.read().strip())\n",
    "        result = 100 / num\n",
    "    except Exception as exc:\n",
    "        print(\"Что-то пошло не так:\", exc)\n",
    "        return\n",
    "\n",
    "    print(\"Результат деления 100 на\", num, \"равен\", result)\n",
    "\n",
    "\n",
    "if __name__ == \"__main__\":\n",
    "    main()"
   ]
  },
  {
   "cell_type": "markdown",
   "id": "4d3c2887",
   "metadata": {},
   "source": [
    "В конструкции `try...except` можно также использовать дополнительные блоки `else` и `finally`, чтобы более гибко управлять поведением программы в зависимости от наличия или отсутствия ошибок.\n",
    "\n",
    "\n",
    "- Блок `else` срабатывает только если в блоке `try` не возникло исключения.\n",
    "- Блок `finally` выполняется в любом случае: была ошибка или нет (например, для освобождения ресурсов).\n"
   ]
  },
  {
   "cell_type": "code",
   "execution_count": null,
   "id": "9d408819",
   "metadata": {},
   "outputs": [],
   "source": [
    "# вспомогательный код для следующей ячейки\n",
    "with open(\"data.txt\", \"w\") as f:\n",
    "    print(\"I hate exceptions\", file=f)"
   ]
  },
  {
   "cell_type": "code",
   "execution_count": null,
   "id": "a6fa0f37",
   "metadata": {},
   "outputs": [],
   "source": [
    "def main() -> None:\n",
    "    # Попробуйте ввести:\n",
    "    # - data.txt\n",
    "    # - non_existent_file.txt\n",
    "    filename = input()\n",
    "\n",
    "    try:\n",
    "        file = open(filename)\n",
    "    except FileNotFoundError:\n",
    "        print(\"Файл не найден.\")\n",
    "    else:\n",
    "        print(\"Файл успешно открыт!\")\n",
    "        # Здесь можно безопасно работать с файлом, если открытие прошло без ошибок\n",
    "        print(\"Первые 10 символов файла:\", file.read(10))\n",
    "    finally:\n",
    "        # Этот блок выполнится всегда\n",
    "        try:\n",
    "            file.close()\n",
    "            print(\"Файл закрыт.\")\n",
    "        except NameError:\n",
    "            print(\"Файл не был открыт, закрывать нечего.\")\n",
    "\n",
    "\n",
    "if __name__ == \"__main__\":\n",
    "    main()"
   ]
  },
  {
   "cell_type": "markdown",
   "id": "1f5ae49d",
   "metadata": {},
   "source": [
    "В стандартной библиотеке Python определено множество видов исключений, структурированных в виде иерархии. Ниже приведена полная иерархия стандартных исключений:"
   ]
  },
  {
   "cell_type": "markdown",
   "id": "9feb3a44",
   "metadata": {},
   "source": [
    "https://docs.python.org/3/library/exceptions.html#exception-hierarchy"
   ]
  },
  {
   "cell_type": "markdown",
   "id": "c3c23148",
   "metadata": {},
   "source": [
    "```\n",
    "BaseException\n",
    " ├── BaseExceptionGroup\n",
    " ├── GeneratorExit\n",
    " ├── KeyboardInterrupt\n",
    " ├── SystemExit\n",
    " └── Exception\n",
    "      ├── ArithmeticError\n",
    "      │    ├── FloatingPointError\n",
    "      │    ├── OverflowError\n",
    "      │    └── ZeroDivisionError\n",
    "      ├── AssertionError\n",
    "      ├── AttributeError\n",
    "      ├── BufferError\n",
    "      ├── EOFError\n",
    "      ├── ExceptionGroup [BaseExceptionGroup]\n",
    "      ├── ImportError\n",
    "      │    └── ModuleNotFoundError\n",
    "      ├── LookupError\n",
    "      │    ├── IndexError\n",
    "      │    └── KeyError\n",
    "      ├── MemoryError\n",
    "      ├── NameError\n",
    "      │    └── UnboundLocalError\n",
    "      ├── OSError\n",
    "      │    ├── BlockingIOError\n",
    "      │    ├── ChildProcessError\n",
    "      │    ├── ConnectionError\n",
    "      │    │    ├── BrokenPipeError\n",
    "      │    │    ├── ConnectionAbortedError\n",
    "      │    │    ├── ConnectionRefusedError\n",
    "      │    │    └── ConnectionResetError\n",
    "      │    ├── FileExistsError\n",
    "      │    ├── FileNotFoundError\n",
    "      │    ├── InterruptedError\n",
    "      │    ├── IsADirectoryError\n",
    "      │    ├── NotADirectoryError\n",
    "      │    ├── PermissionError\n",
    "      │    ├── ProcessLookupError\n",
    "      │    └── TimeoutError\n",
    "      ├── ReferenceError\n",
    "      ├── RuntimeError\n",
    "      │    ├── NotImplementedError\n",
    "      │    ├── PythonFinalizationError\n",
    "      │    └── RecursionError\n",
    "      ├── StopAsyncIteration\n",
    "      ├── StopIteration\n",
    "      ├── SyntaxError\n",
    "      │    └── IndentationError\n",
    "      │         └── TabError\n",
    "      ├── SystemError\n",
    "      ├── TypeError\n",
    "      ├── ValueError\n",
    "      │    └── UnicodeError\n",
    "      │         ├── UnicodeDecodeError\n",
    "      │         ├── UnicodeEncodeError\n",
    "      │         └── UnicodeTranslateError\n",
    "      └── Warning\n",
    "           ├── BytesWarning\n",
    "           ├── DeprecationWarning\n",
    "           ├── EncodingWarning\n",
    "           ├── FutureWarning\n",
    "           ├── ImportWarning\n",
    "           ├── PendingDeprecationWarning\n",
    "           ├── ResourceWarning\n",
    "           ├── RuntimeWarning\n",
    "           ├── SyntaxWarning\n",
    "           ├── UnicodeWarning\n",
    "           └── UserWarning\n",
    "```"
   ]
  },
  {
   "cell_type": "markdown",
   "id": "32f6d81e",
   "metadata": {},
   "source": [
    "\n",
    "`BaseException` — \"корень\" всей иерархии; все остальные исключения наследуются от этого класса.\n",
    "Исключения делятся на две больших ветви:\n",
    "\n",
    "- Исключения, наследуемые от `BaseException` (**но НЕ от `Exception`**), например:\n",
    "    - `KeyboardInterrupt` — прерывание с клавиатуры (`Ctrl+C`)\n",
    "    \n",
    "    - `SystemExit` — выход из интерпретатора\n",
    "    \n",
    "    - `GeneratorExit` — завершение генератора (узнаем чуть позже, что такое генераторы и что это за исключение)\n",
    "    \n",
    "    Эти обычно не стоит перехватывать в `except Exception`, иначе вы блокируете возможность корректного выхода из программы.\n",
    "\n",
    "- Все остальные (от `Exception`) — это исключения, появляющиеся в повседневном коде, которые обычно мы и обрабатываем.\n"
   ]
  },
  {
   "cell_type": "markdown",
   "id": "58c8d4f8",
   "metadata": {},
   "source": [
    "`try...except` без уточнения типа **перехватывает все исключения**, то есть любые экземпляры, наследуемые от `BaseException`, включая `SystemExit`, `KeyboardInterrupt`, `GeneratorExit` и даже пользовательские, которые напрямую наследуются от `BaseException`."
   ]
  },
  {
   "cell_type": "code",
   "execution_count": null,
   "id": "cc70f5f5",
   "metadata": {},
   "outputs": [],
   "source": [
    "try:\n",
    "    raise KeyboardInterrupt(\"CTRL+C\")\n",
    "except:\n",
    "    print(\"Перехвачено!\")"
   ]
  },
  {
   "cell_type": "markdown",
   "id": "defb2d6a",
   "metadata": {},
   "source": [
    "Уже отмечалось, что перехват исключений, наследуемых непосредственно от `BaseException`, но не являющихся подклассами `Exception`, (таких как `SystemExit`, `KeyboardInterrupt`, `GeneratorExit` и др.) считается плохой практикой и, как правило, должен избегаться. \n",
    "\n",
    "Для отлова обычных ошибок рекомендуется использовать конструкцию `except Exception:`, чтобы не нарушать корректную работу интерпретатора `Python`, такую как, например, возможность завершить программу с помощью сочетания клавиш `Ctrl+C (KeyboardInterrupt)`."
   ]
  },
  {
   "cell_type": "markdown",
   "id": "150a0757",
   "metadata": {},
   "source": [
    "Важные группы `Exception`:\n",
    "\n",
    "\n",
    "- `ArithmeticError`: ошибки арифметики — деление на ноль, переполнение, ошибки с плавающей точкой.\n",
    "- `LookupError`: для неудачных обращений по индексу (`IndexError`) и ключу (`KeyError`).\n",
    "- `OSError`: все ошибки, связанные с операционной системой — файлы, процессы, соединения.\n",
    "- `RuntimeError`, `ValueError`, `TypeError` — \"общие\" ошибки, возникающие при неправильных входных данных, нарушениях логики и т.п.\n",
    "- `ImportError`, `ModuleNotFoundError`: ошибки импорта модулей.\n",
    "- `SyntaxError`, `IndentationError`, `TabError`: нарушения синтаксиса, проблемы с отступами в исходном коде.\n"
   ]
  },
  {
   "cell_type": "markdown",
   "id": "455802e4",
   "metadata": {},
   "source": [
    "![](1f11cc1d97095debe72a443bc576e2ed.jpg)"
   ]
  },
  {
   "cell_type": "markdown",
   "id": "e64932c7",
   "metadata": {},
   "source": [
    "`IndentationError` — это разновидность `SyntaxError` и относится к исключениям уровня компиляции, возникает во время разбора (парсинга) кода `Python`, до его фактического выполнения. Поэтому перехватить `IndentationError` в обычном `try...except` вокруг кода с ошибкой невозможно — такой код даже не исполнится."
   ]
  },
  {
   "cell_type": "code",
   "execution_count": null,
   "id": "a22c1360",
   "metadata": {},
   "outputs": [],
   "source": [
    "def test():\n",
    "print(\"Ошибка отступа!\")"
   ]
  },
  {
   "cell_type": "markdown",
   "id": "a6d164d9",
   "metadata": {},
   "source": [
    "Однако можно обработать ситуацию, когда вы исполняете или компилируете строку с ошибочной программой во время выполнения. Например, с помощью функции `exec()`:"
   ]
  },
  {
   "cell_type": "code",
   "execution_count": null,
   "id": "488e254a",
   "metadata": {},
   "outputs": [],
   "source": [
    "code = \"\"\"\n",
    "def test():\n",
    "print(\"Ошибка отступа!\")\n",
    "\"\"\"\n",
    "\n",
    "try:\n",
    "    # функция exec выполняет код, представленный в виде строки\n",
    "    exec(code)\n",
    "except IndentationError as e:\n",
    "    print(\"IndentationError:\", e)\n",
    "except SyntaxError as e:\n",
    "    print(\"Другая синтаксическая ошибка:\", e)"
   ]
  },
  {
   "cell_type": "markdown",
   "id": "59796797",
   "metadata": {},
   "source": [
    "В представленной иерархии существует, пожалуй, наиболее необычный (на взгляд автора) подкласс исключений — `Warning`.\n",
    "\n",
    "`Warning` и подклассы используются не для ошибок, а для сообщений-предупреждений (не прерывают выполнение, можно перехватывать через модуль `warnings`). Подробное рассмотрение предупреждений будет проведено в заключительной части данного топика."
   ]
  },
  {
   "cell_type": "markdown",
   "id": "1a001d99",
   "metadata": {},
   "source": [
    "\n",
    "\n",
    "Отдельно следует отметить, что начиная с `Python 3.11` появились **exception-группы** (`ExceptionGroup`), предназначенные для поддержки работы с несколькими одновременно возникшими исключениями, что особенно актуально при работе с асинхронным кодом. Для обработки таких групп введена специальная конструкция `except*`. Однако в рамках данного материала мы не будем подробно рассматривать этот механизм, поскольку для его понимания требуется предварительное освоение принципов работы с корутинами.\n",
    "\n"
   ]
  },
  {
   "cell_type": "markdown",
   "id": "82562429",
   "metadata": {},
   "source": [
    "Теперь, когда мы разобрались с перехватом исключений, рассмотрим, как инициировать их возникновение самостоятельно (так называемое \"бросание\" исключений):"
   ]
  },
  {
   "cell_type": "code",
   "execution_count": null,
   "id": "dff29c21",
   "metadata": {},
   "outputs": [],
   "source": [
    "raise Exception(\"Исключение!\")"
   ]
  },
  {
   "cell_type": "markdown",
   "id": "97078bf9",
   "metadata": {},
   "source": [
    "Оператор `raise` требует, чтобы в качестве аргумента ему передавался объект, являющийся экземпляром класса, производного от `BaseException`. Передача в качестве аргумента объекта, не являющегося экземпляром класса, производного от `BaseException` (например, строки или числа), приведёт к возникновению исключения `TypeError`:"
   ]
  },
  {
   "cell_type": "code",
   "execution_count": null,
   "id": "6cc6f376",
   "metadata": {},
   "outputs": [],
   "source": [
    "raise 1"
   ]
  },
  {
   "cell_type": "code",
   "execution_count": null,
   "id": "7cc00701",
   "metadata": {},
   "outputs": [],
   "source": [
    "# здесь все ок\n",
    "a = ValueError(\"value error\")\n",
    "\n",
    "raise a"
   ]
  },
  {
   "cell_type": "markdown",
   "id": "e6c3d679",
   "metadata": {},
   "source": [
    "А ещё можно использовать `raise` внутри блока `except` без указания типа исключения — это позволяет повторно пробросить текущее исключение после выполнения необходимой дополнительной обработки, например, логирования или очистки ресурсов:"
   ]
  },
  {
   "cell_type": "code",
   "execution_count": null,
   "id": "2fd627a7",
   "metadata": {},
   "outputs": [],
   "source": [
    "try:\n",
    "    1 / 0\n",
    "except ZeroDivisionError:\n",
    "    print(\"Логируем ошибку и пробрасываем дальше\")\n",
    "    raise"
   ]
  },
  {
   "cell_type": "markdown",
   "id": "92b929fb",
   "metadata": {},
   "source": [
    "Ещё одной важной возможностью является использование конструкции `raise ... from ...` С её помощью можно явно указать причинно-следственную связь между двумя исключениями: если одно исключение возникает в процессе обработки другого, новое исключение может быть выброшено с ссылкой на исходное. Такой приём называется **цепочкой исключений** (`exception chaining`) и облегчает отладку и анализ ошибок, позволяя видеть, какое исключение послужило причиной нового."
   ]
  },
  {
   "cell_type": "code",
   "execution_count": null,
   "id": "6ac789a6",
   "metadata": {},
   "outputs": [],
   "source": [
    "try:\n",
    "    int(\"abc\")\n",
    "except ValueError as e:\n",
    "    raise RuntimeError(\"Ошибка преобразования данных\") from e"
   ]
  },
  {
   "cell_type": "markdown",
   "id": "8714ad1a",
   "metadata": {},
   "source": [
    "В некоторых случаях стандартных исключений Python бывает недостаточно для выражения специфических ошибок, характерных именно для вашей программы или библиотеки. В таких ситуациях рекомендуется определять собственные типы исключений:"
   ]
  },
  {
   "cell_type": "code",
   "execution_count": null,
   "id": "73b487c4",
   "metadata": {},
   "outputs": [],
   "source": [
    "class MyCustomError(Exception):\n",
    "    \"\"\"Описание пользовательской ошибки\"\"\"\n",
    "\n",
    "    ...\n",
    "\n",
    "\n",
    "# Использование собственного исключения:\n",
    "raise MyCustomError(\"Что-то пошло не так\")"
   ]
  },
  {
   "cell_type": "markdown",
   "id": "02642fea",
   "metadata": {},
   "source": [
    "Рекомендуется давать пользовательским классам исключений имена, оканчивающиеся на `Error` ([pep8](https://peps.python.org/pep-0008/#exception-names))."
   ]
  },
  {
   "cell_type": "code",
   "execution_count": null,
   "id": "62a35e77",
   "metadata": {},
   "outputs": [],
   "source": [
    "class MySubCustomError(MyCustomError):\n",
    "    def __str__(self):\n",
    "        # self.args - это аргументы, которые мы передали в __init__\n",
    "        return f\"Some information of my sub custom error: {self.args}\"\n",
    "\n",
    "\n",
    "try:\n",
    "    raise MySubCustomError(1)\n",
    "except MyCustomError as e:\n",
    "    print(f\"Что-то не так: {e=}\")\n",
    "    raise"
   ]
  },
  {
   "cell_type": "markdown",
   "id": "ca7372b1",
   "metadata": {},
   "source": [
    "В `Python` также существует специализированный модуль `traceback`, предназначенный для получения и обработки текстового представления трассировки стека (`stack trace`). Подробное знакомство с возможностями этого модуля предлагается провести в рамках практических занятий.\n",
    "\n",
    "\n",
    "Также на семинарских занятиях целесообразно более подробно рассмотреть использование специальных атрибутов исключений: `__cause__`, `__context__`, `__traceback__`."
   ]
  },
  {
   "cell_type": "markdown",
   "id": "3e0ce1b9",
   "metadata": {},
   "source": [
    "Остаётся рассмотреть вопросы, связанные с обработкой предупреждений (`warning`) в Python:"
   ]
  },
  {
   "cell_type": "markdown",
   "id": "353c1591",
   "metadata": {},
   "source": [
    "Повторимся. В `Python` предупреждения (`Warning`) — это не исключения, они не останавливают программу, но позволяют информировать программиста или пользователя о потенциальных проблемах. Используются через стандартный модуль `warnings`."
   ]
  },
  {
   "cell_type": "code",
   "execution_count": null,
   "id": "d2a055ae",
   "metadata": {},
   "outputs": [],
   "source": [
    "import warnings\n",
    "\n",
    "warnings.warn(\"Это предупреждение!\")"
   ]
  },
  {
   "cell_type": "markdown",
   "id": "d85894c0",
   "metadata": {},
   "source": [
    "Примеры разных типов `warning`:"
   ]
  },
  {
   "cell_type": "markdown",
   "id": "ebbecf0e",
   "metadata": {},
   "source": [
    "`UserWarning` — базовое, \"пользовательское\" предупреждение (по умолчанию):"
   ]
  },
  {
   "cell_type": "code",
   "execution_count": null,
   "id": "4c9ddf19",
   "metadata": {},
   "outputs": [],
   "source": [
    "warnings.warn(\"Обычное пользовательское предупреждение!\")"
   ]
  },
  {
   "cell_type": "markdown",
   "id": "37e85c1d",
   "metadata": {},
   "source": [
    "`DeprecationWarning` — предупреждение об устаревшем функционале:"
   ]
  },
  {
   "cell_type": "code",
   "execution_count": null,
   "id": "7433d1fc",
   "metadata": {},
   "outputs": [],
   "source": [
    "warnings.warn(\"Этот метод устарел и будет удалён.\", DeprecationWarning)"
   ]
  },
  {
   "cell_type": "markdown",
   "id": "d37ae1b9",
   "metadata": {},
   "source": [
    "`SyntaxWarning` — замечание по поводу опасного синтаксиса (чаще всего выводится самим интерпретатором):"
   ]
  },
  {
   "cell_type": "code",
   "execution_count": null,
   "id": "4af8be8a",
   "metadata": {},
   "outputs": [],
   "source": [
    "x = \"hello\"\n",
    "if x is \"hello\":\n",
    "    print(\"Строки совпали\")"
   ]
  },
  {
   "cell_type": "markdown",
   "id": "e2f99d0e",
   "metadata": {},
   "source": [
    "`BytesWarning` — предупреждение работы со строками и байтами"
   ]
  },
  {
   "cell_type": "code",
   "execution_count": null,
   "id": "53eed85a",
   "metadata": {},
   "outputs": [],
   "source": [
    "a = \"text\"\n",
    "b = b\"text\"\n",
    "\n",
    "print(\n",
    "    a == b\n",
    ")  # В обычном режиме — False, но если запустить с python -b, будет BytesWarning\n",
    "# -b     : issue warnings about converting bytes/bytearray to str and comparing\n",
    "#          bytes/bytearray with str or bytes with int. (-bb: issue errors)"
   ]
  },
  {
   "cell_type": "markdown",
   "id": "d5c5c5ae",
   "metadata": {},
   "source": [
    "`RuntimeWarning` — предупреждение, связанное с логикой выполнения\n",
    "\n",
    "`FutureWarning` — то, что будет изменено в будущем\n",
    "\n",
    "`ResourceWarning` — предупреждения об утечках ресурсов"
   ]
  },
  {
   "cell_type": "markdown",
   "id": "b06cf42c",
   "metadata": {},
   "source": [
    "Модуль `warnings` не вызывает исключение, но можно изменить поведение, чтобы, например, превратить предупреждение в ошибку:"
   ]
  },
  {
   "cell_type": "code",
   "execution_count": null,
   "id": "7dd042e3",
   "metadata": {},
   "outputs": [],
   "source": [
    "warnings.simplefilter(\"error\")\n",
    "try:\n",
    "    warnings.warn(\"Это уже ошибка!\", UserWarning)\n",
    "except UserWarning as e:\n",
    "    print(\"Поймали как ошибку:\", e)"
   ]
  },
  {
   "cell_type": "markdown",
   "id": "b3102148",
   "metadata": {},
   "source": [
    "Возвращаем режим по умолчанию:"
   ]
  },
  {
   "cell_type": "code",
   "execution_count": null,
   "id": "1e8612b0",
   "metadata": {},
   "outputs": [],
   "source": [
    "warnings.simplefilter(\"default\")"
   ]
  },
  {
   "cell_type": "markdown",
   "id": "8a419e2c",
   "metadata": {},
   "source": [
    "Можно создать свой подкласс `warning`:"
   ]
  },
  {
   "cell_type": "code",
   "execution_count": null,
   "id": "0d5af041",
   "metadata": {},
   "outputs": [],
   "source": [
    "class MyWarning(Warning):\n",
    "    pass\n",
    "\n",
    "\n",
    "warnings.warn(\"Специальное предупреждение!\", MyWarning)\n"
   ]
  },
  {
   "cell_type": "markdown",
   "id": "9243713f",
   "metadata": {},
   "source": [
    "Предупреждения (`warning`) в `Python` могут быть программно подавлены или отключены.\n",
    "На практике это часто делается при помощи модуля `warnings`, чтобы игнорировать нежелательные предупреждения в ходе выполнения кода. Например, при выполнении лабораторных работ по линейной алгебре или геометрии в начале программы вы возможно встретите следующую строку:"
   ]
  },
  {
   "cell_type": "code",
   "execution_count": null,
   "id": "85620475",
   "metadata": {},
   "outputs": [],
   "source": [
    "import warnings\n",
    "\n",
    "warnings.filterwarnings(\"ignore\")"
   ]
  },
  {
   "cell_type": "code",
   "execution_count": null,
   "id": "3096848f",
   "metadata": {},
   "outputs": [],
   "source": [
    "warnings.warn(\"Это предупреждение!\")"
   ]
  },
  {
   "cell_type": "code",
   "execution_count": null,
   "id": "38bea514",
   "metadata": {},
   "outputs": [],
   "source": [
    "warnings.simplefilter(\"default\")"
   ]
  },
  {
   "cell_type": "markdown",
   "id": "740e8c93",
   "metadata": {},
   "source": [
    "Игнорировать предупреждения (`warnings`) —  плохая практика. Лучше разбираться в их причинах и фиксить, либо подавлять выборочно осознанно."
   ]
  },
  {
   "cell_type": "markdown",
   "id": "a65a6e18",
   "metadata": {},
   "source": [
    "Игнорировать только определенный класс предупреждений:"
   ]
  },
  {
   "cell_type": "code",
   "execution_count": null,
   "id": "8ad13011",
   "metadata": {},
   "outputs": [],
   "source": [
    "import warnings\n",
    "\n",
    "warnings.filterwarnings(\"ignore\", category=DeprecationWarning)"
   ]
  },
  {
   "cell_type": "markdown",
   "id": "5645df46",
   "metadata": {},
   "source": [
    "С определенным текстом:"
   ]
  },
  {
   "cell_type": "code",
   "execution_count": null,
   "id": "74c29613",
   "metadata": {},
   "outputs": [],
   "source": [
    "import warnings\n",
    "\n",
    "warnings.filterwarnings(\"ignore\", message=\".*устарел.*\")"
   ]
  },
  {
   "cell_type": "markdown",
   "id": "75b646da",
   "metadata": {},
   "source": [
    "Только в определенном модуле:"
   ]
  },
  {
   "cell_type": "code",
   "execution_count": null,
   "id": "180e6309",
   "metadata": {},
   "outputs": [],
   "source": [
    "import warnings\n",
    "\n",
    "warnings.filterwarnings(\"ignore\", category=UserWarning, module=\"my_module\")"
   ]
  },
  {
   "cell_type": "markdown",
   "id": "53de228d",
   "metadata": {},
   "source": [
    "Игнорировать только внутри блока (самый лучший подход, если уж нужно заигнорировать):"
   ]
  },
  {
   "cell_type": "code",
   "execution_count": null,
   "id": "26d305f4",
   "metadata": {},
   "outputs": [],
   "source": [
    "import warnings\n",
    "\n",
    "with warnings.catch_warnings():\n",
    "    warnings.simplefilter(\"ignore\", category=UserWarning)\n",
    "    warnings.warn(\n",
    "        \"Это пользовательское предупреждение!\", UserWarning\n",
    "    )  # Не будет отображено\n",
    "\n",
    "warnings.warn(\"Это пользовательское предупреждение!\", UserWarning)  # Будет отображено"
   ]
  },
  {
   "cell_type": "markdown",
   "id": "2027b9c2",
   "metadata": {},
   "source": [
    "### Контекстные менеджеры"
   ]
  },
  {
   "cell_type": "markdown",
   "id": "493e45e7",
   "metadata": {},
   "source": [
    "Не следует пугаться термина \"контекстный менеджер\" — вы уже сталкивались с их использованием:"
   ]
  },
  {
   "cell_type": "code",
   "execution_count": null,
   "id": "9683d4ca",
   "metadata": {},
   "outputs": [],
   "source": [
    "with open(\"file.txt\", \"w\") as f:\n",
    "    ..."
   ]
  },
  {
   "cell_type": "markdown",
   "id": "9f7ad563",
   "metadata": {},
   "source": [
    "Контекстные менеджеры в Python обеспечивают автоматическое выполнение определённых действий при входе в блок кода и выходе из него. Cпособ их использования — конструкция `with`.\n",
    "\n",
    "В приведённом выше примере при входе в блок осуществляется открытие файла для чтения, а при выходе из блока файл автоматически закрывается.\n",
    "\n",
    "Функция open возвращает объект, реализующий протокол контекстного менеджера, то есть содержащий специальные методы:\n",
    "- `__enter__` в данном случае возвращает сам объект файла (возвращает `self`)\n",
    "- `__exit__` обеспечивает автоматический вызов метода `close` для закрытия файла при выходе из блока управления контекстом."
   ]
  },
  {
   "cell_type": "markdown",
   "id": "8a404425",
   "metadata": {},
   "source": [
    "Перейдем к определению. Контекстные менеджеры --- это объекты, реализующие протокол контекстного менеджера (методы `__enter__` и `__exit__`)."
   ]
  },
  {
   "cell_type": "markdown",
   "id": "4204c3a0",
   "metadata": {},
   "source": [
    "Рассмотрим вопрос о назначении контекстных менеджеров. Для чего они необходимы? Контекстные менеджеры гарантируют нам, что определённое действие будет выполнено вне зависимости от того, возникло ли в процессе работы программы исключение или нет:\n"
   ]
  },
  {
   "cell_type": "markdown",
   "id": "58c91ea8",
   "metadata": {},
   "source": [
    "Без использования контекстных менеджеров обеспечение корректного освобождения ресурсов требует явной обработки, что может привести к ошибкам или утечкам ресурсов. Рассмотрим следующий пример:"
   ]
  },
  {
   "cell_type": "code",
   "execution_count": null,
   "id": "154da08f",
   "metadata": {},
   "outputs": [],
   "source": [
    "def process_file(f):\n",
    "    # Какая-то потенциально опасная операция с файлом\n",
    "    f.write(\"Начинается запись данных...\\n\")\n",
    "    raise RuntimeError(\"Возникла критическая ошибка при обработке файла!\")\n",
    "\n",
    "\n",
    "f = open(\"file.txt\", \"w\")\n",
    "try:\n",
    "    process_file(f)\n",
    "except Exception as exc:\n",
    "    print(f\"Произошло исключение: {exc}\")\n",
    "finally:\n",
    "    print(\"Закрываем файл.\")\n",
    "    try:\n",
    "        f.close()\n",
    "        print(\"Файл успешно закрыт.\")\n",
    "    except Exception as close_exc:\n",
    "        print(f\"Ошибка при закрытии файла: {close_exc}\")"
   ]
  },
  {
   "cell_type": "markdown",
   "id": "76f9899b",
   "metadata": {},
   "source": [
    "В данном случае необходимо явно вызывать метод `close()` для закрытия файла, даже если в процессе работы возникает исключение.\n",
    "\n",
    "Контекстные менеджеры предоставляют удобный и безопасный механизм для инициализации и гарантированного завершения работы с ресурсом (финализации \"контекста\"), устраняя необходимость ручного контроля освобождения ресурсов и снижая риск возникновения ошибок:"
   ]
  },
  {
   "cell_type": "code",
   "execution_count": null,
   "id": "375a683b",
   "metadata": {},
   "outputs": [],
   "source": [
    "with open(\"file.txt\", \"w\") as f:\n",
    "    process_file(f)"
   ]
  },
  {
   "cell_type": "markdown",
   "id": "259c7cc4",
   "metadata": {},
   "source": [
    "Контекстные менеджеры в `Python` реализуют идиому **RAII** (англ. Resource Acquisition Is Initialization) — программный подход, согласно которому инициализация объекта сопровождается захватом (выделением) необходимого ресурса, а освобождение ресурса автоматически происходит при уничтожении объекта. В данном случае получение ресурса осуществимо только через его инициализацию, а освобождение — неразрывно связано с завершением жизни объекта.\n",
    "\n",
    "\n",
    "Полная демонстрация данной идиомы более характерна для языков программирования, таких как `C++`, где освобождение ресурсов жестко связано с областью видимости объектов и временем их жизни. Подробную работу данной идиомы вы сможете изучить позднее при знакомстве с `C++`."
   ]
  },
  {
   "cell_type": "markdown",
   "id": "dc93aeda",
   "metadata": {},
   "source": [
    "Приведу несколько примеров использования контекстных менеджеров из стандартной библиотеки `Python` (в основном из модуля `contextlib`). Здесь не будет примеров работы с соединениями к базам данных, так как предполагаю, что большинство с ними пока не сталкивались. Тем не менее, при необходимости подобные примеры легко найти — можете погуглить или попросить какую-нибудь нейросеть.\n",
    "\n",
    "Также выше был описан пример использования контекстного менеджера, где мы игнорировали определённое предупреждение (`warning`)."
   ]
  },
  {
   "cell_type": "code",
   "execution_count": null,
   "id": "fc9a652d",
   "metadata": {},
   "outputs": [],
   "source": [
    "import tempfile\n",
    "\n",
    "# Создание временного файла\n",
    "with tempfile.TemporaryFile(mode=\"w+t\") as temp:\n",
    "    temp.write(\"Temporary content\")\n",
    "    temp.seek(0)\n",
    "    print(temp.read())\n",
    "\n",
    "# Файл автоматически удаляется"
   ]
  },
  {
   "cell_type": "code",
   "execution_count": null,
   "id": "d5781c39",
   "metadata": {},
   "outputs": [],
   "source": [
    "import contextlib\n",
    "\n",
    "with open(\"file.txt\", \"w\") as f:\n",
    "    with contextlib.redirect_stdout(f):\n",
    "        print(\"Этот текст попадет в file.txt, а не на экран\")"
   ]
  },
  {
   "cell_type": "code",
   "execution_count": null,
   "id": "5e6117ac",
   "metadata": {},
   "outputs": [],
   "source": [
    "import contextlib\n",
    "\n",
    "with contextlib.suppress(FileNotFoundError):\n",
    "    with open(\"no_such_file.txt\") as f:\n",
    "        print(f.read())\n",
    "\n",
    "# Исключение FileNotFoundError будет проигнорировано"
   ]
  },
  {
   "cell_type": "code",
   "execution_count": null,
   "id": "fd4fec6f",
   "metadata": {},
   "outputs": [],
   "source": [
    "import os\n",
    "import contextlib\n",
    "\n",
    "# с python 3.11\n",
    "with contextlib.chdir(\"/tmp\"):\n",
    "    print(os.getcwd())\n",
    "\n",
    "# После выхода вернется в исходную директорию"
   ]
  },
  {
   "cell_type": "markdown",
   "id": "eb371aa3",
   "metadata": {},
   "source": [
    "Давайте рассмотрим пример собственного контекстного менеджера, который будет измерять время выполнения кода внутри блока `with`. Для этого можно реализовать класс с методами `__enter__` и `__exit__`:"
   ]
  },
  {
   "cell_type": "code",
   "execution_count": null,
   "id": "bbdd8127",
   "metadata": {},
   "outputs": [],
   "source": [
    "import time\n",
    "from types import TracebackType\n",
    "\n",
    "\n",
    "class Timer:\n",
    "    def __enter__(self) -> \"Timer\":\n",
    "        self._start_time: float = time.time()\n",
    "        print(\"Выполнение началось.\")\n",
    "        return self\n",
    "\n",
    "    def __exit__(\n",
    "        self,\n",
    "        exctype: type[BaseException] | None,\n",
    "        excinst: BaseException | None,\n",
    "        exctb: TracebackType | None,\n",
    "    ) -> bool | None:\n",
    "        self._end_time: float = time.time()\n",
    "        duration: float = self._end_time - self._start_time\n",
    "        print(f\"Выполнение завершено. Прошло времени: {duration:.4f} секунд.\")"
   ]
  },
  {
   "cell_type": "markdown",
   "id": "b792b04b",
   "metadata": {},
   "source": [
    "Давайте разберем аргументы `__exit__`:\n",
    "\n",
    "- `exctype: type[BaseException] | None` - это любой тип исключения, а `| None` допускает ситуацию без исключения.\n",
    "\n",
    "- `excinst: BaseException | None` - экземпляр возникшего исключения, если исключения не было, будет передано `None`.\n",
    "\n",
    "- `exctb: TracebackType | None` - трейсбэк (объект, описывающий стек вызовов в момент возникновения исключения), если исключение не возникло, тут будет `None`.\n",
    "\n",
    "Возвращаемое значение `bool | None`:\n",
    "- если метод `__exit__` возвращает `True`, то возникшее исключение считается обработанным и не будет передано дальше.\n",
    "- если возвращается `False` или `None`, исключение будет проброшено дальше."
   ]
  },
  {
   "cell_type": "code",
   "execution_count": null,
   "id": "13595d7a",
   "metadata": {},
   "outputs": [],
   "source": [
    "with Timer():\n",
    "    time.sleep(2)"
   ]
  },
  {
   "cell_type": "markdown",
   "id": "77089d3d",
   "metadata": {},
   "source": [
    "Давайте сделаем еще один пример, в котором поработаем с аргументами `__exit__`:"
   ]
  },
  {
   "cell_type": "code",
   "execution_count": null,
   "id": "8b1ffbe1",
   "metadata": {},
   "outputs": [],
   "source": [
    "import traceback\n",
    "from types import TracebackType\n",
    "\n",
    "\n",
    "class ExceptionLogger:\n",
    "    def __init__(self, raise_exception: bool = False):\n",
    "        self._raise_exception = raise_exception\n",
    "\n",
    "    def __enter__(self) -> \"ExceptionLogger\":\n",
    "        print(\"Вход в контекстный менеджер\")\n",
    "        return self\n",
    "\n",
    "    def __exit__(\n",
    "        self,\n",
    "        exctype: type[BaseException] | None,\n",
    "        excinst: BaseException | None,\n",
    "        exctb: TracebackType | None,\n",
    "    ) -> None:\n",
    "        if exctype is not None:\n",
    "            print(\"Обнаружено исключение:\")\n",
    "            print(f\"Тип: {exctype.__name__}\")\n",
    "            print(f\"Сообщение: {excinst}\")\n",
    "            print(\"Traceback:\")\n",
    "            traceback.print_tb(exctb)\n",
    "        else:\n",
    "            print(\"Выход из контекстного менеджера без исключений.\")\n",
    "        return not self._raise_exception"
   ]
  },
  {
   "cell_type": "code",
   "execution_count": null,
   "id": "561a0bbc",
   "metadata": {},
   "outputs": [],
   "source": [
    "with ExceptionLogger():\n",
    "    print(\"До исключения\")\n",
    "    1 / 0\n",
    "    print(\"Этот код не выполнится\")"
   ]
  },
  {
   "cell_type": "code",
   "execution_count": null,
   "id": "5b7c776f",
   "metadata": {},
   "outputs": [],
   "source": [
    "with ExceptionLogger(raise_exception=True):\n",
    "    print(\"До исключения\")\n",
    "    1 / 0\n",
    "    print(\"Этот код не выполнится\")"
   ]
  },
  {
   "cell_type": "code",
   "execution_count": null,
   "id": "c0336c34",
   "metadata": {},
   "outputs": [],
   "source": [
    "with ExceptionLogger(raise_exception=True):\n",
    "    print(\"Этот код выполнится\")"
   ]
  },
  {
   "cell_type": "markdown",
   "id": "0558503c",
   "metadata": {},
   "source": [
    "Существует более удобный способ создания собственных контекстных менеджеров — с помощью декоратора `@contextmanager` из модуля `contextlib`. Однако для его понимания необходимо предварительно познакомиться с такими концепциями, как генераторы и декораторы. Эти темы будут подробно рассмотрены на последующих лекциях, и тогда мы разберём альтернативный, более лаконичный подход к написанию контекстных менеджеров."
   ]
  },
  {
   "cell_type": "markdown",
   "id": "f4082d48",
   "metadata": {},
   "source": []
  }
 ],
 "metadata": {
  "kernelspec": {
   "display_name": ".venv",
   "language": "python",
   "name": "python3"
  },
  "language_info": {
   "codemirror_mode": {
    "name": "ipython",
    "version": 3
   },
   "file_extension": ".py",
   "mimetype": "text/x-python",
   "name": "python",
   "nbconvert_exporter": "python",
   "pygments_lexer": "ipython3",
   "version": "3.13.3"
  }
 },
 "nbformat": 4,
 "nbformat_minor": 5
}
