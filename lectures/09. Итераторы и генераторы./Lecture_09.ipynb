{
 "cells": [
  {
   "cell_type": "markdown",
   "id": "aff97e0a",
   "metadata": {},
   "source": [
    "# Python-1, Лекция 9\n",
    "\n",
    "Лектор: Хайбулин Даниэль\n",
    "\n",
    "Подготовил материал: Лущ Иван"
   ]
  },
  {
   "cell_type": "markdown",
   "id": "a5f500bd",
   "metadata": {},
   "source": [
    "Итак, сегодня мы поговорим про итераторы и генераторы"
   ]
  },
  {
   "cell_type": "markdown",
   "id": "27adc93e",
   "metadata": {},
   "source": [
    "### Iterator и iterable"
   ]
  },
  {
   "cell_type": "markdown",
   "id": "5bc1d4c7",
   "metadata": {},
   "source": [
    "Рассмотрим объекты, по которым возможно осуществлять итерацию с помощью цикла `for`:"
   ]
  },
  {
   "cell_type": "code",
   "execution_count": null,
   "id": "e180ed1e",
   "metadata": {},
   "outputs": [],
   "source": [
    "for i in range(3, 8):\n",
    "    ...\n",
    "\n",
    "for line in open(\"data.csv\"):\n",
    "    ...\n",
    "\n",
    "for key in {\"apple\": 10, \"banana\": 20, \"cherry\": 30}:\n",
    "    ...\n",
    "\n",
    "for char in \"Python!\":\n",
    "    ...\n"
   ]
  },
  {
   "cell_type": "markdown",
   "id": "57fd628c",
   "metadata": {},
   "source": [
    "Данные объекты могут значительно различаться по своей природе, однако их объединяет возможность итерации. Каждый из них реализует специальный метод `__iter__`, возвращающий объект-итератор (**iterator**), что позволяет использовать их в конструкции цикла `for`."
   ]
  },
  {
   "cell_type": "code",
   "execution_count": null,
   "id": "c8112ab3",
   "metadata": {},
   "outputs": [],
   "source": [
    "iterable = [1, 2, 3]\n",
    "iterator = iterable.__iter__()\n",
    "iterator"
   ]
  },
  {
   "cell_type": "markdown",
   "id": "e3fb5b47",
   "metadata": {},
   "source": [
    "Объект-итератор (**iterator**) должен реализовывать как минимум один обязательный метод — `__next__`."
   ]
  },
  {
   "cell_type": "code",
   "execution_count": null,
   "id": "ce7f04f1",
   "metadata": {},
   "outputs": [],
   "source": [
    "iterator.__next__()"
   ]
  },
  {
   "cell_type": "code",
   "execution_count": null,
   "id": "a54687fc",
   "metadata": {},
   "outputs": [],
   "source": [
    "iterator.__next__()"
   ]
  },
  {
   "cell_type": "code",
   "execution_count": null,
   "id": "0f44deb9",
   "metadata": {},
   "outputs": [],
   "source": [
    "iterator.__next__()"
   ]
  },
  {
   "cell_type": "code",
   "execution_count": null,
   "id": "88c15e81",
   "metadata": {},
   "outputs": [],
   "source": [
    "iterator.__next__()"
   ]
  },
  {
   "cell_type": "markdown",
   "id": "9c00c9ba",
   "metadata": {},
   "source": [
    "Каждый вызов данного метода возвращает следующий элемент последовательности, связанной с данным **итератором**. Когда элементы итерируемой последовательности заканчиваются, при последующем вызове метода `__next__` выкидывается исключение `StopIteration`. Давайте перейдем к определениям."
   ]
  },
  {
   "cell_type": "markdown",
   "id": "5d91a851",
   "metadata": {
    "vscode": {
     "languageId": "ini"
    }
   },
   "source": [
    "**Iterable** — это объект, у которого определён специальный метод `__iter__`, возвращающий итератор. К числу стандартных итерируемых объектов в `Python` относятся такие типы, как `list`, `dict`, `range` и другие.\n",
    "\n",
    "Данное определение верно, однако не полностью отражает все возможности, для создания итерируемых объектов. К этому вопросу мы вернёмся подробнее далее."
   ]
  },
  {
   "cell_type": "markdown",
   "id": "b839768d",
   "metadata": {},
   "source": [
    "**Iterator** — это объект, который реализует обязательный метод `__next__` и метод `__iter__`, который возвращает `self`. При каждом вызове метода `__next__` возвращается следующий элемент; если элементы закончились, выбрасывается исключение `StopIteration`."
   ]
  },
  {
   "cell_type": "markdown",
   "id": "c6135b8a",
   "metadata": {},
   "source": [
    "![](iter.jpg)"
   ]
  },
  {
   "cell_type": "markdown",
   "id": "fdcd7e4f",
   "metadata": {},
   "source": [
    "Зачем нужны итераторы?\n",
    "\n",
    "- Итераторы обеспечивают стандартизированный и удобный механизм последовательного доступа к элементам коллекций, без необходимости вручную управлять индексами или структурой данных. Это позволяет осуществлять перебор элементов с помощью конструкций высокого уровня, таких как цикл `for`, что делает код более лаконичным и читаемым.\n",
    "- Использование итераторов позволяет работать с большими или потенциально бесконечными последовательностями без загрузки всех элементов в память одновременно. Таким образом, итераторы способствуют эффективному использованию ресурсов и позволяют обрабатывать данные \"на лету\", что особенно важно при работе с потоками данных, файлами и генераторами.\n"
   ]
  },
  {
   "cell_type": "markdown",
   "id": "7a169802",
   "metadata": {},
   "source": [
    "Ранее мы вызывали dunder-методы `__next__` и `__iter__` напрямую. Однако такие методы не предназначены для непосредственного использования в пользовательском коде. Для получения итератора и последовательного доступа к элементам рекомендуется использовать встроенные функции-обёртки `iter` и `next`:"
   ]
  },
  {
   "cell_type": "code",
   "execution_count": null,
   "id": "51740963",
   "metadata": {},
   "outputs": [],
   "source": [
    "iterable: list[int] = [1, 2, 3]\n",
    "iterator = iter(iterable)\n",
    "iterator"
   ]
  },
  {
   "cell_type": "code",
   "execution_count": null,
   "id": "f9ad4793",
   "metadata": {},
   "outputs": [],
   "source": [
    "next(iterator)"
   ]
  },
  {
   "cell_type": "code",
   "execution_count": null,
   "id": "e12a3544",
   "metadata": {},
   "outputs": [],
   "source": [
    "next(iterator)"
   ]
  },
  {
   "cell_type": "code",
   "execution_count": null,
   "id": "558234cd",
   "metadata": {},
   "outputs": [],
   "source": [
    "next(iterator)"
   ]
  },
  {
   "cell_type": "code",
   "execution_count": null,
   "id": "0cc70a88",
   "metadata": {},
   "outputs": [],
   "source": [
    "next(iterator)"
   ]
  },
  {
   "cell_type": "markdown",
   "id": "245b370f",
   "metadata": {},
   "source": [
    "Где можно еще встретить итераторы?"
   ]
  },
  {
   "cell_type": "markdown",
   "id": "faa39055",
   "metadata": {},
   "source": [
    "\n",
    "Например, функция `zip` возвращает итератор:"
   ]
  },
  {
   "cell_type": "code",
   "execution_count": null,
   "id": "0525aa67",
   "metadata": {},
   "outputs": [],
   "source": [
    "a = [1, 2, 3]\n",
    "b = [1, 2, 3]\n",
    "c = zip(a, b)\n",
    "print(next(c))\n",
    "print(next(c))\n",
    "print(next(c))"
   ]
  },
  {
   "cell_type": "markdown",
   "id": "b39f1a99",
   "metadata": {},
   "source": [
    "А также есть функция `enumerate` - она делает нумерацию элементов, что можно впоследствие использовать внутри for:"
   ]
  },
  {
   "cell_type": "code",
   "execution_count": null,
   "id": "9f601b4a",
   "metadata": {},
   "outputs": [],
   "source": [
    "k: list[int] = [4, 5, 6]\n",
    "k_e = enumerate(k)\n",
    "print(next(k_e))\n",
    "print(next(k_e))\n",
    "print(next(k_e))"
   ]
  },
  {
   "cell_type": "markdown",
   "id": "36fcd390",
   "metadata": {},
   "source": [
    "Чтобы проиллюстрировать, как осуществляется проход по итерируемому объекту с помощью цикла `for`, рассмотрим реализацию аналогичной логики с использованием цикла `while`:"
   ]
  },
  {
   "cell_type": "code",
   "execution_count": null,
   "id": "612fd50c",
   "metadata": {},
   "outputs": [],
   "source": [
    "def process_object(value: int): ...\n",
    "\n",
    "\n",
    "# for value in range(3, 8):\n",
    "#     process_object(value)\n",
    "\n",
    "sequence = range(3, 8)\n",
    "iterator = iter(sequence)\n",
    "while True:\n",
    "    try:\n",
    "        num = next(iterator)\n",
    "    except StopIteration:\n",
    "        break\n",
    "    else:\n",
    "        process_object(num)"
   ]
  },
  {
   "cell_type": "markdown",
   "id": "fa1be1d9",
   "metadata": {},
   "source": [
    "Рассмотрим практическую задачу реализации собственного итератора, на примере создания аналога `range`:"
   ]
  },
  {
   "cell_type": "code",
   "execution_count": null,
   "id": "24957527",
   "metadata": {},
   "outputs": [],
   "source": [
    "class Range:\n",
    "    def __init__(self, start: int = 0, end: int = 10, step: int = 1) -> None:\n",
    "        assert type(start) is int and type(end) is int and type(step) is int\n",
    "        self.start = start\n",
    "        self.end = end\n",
    "        self.step = step\n",
    "\n",
    "    def __iter__(self) -> \"Range\":\n",
    "        return self\n",
    "\n",
    "    def __next__(self) -> int:\n",
    "        if self.start >= self.end:\n",
    "            raise StopIteration()\n",
    "        self.start += self.step\n",
    "        return self.start - self.step\n",
    "\n",
    "\n",
    "for i in Range(1, 3, 1):\n",
    "    print(i)"
   ]
  },
  {
   "cell_type": "markdown",
   "id": "18de2c8a",
   "metadata": {},
   "source": [
    "Класс `Range` реализует оба протокола:\n",
    "1. `Iterable`:\n",
    "\n",
    "    В данном классе метод `__iter__` возвращает сам объект (`self`), благодаря чему экземпляр класса `Range` сам является итерируемым объектом.\n",
    "\n",
    "2. `Iterator`:\n",
    "\n",
    "    В классе Range реализован метод `__next__`, который возвращает очередное значение диапазона либо возбуждает исключение `StopIteration`, когда диапазон исчерпан.\n",
    "\n"
   ]
  },
  {
   "cell_type": "markdown",
   "id": "a4720574",
   "metadata": {},
   "source": [
    "Как проверить объект на итерируемость:"
   ]
  },
  {
   "cell_type": "code",
   "execution_count": null,
   "id": "81f57a01",
   "metadata": {},
   "outputs": [],
   "source": [
    "import typing as tp\n",
    "\n",
    "\n",
    "def is_iterable(obj: tp.Any) -> bool:\n",
    "    try:\n",
    "        iter(obj)\n",
    "    except TypeError:\n",
    "        return False\n",
    "    else:\n",
    "        return True\n",
    "\n",
    "\n",
    "rng = Range()\n",
    "if is_iterable(rng):\n",
    "    print(\"rng is iterable\")\n",
    "\n",
    "\n",
    "num = 1\n",
    "if not is_iterable(num):\n",
    "    print(\"num is not iterable\")"
   ]
  },
  {
   "cell_type": "markdown",
   "id": "e27d0dad",
   "metadata": {},
   "source": [
    "Рассмотрим вторую форму `iter`: `iter(callable, sentinel)`:\n",
    "- в этой форме `iter` создаёт итератор, который каждый раз вызывает переданную функцию (без аргументов) и возвращает её результат.\n",
    "- итерация продолжается, пока результат вызова функции **не равен значению `sentinel`**\n",
    "- как только функция вернёт значение, равное `sentinel`, итерация останавливается (генерируется `StopIteration`)."
   ]
  },
  {
   "cell_type": "markdown",
   "id": "c182d95e",
   "metadata": {},
   "source": [
    "Рассмотрим чтение файла по кускам (чанкам) по 3 символа:"
   ]
  },
  {
   "cell_type": "code",
   "execution_count": null,
   "id": "d72f8393",
   "metadata": {},
   "outputs": [],
   "source": [
    "from functools import partial\n",
    "\n",
    "\n",
    "with open(\"file.txt\", \"r\") as f:\n",
    "    # f.read(3) читает из потока по 3 символа.\n",
    "    # partial позволяет сделать функцию без аргументов: read_3().\n",
    "    read_3 = partial(f.read, 3)\n",
    "\n",
    "    # iter(read_3, '') будет вызывать read_3(), пока результат не будет равен '' (пустая строка, возвращается, когда поток дочитан до конца).\n",
    "    for chunk in iter(read_3, \"\"):\n",
    "        print(chunk, end=\" \")"
   ]
  },
  {
   "cell_type": "markdown",
   "id": "4633b909",
   "metadata": {},
   "source": [
    "Для чего нужна эта форма?\n",
    "- Позволяет легко и красиво реализовывать циклы до наступления условия без явных `while` с `break`.\n",
    "- Снимает необходимость вручную проверять условие остановки — `sentinel` делается встроенной частью итерации."
   ]
  },
  {
   "cell_type": "markdown",
   "id": "e9a33a7a",
   "metadata": {},
   "source": [
    "Существует альтернативный способ, позволяющий объекту стать итерируемым: если у объекта определён метод `__getitem__`, позволяющий получать элементы по индексам, начиная с нуля, такой объект также будет рассматриваться как итерируемый:"
   ]
  },
  {
   "cell_type": "code",
   "execution_count": null,
   "id": "b7ab5974",
   "metadata": {},
   "outputs": [],
   "source": [
    "class Sequence[T]:\n",
    "    def __init__(self, *args: T) -> None:\n",
    "        self.args = args\n",
    "\n",
    "    def __getitem__(self, index: int) -> T:\n",
    "        if index < 0 or index >= len(self.args):\n",
    "            raise IndexError(index)\n",
    "        return self.args[index]"
   ]
  },
  {
   "cell_type": "code",
   "execution_count": null,
   "id": "b715d0a8",
   "metadata": {},
   "outputs": [],
   "source": [
    "seq = Sequence(1, 2, 3, 4, 5)\n",
    "seq[0], seq[2], seq[4]"
   ]
  },
  {
   "cell_type": "code",
   "execution_count": null,
   "id": "82dcb992",
   "metadata": {},
   "outputs": [],
   "source": [
    "for i in seq:\n",
    "    print(i, end=\" \")"
   ]
  },
  {
   "cell_type": "markdown",
   "id": "e16b3249",
   "metadata": {},
   "source": [
    "Когда Python встречает конструкцию `for i in seq:`, он сначала ищет у объекта метод `__iter__`. Если такого нет, но присутствует метод `__getitem__` (и он корректно обрабатывает индексы, начиная с `0` и повышая их), Python начинает запрашивать элементы по индексам: `seq[0]`, `seq[1]`, ...\n",
    "Когда выбрасывается исключение `IndexError`, это служит сигналом об окончании итерации."
   ]
  },
  {
   "cell_type": "code",
   "execution_count": null,
   "id": "e02e08d3",
   "metadata": {},
   "outputs": [],
   "source": [
    "it = iter(seq)"
   ]
  },
  {
   "cell_type": "code",
   "execution_count": null,
   "id": "29fc392b",
   "metadata": {},
   "outputs": [],
   "source": [
    "print(next(it))\n",
    "print(next(it))\n",
    "print(next(it))\n",
    "print(next(it))\n",
    "print(next(it))\n",
    "print(next(it))"
   ]
  },
  {
   "cell_type": "markdown",
   "id": "cb9d58c8",
   "metadata": {},
   "source": [
    "Вывод:\n",
    "В Python объект считается итерируемым (`iterable`), если он реализует хотя бы один из двух протоколов:\n",
    "- **Протокол итерируемости (Iterable)** — наличие метода `__iter__`, который возвращает итератор.\n",
    "- **Протокол последовательности (Sequence protocol)** — наличие метода `__getitem__` с поддержкой индексации с нуля.\n"
   ]
  },
  {
   "cell_type": "markdown",
   "id": "4a4badaa",
   "metadata": {},
   "source": [
    "Рассмотрим, возможно ли использование оператора принадлежности `in` класса `Sequence`:"
   ]
  },
  {
   "cell_type": "code",
   "execution_count": null,
   "id": "94153556",
   "metadata": {},
   "outputs": [],
   "source": [
    "seq = Sequence(2, 3, 5, 8, 13, 21)"
   ]
  },
  {
   "cell_type": "code",
   "execution_count": null,
   "id": "8d202978",
   "metadata": {},
   "outputs": [],
   "source": [
    "8 in seq"
   ]
  },
  {
   "cell_type": "code",
   "execution_count": null,
   "id": "c327ae34",
   "metadata": {},
   "outputs": [],
   "source": [
    "1 in seq"
   ]
  },
  {
   "cell_type": "code",
   "execution_count": null,
   "id": "ea7a1851",
   "metadata": {},
   "outputs": [],
   "source": [
    "1 in seq, 8 in seq"
   ]
  },
  {
   "cell_type": "markdown",
   "id": "cfc877f5",
   "metadata": {},
   "source": [
    "Такие же проверки сделаем с классом `Range`:"
   ]
  },
  {
   "cell_type": "code",
   "execution_count": null,
   "id": "8ffdf22e",
   "metadata": {},
   "outputs": [],
   "source": [
    "rng = Range(1, 4, 1)"
   ]
  },
  {
   "cell_type": "code",
   "execution_count": null,
   "id": "262bfdec",
   "metadata": {},
   "outputs": [],
   "source": [
    "1 in rng"
   ]
  },
  {
   "cell_type": "code",
   "execution_count": null,
   "id": "71eb58cf",
   "metadata": {},
   "outputs": [],
   "source": [
    "2 in rng"
   ]
  },
  {
   "cell_type": "code",
   "execution_count": null,
   "id": "0c6a73ac",
   "metadata": {},
   "outputs": [],
   "source": [
    "3 in rng"
   ]
  },
  {
   "cell_type": "code",
   "execution_count": null,
   "id": "277b11af",
   "metadata": {},
   "outputs": [],
   "source": [
    "3 in rng"
   ]
  },
  {
   "cell_type": "code",
   "execution_count": null,
   "id": "c7b3a540",
   "metadata": {},
   "outputs": [],
   "source": [
    "4 in rng"
   ]
  },
  {
   "cell_type": "markdown",
   "id": "30c22351",
   "metadata": {},
   "source": [
    "А давайте проверим на `range`:"
   ]
  },
  {
   "cell_type": "code",
   "execution_count": null,
   "id": "d0db7bef",
   "metadata": {},
   "outputs": [],
   "source": [
    "rng = range(1, 4, 1)"
   ]
  },
  {
   "cell_type": "code",
   "execution_count": null,
   "id": "0ba8b60a",
   "metadata": {},
   "outputs": [],
   "source": [
    "1 in rng"
   ]
  },
  {
   "cell_type": "code",
   "execution_count": null,
   "id": "9bc147c2",
   "metadata": {},
   "outputs": [],
   "source": [
    "2 in rng"
   ]
  },
  {
   "cell_type": "code",
   "execution_count": null,
   "id": "9b762dff",
   "metadata": {},
   "outputs": [],
   "source": [
    "3 in rng"
   ]
  },
  {
   "cell_type": "code",
   "execution_count": null,
   "id": "326e54dc",
   "metadata": {},
   "outputs": [],
   "source": [
    "3 in rng"
   ]
  },
  {
   "cell_type": "code",
   "execution_count": null,
   "id": "2fecd5ac",
   "metadata": {},
   "outputs": [],
   "source": [
    "4 in rng"
   ]
  },
  {
   "cell_type": "markdown",
   "id": "59ccb581",
   "metadata": {},
   "source": [
    "Если у объекта не определён явно `__contains__`, Python пробует пройти по объекту с помощью итерации (обычно через `__iter__` или через `__getitem__`). В этом случае `in` просто перебирает все элементы, сравнивая их с искомым:"
   ]
  },
  {
   "cell_type": "code",
   "execution_count": null,
   "id": "a61a7375",
   "metadata": {},
   "outputs": [],
   "source": [
    "def __contains__[T](self, value: T):\n",
    "    for item in self:\n",
    "        if item == value:\n",
    "            return True\n",
    "    return False"
   ]
  },
  {
   "cell_type": "markdown",
   "id": "324b3b82",
   "metadata": {},
   "source": [
    "Для того, чтобы наш `Range` работал корректно, следует добавить реализацию `__contains__`:"
   ]
  },
  {
   "cell_type": "code",
   "execution_count": null,
   "id": "491e2a18",
   "metadata": {},
   "outputs": [],
   "source": [
    "class Range:\n",
    "    def __init__(self, start: int = 0, end: int = 10, step: int = 1) -> None:\n",
    "        assert type(start) is int and type(end) is int and type(step) is int\n",
    "        self.start = start\n",
    "        self.end = end\n",
    "        self.step = step\n",
    "\n",
    "    def __iter__(self) -> \"Range\":\n",
    "        return self\n",
    "\n",
    "    def __next__(self) -> int:\n",
    "        if self.start >= self.end:\n",
    "            raise StopIteration()\n",
    "        self.start += self.step\n",
    "        return self.start - self.step\n",
    "\n",
    "    def __contains__(self, value: int) -> bool:\n",
    "        if self.step > 0:\n",
    "            if value < self.start or value >= self.end:\n",
    "                return False\n",
    "        else:\n",
    "            if value > self.start or value <= self.end:\n",
    "                return False\n",
    "\n",
    "        return (value - self.start) % self.step == 0\n",
    "\n",
    "\n",
    "for i in Range(1, 3, 1):\n",
    "    print(i)\n",
    "\n",
    "\n",
    "rng = Range(1, 4, 1)\n",
    "print(1 in rng)\n",
    "print(2 in rng)\n",
    "print(3 in rng)\n",
    "print(3 in rng)\n",
    "print(4 in rng)"
   ]
  },
  {
   "cell_type": "markdown",
   "id": "d4270ed2",
   "metadata": {},
   "source": [
    "### Генераторы"
   ]
  },
  {
   "cell_type": "code",
   "execution_count": null,
   "id": "92b202b8",
   "metadata": {},
   "outputs": [],
   "source": [
    "def magic_generator() -> tp.Iterator[int]:\n",
    "    yield 42\n",
    "    yield 42\n",
    "    yield 42\n",
    "    yield 42\n",
    "    yield 42"
   ]
  },
  {
   "cell_type": "code",
   "execution_count": null,
   "id": "cad28552",
   "metadata": {},
   "outputs": [],
   "source": [
    "gen = magic_generator()\n",
    "type(gen)"
   ]
  },
  {
   "cell_type": "code",
   "execution_count": null,
   "id": "329e3c03",
   "metadata": {},
   "outputs": [],
   "source": [
    "for i in magic_generator():\n",
    "    print(i)"
   ]
  },
  {
   "cell_type": "code",
   "execution_count": null,
   "id": "31b17b05",
   "metadata": {},
   "outputs": [],
   "source": [
    "for i in iter(magic_generator()):\n",
    "    print(i)"
   ]
  },
  {
   "cell_type": "code",
   "execution_count": null,
   "id": "c03d9600",
   "metadata": {},
   "outputs": [],
   "source": [
    "g = magic_generator()\n",
    "iter(g) is g"
   ]
  },
  {
   "cell_type": "code",
   "execution_count": null,
   "id": "bab75800",
   "metadata": {},
   "outputs": [],
   "source": [
    "print(next(g))\n",
    "print(next(g))\n",
    "print(next(g))\n",
    "print(next(g))\n",
    "print(next(g))\n",
    "print(next(g))"
   ]
  },
  {
   "cell_type": "markdown",
   "id": "8ea94f3d",
   "metadata": {},
   "source": [
    "**Генератор** — это особый вид итератора, позволяющий итерироваться по последовательности данных без хранения полной последовательности в памяти. Генераторы генерируют объекты налету, что и делает их хорошим выбором для больших объёмов данных.\n",
    "\n",
    "Генератор делится на три типа:\n",
    "\n",
    "- **Генераторная функция** - функция, которая содержит в своем теле ключевое слово **yield**. \n",
    "- **Генератор** - тип, возвращаемый генераторной функцией.\n",
    "- **Генераторные выражения** - похожи на вложения списков, однако объявляются круглыми скобками.\n",
    "\n",
    "Каждый вызов метода `__next__` (или функции `next`) для генератора приводит к выполнению функции до следующей инструкции `yield`, после чего управление возвращается вызывающей стороне. Когда выполнение функции завершается, выкидывается исключение `StopIteration`, сигнализируя об окончании последовательности."
   ]
  },
  {
   "cell_type": "markdown",
   "id": "45a91d4b",
   "metadata": {},
   "source": [
    "Рассмотрим задачу вычисления суммы квадратов чётных чисел в переданной последовательности. Для начала реализуем её, используя базовые конструкции языка Python, такие как цикл `for` и условный оператор:"
   ]
  },
  {
   "cell_type": "code",
   "execution_count": null,
   "id": "e613280d",
   "metadata": {},
   "outputs": [],
   "source": [
    "def sum_even_squares(iterable: tp.Iterable[int]) -> int:\n",
    "    total = 0\n",
    "    for element in iterable:\n",
    "        if element % 2 == 0:\n",
    "            total += element**2\n",
    "    return total\n",
    "\n",
    "\n",
    "seq = [1, 2, 3, 4, 5, 6]\n",
    "print(sum_even_squares(seq))"
   ]
  },
  {
   "cell_type": "markdown",
   "id": "ea7b119e",
   "metadata": {},
   "source": [
    "Рассмотрим более структурированный подход к решению задачи, разделив функциональность фильтрации и преобразования элементов на две отдельные функции. Такой подход способствует улучшению читаемости, повторного использования кода и повышению его модульности:"
   ]
  },
  {
   "cell_type": "code",
   "execution_count": null,
   "id": "4ea7afc3",
   "metadata": {},
   "outputs": [],
   "source": [
    "def even(iterable: tp.Iterable[int]) -> list[int]:\n",
    "    result = []\n",
    "    for i in iterable:\n",
    "        if i % 2 != 0:\n",
    "            continue\n",
    "        result.append(i)\n",
    "    return result\n",
    "\n",
    "\n",
    "def squares(iterable: tp.Iterable[int]) -> list[int]:\n",
    "    result = []\n",
    "    for i in iterable:\n",
    "        result.append(i**2)\n",
    "    return result\n",
    "\n",
    "\n",
    "seq = [1, 2, 3, 4, 5, 6]\n",
    "sum(squares(even(seq)))"
   ]
  },
  {
   "cell_type": "markdown",
   "id": "2478d57d",
   "metadata": {},
   "source": [
    "В типовых задачах обработки больших объёмов данных финальный этап обычно заключается в агрегировании результатов с помощью некоторой функции сокращения (например, подсчёт суммы, среднего, максимального значения и т.д.). В приведённой выше реализации данная логика также реализуется через последовательное применение фильтрации и агрегации. Однако такой подход требует хранения практически всей промежуточной коллекции в памяти, что может привести к существенным издержкам при работе с очень крупными или потенциально бесконечными последовательностями и вызвать проблемы, связанные с превышением доступного объёма оперативной памяти."
   ]
  },
  {
   "cell_type": "code",
   "execution_count": null,
   "id": "f1b49a7c",
   "metadata": {},
   "outputs": [],
   "source": [
    "%%time\n",
    "# хотелось оценить потребление оперативной памяти в момент исполнения, для этого можно воспользовать top/htop\n",
    "import sys\n",
    "\n",
    "seq = squares(even(range(100_000_000)))\n",
    "print(sys.getsizeof(seq))\n",
    "sum(seq)"
   ]
  },
  {
   "cell_type": "code",
   "execution_count": null,
   "id": "58d63fd4",
   "metadata": {},
   "outputs": [],
   "source": [
    "def even(iterable: tp.Iterable[int]) -> tp.Iterator[int]:\n",
    "    for elem in iterable:\n",
    "        if elem % 2 == 0:\n",
    "            yield elem\n",
    "\n",
    "\n",
    "def squares(iterable: tp.Iterable[int]) -> tp.Iterator[int]:\n",
    "    for elem in iterable:\n",
    "        yield elem**2\n",
    "\n",
    "\n",
    "seq = [1, 2, 3, 4, 5, 6]\n",
    "sum(squares(even(seq)))"
   ]
  },
  {
   "cell_type": "code",
   "execution_count": null,
   "id": "beba74b9",
   "metadata": {},
   "outputs": [],
   "source": [
    "%%time\n",
    "\n",
    "import sys\n",
    "\n",
    "seq = squares(even(range(100_000_000)))\n",
    "print(sys.getsizeof(seq))\n",
    "sum(seq)"
   ]
  },
  {
   "cell_type": "markdown",
   "id": "b587ff7a",
   "metadata": {},
   "source": [
    "Давайте попробуем реализовать следующий генератор:\n",
    "\n",
    "`repeat(iterable, times=None)` — генератор, который итерируется по указанному объекту столько раз, сколько задано в параметре `times`. Если параметр `times` не указан, итератор будет бесконечно итерироваться по объекту."
   ]
  },
  {
   "cell_type": "code",
   "execution_count": null,
   "id": "696747f3",
   "metadata": {},
   "outputs": [],
   "source": [
    "def repeat(iterable: tp.Iterable[int], times: int | None = None):\n",
    "    for _ in range(times) if times is not None else iter(int, 1):\n",
    "        for it in iterable:\n",
    "            yield it\n",
    "\n",
    "\n",
    "print(list(repeat([3], times=3)))"
   ]
  },
  {
   "cell_type": "markdown",
   "id": "ee228de2",
   "metadata": {},
   "source": [
    "В Python существует более подходящая конструкция для передачи элементов другого итерируемого объекта через генератор, чем использование цикла `for` с последовательными инструкциями `yield`. Для этой цели предназначена конструкция `yield from`, которая обеспечивает прямую и лаконичную передачу значений из вложенного итерируемого объекта в вызывающий генератор:"
   ]
  },
  {
   "cell_type": "code",
   "execution_count": null,
   "id": "1273dd5c",
   "metadata": {},
   "outputs": [],
   "source": [
    "def repeat(iterable, times=None):\n",
    "    for _ in range(times) if times is not None else iter(int, 1):\n",
    "        yield from iterable\n",
    "\n",
    "\n",
    "print(list(repeat([3], times=3)))"
   ]
  },
  {
   "cell_type": "markdown",
   "id": "c11e8bc1",
   "metadata": {},
   "source": [
    "На практике вы, вероятно, уже использовали генераторы, даже не осознавая этого. Далее подробно рассмотрим генераторные выражения:"
   ]
  },
  {
   "cell_type": "code",
   "execution_count": null,
   "id": "f0d0ce7b",
   "metadata": {},
   "outputs": [],
   "source": [
    "squares = (x**2 for x in range(5))\n",
    "squares"
   ]
  },
  {
   "cell_type": "code",
   "execution_count": null,
   "id": "0cabfd9c",
   "metadata": {},
   "outputs": [],
   "source": [
    "for square in squares:\n",
    "    print(square, end=\" \")"
   ]
  },
  {
   "cell_type": "code",
   "execution_count": null,
   "id": "3db17ce3",
   "metadata": {},
   "outputs": [],
   "source": [
    "max(x for x in range(100_000_000) if x % 11 == 0)"
   ]
  },
  {
   "cell_type": "markdown",
   "id": "543a0dfe",
   "metadata": {},
   "source": [
    "Отрефакторим ранее представленный код, используя генераторные выражения:"
   ]
  },
  {
   "cell_type": "code",
   "execution_count": null,
   "id": "96b8b4ad",
   "metadata": {},
   "outputs": [],
   "source": [
    "def even(iterable: tp.Iterable[int]) -> tp.Iterator[int]:\n",
    "    return (element for element in iterable if element % 2 == 0)\n",
    "\n",
    "\n",
    "def squares(iterable: tp.Iterable[int]) -> tp.Iterator[int]:\n",
    "    return (element**2 for element in iterable)\n",
    "\n",
    "\n",
    "seq = [1, 2, 3, 4, 5, 6]\n",
    "sum(squares(even(seq)))"
   ]
  },
  {
   "cell_type": "markdown",
   "id": "a9974e4a",
   "metadata": {},
   "source": [
    "Мы можем использовать генератор, для реализации итератора нашего объекта, давайте это сделаем для нашего класса `Range`:"
   ]
  },
  {
   "cell_type": "code",
   "execution_count": null,
   "id": "3e582ffe",
   "metadata": {},
   "outputs": [],
   "source": [
    "import typing as tp\n",
    "\n",
    "\n",
    "class Range:\n",
    "    def __init__(self, start: int = 0, end: int = 10, step: int = 1) -> None:\n",
    "        assert type(start) is int and type(end) is int and type(step) is int\n",
    "        self.start = start\n",
    "        self.end = end\n",
    "        self.step = step\n",
    "\n",
    "    def __iter__(self) -> tp.Iterator[int]:\n",
    "        while self.start < self.end:\n",
    "            yield self.start\n",
    "            self.start += self.step\n",
    "\n",
    "    def __contains__(self, value: int) -> bool:\n",
    "        if self.step > 0:\n",
    "            if value < self.start or value >= self.end:\n",
    "                return False\n",
    "        else:\n",
    "            if value > self.start or value <= self.end:\n",
    "                return False\n",
    "\n",
    "        return (value - self.start) % self.step == 0\n",
    "\n",
    "\n",
    "for i in Range(1, 3, 1):\n",
    "    print(i)\n",
    "\n",
    "\n",
    "rng = Range(1, 4, 1)\n",
    "print(1 in rng)\n",
    "print(2 in rng)\n",
    "print(3 in rng)\n",
    "print(3 in rng)\n",
    "print(4 in rng)"
   ]
  },
  {
   "cell_type": "markdown",
   "id": "d6a9390f",
   "metadata": {},
   "source": [
    "Следует отметить, что для возвращаемого значения метода `__iter__` в приведённом примере была использована аннотация `tp.Iterator[int]`, что является корректным указанием типа итератора. Однако в модуле typing предусмотрен специальный тип — `Generator[YieldType, SendType, ReturnType]`, предназначенный для более точного описания генераторов, возвращаемых соответствующими функциями. Можно было вместо `tp.Iterator[int]` написать `tp.Generator[int, None, None]`. Предлагаю рассмотреть полный функционал генераторов:"
   ]
  },
  {
   "cell_type": "code",
   "execution_count": null,
   "id": "24e09402",
   "metadata": {},
   "outputs": [],
   "source": [
    "def magic_generator() -> tp.Iterator[int]:\n",
    "    yield 42"
   ]
  },
  {
   "cell_type": "code",
   "execution_count": null,
   "id": "8f21a03b",
   "metadata": {},
   "outputs": [],
   "source": [
    "def magic_generator() -> tp.Generator[int, None, None]:\n",
    "    yield 42"
   ]
  },
  {
   "cell_type": "markdown",
   "id": "40c80713",
   "metadata": {},
   "source": [
    "Рассмотрим расширение взаимодействия с генераторами, позволяя им не только отдавать данные наружу, но и принимать значения снаружи в ходе работы:"
   ]
  },
  {
   "cell_type": "code",
   "execution_count": null,
   "id": "f390a9c1",
   "metadata": {},
   "outputs": [],
   "source": [
    "def magic_generator() -> tp.Generator[int, int, None]:\n",
    "    print(\"Give me a number, please\")\n",
    "    num = yield\n",
    "    print(f\"Got number: {num}\")\n",
    "    yield num**2\n",
    "    print(\"Finished\")"
   ]
  },
  {
   "cell_type": "code",
   "execution_count": null,
   "id": "e30a5bea",
   "metadata": {},
   "outputs": [],
   "source": [
    "g = magic_generator()\n",
    "next(g)"
   ]
  },
  {
   "cell_type": "markdown",
   "id": "19db6e8c",
   "metadata": {},
   "source": [
    "`send` — это специальный метод генераторов в Python, который позволяет \"послать\" значение в генератор на месте текущего выражения `yield`."
   ]
  },
  {
   "cell_type": "code",
   "execution_count": null,
   "id": "ee522628",
   "metadata": {},
   "outputs": [],
   "source": [
    "g.send(42)"
   ]
  },
  {
   "cell_type": "code",
   "execution_count": null,
   "id": "bc4d798b",
   "metadata": {},
   "outputs": [],
   "source": [
    "g.send(42)"
   ]
  },
  {
   "cell_type": "markdown",
   "id": "afd6f106",
   "metadata": {},
   "source": [
    "Метод `close` предназначен для явного завершения работы генератора. При вызове этого метода генератор выбрасывает внутри себя исключение `GeneratorExit`. Генератор может обработать это исключение в своём теле."
   ]
  },
  {
   "cell_type": "code",
   "execution_count": null,
   "id": "643995f9",
   "metadata": {},
   "outputs": [],
   "source": [
    "def accumulator() -> tp.Generator[int, int, None]:\n",
    "    total = 0\n",
    "    while True:\n",
    "        try:\n",
    "            value = yield total\n",
    "        except GeneratorExit:\n",
    "            print(f\"Generator is close, {total=}\")\n",
    "            raise\n",
    "\n",
    "        if value is None:\n",
    "            break\n",
    "        total += value\n",
    "\n",
    "\n",
    "gen = accumulator()\n",
    "print(next(gen))\n",
    "\n",
    "print(gen.send(5))\n",
    "print(gen.send(10))\n",
    "print(gen.send(-4))\n",
    "\n",
    "gen.close()"
   ]
  },
  {
   "cell_type": "markdown",
   "id": "0addca4d",
   "metadata": {},
   "source": [
    "После вызова метода `close` дальнейшие попытки получения значений из генератора приведут к выбрасыванию исключения `StopIteration`."
   ]
  },
  {
   "cell_type": "code",
   "execution_count": null,
   "id": "11f0a84a",
   "metadata": {},
   "outputs": [],
   "source": [
    "next(gen)"
   ]
  },
  {
   "cell_type": "markdown",
   "id": "df7d6f19",
   "metadata": {},
   "source": [
    "Метод `throw` у генераторов позволяет кинуть исключение непосредственно в точке, на которой генератор в данный момент приостановлен оператором `yield`."
   ]
  },
  {
   "cell_type": "code",
   "execution_count": null,
   "id": "fe064b09",
   "metadata": {},
   "outputs": [],
   "source": [
    "def accumulator() -> tp.Generator[int, int, None]:\n",
    "    total = 0\n",
    "    while True:\n",
    "        try:\n",
    "            value = yield total\n",
    "        except GeneratorExit:\n",
    "            print(f\"Generator is closed, {total=}\")\n",
    "            raise\n",
    "        except ValueError:\n",
    "            print(\"Обнаружен ValueError! Обнуляю total.\")\n",
    "            total = 0\n",
    "            continue\n",
    "        except Exception as exc:\n",
    "            print(f\"Поймано исключение: {exc}. Завершаю генератор.\")\n",
    "            break\n",
    "\n",
    "        if value is None:\n",
    "            break\n",
    "        total += value\n",
    "\n",
    "\n",
    "gen = accumulator()\n",
    "print(next(gen))\n",
    "print(gen.send(10))\n",
    "print(gen.send(5))\n",
    "\n",
    "print(gen.throw(ValueError(\"Сброс суммы\")))\n",
    "print(gen.send(3))\n",
    "\n",
    "print(gen.throw(RuntimeError(\"критическая ошибка\")))\n"
   ]
  },
  {
   "cell_type": "markdown",
   "id": "2311c816",
   "metadata": {},
   "source": []
  }
 ],
 "metadata": {
  "kernelspec": {
   "display_name": ".venv",
   "language": "python",
   "name": "python3"
  },
  "language_info": {
   "codemirror_mode": {
    "name": "ipython",
    "version": 3
   },
   "file_extension": ".py",
   "mimetype": "text/x-python",
   "name": "python",
   "nbconvert_exporter": "python",
   "pygments_lexer": "ipython3",
   "version": "3.13.3"
  }
 },
 "nbformat": 4,
 "nbformat_minor": 5
}
