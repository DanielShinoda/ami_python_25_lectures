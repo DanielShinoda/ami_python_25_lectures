{
 "cells": [
  {
   "cell_type": "markdown",
   "id": "efb8b1ed",
   "metadata": {},
   "source": [
    "# Python-1, Лекция 11\n",
    "\n",
    "Лектор: Хайбулин Даниэль"
   ]
  },
  {
   "cell_type": "markdown",
   "id": "748778dc",
   "metadata": {},
   "source": []
  }
 ],
 "metadata": {
  "language_info": {
   "name": "python"
  }
 },
 "nbformat": 4,
 "nbformat_minor": 5
}
