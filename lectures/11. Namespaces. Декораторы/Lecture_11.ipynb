{
 "cells": [
  {
   "cell_type": "markdown",
   "id": "efb8b1ed",
   "metadata": {},
   "source": [
    "# Python-1, Лекция 11\n",
    "\n",
    "Лектор: Хайбулин Даниэль\n",
    "\n",
    "Подготовил материал: Лущ Иван"
   ]
  },
  {
   "cell_type": "markdown",
   "id": "748778dc",
   "metadata": {},
   "source": [
    "Итак, сегодня мы поговорим про простанства имен и декораторы"
   ]
  },
  {
   "cell_type": "markdown",
   "id": "b6c58639",
   "metadata": {},
   "source": [
    "### [Namespaces](https://docs.python.org/3/tutorial/classes.html#python-scopes-and-namespaces)"
   ]
  },
  {
   "cell_type": "markdown",
   "id": "e47965f2",
   "metadata": {},
   "source": [
    "Предыдущее занятие о функциях и классах дало интуитивное понимание локальных и глобальных переменных. Сегодня формализуем понятие \"пространство имен\" и механизмы разрешения имен в Python."
   ]
  },
  {
   "cell_type": "markdown",
   "id": "93518976",
   "metadata": {},
   "source": [
    "Под **пространством имен** (`namespace`) будем понимать отображение имя -> объект.\n",
    "\n",
    "**Область видимости** (`scope`) — это текстовая область программы на Python, в пределах которой пространство имён доступно напрямую. \"Доступно напрямую\" означает, что обращение к имени пытается найти это имя в данном пространстве имён.\n"
   ]
  },
  {
   "cell_type": "code",
   "execution_count": null,
   "id": "d1b55636",
   "metadata": {},
   "outputs": [],
   "source": [
    "# начало scope\n",
    "# global namespace\n",
    "x = \"модуль\"\n",
    "\n",
    "\n",
    "def f() -> None:\n",
    "    # начало scope\n",
    "    x = \"локальная\"\n",
    "    # достали x из local namespace\n",
    "    print(\"в f:\", x)\n",
    "    # конец scope\n",
    "\n",
    "\n",
    "# f создает новый local namespace при вызове\n",
    "f()\n",
    "# конец scope"
   ]
  },
  {
   "cell_type": "markdown",
   "id": "a8cb41c4",
   "metadata": {},
   "source": [
    "Блоки `if`/`for`/`while`/`with` новых областей видимости не создают; функция (и `lambda`) при вызове — создает; `comprehension`/генераторные выражения в `Python 3` создают свой маленький локальный `scope` для переменной цикла."
   ]
  },
  {
   "cell_type": "markdown",
   "id": "28537082",
   "metadata": {},
   "source": [
    "Что будет?"
   ]
  },
  {
   "cell_type": "code",
   "execution_count": null,
   "id": "14515953",
   "metadata": {},
   "outputs": [],
   "source": [
    "funcs = [lambda: i for i in range(3)]\n",
    "print([f() for f in funcs])"
   ]
  },
  {
   "cell_type": "markdown",
   "id": "3bc23487",
   "metadata": {},
   "source": [
    "lambda захватывает не значение i, а саму переменную i (ячейку) из enclosing‑scope comprehension."
   ]
  },
  {
   "cell_type": "markdown",
   "id": "bf289cd0",
   "metadata": {},
   "source": [
    "<div style=\"\n",
    "    background-color: #FFBA00;\n",
    "    padding: 15px;\n",
    "    border-left: 5px solid #ffcc00;\n",
    "    text-align: center;\n",
    "    display: flex;\n",
    "    justify-content: center;\n",
    "    align-items: center;\n",
    "    min-height: 15px;\n",
    "\">\n",
    "    <span style=\"color: white; font-weight: bold;\">\n",
    "        Лучше не использовать lambda, обсуждали в конце лекции \"Ссылки. Изменяемость.\"\n",
    "    </span>\n",
    "</div>"
   ]
  },
  {
   "cell_type": "markdown",
   "id": "39339567",
   "metadata": {},
   "source": [
    "Python ищет имя по порядку `LEGB`: сначала в текущей локальной области (`L`, `Local`), потом во внешних функциях (`E`, `Enclosing`), потом в модуле (`G`, `Global`), потом во встроенных именах (`B`, `Builtins`)."
   ]
  },
  {
   "cell_type": "markdown",
   "id": "ddc0301f",
   "metadata": {},
   "source": [
    "![](legb.png)"
   ]
  },
  {
   "cell_type": "markdown",
   "id": "e745975c",
   "metadata": {},
   "source": [
    "\n",
    "- `Global`: содержит `funcs`\n",
    "- `Enclosing` (охватывающее для `lambda`): каждое `list‑comprehension` в Python исполняется в своём локальном `scope`; переменная `i` — локальная именно для этого скрытого \"функционального\" `scope comprehension`.\n",
    "- `Local` (у `lambda`): появляется только при вызове `lambda`; внутри тела `lambda` нет собственного `i`, поэтому поиск идёт во внешнее (`enclosing`) пространство.\n",
    "- `Builtins`: здесь находятся `print` и `range`"
   ]
  },
  {
   "cell_type": "markdown",
   "id": "ec55ca90",
   "metadata": {},
   "source": [
    "Фикс через аргумент по умолчанию:"
   ]
  },
  {
   "cell_type": "code",
   "execution_count": null,
   "id": "e1b8b4fe",
   "metadata": {},
   "outputs": [],
   "source": [
    "funcs = [lambda i=i: i for i in range(3)]\n",
    "print([f() for f in funcs])"
   ]
  },
  {
   "cell_type": "markdown",
   "id": "2032ee2a",
   "metadata": {},
   "source": [
    "Мы начали с необычного примера, чтобы интуитивно увидеть: имя ищется по цепочке областей видимости, а замыкания захватывают не значение, а ячейку имени. Теперь разберём формально каждое звено этой цепочки."
   ]
  },
  {
   "cell_type": "markdown",
   "id": "909edd58",
   "metadata": {},
   "source": [
    "`builtins namespace`:\n",
    "\n",
    "- Набор \"встроенных\" имён: `print`, `range`, `len`, `int`, `str`, `Exception`, `True`/`False`/`None`, ...\n",
    "- Cоздаётся при инициализации интерпретатора; один на интерпретатор.\n",
    "- Как используется: последнее звено в `LEGB`; имена доступны без импорта."
   ]
  },
  {
   "cell_type": "code",
   "execution_count": null,
   "id": "a9801a94",
   "metadata": {},
   "outputs": [],
   "source": [
    "print(dir(__builtins__))"
   ]
  },
  {
   "cell_type": "code",
   "execution_count": null,
   "id": "88872edd",
   "metadata": {},
   "outputs": [],
   "source": [
    "import builtins\n",
    "\n",
    "builtins.print(dir(builtins))"
   ]
  },
  {
   "cell_type": "markdown",
   "id": "b0c06ea1",
   "metadata": {},
   "source": [
    "`global namespace`:\n",
    "- Что это: словарь `globals()` конкретного модуля (включая `__name__`, `__builtins__`, ваши функции/классы/переменные).\n",
    "- Когда создаётся: при выполнении модуля (импорт или запуск).\n",
    "- Время жизни: пока живёт модуль (обычно до завершения интерпретатора).\n"
   ]
  },
  {
   "cell_type": "code",
   "execution_count": null,
   "id": "bba39070",
   "metadata": {},
   "outputs": [],
   "source": [
    "globals()"
   ]
  },
  {
   "cell_type": "markdown",
   "id": "5cde7797",
   "metadata": {},
   "source": [
    "`local namespace`:\n",
    "- Что это: namespace текущего вызова функции/метода.\n",
    "- Когда создаётся: при входе в функцию, уничтожается при выходе (если нет не являемся `enclosing`)."
   ]
  },
  {
   "cell_type": "code",
   "execution_count": null,
   "id": "3a4407ec",
   "metadata": {},
   "outputs": [],
   "source": [
    "def f(x: int) -> None:\n",
    "    y = 1\n",
    "    print(locals())\n",
    "\n",
    "\n",
    "f(10)"
   ]
  },
  {
   "cell_type": "code",
   "execution_count": null,
   "id": "db5c0ea0",
   "metadata": {},
   "outputs": [],
   "source": [
    "def f(arg: int) -> None:\n",
    "    print(locals())\n",
    "    print(locals() == globals())\n",
    "\n",
    "\n",
    "f(1)"
   ]
  },
  {
   "cell_type": "markdown",
   "id": "2ab0b5b0",
   "metadata": {},
   "source": [
    "`enclosing namespace`:\n",
    "- Что это: пространство имён внешней функции (и вложенных уровней), доступное для внутренних функций.\n",
    "- Когда создаётся: при вызове внешней функции (или при выполнении `comprehension`).\n",
    "- Время жизни: пока есть активные ссылки.\n"
   ]
  },
  {
   "cell_type": "code",
   "execution_count": null,
   "id": "88ad0e77",
   "metadata": {},
   "outputs": [],
   "source": [
    "from collections.abc import Callable\n",
    "\n",
    "\n",
    "def make_counter() -> Callable[[], int]:\n",
    "    count = 0\n",
    "\n",
    "    def step() -> int:\n",
    "        nonlocal count  # связываем имя из enclosing функции\n",
    "        count += 1\n",
    "        return count\n",
    "\n",
    "    return step"
   ]
  },
  {
   "cell_type": "code",
   "execution_count": null,
   "id": "042477e7",
   "metadata": {},
   "outputs": [],
   "source": [
    "from collections.abc import Callable\n",
    "\n",
    "\n",
    "x = 0\n",
    "\n",
    "\n",
    "def outer() -> Callable[[], int]:\n",
    "    x = 100\n",
    "\n",
    "    def inner() -> int:\n",
    "        global x  # это имя теперь относится к глобальному x, а не к outer.x\n",
    "        x += 1\n",
    "        return x\n",
    "\n",
    "    return inner()\n",
    "\n",
    "\n",
    "print(outer())\n",
    "print(x)"
   ]
  },
  {
   "cell_type": "markdown",
   "id": "8fe88d73",
   "metadata": {},
   "source": [
    "- `global x` — связываем с именем из глобального пространства модуля.\n",
    "- `nonlocal x` — связываем с именем во внешней функции."
   ]
  },
  {
   "cell_type": "code",
   "execution_count": null,
   "id": "82724962",
   "metadata": {},
   "outputs": [],
   "source": [
    "funcs = [lambda i=i: i for i in range(3)]  # копируем i из enclosing comprehension\n",
    "print([f() for f in funcs])"
   ]
  },
  {
   "cell_type": "markdown",
   "id": "2e62a59e",
   "metadata": {},
   "source": [
    "Почему в Python стоит писать функцию `main`:"
   ]
  },
  {
   "cell_type": "code",
   "execution_count": null,
   "id": "b784e219",
   "metadata": {},
   "outputs": [],
   "source": [
    "def main() -> int:\n",
    "    ...\n",
    "    return 0\n",
    "\n",
    "\n",
    "if __name__ == \"__main__\":\n",
    "    raise SystemExit(main())\n"
   ]
  },
  {
   "cell_type": "markdown",
   "id": "1b953de2",
   "metadata": {},
   "source": [
    "- `def main():` определение функции `main` — в ней размещается «стартовая» логика.\n",
    "- `main()`: обычный вызов функции.\n",
    "- `__name__`: специальная переменная модуля.\n",
    "    - При прямом запуске файла: `__name__ == \"__main__\"`.\n",
    "    - При импорте как модуля: `__name__ == \"<имя_модуля>\"`.\n",
    "\n",
    "    `if __name__ == \"__main__\"`: `main()` — блок выполняется только при прямом запуске файла."
   ]
  },
  {
   "cell_type": "markdown",
   "id": "30cd98ec",
   "metadata": {},
   "source": [
    "Более простая форма:"
   ]
  },
  {
   "cell_type": "code",
   "execution_count": null,
   "id": "47081844",
   "metadata": {},
   "outputs": [],
   "source": [
    "def main() -> None:\n",
    "    ...\n",
    "\n",
    "\n",
    "if __name__ == \"__main__\":\n",
    "    main()"
   ]
  },
  {
   "cell_type": "markdown",
   "id": "7e40909b",
   "metadata": {},
   "source": [
    "Почему это полезно:\n",
    "\n",
    "- Безопасный импорт: при импорте модуля код из `main` не выполнится.\n",
    "- Чистый `namespace`: временные переменные живут в локальной области видимости `main`, а не засоряют глобальное пространство модуля (`if` не создаёт отдельного `scope`).\n",
    "- Тестируемость и переиспользование: `main` можно вызывать из тестов и других модулей.\n",
    "- Код возврата: удобно возвращать `int` и завершать процесс через `SystemExit`."
   ]
  },
  {
   "cell_type": "markdown",
   "id": "145799da",
   "metadata": {},
   "source": [
    "**Замыкание** - это любая функция, которая использует переменную, определенную в области видимости (`scope`), которая является внешней по отношению к этой функции, и доступна внутри функции при вызове из области, в которой эта переменная не определена."
   ]
  },
  {
   "cell_type": "code",
   "execution_count": null,
   "id": "213f0756",
   "metadata": {},
   "outputs": [],
   "source": [
    "from collections.abc import Callable\n",
    "\n",
    "\n",
    "def make_adder(x: int) -> Callable[[int], int]:\n",
    "    def adder(y: int) -> int:\n",
    "        return x + y\n",
    "\n",
    "    return adder"
   ]
  },
  {
   "cell_type": "code",
   "execution_count": null,
   "id": "42f6ca1a",
   "metadata": {},
   "outputs": [],
   "source": [
    "add_two = make_adder(2)\n",
    "add_five = make_adder(5)\n",
    "\n",
    "add_two(7) + add_five(10)"
   ]
  },
  {
   "cell_type": "markdown",
   "id": "e6b6bb9e",
   "metadata": {},
   "source": [
    "Представьте, что перед вами стоит задача реализовать механизм пометки функций как устаревших (`deprecated`) и применить его к функции `make_adder`. Требуется реализовать функцию `deprecated` для пометки устаревших функций и применить её к `make_adder`, при этом результирующая функция обязана сохранять исходное имя `make_adder`:"
   ]
  },
  {
   "cell_type": "code",
   "execution_count": null,
   "id": "f14aeda4",
   "metadata": {},
   "outputs": [],
   "source": [
    "import typing as tp\n",
    "import warnings\n",
    "from collections.abc import Callable\n",
    "\n",
    "\n",
    "P = tp.ParamSpec(\"P\")\n",
    "R = tp.TypeVar(\"R\")\n",
    "\n",
    "\n",
    "def deprecated(func: Callable[P, R]) -> Callable[P, R]:\n",
    "    def wrapper(*args: P.args, **kwargs: P.kwargs) -> R:\n",
    "        warnings.warn(f\"Warning: {func.__name__} is deprecated\", DeprecationWarning)\n",
    "        return func(*args, **kwargs)\n",
    "\n",
    "    return wrapper"
   ]
  },
  {
   "cell_type": "code",
   "execution_count": null,
   "id": "5347e8de",
   "metadata": {},
   "outputs": [],
   "source": [
    "import typing as tp\n",
    "from collections.abc import Callable\n",
    "\n",
    "\n",
    "def make_adder(x: int) -> Callable[[int], int]:\n",
    "    \"\"\"Returns a function that adds x\"\"\"\n",
    "\n",
    "    def adder(y: int) -> int:\n",
    "        return x + y\n",
    "\n",
    "    return adder\n",
    "\n",
    "\n",
    "make_adder = deprecated(make_adder)"
   ]
  },
  {
   "cell_type": "code",
   "execution_count": null,
   "id": "de4cd3d9",
   "metadata": {},
   "outputs": [],
   "source": [
    "add_two = make_adder(2)\n",
    "add_five = make_adder(5)\n",
    "\n",
    "add_two(7) + add_five(10)"
   ]
  },
  {
   "cell_type": "markdown",
   "id": "ca63117e",
   "metadata": {},
   "source": [
    "Мы сделали декоратор: он берёт функцию, добавляет к её вызову нужную логику и возвращает новую обёртку, которую можно вызывать так же, как оригинал."
   ]
  },
  {
   "cell_type": "markdown",
   "id": "dd42f57b",
   "metadata": {},
   "source": [
    "### Декораторы"
   ]
  },
  {
   "cell_type": "markdown",
   "id": "e9ef2bc0",
   "metadata": {},
   "source": [
    "В Python предусмотрен синтаксический сахар для применения декораторов: конструкция `@deprecated`, размещённая непосредственно перед определением функции `make_adder`, эквивалентна присваиванию `make_adder = deprecated(make_adder)`, выполняемому сразу после оператора `def`.\n"
   ]
  },
  {
   "cell_type": "code",
   "execution_count": null,
   "id": "f56152ca",
   "metadata": {},
   "outputs": [],
   "source": [
    "import typing as tp\n",
    "import warnings\n",
    "from collections.abc import Callable\n",
    "\n",
    "\n",
    "P = tp.ParamSpec(\"P\")\n",
    "R = tp.TypeVar(\"R\")\n",
    "\n",
    "\n",
    "def deprecated(func: Callable[P, R]) -> Callable[P, R]:\n",
    "    def wrapper(*args: P.args, **kwargs: P.kwargs) -> R:\n",
    "        warnings.warn(f\"Warning: {func.__name__} is deprecated\", DeprecationWarning)\n",
    "        return func(*args, **kwargs)\n",
    "\n",
    "    return wrapper\n",
    "\n",
    "\n",
    "@deprecated\n",
    "def make_adder(x: int) -> Callable[[int], int]:\n",
    "    \"\"\"Returns a function that adds x\"\"\"\n",
    "\n",
    "    def adder(y: int) -> int:\n",
    "        return x + y\n",
    "\n",
    "    return adder"
   ]
  },
  {
   "cell_type": "markdown",
   "id": "b3d30e96",
   "metadata": {},
   "source": [
    "В целом всё выполнено корректно; однако остаётся одно существенное замечание:"
   ]
  },
  {
   "cell_type": "code",
   "execution_count": null,
   "id": "c395ed5b",
   "metadata": {},
   "outputs": [],
   "source": [
    "print(make_adder.__name__)\n",
    "print(make_adder.__doc__)"
   ]
  },
  {
   "cell_type": "markdown",
   "id": "cf6b924d",
   "metadata": {},
   "source": [
    "Для сохранения метаданных изначальной функции предлагается следущее решение:"
   ]
  },
  {
   "cell_type": "code",
   "execution_count": null,
   "id": "0df4eb1c",
   "metadata": {},
   "outputs": [],
   "source": [
    "import typing as tp\n",
    "import warnings\n",
    "from collections.abc import Callable\n",
    "\n",
    "\n",
    "P = tp.ParamSpec(\"P\")\n",
    "R = tp.TypeVar(\"R\")\n",
    "\n",
    "\n",
    "def deprecated(func: Callable[P, R]) -> Callable[P, R]:\n",
    "    def wrapper(*args: P.args, **kwargs: P.kwargs) -> R:\n",
    "        warnings.warn(f\"Warning: {func.__name__} is deprecated\", DeprecationWarning)\n",
    "        return func(*args, **kwargs)\n",
    "\n",
    "    wrapper.__name__ = func.__name__\n",
    "    wrapper.__doc__ = func.__doc__\n",
    "    wrapper.__module__ = func.__module__\n",
    "    return wrapper\n",
    "\n",
    "\n",
    "@deprecated\n",
    "def make_adder(x: int) -> Callable[[int], int]:\n",
    "    \"\"\"Returns a function that adds x\"\"\"\n",
    "\n",
    "    def adder(y: int) -> int:\n",
    "        return x + y\n",
    "\n",
    "    return adder\n",
    "\n",
    "\n",
    "print(make_adder.__name__)\n",
    "print(make_adder.__doc__)"
   ]
  },
  {
   "cell_type": "markdown",
   "id": "2f9c97ef",
   "metadata": {},
   "source": [
    "Предложенное решение корректно; однако более идиоматичным считается использование `functools.wraps` для сохранения метаданных оригинальной функции:"
   ]
  },
  {
   "cell_type": "code",
   "execution_count": null,
   "id": "754288f1",
   "metadata": {},
   "outputs": [],
   "source": [
    "import functools\n",
    "import typing as tp\n",
    "import warnings\n",
    "from collections.abc import Callable\n",
    "\n",
    "\n",
    "P = tp.ParamSpec(\"P\")\n",
    "R = tp.TypeVar(\"R\")\n",
    "\n",
    "\n",
    "def deprecated(func: Callable[P, R]) -> Callable[P, R]:\n",
    "    @functools.wraps(func)\n",
    "    def wrapper(*args: P.args, **kwargs: P.kwargs) -> R:\n",
    "        warnings.warn(f\"Warning: {func.__name__} is deprecated\", DeprecationWarning)\n",
    "        return func(*args, **kwargs)\n",
    "\n",
    "    return wrapper\n",
    "\n",
    "\n",
    "@deprecated\n",
    "def make_adder(x: int) -> Callable[[int], int]:\n",
    "    \"\"\"Returns a function that adds x\"\"\"\n",
    "\n",
    "    def adder(y: int) -> int:\n",
    "        return x + y\n",
    "\n",
    "    return adder\n",
    "\n",
    "\n",
    "print(make_adder.__name__)\n",
    "print(make_adder.__doc__)"
   ]
  },
  {
   "cell_type": "markdown",
   "id": "97633acc",
   "metadata": {},
   "source": [
    "Хорошо, мы умеем создавать декораторы, а теперь реализуем параметризованный декоратор `deprecated`, принимающий аргумент даты начала устаревания (например, `since`) и включающий эту дату в предупреждение при каждом вызове помеченной функции, чтобы явно указывать, с какого момента функциональность считается устаревшей."
   ]
  },
  {
   "cell_type": "code",
   "execution_count": null,
   "id": "e0aa9cf6",
   "metadata": {},
   "outputs": [],
   "source": [
    "import functools\n",
    "import warnings\n",
    "from collections.abc import Callable\n",
    "from datetime import date, datetime\n",
    "\n",
    "\n",
    "P = tp.ParamSpec(\"P\")\n",
    "R = tp.TypeVar(\"R\")\n",
    "\n",
    "\n",
    "def deprecated(\n",
    "    *, since: date | datetime | None = None\n",
    ") -> Callable[[Callable[P, R]], Callable[P, R]]:\n",
    "    def decorator(func: Callable[P, R]) -> Callable[P, R]:\n",
    "        @functools.wraps(func)\n",
    "        def wrapper(*args: P.args, **kwargs: P.kwargs) -> R:\n",
    "            parts: list[str] = [f\"Function {func.__name__}() is deprecated.\"]\n",
    "            if since is not None:\n",
    "                stamp = (\n",
    "                    since.date().isoformat()\n",
    "                    if isinstance(since, datetime)\n",
    "                    else since.isoformat()\n",
    "                )\n",
    "                parts.append(f\"Since {stamp}.\")\n",
    "            warnings.warn(\" \".join(parts), DeprecationWarning)\n",
    "            return func(*args, **kwargs)\n",
    "\n",
    "        return wrapper\n",
    "\n",
    "    return decorator\n",
    "\n",
    "\n",
    "# decorator = deprecated(since=date(2024, 9, 1))\n",
    "# make_adder = decorator(make_adder)\n",
    "@deprecated(since=date(2024, 9, 1))\n",
    "def make_adder(x: int) -> Callable[[int], int]:\n",
    "    \"\"\"Returns a function that adds x\"\"\"\n",
    "\n",
    "    def adder(y: int) -> int:\n",
    "        return x + y\n",
    "\n",
    "    return adder\n",
    "\n",
    "\n",
    "add_two = make_adder(2)\n",
    "add_five = make_adder(5)\n",
    "\n",
    "add_two(7) + add_five(10)"
   ]
  },
  {
   "cell_type": "markdown",
   "id": "f878d69a",
   "metadata": {},
   "source": [
    "Главная идея: вы превратили \"простой декоратор\" в \"параметризованный декоратор\". Для этого добавили один внешний уровень вложенности. Чтобы декоратор мог принимать аргументы (`since`). Внешняя функция `deprecated(...)` получает параметры и возвращает \"настоящий\" декоратор `decorator`, который уже умеет оборачивать функцию."
   ]
  },
  {
   "cell_type": "markdown",
   "id": "bdbf3f3c",
   "metadata": {},
   "source": [
    "Помимо атрибутов у классов и их экземпляров, атрибуты есть и у функций ([PEP 232](https://peps.python.org/pep-0232)). Это позволяет хранить состояние прямо на объекте функции. Давайте реализуем декоратор `count_calls`, который считает количество вызовов помеченной функции. Состояние будем хранить в атрибуте функции (например, `func.calls`). "
   ]
  },
  {
   "cell_type": "code",
   "execution_count": null,
   "id": "a50b8509",
   "metadata": {},
   "outputs": [],
   "source": [
    "import functools\n",
    "import typing as tp\n",
    "from collections.abc import Callable\n",
    "\n",
    "\n",
    "P = tp.ParamSpec(\"P\")\n",
    "R = tp.TypeVar(\"R\")\n",
    "\n",
    "\n",
    "def count_calls(func: Callable[P, R]) -> Callable[P, R]:\n",
    "    @functools.wraps(func)\n",
    "    def wrapper(*args: P.args, **kwargs: P.kwargs) -> R:\n",
    "        wrapper.calls += 1\n",
    "        return func(*args, **kwargs)\n",
    "\n",
    "    wrapper.calls = 0\n",
    "    return wrapper\n",
    "\n",
    "\n",
    "@count_calls\n",
    "def add(a: int, b: int) -> int:\n",
    "    return a + b\n",
    "\n",
    "\n",
    "add(1, 2)\n",
    "add(3, 4)\n",
    "print(add.calls)"
   ]
  },
  {
   "cell_type": "markdown",
   "id": "a0a3c4e4",
   "metadata": {},
   "source": [
    "Класс в Python становится вызываемым при определении метода `__call__`. Следовательно, его можно использовать как декоратор: достаточно реализовать `__init__` (для приёма декорируемой функции или параметров) и `__call__` (для перехвата и обработки вызова). Предлагается создать класс‑декоратор для кэширования: при первом вызове вычислять результат и сохранять его по ключу, сформированному из аргументов; при последующих вызовах возвращать сохранённое значение. Это позволяет ускорять функции без изменения их интерфейса."
   ]
  },
  {
   "cell_type": "code",
   "execution_count": null,
   "id": "b6999f4a",
   "metadata": {},
   "outputs": [],
   "source": [
    "import random\n",
    "import typing as tp\n",
    "from collections import deque\n",
    "from collections.abc import Callable\n",
    "\n",
    "\n",
    "P = tp.ParamSpec(\"P\")\n",
    "R = tp.TypeVar(\"R\")\n",
    "\n",
    "\n",
    "class Memoized(tp.Generic[P, R]):\n",
    "    def __init__(self, cache_size: int = 100) -> None:\n",
    "        self.cache_size: int = cache_size\n",
    "        self.call_args_queue: deque[int] = deque()\n",
    "        self.call_args_to_result: dict[int, R] = {}\n",
    "\n",
    "    def __call__(self, fn: Callable[P, R]) -> Callable[P, R]:\n",
    "        def wrapper(*args: P.args, **kwargs: P.kwargs) -> R:\n",
    "            memoization_key: int = self._convert_call_arguments_to_hash(args, kwargs)\n",
    "            if memoization_key not in self.call_args_to_result:\n",
    "                result: R = fn(*args, **kwargs)\n",
    "                self._update_cache_key_with_value(memoization_key, result)\n",
    "                self._evict_cache_if_necessary()\n",
    "            return self.call_args_to_result[memoization_key]\n",
    "\n",
    "        return wrapper\n",
    "\n",
    "    def _update_cache_key_with_value(self, key: int, value: R) -> None:\n",
    "        self.call_args_to_result[key] = value\n",
    "        self.call_args_queue.append(key)\n",
    "\n",
    "    def _evict_cache_if_necessary(self) -> None:\n",
    "        if len(self.call_args_queue) > self.cache_size:\n",
    "            oldest_key: int = self.call_args_queue.popleft()\n",
    "            del self.call_args_to_result[oldest_key]\n",
    "\n",
    "    @staticmethod\n",
    "    def _convert_call_arguments_to_hash(\n",
    "        args: tuple[tp.Any, ...],\n",
    "        kwargs: dict[str, tp.Any],\n",
    "    ) -> int:\n",
    "        return hash(str(args) + str(kwargs))\n",
    "\n",
    "\n",
    "@Memoized(cache_size=5)\n",
    "def get_not_so_random_number_with_max(max_value: float) -> float:\n",
    "    return random.random() * max_value\n"
   ]
  },
  {
   "cell_type": "code",
   "execution_count": null,
   "id": "076c45b0",
   "metadata": {},
   "outputs": [],
   "source": [
    "print(get_not_so_random_number_with_max(100))\n",
    "print(get_not_so_random_number_with_max(100))"
   ]
  },
  {
   "cell_type": "code",
   "execution_count": null,
   "id": "d1db753d",
   "metadata": {},
   "outputs": [],
   "source": [
    "print(get_not_so_random_number_with_max(1))\n",
    "print(get_not_so_random_number_with_max(2))\n",
    "print(get_not_so_random_number_with_max(3))\n",
    "print(get_not_so_random_number_with_max(4))\n",
    "print(get_not_so_random_number_with_max(5))"
   ]
  },
  {
   "cell_type": "code",
   "execution_count": null,
   "id": "4e3a46c9",
   "metadata": {},
   "outputs": [],
   "source": [
    "print(get_not_so_random_number_with_max(100))"
   ]
  },
  {
   "cell_type": "markdown",
   "id": "8c9d2793",
   "metadata": {},
   "source": [
    "Можно сочетать несколько декораторов: Python применяет их снизу вверх. Запись\n",
    "```python\n",
    "@A\n",
    "@B\n",
    "def f(...):\n",
    "```\n",
    "эквивалентна `f = A(B(f))`. Порядок важен: где считать вызовы и где показывать предупреждение, зависит от расположения декораторов."
   ]
  },
  {
   "cell_type": "code",
   "execution_count": null,
   "id": "f761152b",
   "metadata": {},
   "outputs": [],
   "source": [
    "@deprecated(since=date(2024, 9, 1))\n",
    "@Memoized(cache_size=5)\n",
    "@count_calls\n",
    "def slow_add(a: int, b: int) -> int:\n",
    "    return a + b"
   ]
  },
  {
   "cell_type": "code",
   "execution_count": null,
   "id": "8d50c7cf",
   "metadata": {},
   "outputs": [],
   "source": [
    "slow_add(1, 2)"
   ]
  },
  {
   "cell_type": "code",
   "execution_count": null,
   "id": "c7067e73",
   "metadata": {},
   "outputs": [],
   "source": [
    "slow_add(1, 2)"
   ]
  },
  {
   "cell_type": "code",
   "execution_count": null,
   "id": "ac7de9f9",
   "metadata": {},
   "outputs": [],
   "source": [
    "slow_add(3, 4)"
   ]
  },
  {
   "cell_type": "code",
   "execution_count": null,
   "id": "24a1dead",
   "metadata": {},
   "outputs": [],
   "source": [
    "slow_add.calls"
   ]
  },
  {
   "cell_type": "code",
   "execution_count": null,
   "id": "0bf3891f",
   "metadata": {},
   "outputs": [],
   "source": [
    "@count_calls\n",
    "@deprecated(since=date(2024, 9, 1))\n",
    "@Memoized(cache_size=5)\n",
    "def slow_add(a: int, b: int) -> int:\n",
    "    return a + b"
   ]
  },
  {
   "cell_type": "code",
   "execution_count": null,
   "id": "251bd193",
   "metadata": {},
   "outputs": [],
   "source": [
    "slow_add(3, 4)"
   ]
  },
  {
   "cell_type": "code",
   "execution_count": null,
   "id": "2765fd6b",
   "metadata": {},
   "outputs": [],
   "source": [
    "slow_add(3, 4)"
   ]
  },
  {
   "cell_type": "code",
   "execution_count": null,
   "id": "6269cd6a",
   "metadata": {},
   "outputs": [],
   "source": [
    "slow_add.calls"
   ]
  },
  {
   "cell_type": "code",
   "execution_count": null,
   "id": "be498003",
   "metadata": {},
   "outputs": [],
   "source": [
    "slow_add(3, 5)"
   ]
  },
  {
   "cell_type": "code",
   "execution_count": null,
   "id": "45bea1b7",
   "metadata": {},
   "outputs": [],
   "source": [
    "slow_add.calls"
   ]
  },
  {
   "cell_type": "code",
   "execution_count": null,
   "id": "cc941c3d",
   "metadata": {},
   "outputs": [],
   "source": [
    "@count_calls\n",
    "@Memoized(cache_size=5)\n",
    "@deprecated(since=date(2024, 9, 1))\n",
    "def slow_add(a: int, b: int) -> int:\n",
    "    return a + b"
   ]
  },
  {
   "cell_type": "code",
   "execution_count": null,
   "id": "fc1261cb",
   "metadata": {},
   "outputs": [],
   "source": [
    "slow_add(3, 5)"
   ]
  },
  {
   "cell_type": "code",
   "execution_count": null,
   "id": "5b98faa1",
   "metadata": {},
   "outputs": [],
   "source": [
    "slow_add(3, 5)"
   ]
  },
  {
   "cell_type": "markdown",
   "id": "e6332972",
   "metadata": {},
   "source": [
    "Немного про встроенные полезные встроенные декораторы:"
   ]
  },
  {
   "cell_type": "markdown",
   "id": "df42350b",
   "metadata": {},
   "source": [
    "Вы уже использовали:\n",
    "- `@staticmethod`, `@classmethod`, `@property`\n",
    "- `@functools.wraps`\n",
    "- `@dataclasses.dataclass`\n",
    "\n",
    "Рассмотрим те, которые вы еще не использовали:"
   ]
  },
  {
   "cell_type": "markdown",
   "id": "f720793f",
   "metadata": {},
   "source": [
    "`contextlib.contextmanager` — удобный способ создавать менеджеры контекста"
   ]
  },
  {
   "cell_type": "code",
   "execution_count": null,
   "id": "7debca7c",
   "metadata": {},
   "outputs": [],
   "source": [
    "import typing as tp\n",
    "from contextlib import contextmanager\n",
    "\n",
    "\n",
    "@contextmanager\n",
    "def magic_contextmanager() -> tp.Iterator[int]:\n",
    "    print('before')\n",
    "    yield 42\n",
    "    print('after')\n",
    "\n",
    "with magic_contextmanager() as r:\n",
    "    print(f'got {r}')\n",
    "\n",
    "with magic_contextmanager() as r:\n",
    "    raise RuntimeError('Oops')"
   ]
  },
  {
   "cell_type": "markdown",
   "id": "3e13bbfb",
   "metadata": {},
   "source": [
    "- `@contextmanager` из модуля `contextlib` позволяет писать менеджеры контекста как обычную функцию‑генератор с `yield`.\n",
    "- Всё, что стоит до `yield`, выполняется при входе в `with` (на стадии `__enter__`).\n",
    "- Значение, которое отдаёт `yield`, попадает в переменную после `as` (`r` в примере).\n",
    "- Всё, что стоит после `yield`, выполняется при выходе из `with` (на стадии `exit`). Но чтобы этот хвост точно отработал даже при ошибках внутри блока, вокруг `yield` обычно ставят `try/finally`."
   ]
  },
  {
   "cell_type": "code",
   "execution_count": null,
   "id": "be626311",
   "metadata": {},
   "outputs": [],
   "source": [
    "from contextlib import contextmanager\n",
    "\n",
    "\n",
    "@contextmanager\n",
    "def magic_contextmanager() -> tp.Iterator[int]:\n",
    "    print(\"before\")\n",
    "    try:\n",
    "        yield 42\n",
    "    finally:\n",
    "        print(\"after\")\n",
    "\n",
    "\n",
    "with magic_contextmanager() as r:\n",
    "    print(f\"got {r}\")\n",
    "\n",
    "\n",
    "with magic_contextmanager() as r:\n",
    "    raise RuntimeError(\"Oops\")"
   ]
  },
  {
   "cell_type": "code",
   "execution_count": null,
   "id": "48bd92c3",
   "metadata": {},
   "outputs": [],
   "source": [
    "from contextlib import contextmanager\n",
    "\n",
    "\n",
    "@contextmanager\n",
    "def magic_contextmanager() -> tp.Iterator[int]:\n",
    "    print(\"before\")\n",
    "    try:\n",
    "        yield 42\n",
    "    except Exception as e:\n",
    "        print(f\"{e=}\")\n",
    "    finally:\n",
    "        print(\"after\")\n",
    "\n",
    "\n",
    "with magic_contextmanager() as r:\n",
    "    print(f\"got {r}\")\n",
    "\n",
    "\n",
    "with magic_contextmanager() as r:\n",
    "    raise RuntimeError(\"Oops\")"
   ]
  },
  {
   "cell_type": "markdown",
   "id": "48fd7f86",
   "metadata": {},
   "source": [
    "- `functools.lru_cache` - LRU cache над функцией. Декоратор, который запоминает (кэширует) результаты функции для уже встречавшихся аргументов. LRU = Least Recently Used: при переполнении кэша удаляются давно не использованные записи.\n",
    "- `functools.cache` (python 3.9+)\n",
    "\n",
    "```python\n",
    "def cache(user_function, /):\n",
    "    'Simple lightweight unbounded cache.  Sometimes called \"memoize\".'\n",
    "    return lru_cache(maxsize=None)(user_function)\n",
    "```"
   ]
  },
  {
   "cell_type": "code",
   "execution_count": null,
   "id": "89628760",
   "metadata": {},
   "outputs": [],
   "source": [
    "from functools import lru_cache\n",
    "\n",
    "\n",
    "@lru_cache(maxsize=128)\n",
    "def fib(n: int) -> int:\n",
    "    return n if n < 2 else fib(n - 1) + fib(n - 2)\n",
    "\n",
    "\n",
    "print(f\"{fib(123)=}\")"
   ]
  },
  {
   "cell_type": "markdown",
   "id": "ebd01ff6",
   "metadata": {},
   "source": [
    "- `maxsize`: размер кэша.\n",
    "    - Число (например, 128) — ограниченный LRU-кэш.\n",
    "    - `None` — без ограничения; эквивалентно декоратору `functools.cache`.\n",
    "- `typed: False` по умолчанию. Если `True`, различает `1` и `1.0`, `'1'` и т. п.\n",
    "\n",
    "\n",
    "Как работает:\n",
    "- Ключ кэша = кортеж из позиционных и именованных аргументов (они должны быть хешируемыми).\n",
    "- Если в кэше есть запись для таких аргументов — функция не выполняется, сразу возвращается сохранённый результат (hit).\n",
    "- Если записи нет — функция выполняется, результат кладётся в кэш (miss).\n",
    "- Когда достигнут `maxsize`, удаляются самые давно неиспользованные записи.\n"
   ]
  },
  {
   "cell_type": "markdown",
   "id": "7c474381",
   "metadata": {},
   "source": []
  }
 ],
 "metadata": {
  "kernelspec": {
   "display_name": ".venv",
   "language": "python",
   "name": "python3"
  },
  "language_info": {
   "codemirror_mode": {
    "name": "ipython",
    "version": 3
   },
   "file_extension": ".py",
   "mimetype": "text/x-python",
   "name": "python",
   "nbconvert_exporter": "python",
   "pygments_lexer": "ipython3",
   "version": "3.13.5"
  }
 },
 "nbformat": 4,
 "nbformat_minor": 5
}
