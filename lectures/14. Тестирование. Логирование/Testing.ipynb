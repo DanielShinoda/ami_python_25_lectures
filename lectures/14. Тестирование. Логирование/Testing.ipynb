{
 "cells": [
  {
   "cell_type": "markdown",
   "id": "91370f33",
   "metadata": {},
   "source": [
    "# Python-1, Лекция 14\n",
    "\n",
    "Лектор: Хайбулин Даниэль\n",
    "\n",
    "Подготовил материал: Хайбулин Даниэль"
   ]
  },
  {
   "cell_type": "markdown",
   "id": "7469be1b",
   "metadata": {},
   "source": [
    "## Сравнение тестовых фреймворков Python"
   ]
  },
  {
   "cell_type": "markdown",
   "id": "f224ca8c",
   "metadata": {},
   "source": [
    "| Фреймворк  | Плюсы                                                                 | Минусы                                                                 |\n",
    "|------------|-----------------------------------------------------------------------|------------------------------------------------------------------------|\n",
    "| **unittest** | • Входит в стандартную библиотеку<br>• JUnit-стиль (знаком многим)<br>• Поддержка фикстур (setUp/tearDown) | • Много boilerplate-кода<br>• Менее читаемые ассерты<br>• Синтаксис сложнее, чем у современных аналогов |\n",
    "| **pytest**   | • Минимальный boilerplate<br>• Читаемые ассерты (`assert x == y`)<br>• Параметризация тестов<br>• Плагины и богатая экосистема<br>• Поддержка unittest-тестов | • Требует установки (не в стандартной библиотеке)<br>• Синтаксис фикстур может быть сложным для новичков |\n",
    "| **doctest**  | • Встроен в стандартную библиотеку<br>• Тесты как документация<br>• Нет лишнего кода | • Не подходит для сложных тестов<br>• Сложность отладки<br>• Может нарушать читаемость документации |\n",
    "| **nose2**    | • Совместимость с unittest<br>• Упрощенный запуск тестов<br>• Плагины | • Развитие замедлилось после появления pytest<br>• Меньше возможностей, чем у pytest |\n",
    "\n",
    "**Рекомендации**:\n",
    "- **pytest** — лучший выбор для большинства проектов"
   ]
  },
  {
   "cell_type": "markdown",
   "id": "24eff575",
   "metadata": {},
   "source": [
    "## Именование тестов"
   ]
  },
  {
   "cell_type": "markdown",
   "id": "35dcd5ad",
   "metadata": {},
   "source": [
    "Как вообще утилита **pytest** находит тесты среди прочих файлов?\n",
    "\n",
    "1. Находит все файлы, которые оканчиваются на *.py\n",
    "2. Оставляет только файлы вида `test_*.py`, `*_test.py`\n",
    "3. Внутри файлов:\n",
    "    * находит все функции с префиксом `test`;\n",
    "    * находит все методы с префиксом `test` внутри класса с прекфиксом `Test`.\n",
    "\n",
    "[конвенция](https://docs.pytest.org/en/stable/explanation/goodpractices.html#test-discovery)"
   ]
  },
  {
   "cell_type": "markdown",
   "id": "f83b9913",
   "metadata": {},
   "source": [
    "## TDD"
   ]
  },
  {
   "cell_type": "markdown",
   "id": "da81fb4f",
   "metadata": {},
   "source": [
    "**TDD** - Test Driven Development: сперва пишем тест для необходимой логики, затем пишем код для этой логики, основываясь на нашем тесте."
   ]
  },
  {
   "cell_type": "code",
   "execution_count": null,
   "id": "9a04fb3d",
   "metadata": {},
   "outputs": [],
   "source": [
    "%pip install pytest ipytest"
   ]
  },
  {
   "cell_type": "code",
   "execution_count": null,
   "id": "8bf39551",
   "metadata": {},
   "outputs": [],
   "source": [
    "import pytest\n",
    "import ipytest\n",
    "\n",
    "ipytest.autoconfig()"
   ]
  },
  {
   "cell_type": "code",
   "execution_count": null,
   "id": "ee5049c7",
   "metadata": {},
   "outputs": [],
   "source": [
    "%%ipytest\n",
    "\n",
    "\n",
    "def test_good_math():\n",
    "    assert 2 + 2 == 4\n",
    "\n",
    "\n",
    "def test_bad_math():\n",
    "    assert 2 + 2 == 5"
   ]
  },
  {
   "cell_type": "markdown",
   "id": "d7d3598b",
   "metadata": {},
   "source": [
    "`pytest` выводит отчет, в котором можно посмотреть сколько у нас всего тестов, какие из них упали и по какой причине."
   ]
  },
  {
   "cell_type": "markdown",
   "id": "4ac8b81f",
   "metadata": {},
   "source": [
    "Три правила TDD:\n",
    "\n",
    "1. Продакшн-код можно писать только для починки падающего теста.\n",
    "\n",
    "2. В тесте нужно писать ровно столько кода, сколько необходимо, чтобы он упал. Ошибки компиляции считаются падениями теста.\n",
    "\n",
    "3. В продакшн можно написать ровно столько кода, сколько требуется для починки одного падающего теста."
   ]
  },
  {
   "cell_type": "markdown",
   "id": "993aa896",
   "metadata": {},
   "source": [
    "Получается следуйющий пайплайн: пишем падающий тест, пишем код, чтобы тест не падал, рефакторим код так, чтобы тесты не падали. Повторяем до сходимости.\n",
    "\n",
    "1. [Test Driven Development: By Example 1st Edition](https://www.amazon.com/Test-Driven-Development-Kent-Beck/dp/0321146530)\n",
    "\n",
    "2. [On Growing Object Oriented Software, Guided by Tests](https://www.amazon.com/Growing-Object-Oriented-Software-Guided-Tests/dp/0321503627)"
   ]
  },
  {
   "cell_type": "markdown",
   "id": "20aee110",
   "metadata": {},
   "source": [
    "## Ката"
   ]
  },
  {
   "cell_type": "markdown",
   "id": "31cc31f3",
   "metadata": {},
   "source": [
    "Каты — упражнения по программированию, помогающие отточить навыки путем многократного повторнения. Концепция взята из японских боевых искусств. Подробнее про них можно почитать в книжке [The Pragmatic Programmer](https://pragprog.com/titles/tpp20/the-pragmatic-programmer-20th-anniversary-edition/)"
   ]
  },
  {
   "cell_type": "markdown",
   "id": "60dc10d2",
   "metadata": {},
   "source": [
    "### Ката Greeter"
   ]
  },
  {
   "cell_type": "markdown",
   "id": "31c112d5",
   "metadata": {},
   "source": [
    "Эту кату надо выполнять строго по пунктам, не заглядывая вперёд."
   ]
  },
  {
   "cell_type": "markdown",
   "id": "130ec9bd",
   "metadata": {},
   "source": [
    "* Создайте класс `Greeter`, у которого есть метод `greet` принимающий на вход имя и возвращающий \"Hello <имя>\"."
   ]
  },
  {
   "cell_type": "markdown",
   "id": "57abeb4a",
   "metadata": {},
   "source": [
    "Давайте сперва напишем тест, в котором проверяем конструктор класса:"
   ]
  },
  {
   "cell_type": "code",
   "execution_count": null,
   "id": "aefd9448",
   "metadata": {},
   "outputs": [],
   "source": [
    "%%ipytest\n",
    "\n",
    "\n",
    "def test_greeter():\n",
    "    Greeter()"
   ]
  },
  {
   "cell_type": "markdown",
   "id": "52153cb4",
   "metadata": {},
   "source": [
    "Теперь нам нужно починить тест минимальным количеством кода:"
   ]
  },
  {
   "cell_type": "code",
   "execution_count": null,
   "id": "c11bde97",
   "metadata": {},
   "outputs": [],
   "source": [
    "class Greeter: ..."
   ]
  },
  {
   "cell_type": "markdown",
   "id": "a315136b",
   "metadata": {},
   "source": [
    "Далее сделаем еще одну итерацию написания теста:"
   ]
  },
  {
   "cell_type": "code",
   "execution_count": null,
   "id": "556a0bad",
   "metadata": {},
   "outputs": [],
   "source": [
    "%%ipytest\n",
    "\n",
    "\n",
    "def test_greeter_2():\n",
    "    Greeter().greet(\"Daniel\")"
   ]
  },
  {
   "cell_type": "code",
   "execution_count": null,
   "id": "9a1081c7",
   "metadata": {},
   "outputs": [],
   "source": [
    "class Greeter:  # noqa: F811\n",
    "    def greet(self, name: str) -> None:\n",
    "        return f\"Hello, {name}!\""
   ]
  },
  {
   "cell_type": "markdown",
   "id": "c4499a2f",
   "metadata": {},
   "source": [
    "В конце концов напишем финальный тест, который что-то проверяет. Тут нам поможет знакомый нам `assert`:"
   ]
  },
  {
   "cell_type": "code",
   "execution_count": null,
   "id": "a927d9ad",
   "metadata": {},
   "outputs": [],
   "source": [
    "%%ipytest\n",
    "\n",
    "\n",
    "def test_greeter_3():\n",
    "    name = \"Daniel\"\n",
    "    assert Greeter().greet(name=name) == f\"Hello, {name}!\""
   ]
  },
  {
   "cell_type": "markdown",
   "id": "2e345590",
   "metadata": {},
   "source": [
    "## Параметризация"
   ]
  },
  {
   "cell_type": "markdown",
   "id": "ec5894b0",
   "metadata": {},
   "source": [
    "Давайте теперь напишем несколько тестов, проверяющих наш метод:"
   ]
  },
  {
   "cell_type": "code",
   "execution_count": null,
   "id": "a55946b8",
   "metadata": {},
   "outputs": [],
   "source": [
    "%%ipytest\n",
    "\n",
    "\n",
    "def test_greeter_name():\n",
    "    name = \"Daniel\"\n",
    "    assert Greeter().greet(name=name) == f\"Hello, {name}!\"\n",
    "\n",
    "\n",
    "def test_greeter_empty():\n",
    "    name = \"\"\n",
    "    assert Greeter().greet(name=name) == f\"Hello, {name}!\""
   ]
  },
  {
   "cell_type": "markdown",
   "id": "29c7e7e8",
   "metadata": {},
   "source": [
    "Чем больше кейсов, которые мы хотим проверить, тем больше у нас тестирующих функций - это не очень удобно. Давайте посмотрим как можно делать несколько разных кейсов в одном тесте. С этим нам поможет *параметризация*:"
   ]
  },
  {
   "cell_type": "code",
   "execution_count": null,
   "id": "ee139fbf",
   "metadata": {},
   "outputs": [],
   "source": [
    "%%ipytest\n",
    "test_cases = [\n",
    "    (\"Daniel\", \"Hello, Daniel!\"),\n",
    "    (\"\", \"Hello, !\"),\n",
    "]\n",
    "\n",
    "\n",
    "@pytest.mark.parametrize(\"name, greeting\", test_cases)\n",
    "def test_greeter_parametrized(name, greeting):\n",
    "    assert Greeter().greet(name) == greeting"
   ]
  },
  {
   "cell_type": "markdown",
   "id": "b3a37f6f",
   "metadata": {},
   "source": [
    "Следующий пункт нашей каты: метод `greet` должен обрезать пробельные символы в по краям имени."
   ]
  },
  {
   "cell_type": "code",
   "execution_count": null,
   "id": "670a3596",
   "metadata": {},
   "outputs": [],
   "source": [
    "%%ipytest\n",
    "test_cases = [(\"Daniel\", \"Hello, Daniel!\"), (\"\", \"Hello, !\"), (\"\\n\\t\\n\\t\", \"Hello, !\")]\n",
    "\n",
    "\n",
    "@pytest.mark.parametrize(\"name, greeting\", test_cases)\n",
    "def test_greeter_with_trim(name, greeting):\n",
    "    assert Greeter().greet(name) == greeting"
   ]
  },
  {
   "cell_type": "markdown",
   "id": "3e283238",
   "metadata": {},
   "source": [
    "Пора опять чинить код, чтобы он проходил наш тест:"
   ]
  },
  {
   "cell_type": "code",
   "execution_count": null,
   "id": "a80592ea",
   "metadata": {},
   "outputs": [],
   "source": [
    "class Greeter:  # noqa: F811\n",
    "    def greet(self, name: str) -> None:\n",
    "        return f\"Hello, {name.strip()}!\""
   ]
  },
  {
   "cell_type": "code",
   "execution_count": null,
   "id": "6dcfcdae",
   "metadata": {},
   "outputs": [],
   "source": [
    "%%ipytest\n",
    "test_cases = [(\"Daniel\", \"Hello, Daniel!\"), (\"\", \"Hello, !\"), (\"\\n\\t\\n\\t\", \"Hello, !\")]\n",
    "\n",
    "\n",
    "@pytest.mark.parametrize(\"name, greeting\", test_cases)\n",
    "def test_greeter_with_trim(name, greeting):  # noqa: F811\n",
    "    assert Greeter().greet(name) == greeting"
   ]
  },
  {
   "cell_type": "markdown",
   "id": "9e28f1d2",
   "metadata": {},
   "source": [
    "## Фикстуры"
   ]
  },
  {
   "cell_type": "markdown",
   "id": "d5e2eee4",
   "metadata": {},
   "source": [
    "Фикстуры - очень сильный механизм, помогающий создать общий контекст для тестов."
   ]
  },
  {
   "cell_type": "code",
   "execution_count": null,
   "id": "4bbd0e1e",
   "metadata": {},
   "outputs": [],
   "source": [
    "%%ipytest\n",
    "\n",
    "\n",
    "class Fruit:\n",
    "    def __init__(self, name):\n",
    "        self.name = name\n",
    "\n",
    "    def __eq__(self, other):\n",
    "        return self.name == other.name\n",
    "\n",
    "\n",
    "@pytest.fixture\n",
    "def my_fruit():\n",
    "    return Fruit(\"apple\")\n",
    "\n",
    "\n",
    "@pytest.fixture\n",
    "def fruit_basket(my_fruit):\n",
    "    return [Fruit(\"banana\"), my_fruit]\n",
    "\n",
    "\n",
    "def test_my_fruit_in_basket(my_fruit, fruit_basket):\n",
    "    assert my_fruit in fruit_basket"
   ]
  },
  {
   "cell_type": "markdown",
   "id": "949b014e",
   "metadata": {},
   "source": [
    "В нашем случае мы для каждого тест кейса создаем объект класса `Greeter`, что нам не особо нужно. Давайте попробуем решить эту проблему с помощью фикстур:"
   ]
  },
  {
   "cell_type": "code",
   "execution_count": null,
   "id": "6a673d79",
   "metadata": {},
   "outputs": [],
   "source": [
    "%%ipytest\n",
    "\n",
    "from typing import Iterator\n",
    "\n",
    "test_cases = [(\"Daniel\", \"Hello, Daniel!\"), (\"\", \"Hello, !\"), (\"\\n\\t\\n\\t\", \"Hello, !\")]\n",
    "\n",
    "\n",
    "@pytest.fixture(scope=\"module\")\n",
    "def greeter() -> Iterator[Greeter]:\n",
    "    yield Greeter()\n",
    "\n",
    "\n",
    "@pytest.mark.parametrize(\"name, greeting\", test_cases)\n",
    "def test_greeter_with_trim(greeter: Greeter, name: str, greeting: str):  # noqa: F811\n",
    "    assert greeter.greet(name) == greeting"
   ]
  },
  {
   "cell_type": "markdown",
   "id": "dcafbaae",
   "metadata": {},
   "source": [
    "Фикстуры могут иметь разный скоуп - как для целового модуля тестов, так и для отдельного теста. Фикстуры часто используются как контекстные менеджеры: ведь удобно в тесте подключиться к чему-то, а после теста закрыть это дело. Простой пример из жизни - подключение к базе данных в тесте, оно должно быть закрыто после выполнения теста."
   ]
  },
  {
   "cell_type": "code",
   "execution_count": null,
   "id": "b8b5bb24",
   "metadata": {},
   "outputs": [],
   "source": [
    "%%ipytest -s\n",
    "\n",
    "\n",
    "class DBConnection:\n",
    "    pass\n",
    "\n",
    "\n",
    "class TestDB:\n",
    "    def init_db(self):\n",
    "        print(\"init db\")\n",
    "\n",
    "    def get_connection(self) -> DBConnection:\n",
    "        return DBConnection()\n",
    "\n",
    "    def shutdown(self):\n",
    "        print(\"close db\")\n",
    "\n",
    "\n",
    "@pytest.fixture(scope=\"module\")\n",
    "def db_connection() -> Iterator[DBConnection]:\n",
    "    db = TestDB()\n",
    "    db.init_db()\n",
    "    try:\n",
    "        yield db.get_connection()\n",
    "    finally:\n",
    "        db.shutdown()\n",
    "\n",
    "\n",
    "def test_db_1(db_connection: DBConnection):\n",
    "    assert db_connection\n",
    "\n",
    "\n",
    "def test_db_2(db_connection: DBConnection):\n",
    "    assert db_connection"
   ]
  },
  {
   "cell_type": "markdown",
   "id": "203071e9",
   "metadata": {},
   "source": [
    "Тест не ограничивается одной фикстурой в аргументе: можно прописывать сколько угодно фикстур для тестов."
   ]
  },
  {
   "cell_type": "code",
   "execution_count": null,
   "id": "46f9c54b",
   "metadata": {},
   "outputs": [],
   "source": [
    "%%ipytest\n",
    "\n",
    "import pytest\n",
    "\n",
    "\n",
    "@pytest.fixture\n",
    "def first_entry():\n",
    "    return \"a\"\n",
    "\n",
    "\n",
    "@pytest.fixture\n",
    "def second_entry():\n",
    "    return 2\n",
    "\n",
    "\n",
    "@pytest.fixture\n",
    "def order(first_entry, second_entry):\n",
    "    return [first_entry, second_entry]\n",
    "\n",
    "\n",
    "@pytest.fixture\n",
    "def expected_list():\n",
    "    return [\"a\", 2, 3.0]\n",
    "\n",
    "\n",
    "def test_string(order, expected_list):\n",
    "    order.append(3.0)\n",
    "\n",
    "    assert order == expected_list"
   ]
  },
  {
   "cell_type": "markdown",
   "id": "7efb5cf0",
   "metadata": {},
   "source": [
    "Фикстура может автоматически использоваться для каждого теста."
   ]
  },
  {
   "cell_type": "code",
   "execution_count": null,
   "id": "99ffd08d",
   "metadata": {},
   "outputs": [],
   "source": [
    "%%ipytest\n",
    "\n",
    "import pytest\n",
    "\n",
    "\n",
    "@pytest.fixture\n",
    "def first_entry():  # noqa: F811\n",
    "    return \"a\"\n",
    "\n",
    "\n",
    "@pytest.fixture\n",
    "def order(first_entry):  # noqa: F811\n",
    "    return []\n",
    "\n",
    "\n",
    "@pytest.fixture(autouse=True)\n",
    "def append_first(order, first_entry):\n",
    "    return order.append(first_entry)\n",
    "\n",
    "\n",
    "def test_string_only(order, first_entry):\n",
    "    assert order == [first_entry]\n",
    "\n",
    "\n",
    "def test_string_and_int(order, first_entry):\n",
    "    order.append(2)\n",
    "    assert order == [first_entry, 2]"
   ]
  },
  {
   "cell_type": "markdown",
   "id": "3bf0f6a5",
   "metadata": {},
   "source": [
    "## Тестирование исключений"
   ]
  },
  {
   "cell_type": "markdown",
   "id": "3d7744d4",
   "metadata": {},
   "source": [
    "Следующий пункт нашей каты: метод `greet` должен возвращать исключение если передана пустая строка (или строка, состоящая только из пробельных символов).\n",
    "\n",
    "Для тестирования исключений есть специальный контекстный менеджер в модуле `pytest`."
   ]
  },
  {
   "cell_type": "code",
   "execution_count": null,
   "id": "71f94af2",
   "metadata": {},
   "outputs": [],
   "source": [
    "%%ipytest\n",
    "\n",
    "from typing import Iterator\n",
    "\n",
    "test_cases = [(\"Daniel\", \"Hello, Daniel!\"), (\"\", \"Hello, !\"), (\"\\n\\t\\n\\t\", \"Hello, !\")]\n",
    "\n",
    "\n",
    "@pytest.fixture(scope=\"module\")\n",
    "def greeter() -> Iterator[Greeter]:  # noqa: F811\n",
    "    yield Greeter()\n",
    "\n",
    "\n",
    "@pytest.mark.parametrize(\"name, greeting\", test_cases)\n",
    "def test_greeter_with_trim(greeter: Greeter, name: str, greeting: str):  # noqa: F811\n",
    "    assert greeter.greet(name) == greeting"
   ]
  },
  {
   "cell_type": "markdown",
   "id": "009d35a6",
   "metadata": {},
   "source": [
    "## Сравнение float"
   ]
  },
  {
   "cell_type": "code",
   "execution_count": null,
   "id": "e43a704d",
   "metadata": {},
   "outputs": [],
   "source": [
    "%%ipytest\n",
    "\n",
    "\n",
    "def test_float():\n",
    "    assert 0.1 + 0.2 == 0.3"
   ]
  },
  {
   "cell_type": "code",
   "execution_count": null,
   "id": "93054fb6",
   "metadata": {},
   "outputs": [],
   "source": [
    "%%ipytest\n",
    "\n",
    "\n",
    "def test_float():  # noqa: F811\n",
    "    assert 0.1 + 0.2 == pytest.approx(0.3)"
   ]
  },
  {
   "cell_type": "code",
   "execution_count": null,
   "id": "292ad5c7",
   "metadata": {},
   "outputs": [],
   "source": [
    "%%ipytest\n",
    "\n",
    "\n",
    "def test_float():  # noqa: F811\n",
    "    assert [0.1 + 0.2, 0.5] == pytest.approx([0.3, 0.5])"
   ]
  },
  {
   "cell_type": "markdown",
   "id": "a3918779",
   "metadata": {},
   "source": [
    "## Попрактикуемся"
   ]
  },
  {
   "cell_type": "markdown",
   "id": "08181b47",
   "metadata": {},
   "source": [
    "Нам нужно покрыть следующий модуль тестами:"
   ]
  },
  {
   "cell_type": "code",
   "execution_count": null,
   "id": "2f259dea",
   "metadata": {},
   "outputs": [],
   "source": [
    "class MailAdminClient:\n",
    "    def create_user(self) -> \"MailUser\":\n",
    "        return MailUser()\n",
    "\n",
    "    def delete_user(self, user: \"MailUser\") -> None:\n",
    "        pass\n",
    "\n",
    "\n",
    "class MailUser:\n",
    "    def __init__(self):\n",
    "        self.inbox = []\n",
    "\n",
    "    def send_email(self, email: \"Email\", other: \"MailUser\") -> None:\n",
    "        other.inbox.append(email)\n",
    "\n",
    "    def clear_mailbox(self) -> None:\n",
    "        self.inbox.clear()\n",
    "\n",
    "\n",
    "class Email:\n",
    "    def __init__(self, subject: str, body: str):\n",
    "        self.subject = subject\n",
    "        self.body = body"
   ]
  },
  {
   "cell_type": "code",
   "execution_count": null,
   "id": "772a4a83",
   "metadata": {},
   "outputs": [],
   "source": [
    "%%ipytest\n",
    "\n",
    "import pytest\n",
    "from typing import Iterator\n",
    "\n",
    "\n",
    "@pytest.fixture\n",
    "def mail_admin():\n",
    "    return MailAdminClient()\n",
    "\n",
    "\n",
    "@pytest.fixture\n",
    "def sending_user(mail_admin) -> Iterator[MailUser]:\n",
    "    user = mail_admin.create_user()\n",
    "    yield user\n",
    "    mail_admin.delete_user(user)\n",
    "\n",
    "\n",
    "@pytest.fixture\n",
    "def receiving_user(mail_admin) -> Iterator[MailUser]:\n",
    "    user = mail_admin.create_user()\n",
    "    yield user\n",
    "    user.clear_mailbox()\n",
    "    mail_admin.delete_user(user)\n",
    "\n",
    "\n",
    "def test_email_received(sending_user, receiving_user):\n",
    "    email = Email(subject=\"Hey!\", body=\"How's it going?\")\n",
    "    sending_user.send_email(email, receiving_user)\n",
    "    assert email in receiving_user.inbox"
   ]
  }
 ],
 "metadata": {
  "kernelspec": {
   "display_name": ".venv",
   "language": "python",
   "name": "python3"
  },
  "language_info": {
   "codemirror_mode": {
    "name": "ipython",
    "version": 3
   },
   "file_extension": ".py",
   "mimetype": "text/x-python",
   "name": "python",
   "nbconvert_exporter": "python",
   "pygments_lexer": "ipython3",
   "version": "3.13.7"
  }
 },
 "nbformat": 4,
 "nbformat_minor": 5
}
